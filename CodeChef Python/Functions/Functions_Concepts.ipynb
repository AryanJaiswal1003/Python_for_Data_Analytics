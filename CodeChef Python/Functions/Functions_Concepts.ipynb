{
 "cells": [
  {
   "cell_type": "code",
   "execution_count": 1,
   "id": "e60f4c10",
   "metadata": {},
   "outputs": [],
   "source": [
    "# ------------------------------------------------ Functions Concepts -----------------------------------------------\n",
    "## Contents:--\n",
    "    #-- Local Variable Scope\n",
    "    #-- Global Variable Access\n",
    "    #-- Global Variable Modification (global)\n",
    "    #-- Nonlocal Variables\n",
    "    #-- Variable Lifetime\n",
    "    #-- Name Resolution (LEGB Rule)\n",
    "    #-- Modifying Lists in Functions\n",
    "    #-- Modifying Dictionaries in Functions\n",
    "    #-- Parameter Mutability"
   ]
  },
  {
   "cell_type": "markdown",
   "id": "a06c57c7",
   "metadata": {},
   "source": [
    "##### **Local Variable Scope in Python**\n",
    "In Python, variables have a **scope**, which defines where they can be accessed.  \n",
    "**Local variables** are variables declared **inside a function** and can only be used within that function.  \n",
    "\n",
    "---\n",
    "##### **Key Points**\n",
    "1. A local variable is created when a function is called.  \n",
    "2. It is destroyed once the function finishes execution.  \n",
    "3. Accessing it outside the function results in an error (`NameError`).  \n",
    "4. Local variables keep code organized, prevent conflicts, and improve readability.  \n",
    "---\n",
    "##### **Example:**\n",
    "```python\n",
    "def greet():\n",
    "    message = \"Hello, World!\"  # Local variable\n",
    "    print(message)\n",
    "\n",
    "greet()  # Output: Hello, World!\n",
    "print(message)  # NameError: name 'message' is not defined -> # Trying to access 'message' outside the function will raise an error"
   ]
  },
  {
   "cell_type": "markdown",
   "id": "d15cb4e3",
   "metadata": {},
   "source": [
    "##### **Global Variable Access in Python**\n",
    "In Python, **global variables** are declared **outside any function** and can be accessed from anywhere in the program.  \n",
    "Unlike local variables, which exist only within a function, global variables remain accessible throughout the entire code.\n",
    "\n",
    "---\n",
    "##### **Key Points:**\n",
    "1. Global variables are defined outside of functions.  \n",
    "2. They can be accessed inside functions **without redefinition**.  \n",
    "3. Useful when multiple functions need access to the same value.  \n",
    "4. Excessive use can make debugging and maintenance harder.  \n",
    "---\n",
    "##### **Example:**\n",
    "```python\n",
    "# Defining a global variable\n",
    "global_var = \"I am global!\"\n",
    "\n",
    "def print_global():\n",
    "    print(global_var)  # Accessing the global variable\n",
    "\n",
    "print_global()  # Output: I am global!\n",
    "```"
   ]
  },
  {
   "cell_type": "markdown",
   "id": "e5e7e249",
   "metadata": {},
   "source": [
    "##### **Global Variable Modification using `global` in Python:**\n",
    "In Python, variables have a **scope** that defines where they can be accessed.  \n",
    "- **Global variables** are defined outside functions and can be accessed anywhere.  \n",
    "- **Local variables** exist only inside functions.  \n",
    "\n",
    "By default, if you assign a value to a variable inside a function, Python treats it as a **local variable**.  \n",
    "To **modify a global variable** inside a function, you must use the `global` keyword.  \n",
    "\n",
    "---\n",
    "##### **Key Points:**\n",
    "1. `global` allows modification of a variable defined outside the function.  \n",
    "2. Without `global`, reassigning a variable inside a function creates a new local variable.  \n",
    "3. Using `global` prevents confusion and errors when updating global variables.  \n",
    "4. Builds the foundation for understanding **nonlocal variables** and managing variable lifetime.  \n",
    "---\n",
    "##### **Example:**\n",
    "```python\n",
    "count = 0  # Global variable\n",
    "\n",
    "def increment():\n",
    "    global count  # Declare that we are modifying the global variable\n",
    "    count += 1\n",
    "    print(\"Inside function:\", count)\n",
    "\n",
    "increment()   # Inside function: 1\n",
    "print(\"Outside function:\", count)  # Outside function: 1\n",
    "```"
   ]
  },
  {
   "cell_type": "code",
   "execution_count": 2,
   "id": "29bae1cd",
   "metadata": {},
   "outputs": [
    {
     "ename": "UnboundLocalError",
     "evalue": "cannot access local variable 'counter' where it is not associated with a value",
     "output_type": "error",
     "traceback": [
      "\u001b[1;31m---------------------------------------------------------------------------\u001b[0m",
      "\u001b[1;31mUnboundLocalError\u001b[0m                         Traceback (most recent call last)",
      "Cell \u001b[1;32mIn[2], line 7\u001b[0m\n\u001b[0;32m      4\u001b[0m \u001b[38;5;28;01mdef\u001b[39;00m\u001b[38;5;250m \u001b[39m\u001b[38;5;21mincrement\u001b[39m(): \u001b[38;5;66;03m# Function attempting to modify a global variable without declaring it as global\u001b[39;00m\n\u001b[0;32m      5\u001b[0m     counter \u001b[38;5;241m+\u001b[39m\u001b[38;5;241m=\u001b[39m \u001b[38;5;241m1\u001b[39m  \u001b[38;5;66;03m# Step 1: This will cause an error because counter is treated as a local variable\u001b[39;00m\n\u001b[1;32m----> 7\u001b[0m increment() \u001b[38;5;66;03m# Step 2: Call the function (will result in an error)\u001b[39;00m\n\u001b[0;32m      8\u001b[0m \u001b[38;5;28mprint\u001b[39m(counter)\n",
      "Cell \u001b[1;32mIn[2], line 5\u001b[0m, in \u001b[0;36mincrement\u001b[1;34m()\u001b[0m\n\u001b[0;32m      4\u001b[0m \u001b[38;5;28;01mdef\u001b[39;00m\u001b[38;5;250m \u001b[39m\u001b[38;5;21mincrement\u001b[39m(): \u001b[38;5;66;03m# Function attempting to modify a global variable without declaring it as global\u001b[39;00m\n\u001b[1;32m----> 5\u001b[0m     counter \u001b[38;5;241m+\u001b[39m\u001b[38;5;241m=\u001b[39m \u001b[38;5;241m1\u001b[39m\n",
      "\u001b[1;31mUnboundLocalError\u001b[0m: cannot access local variable 'counter' where it is not associated with a value"
     ]
    }
   ],
   "source": [
    "# Error Without Using the global Keyword\n",
    "counter = 0\n",
    "\n",
    "def increment(): # Function attempting to modify a global variable without declaring it as global\n",
    "    counter += 1  # Step 1: This will cause an error because counter is treated as a local variable\n",
    "\n",
    "increment() # Step 2: Call the function (will result in an error)\n",
    "print(counter)  # This will throw an UnboundLocalError"
   ]
  },
  {
   "cell_type": "code",
   "execution_count": 4,
   "id": "c6efbf1f",
   "metadata": {},
   "outputs": [
    {
     "name": "stdout",
     "output_type": "stream",
     "text": [
      "Count inside function: 1\n",
      "Count inside function: 2\n",
      "Count inside function: 3\n",
      "Count outside function: 3\n"
     ]
    }
   ],
   "source": [
    "# Track the Count with a Global Variable:\n",
    "count = 0  # The count starts at 0 --> # Initialize the global variable\n",
    "\n",
    "def increment():\n",
    "    global count  # Accessing the global variable\n",
    "    count += 1  # Incrementing the count\n",
    "    print(\"Count inside function:\", count)  # Display the updated count\n",
    "\n",
    "for _ in range(3): # Call the function multiple times to update the count\n",
    "    increment()\n",
    "\n",
    "print(\"Count outside function:\", count)  # Display final count"
   ]
  },
  {
   "cell_type": "code",
   "execution_count": null,
   "id": "ae3bc9e3",
   "metadata": {},
   "outputs": [
    {
     "name": "stdout",
     "output_type": "stream",
     "text": [
      "Counter incremented by 5. New counter value: 5\n",
      "Increment value must be positive.\n",
      "Counter incremented by 10. New counter value: 15\n",
      "Final counter value: 15\n"
     ]
    }
   ],
   "source": [
    "# Conditional Counter Increment:\n",
    "counter = 0  # The counter starts at 0\n",
    "\n",
    "def conditional_increment(value):\n",
    "    \"\"\"\n",
    "    Increments the global counter if the given value is positive.\n",
    "    Prints an error message if the value is non-positive.\n",
    "    \"\"\"\n",
    "    global counter\n",
    "    if value < 0: # Check if the value is negative\n",
    "        print(f\"Increment value must be positive.\")\n",
    "\n",
    "    else:\n",
    "        counter += value\n",
    "        print(f\"Counter incremented by {value}. New counter value: {counter}\")\n",
    "\n",
    "for num in [5, -3, 10]: # Test the function with different values\n",
    "    conditional_increment(value = num)\n",
    "\n",
    "print(\"Final counter value:\", counter)"
   ]
  },
  {
   "cell_type": "markdown",
   "id": "2cb97904",
   "metadata": {},
   "source": [
    "##### **Nonlocal Variables in Python**\n",
    "In Python, **nonlocal variables** allow a **nested function** to modify a variable from its **enclosing (outer) function**.  \n",
    "This is useful when working with functions inside functions, as it ensures that changes made inside the inner function **persist** in the outer function’s scope.  \n",
    "\n",
    "---\n",
    "##### **Key Points**\n",
    "1. `nonlocal` is used inside **nested functions**.  \n",
    "2. It allows modification of variables from the **enclosing function scope** (not global scope).  \n",
    "3. Without `nonlocal`, reassigning a variable in the inner function would create a **new local variable** instead of modifying the outer one.  \n",
    "4. Helps maintain data consistency when inner functions need to update values in the outer function.  \n",
    "---"
   ]
  },
  {
   "cell_type": "code",
   "execution_count": null,
   "id": "4fa12c1b",
   "metadata": {},
   "outputs": [
    {
     "name": "stdout",
     "output_type": "stream",
     "text": [
      "Hi\n",
      "Hi\n"
     ]
    }
   ],
   "source": [
    "# Using Nonlocal Variables\n",
    "\n",
    "# Define an outer function with a variable\n",
    "def outer_function():\n",
    "    x = \"Hello\"   # Variable in the outer function\n",
    "\n",
    "    def inner_function():\n",
    "        nonlocal x  # This tells Python to use the x from outer_function\n",
    "        x = \"Hi\"    # Modifying the nonlocal variable\n",
    "        print(x)\n",
    "\n",
    "    inner_function()  # This will print \"Hi\"\n",
    "    print(x)         # This will also print \"Hi\" because we modified the nonlocal variable\n",
    "\n",
    "outer_function()"
   ]
  },
  {
   "cell_type": "code",
   "execution_count": 7,
   "id": "d36afb1c",
   "metadata": {},
   "outputs": [
    {
     "ename": "SyntaxError",
     "evalue": "name 'outer_var' is used prior to nonlocal declaration (3030279749.py, line 10)",
     "output_type": "error",
     "traceback": [
      "\u001b[1;36m  Cell \u001b[1;32mIn[7], line 10\u001b[1;36m\u001b[0m\n\u001b[1;33m    nonlocal outer_var  # Declare outer_var as nonlocal\u001b[0m\n\u001b[1;37m    ^\u001b[0m\n\u001b[1;31mSyntaxError\u001b[0m\u001b[1;31m:\u001b[0m name 'outer_var' is used prior to nonlocal declaration\n"
     ]
    }
   ],
   "source": [
    "# Accessing Before Declaring nonlocal\n",
    "\n",
    "# Define an outer function with a variable\n",
    "def outer_function():\n",
    "    outer_var = \"outer\"  # Variable in the outer function\n",
    "\n",
    "    # Define a nested function\n",
    "    def inner_function():\n",
    "        print(\"Before nonlocal declaration:\", outer_var)  # Causes an error (outer_var is treated as local)\n",
    "        nonlocal outer_var  # Declare outer_var as nonlocal\n",
    "        outer_var = \"modified\"  # Modify the outer function's variable\n",
    "\n",
    "    inner_function()  # Call the inner function\n",
    "    print(\"Inside outer_function:\", outer_var)  # Print modified value\n",
    "\n",
    "outer_function()  # Call the outer function"
   ]
  },
  {
   "cell_type": "code",
   "execution_count": 1,
   "id": "ce155fba",
   "metadata": {},
   "outputs": [
    {
     "name": "stdout",
     "output_type": "stream",
     "text": [
      "Inside update_greeting: Hi, glad to see you!\n",
      "Inside manage_greeting: Hi, glad to see you!\n"
     ]
    }
   ],
   "source": [
    "# Changing Outer Variable Text\n",
    "def manage_greeting():\n",
    "    greeting_message = \"Hello, welcome!\"  # Initial greeting message\n",
    "\n",
    "    def update_greeting():\n",
    "        nonlocal greeting_message  # Access the enclosing function's variable\n",
    "        greeting_message = \"Hi, glad to see you!\"  # Updated greeting message\n",
    "        print(\"Inside update_greeting:\", greeting_message)\n",
    "\n",
    "    update_greeting() # Calling inner function to modify the greeting\n",
    "    print(\"Inside manage_greeting:\", greeting_message)\n",
    "\n",
    "manage_greeting()"
   ]
  },
  {
   "cell_type": "markdown",
   "id": "9d683503",
   "metadata": {},
   "source": [
    "##### **Variable Lifetime in Python**\n",
    "In Python, **variable lifetime** refers to how long a variable exists in memory during program execution.  \n",
    "It is determined by the variable’s **scope**, which defines where and how long the variable can be accessed.  \n",
    "\n",
    "Understanding variable lifetime ensures better **memory management** and prevents unexpected behavior in programs.  \n",
    "\n",
    "---\n",
    "##### **Key Points**\n",
    "1. **Local Variables (Short-Lived Memory Allocation)**  \n",
    "   - Created inside a function.  \n",
    "   - Exist only while the function is executing.  \n",
    "   - Destroyed once the function ends.  \n",
    "2. **Global Variables (Persistent Memory Allocation)**  \n",
    "   - Defined outside any function.  \n",
    "   - Exist for the entire duration of the program.  \n",
    "   - Removed only when the program terminates.  "
   ]
  },
  {
   "cell_type": "code",
   "execution_count": 2,
   "id": "303ca6a3",
   "metadata": {},
   "outputs": [
    {
     "name": "stdout",
     "output_type": "stream",
     "text": [
      "Inside inner function: [15, 25, 35]\n",
      "Inside outer function: [15, 25, 35]\n"
     ]
    }
   ],
   "source": [
    "# Updating a Global Counter:\n",
    "\n",
    "def score_manager():\n",
    "    scores = [10, 20, 30] # Define a local list inside the outer function\n",
    "\n",
    "    def update_scores(): # Inner Functions/Nested Functions\n",
    "        nonlocal scores  # Use the 'nonlocal' keyword to access the 'scores' list from the outer function\n",
    "\n",
    "        for index in range(len(scores)):\n",
    "            scores[index] += 5\n",
    "\n",
    "        print(f\"Inside inner function: {scores}\")\n",
    "\n",
    "    update_scores() # Calling inner function to update scores\n",
    "    print(f\"Inside outer function: {scores}\")\n",
    "\n",
    "score_manager() # Outer function to execute the code"
   ]
  },
  {
   "cell_type": "markdown",
   "id": "045bfae7",
   "metadata": {},
   "source": [
    "##### **Name Resolution (LEGB Rule) in Python:**\n",
    "1. In Python, **name resolution** determines where to find the value of a variable when it’s used. The **LEGB rule** is followed to locate the variable’s value, ensuring the correct scope is accessed.  \n",
    "3. Understanding variable scope prevents confusion when local and global variables share the same name.  \n",
    "4. It clarifies variable accessibility and helps avoid errors like: ```NameError: variable not defined```\n",
    "---\n",
    "##### **LEGB Rule: Understanding Scope in Python**\n",
    "1. **L → Local:** Names defined inside the current function.  \n",
    "2. **E → Enclosing:** Names in the local scope of any enclosing (outer) functions.  \n",
    "3. **G → Global:** Names defined at the top level of a script or module.  \n",
    "4. **B → Built-in:** Names preassigned in Python (like `len`, `sum`, `print`).  \n",
    "---\n",
    "##### **Example:**\n",
    "```python\n",
    "x = \"global\"  # Global variable\n",
    "\n",
    "def outer():\n",
    "    x = \"enclosing\"  # Enclosing variable\n",
    "    def inner():\n",
    "        x = \"local\"  # Local variable\n",
    "        print(x)     # Resolves to Local first (LEGB Rule)\n",
    "    inner()\n",
    "\n",
    "outer()  # Output: local"
   ]
  },
  {
   "cell_type": "code",
   "execution_count": 3,
   "id": "708841b3",
   "metadata": {},
   "outputs": [
    {
     "name": "stdout",
     "output_type": "stream",
     "text": [
      "30\n",
      "20\n",
      "10\n"
     ]
    }
   ],
   "source": [
    "x = 10  # Global variable\n",
    "\n",
    "def outer():\n",
    "    x = 20  # Enclosing variable\n",
    "    def inner():\n",
    "        x = 30  # Local variable\n",
    "        print(x)\n",
    "\n",
    "    inner()\n",
    "    print(x)\n",
    "\n",
    "outer()\n",
    "print(x)"
   ]
  },
  {
   "cell_type": "markdown",
   "id": "97734344",
   "metadata": {},
   "source": [
    "##### **Modifying Lists in Functions**\n",
    "In Python, **lists are mutable**, meaning their contents can be modified directly without creating a new list. When passing lists to functions, modifications inside the function will affect the **original list**.  \n",
    "- Methods like `append()`, `remove()`, and `sort()` modify the original list.  \n",
    "- Reassigning a list inside a function creates a new list locally, leaving the original unchanged.  \n",
    "\n",
    "This is key for **efficient data manipulation** and managing lists in real-world applications.\n",
    "\n",
    "---\n",
    "##### **Adding Items to a List** --> You can modify a list by adding elements inside a function using the `append()` method:"
   ]
  },
  {
   "cell_type": "code",
   "execution_count": 4,
   "id": "3c109680",
   "metadata": {},
   "outputs": [
    {
     "name": "stdout",
     "output_type": "stream",
     "text": [
      "[1, 2, 3, 4]\n"
     ]
    }
   ],
   "source": [
    "# Define a function to add a number to the list\n",
    "def add_number(my_list, number):\n",
    "    my_list.append(number)  # This modifies the original list by adding a new number\n",
    "\n",
    "# Initialize the list with numbers\n",
    "numbers = [1, 2, 3]\n",
    "add_number(numbers, 4)  # Add 4 to the list\n",
    "print(numbers)  # Output: [1, 2, 3, 4] - The original list is modified"
   ]
  },
  {
   "cell_type": "markdown",
   "id": "8235a75d",
   "metadata": {},
   "source": [
    "#### **Reassigning Lists Inside Functions:** --> Creates a new list locally, without changing the original"
   ]
  },
  {
   "cell_type": "code",
   "execution_count": 5,
   "id": "d3c3aaaa",
   "metadata": {},
   "outputs": [
    {
     "name": "stdout",
     "output_type": "stream",
     "text": [
      "[1, 2, 3]\n"
     ]
    }
   ],
   "source": [
    "# Define a function to replace the list with a new one\n",
    "def replace_list(my_list):\n",
    "    my_list = [10, 20, 30]  # This creates a new list locally, does not affect the original list\n",
    "\n",
    "# Initialize the list with numbers\n",
    "numbers = [1, 2, 3]\n",
    "replace_list(numbers)  # The function creates a new list, but the original list remains unchanged\n",
    "print(numbers)  # Output: [1, 2, 3] - The original list is not modified"
   ]
  },
  {
   "cell_type": "code",
   "execution_count": 2,
   "id": "70c46592",
   "metadata": {},
   "outputs": [
    {
     "name": "stdout",
     "output_type": "stream",
     "text": [
      "[1, 0, 0, 0, 5]\n"
     ]
    }
   ],
   "source": [
    "# Replacing Negative Numbers with Zero:\n",
    "\n",
    "def replace_negative_number(num_list):\n",
    "    for index in range(len(num_list)):\n",
    "        if num_list[index] < 0:\n",
    "            num_list[index] = 0  # Replace negative number with zero\n",
    "    return num_list\n",
    "\n",
    "num_list = [1, -2, -3, -4, 5]\n",
    "replace_negative_number(num_list)\n",
    "print(num_list)  # Output: [1, 0, 0, 0, 5]"
   ]
  },
  {
   "cell_type": "markdown",
   "id": "380622ea",
   "metadata": {},
   "source": [
    "##### **Modifying Dictionaries in Functions**\n",
    "In Python, **dictionaries** are powerful data structures that store **key-value pairs**.  \n",
    "They are **mutable**, meaning their contents can be modified directly inside a function.  \n",
    "- Changes to a dictionary inside a function affect the **original dictionary** because of Python’s **pass-by-reference** behavior.  \n",
    "- However, reassigning a dictionary inside a function creates a new local dictionary and does not affect the original (unless you explicitly use the `global` keyword).  \n",
    "\n",
    "---\n",
    "##### **Modifying a Dictionary**\n",
    "You can modify a dictionary by updating the value associated with a specific key inside a function:"
   ]
  },
  {
   "cell_type": "code",
   "execution_count": 5,
   "id": "5e268713",
   "metadata": {},
   "outputs": [
    {
     "name": "stdout",
     "output_type": "stream",
     "text": [
      "Original Dictionary: {'name': 'Raj', 'age': 25}\n",
      "Modified Dictionary: {'name': 'Raj', 'age': 30}\n"
     ]
    }
   ],
   "source": [
    "def update_age(my_dict):\n",
    "    my_dict['age'] = 30   # Modifying the value associated with the 'age' key\n",
    "\n",
    "# Create a dictionary\n",
    "person = {'name': 'Raj', 'age': 25}\n",
    "print(\"Original Dictionary:\", person)  # Output: {'name': 'Raj', 'age': 25}\n",
    "\n",
    "# Call the function to modify the dictionary\n",
    "update_age(person)\n",
    "print(\"Modified Dictionary:\", person)  # Output: {'name': 'Raj', 'age': 30}"
   ]
  },
  {
   "cell_type": "code",
   "execution_count": 7,
   "id": "13268c32",
   "metadata": {},
   "outputs": [
    {
     "name": "stdout",
     "output_type": "stream",
     "text": [
      "{'Fiction': 120, 'Non_Fiction': 80, 'Mystery': 60, 'Science Fiction': 50}\n"
     ]
    }
   ],
   "source": [
    "# Adding New Genre to the Library Management System:\n",
    "\n",
    "def add_genre(inventory, genre, count):\n",
    "    \"\"\"Adds a new genre to the library's inventory.\n",
    "        :param inventory: dict, the current library inventory with genres and their book counts\n",
    "        :param genre: str, the new genre to add\n",
    "        :param count: int, the number of books in the new genre\n",
    "        :return: dict, the updated inventory\n",
    "    \"\"\"\n",
    "    inventory[genre] = count  # Add the new genre with its book count\n",
    "    return inventory\n",
    "\n",
    "# Initial library inventory\n",
    "library_inventory = {\n",
    "    \"Fiction\": 120,\n",
    "    \"Non_Fiction\": 80,\n",
    "    \"Mystery\": 60\n",
    "}\n",
    "updated_inventory = add_genre(library_inventory, \"Science Fiction\", 50)\n",
    "print(updated_inventory)  # Output: {'Fiction': 120, 'Non_Fiction': 80, 'Mystery': 60, 'Science Fiction': 50}"
   ]
  },
  {
   "cell_type": "code",
   "execution_count": 9,
   "id": "58c91ca0",
   "metadata": {},
   "outputs": [
    {
     "name": "stdout",
     "output_type": "stream",
     "text": [
      "Original Salary: {'John': 52000, 'Jane': 60000, 'Doe': 45000}\n",
      "Updated Salary: {'John': 52000, 'Jane': 70000, 'Doe': 45000}\n"
     ]
    }
   ],
   "source": [
    "# Update Employee Salaries:\n",
    "\n",
    "def update_salary(salaries, employee_name, new_salary):\n",
    "    \"\"\"Updates the salary of a given employee in the dictionary.\n",
    "    :param salaries_dict: dict, contains employee names as keys and their salaries as values\n",
    "    :param employee_name: str, name of the employee whose salary needs to be updated\n",
    "    :param new_salary: int, the new salary to be assigned\n",
    "    \"\"\"\n",
    "    salaries[employee_name] = new_salary  # Update the salary for the specified employee\n",
    "    return salaries\n",
    "\n",
    "#$ Initial salary dictionary\n",
    "salary = {'John': 52000, 'Jane': 60000, 'Doe': 45000}\n",
    "print(\"Original Salary:\", salary)\n",
    "\n",
    "updated_salary = update_salary(salary, 'Jane', 70000)\n",
    "print(\"Updated Salary:\", updated_salary)"
   ]
  },
  {
   "cell_type": "code",
   "execution_count": 13,
   "id": "23aa4bd9",
   "metadata": {},
   "outputs": [
    {
     "name": "stdout",
     "output_type": "stream",
     "text": [
      "Original Prices: {'apple': 100, 'banana': 50, 'cherry': 75}\n",
      "Updated Prices: {'apple': 110.0, 'banana': 55.0, 'cherry': 82.5}\n"
     ]
    }
   ],
   "source": [
    "# Update fruit price:\n",
    "\n",
    "def update_fruit_price(prices):\n",
    "    \"\"\"Updates the prices of fruits by increasing each price by 10%\n",
    "    :param prices: dict, contains fruit names as keys and their prices as values\n",
    "    : return dict, the updated prices\n",
    "    \"\"\"\n",
    "    for index in prices:\n",
    "        prices[index] = round(prices[index] * 1.1, 2) # Increase each price by 10%\n",
    "    return prices\n",
    "\n",
    "# Initial fruit prices\n",
    "fruit_prices = {'apple': 100, 'banana':50, 'cherry': 75}\n",
    "print(f\"Original Prices: {fruit_prices}\")\n",
    "\n",
    "updated_prices = update_fruit_price(prices=fruit_prices)\n",
    "print(f\"Updated Prices: {updated_prices}\")"
   ]
  },
  {
   "cell_type": "markdown",
   "id": "763b6f3c",
   "metadata": {},
   "source": [
    "##### **Parameter Mutability**\n",
    "In Python, **parameters passed to functions** can either be **mutable** or **immutable**. This determines whether changes made inside the function **persist outside** it.  \n",
    "- **Mutable objects** (e.g., lists, dictionaries) can be changed inside a function, and those changes affect the original object.  \n",
    "- **Immutable objects** (e.g., integers, strings, tuples) cannot be modified directly; any \"change\" creates a **new object**, leaving the original unchanged.  \n",
    "Understanding parameter mutability is essential for managing data correctly in Python.  \n",
    "\n",
    "---\n",
    "##### **Modifying Mutable Objects (Lists)**\n",
    "Mutable objects, such as **lists**, can be modified within a function. Any changes made inside the function will **reflect in the original object** outside the function."
   ]
  },
  {
   "cell_type": "code",
   "execution_count": 14,
   "id": "fc0bc5dc",
   "metadata": {},
   "outputs": [
    {
     "name": "stdout",
     "output_type": "stream",
     "text": [
      "[1, 2, 3, 10]\n"
     ]
    }
   ],
   "source": [
    "# Function to add a number to the list\n",
    "def add_number(numbers):\n",
    "    numbers.append(10)  # Adds 10 to the list 'numbers'\n",
    "\n",
    "# List of numbers\n",
    "my_numbers = [1, 2, 3]\n",
    "add_number(my_numbers)  # Calls the function to add 10\n",
    "print(my_numbers) # Output: [1, 2, 3, 10] - The original list is modified"
   ]
  },
  {
   "cell_type": "markdown",
   "id": "09cf16bb",
   "metadata": {},
   "source": [
    "##### **Modifying Immutable Objects (Integers)**\n",
    "In Python, **integers are immutable**, meaning their value **cannot be changed directly**. When you attempt to modify an integer inside a function, Python actually creates a **new object**, leaving the original one unchanged."
   ]
  },
  {
   "cell_type": "code",
   "execution_count": null,
   "id": "53a519c6",
   "metadata": {},
   "outputs": [
    {
     "name": "stdout",
     "output_type": "stream",
     "text": [
      "5\n"
     ]
    }
   ],
   "source": [
    "# Function to increment the number\n",
    "def increment(number):\n",
    "    number += 1  # Tries to modify the local variable 'number'\n",
    "\n",
    "# Initial number\n",
    "my_number = 5\n",
    "increment(my_number)  # Function does not modify the original number\n",
    "print(my_number)  # Outputs: 5 - The original number remains unchanged"
   ]
  }
 ],
 "metadata": {
  "kernelspec": {
   "display_name": "base",
   "language": "python",
   "name": "python3"
  },
  "language_info": {
   "codemirror_mode": {
    "name": "ipython",
    "version": 3
   },
   "file_extension": ".py",
   "mimetype": "text/x-python",
   "name": "python",
   "nbconvert_exporter": "python",
   "pygments_lexer": "ipython3",
   "version": "3.13.5"
  }
 },
 "nbformat": 4,
 "nbformat_minor": 5
}
