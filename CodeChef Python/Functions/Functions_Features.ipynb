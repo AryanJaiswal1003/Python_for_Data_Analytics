{
 "cells": [
  {
   "cell_type": "code",
   "execution_count": 1,
   "id": "624a6b87",
   "metadata": {},
   "outputs": [],
   "source": [
    "# ------------------------------------------------ Functions Features -----------------------------------------------\n",
    "## Contents:--\n",
    "    #-- Function as arguments\n",
    "    #-- Lambda functions - Basics\n",
    "    #-- Lambda with Multiple Parameters\n",
    "    #-- Lambda in Built-in Functions\n",
    "    #-- Recursive functions - Basics\n",
    "    #-- Recursive Function Applications"
   ]
  },
  {
   "cell_type": "markdown",
   "id": "d8654363",
   "metadata": {},
   "source": [
    "##### **Functions as Arguments**\n",
    "In Python, functions can be passed as arguments to other functions.  \n",
    "This allows **dynamic function selection**, reduces **code duplication**, and improves **flexibility, readability, and efficiency** in programs.\n",
    "\n",
    "---\n",
    "##### **Syntax:**\n",
    "```python\n",
    "# Function that takes two parameters and returns their sum\n",
    "def function1(param1, param2):\n",
    "    return param1 + param2  # Adds the two parameters\n",
    "\n",
    "# Function that takes another function as an argument and calls it\n",
    "def function2(func, x, y):\n",
    "    return func(x, y)  # Calls the passed function with x and y\n",
    "\n",
    "# Passing function1 as an argument to function2\n",
    "result = function2(function1, 5, 3)  \n",
    "print(result)  # Output: 8\n",
    "```"
   ]
  },
  {
   "cell_type": "code",
   "execution_count": null,
   "id": "909e9ed9",
   "metadata": {},
   "outputs": [],
   "source": [
    "# Function to add two numbers\n",
    "def add(x, y):\n",
    "    return x + y\n",
    "\n",
    "# Function to multiply two numbers\n",
    "def multiply(x, y):\n",
    "    return x * y\n",
    "\n",
    "# Function that takes an operation (another function) and applies it to two numbers\n",
    "def calculate(operation, a, b):\n",
    "    return operation(a, b)  # Calls the function passed as 'operation' with a and b\n",
    "\n",
    "# Using 'calculate' with different operations\n",
    "result1 = calculate(add, 5, 3)        # Calls add(5, 3) -> 8\n",
    "result2 = calculate(multiply, 5, 3)   # Calls multiply(5, 3) -> 15\n",
    "\n",
    "# Printing the results\n",
    "print(result1)  # Output: 8\n",
    "print(result2)  # Output: 15"
   ]
  },
  {
   "cell_type": "code",
   "execution_count": 2,
   "id": "22f3a61c",
   "metadata": {},
   "outputs": [
    {
     "name": "stdout",
     "output_type": "stream",
     "text": [
      "MACHINE\n",
      "learning\n"
     ]
    }
   ],
   "source": [
    "# String Manipulation:\n",
    "\n",
    "def to_upper(text): # Function to convert a given string to uppercase\n",
    "    return text.upper()\n",
    "\n",
    "def to_lower(text): # Function to convert a given string to lowercase\n",
    "    return text.lower()\n",
    "\n",
    "def manipulate_string(func, string): # Function that applies a given function to a string\n",
    "    return func(string)\n",
    "\n",
    "upper_text = manipulate_string(to_upper, \"Machine\") # Convert \"Machine\" to uppercase using the to_upper function\n",
    "lower_text = manipulate_string(to_lower, \"LEARNING\") # Convert \"LEARNING\" to lowercase using the to_lower function\n",
    "\n",
    "print(upper_text)  # Outputs: MACHINE\n",
    "print(lower_text)  # Outputs: learning\n"
   ]
  },
  {
   "cell_type": "code",
   "execution_count": 1,
   "id": "9ed4642c",
   "metadata": {},
   "outputs": [
    {
     "data": {
      "text/plain": [
       "80.0"
      ]
     },
     "execution_count": 1,
     "metadata": {},
     "output_type": "execute_result"
    }
   ],
   "source": [
    "# Designing a Flexible Discount Application System:\n",
    "\n",
    "def calculate_final_price(price, discount_function):\n",
    "    return price - discount_function(price)\n",
    "\n",
    "def vip_discount(price):\n",
    "    return price * 0.2\n",
    "\n",
    "calculate_final_price(100, vip_discount)"
   ]
  },
  {
   "cell_type": "markdown",
   "id": "df75b878",
   "metadata": {},
   "source": [
    "##### **Lambda Functions Basic**\n",
    "In Python, a **lambda function** is a concise, anonymous function that can accept multiple arguments but contains only one expression.  \n",
    "It is used when a short, temporary function is needed without the formality of defining a function using `def`.\n",
    "\n",
    "Lambda functions are ideal for **quick operations**, **short-term use**, and cases where defining a full function would add unnecessary complexity.\n",
    "\n",
    "---\n",
    "##### **Syntax**\n",
    "```python\n",
    "lambda arguments: expression\n",
    "    - arguments → The parameters the function accepts.\n",
    "    - expression → A single expression that is evaluated and returned automatically.\n",
    "# Lambda function to add two numbers\n",
    "add = lambda x, y: x + y\n",
    "\n",
    "print(add(5, 3))  # Output: 8\n",
    "```\n",
    "---\n",
    "✅ Key Points\n",
    "1. No return keyword is needed — the expression’s result is returned automatically.\n",
    "2. Used commonly with functions like map(), filter(), and sorted().\n",
    "3. Should be kept simple and readable — avoid complex logic inside lambda functions."
   ]
  },
  {
   "cell_type": "code",
   "execution_count": 2,
   "id": "2cf53ec7",
   "metadata": {},
   "outputs": [
    {
     "name": "stdout",
     "output_type": "stream",
     "text": [
      "25\n"
     ]
    }
   ],
   "source": [
    "# Example: Squaring a Number\n",
    "\n",
    "square = lambda x: x ** 2 # Define a lambda function to square a number\n",
    "\n",
    "# Call the lambda function with 5 and print the result\n",
    "print(square(5))"
   ]
  },
  {
   "cell_type": "code",
   "execution_count": 5,
   "id": "c9b52fe0",
   "metadata": {},
   "outputs": [
    {
     "name": "stdout",
     "output_type": "stream",
     "text": [
      "The Number 27 is Even: False\n"
     ]
    }
   ],
   "source": [
    "# Check if a Number is Even or Odd\n",
    "\n",
    "is_even = lambda x: x % 2 == 0 # Define the lambda function to check if a number is even\n",
    "user_input = int(input(\"Enter a Number: \"))\n",
    "\n",
    "# Call the lambda function with the user's input and print the result\n",
    "print(f\"The Number {user_input} is Even: {is_even(user_input)}\")"
   ]
  },
  {
   "cell_type": "code",
   "execution_count": 6,
   "id": "577c4d8b",
   "metadata": {},
   "outputs": [
    {
     "name": "stdout",
     "output_type": "stream",
     "text": [
      "5\n"
     ]
    }
   ],
   "source": [
    "# Accessing last element of a list\n",
    "\n",
    "last_element = lambda list: list[-1] # Lambda function to get the last element of a list\n",
    "print(last_element([1, 2, 3, 4, 5]))  # Output: 5"
   ]
  },
  {
   "cell_type": "code",
   "execution_count": 13,
   "id": "7fe590b4",
   "metadata": {},
   "outputs": [
    {
     "name": "stdout",
     "output_type": "stream",
     "text": [
      "[121, 144, 169, 196, 225]\n"
     ]
    }
   ],
   "source": [
    "# Step 1: Create a list of numbers\n",
    "numbers = [11, 12, 13, 14, 15]\n",
    "\n",
    "# Step 2: Use a list comprehension with a lambda function to square each number\n",
    "squared_number = lambda x: x ** 2\n",
    "print([squared_number(x) for x in numbers])"
   ]
  },
  {
   "cell_type": "markdown",
   "id": "4b30ca6f",
   "metadata": {},
   "source": [
    "##### **Lambda with Multiple Parameters**\n",
    "In Python, **lambda functions** can accept **multiple parameters**, allowing you to perform quick calculations or operations without defining a full function using `def`.  \n",
    "They are particularly useful when working with higher-order functions like **map()**, **filter()**, and **sorted()**.\n",
    "\n",
    "---\n",
    "##### **Syntax**\n",
    "```python\n",
    "lambda arg1, arg2: expression\n",
    "    - arg1, arg2 → Parameters passed to the lambda function.\n",
    "    - expression → The operation performed using these parameters (automatically returned).\n",
    "\n",
    "# Lambda function to multiply two numbers\n",
    "multiply = lambda a, b: a * b\n",
    "print(multiply(4, 5))  # Output: 20\n",
    "```\n",
    "---\n",
    "✅ Key Points\n",
    "1. Lambda functions can take any number of parameters but only one expression.\n",
    "2. They are useful for short, one-line operations.\n",
    "3. Commonly used with functions that expect another function as input."
   ]
  },
  {
   "cell_type": "code",
   "execution_count": 9,
   "id": "6dea14a0",
   "metadata": {},
   "outputs": [
    {
     "name": "stdout",
     "output_type": "stream",
     "text": [
      "8\n"
     ]
    }
   ],
   "source": [
    "# Define a lambda function to add two numbers\n",
    "add = lambda x, y: x + y  # Takes two parameters, x and y, and returns their sum\n",
    "\n",
    "result = add(3, 5) # Call the lambda function with arguments 3 and 5, and store the result\n",
    "print(result)  # Outputs: 8, as 3 + 5 equals 8"
   ]
  },
  {
   "cell_type": "code",
   "execution_count": 10,
   "id": "45564299",
   "metadata": {},
   "outputs": [
    {
     "name": "stdout",
     "output_type": "stream",
     "text": [
      "87.5\n"
     ]
    }
   ],
   "source": [
    "# Calculate average of two grades\n",
    "\n",
    "# This function takes two numbers (grade1 and grade2) & adds them together and then divides by 2 to find the average\n",
    "average = lambda grade1, grade2: (grade1 + grade2) / 2\n",
    "\n",
    "result = average(85, 90)  # Example grades\n",
    "print(result)  # Output: 87.5"
   ]
  },
  {
   "cell_type": "code",
   "execution_count": 14,
   "id": "2cb7f8b0",
   "metadata": {},
   "outputs": [
    {
     "name": "stdout",
     "output_type": "stream",
     "text": [
      "3333.3333333333335\n"
     ]
    }
   ],
   "source": [
    "# Calculating Fuel cost based on distance and fuel efficiency:\n",
    "\n",
    "# lambda function to calculate the cost of fuel for a given distance\n",
    "calculate_cost = lambda dist, fuel_eff, fuel_price: (dist / fuel_eff) * fuel_price\n",
    "\n",
    "# Assign values to the variables\n",
    "distance = 500\n",
    "fuel_efficiency = 15  # km/l (how far the vehicle travels on 1 liter of fuel)\n",
    "fuel_price = 100  # price per liter\n",
    "\n",
    "# Calculate the total cost by calling the lambda function with the variables\n",
    "total_cost = calculate_cost(distance, fuel_efficiency, fuel_price)\n",
    "print(total_cost)"
   ]
  },
  {
   "cell_type": "code",
   "execution_count": 16,
   "id": "a5227395",
   "metadata": {},
   "outputs": [
    {
     "name": "stdout",
     "output_type": "stream",
     "text": [
      "[90.0, 135.0, 180.0, 225.0]\n"
     ]
    }
   ],
   "source": [
    "# Calculate Total Expenditure:\n",
    "prices = [100, 150, 200, 250]\n",
    "discount = 10 # 10% discount\n",
    "\n",
    "# lambda function to calculate the discounted price, function takes a price and applies the discount\n",
    "calculate_discount = lambda price: price * (1 - discount / 100)\n",
    "\n",
    "# list comprehension to apply the discount to each price in the 'prices' list\n",
    "discounted_prices = [calculate_discount(price) for price in prices]\n",
    "print(discounted_prices)"
   ]
  },
  {
   "cell_type": "markdown",
   "id": "45537336",
   "metadata": {},
   "source": [
    "##### **Lambda in Built-in Functions**\n",
    "In Python, **lambda functions** are often used with **built-in functions** like `map()`, `filter()`, and `sorted()` for concise, one-line operations.  \n",
    "They make your code cleaner and more readable by eliminating the need for separate function definitions.\n",
    "\n",
    "---\n",
    "✅ Key Takeaways\n",
    "1. `map()` → Transforms all elements.\n",
    "2. `filter()` → Selects elements that meet a condition.\n",
    "3. `sorted()` → Orders elements using a custom sorting rule.\n",
    "---\n",
    "##### **Using map() with Lambda Functions**\n",
    "- The `map()` function applies a given function to all items in an iterable (like a list)."
   ]
  },
  {
   "cell_type": "code",
   "execution_count": 19,
   "id": "81cd3b99",
   "metadata": {},
   "outputs": [
    {
     "name": "stdout",
     "output_type": "stream",
     "text": [
      "[1, 4, 9, 16]\n"
     ]
    }
   ],
   "source": [
    "numbers = [1, 2, 3, 4]\n",
    "\n",
    "# Using map() and a lambda function to square each number in the list\n",
    "squared_numbers = list(map(lambda x: x ** 2, numbers))\n",
    "\n",
    "print(squared_numbers)  # Output: [1, 4, 9, 16]"
   ]
  },
  {
   "cell_type": "markdown",
   "id": "c64c5b4e",
   "metadata": {},
   "source": [
    "##### **Using filter() with Lambda Functions**: \n",
    "- The `filter()` function filters elements of a list based on a condition (returns True/False)."
   ]
  },
  {
   "cell_type": "code",
   "execution_count": 20,
   "id": "499d2fd0",
   "metadata": {},
   "outputs": [
    {
     "name": "stdout",
     "output_type": "stream",
     "text": [
      "[2, 4]\n"
     ]
    }
   ],
   "source": [
    "numbers = [1, 2, 3, 4, 5]\n",
    "\n",
    "# Using filter() and a lambda function to filter even numbers from the list\n",
    "even_numbers = list(filter(lambda x: x % 2 == 0, numbers))\n",
    "\n",
    "print(even_numbers)  # Output: [2, 4]"
   ]
  },
  {
   "cell_type": "markdown",
   "id": "026e8a63",
   "metadata": {},
   "source": [
    "##### **Using sorted() with Lambda Functions**: \n",
    "- The `sorted()` function sorts elements in a sequence.\n",
    "- Using a lambda function, you can customize the sorting criteria."
   ]
  },
  {
   "cell_type": "code",
   "execution_count": 22,
   "id": "b56fd413",
   "metadata": {},
   "outputs": [
    {
     "name": "stdout",
     "output_type": "stream",
     "text": [
      "['fig', 'date', 'apple', 'grape', 'banana', 'cherry']\n"
     ]
    }
   ],
   "source": [
    "words = ['apple', 'banana', 'cherry', 'date', 'fig', 'grape']\n",
    "\n",
    "# Sorting the list of words by their length using sorted() and a lambda function\n",
    "sorted_words = sorted(words, key=lambda x: len(x))\n",
    "\n",
    "print(sorted_words)  # Output: ['apple', 'banana', 'cherry']"
   ]
  },
  {
   "cell_type": "code",
   "execution_count": 23,
   "id": "cb5a557a",
   "metadata": {},
   "outputs": [
    {
     "name": "stdout",
     "output_type": "stream",
     "text": [
      "[{'name': 'Headphones', 'price': 150}, {'name': 'Tablet', 'price': 600}, {'name': 'Smartphone', 'price': 800}, {'name': 'Laptop', 'price': 1200}]\n"
     ]
    }
   ],
   "source": [
    "# Sorting a List of Dictionaries by a Specific Key\n",
    "\n",
    "# List of dictionaries representing products with their names and prices\n",
    "products = [\n",
    "    {\"name\": \"Laptop\", \"price\": 1200},\n",
    "    {\"name\": \"Smartphone\", \"price\": 800},\n",
    "    {\"name\": \"Tablet\", \"price\": 600},\n",
    "    {\"name\": \"Headphones\", \"price\": 150}\n",
    "]\n",
    "\n",
    "# Sort the list of dictionaries by the 'price' key using a lambda function\n",
    "sorted_products = sorted(products, key=lambda product: product[\"price\"])\n",
    "\n",
    "print(sorted_products)"
   ]
  },
  {
   "cell_type": "code",
   "execution_count": 24,
   "id": "7d6939e6",
   "metadata": {},
   "outputs": [
    {
     "name": "stdout",
     "output_type": "stream",
     "text": [
      "[5, 7, 3, 8]\n"
     ]
    }
   ],
   "source": [
    "# Filtering all numbers less than 10:\n",
    "numbers = [5, 12, 7, 18, 3, 25, 8]\n",
    "\n",
    "filtered = list(filter(lambda x: x < 10, numbers))\n",
    "print(filtered)"
   ]
  },
  {
   "cell_type": "markdown",
   "id": "ea0e5d26",
   "metadata": {},
   "source": [
    "##### **Recursive Functions Basic**\n",
    "In Python, **recursive functions** are functions that call themselves to solve problems that can be divided into smaller, similar subproblems.  \n",
    "Recursion is a powerful and elegant programming technique, often used for problems involving repetition or hierarchy (like factorials, Fibonacci series, or tree traversal).\n",
    "- A recursive function must include two key parts:\n",
    "1. **Base Case:** The condition that stops the recursion. It prevents infinite calls by defining when the function should stop.\n",
    "2. **Recursive Case:** The part where the function calls itself with modified arguments, gradually moving toward the base case.\n",
    "\n",
    "---\n",
    "##### **Syntax**\n",
    "```python\n",
    "def recursive_function(parameters):\n",
    "    # Check if the base case condition is met to stop the recursion\n",
    "    if base_case_condition:\n",
    "        return base_result  # Return the base result when the base case is reached\n",
    "    else:\n",
    "        # Recursive call with modified parameters to approach the base case\n",
    "        return recursive_function(modified_parameters)\n",
    "# Initial call to the recursive function\n",
    "recursive_function(initial_parameters)\n",
    "```\n",
    "---\n",
    "##### ✅ Key Takeaways\n",
    "1. Always define a base case to avoid infinite recursion.\n",
    "2. Recursive calls should move toward the base case.\n",
    "3. Recursion helps simplify problems that involve repetitive patterns."
   ]
  },
  {
   "cell_type": "code",
   "execution_count": 25,
   "id": "d3cf4f1e",
   "metadata": {},
   "outputs": [
    {
     "name": "stdout",
     "output_type": "stream",
     "text": [
      "10\n",
      "9\n",
      "8\n",
      "7\n",
      "6\n",
      "5\n",
      "4\n",
      "3\n",
      "2\n",
      "1\n",
      "0\n"
     ]
    }
   ],
   "source": [
    "# Count down to zero from a given number\n",
    "\n",
    "def countdown(num):\n",
    "    print(num)  # Print the current number\n",
    "    if num == 0:\n",
    "        return  # Base case: stop if the number is 0\n",
    "    else:\n",
    "        countdown(num - 1)  # Recursive call with the number decremented by 1\n",
    "\n",
    "number = int(input(\"Enter a number to start countdown: \"))\n",
    "countdown(number)"
   ]
  },
  {
   "cell_type": "code",
   "execution_count": 26,
   "id": "93167a0a",
   "metadata": {},
   "outputs": [
    {
     "name": "stdout",
     "output_type": "stream",
     "text": [
      "24\n"
     ]
    }
   ],
   "source": [
    "# Factorial of a number:\n",
    "\n",
    "def factorial(num):\n",
    "    # Base case: if num is 0 or 1, return 1\n",
    "    if num == 0 or num == 1:\n",
    "        return 1\n",
    "    else:\n",
    "        # Recursive case: Multiply the current number (n) by the factorial of (n-1)\n",
    "        return num * factorial(num - 1)\n",
    "\n",
    "number = int(input(\"Enter a number to find its factorial: \"))\n",
    "print(factorial(number))"
   ]
  },
  {
   "cell_type": "code",
   "execution_count": 27,
   "id": "01f0e285",
   "metadata": {},
   "outputs": [
    {
     "name": "stdout",
     "output_type": "stream",
     "text": [
      "scitsitatS\n"
     ]
    }
   ],
   "source": [
    "# Reverse a string:\n",
    "\n",
    "def reverse_string(s):\n",
    "    # Base case: if the string is empty or has one character, return it as is\n",
    "    def helper_index(index):\n",
    "        if index == -1:\n",
    "            return \"\"\n",
    "        else:\n",
    "            return s[index] + helper_index(index - 1)\n",
    "    return helper_index(len(s) - 1)\n",
    "\n",
    "print(reverse_string(\"Statistics\"))"
   ]
  },
  {
   "cell_type": "markdown",
   "id": "e5acfd70",
   "metadata": {},
   "source": [
    "##### **Recursive Function Applications**\n",
    "In Python, **recursion** allows a function to call itself to solve problems by breaking them down into smaller, similar sub-problems.  \n",
    "This approach is ideal for solving tasks that have a repetitive or hierarchical structure.\n",
    "\n",
    "Recursive functions provide elegant solutions by replacing loops or iterative logic with self-calling function structures.\n",
    "\n",
    "---\n",
    "##### **Applications of Recursive Functions**\n",
    "1. **Mathematical Calculations**\n",
    "   - Recursion is commonly used for mathematical problems that can be expressed in terms of smaller versions of themselves.\n",
    "   - Examples include:\n",
    "     - **Factorial Calculation**\n",
    "     - **Fibonacci Series**\n",
    "     - **Exponentiation (Power Calculation)**\n",
    "2. **Data Structures**\n",
    "   - Recursion is fundamental in exploring or processing recursive data structures like:\n",
    "     - **Trees** – traversing nodes (e.g., binary tree traversal)\n",
    "     - **Graphs** – exploring connected nodes (e.g., depth-first search)\n",
    "3. **Algorithmic Problems**\n",
    "   - Many algorithms use recursion for simplicity and clarity:\n",
    "     - **Sorting algorithms** (like QuickSort and MergeSort)\n",
    "     - **Searching algorithms** (like Binary Search)\n",
    "     - **Backtracking problems** (like solving mazes or generating permutations)\n",
    "---\n",
    "✅ **Key Insight**\n",
    "Recursion is most effective when:\n",
    "- The problem can naturally be broken down into smaller sub-problems.\n",
    "- Each sub-problem has the same structure as the main problem.\n",
    "- There exists a clear **base case** to stop the recursion."
   ]
  },
  {
   "cell_type": "markdown",
   "id": "ff6732e2",
   "metadata": {},
   "source": [
    "##### Example 1: Factorial Calculation"
   ]
  },
  {
   "cell_type": "code",
   "execution_count": 29,
   "id": "c4dfd616",
   "metadata": {},
   "outputs": [
    {
     "name": "stdout",
     "output_type": "stream",
     "text": [
      "120\n"
     ]
    }
   ],
   "source": [
    "def factorial(n):\n",
    "    # Base case: when n is 0, the factorial is defined as 1\n",
    "    if n == 0:\n",
    "        return 1\n",
    "    else:\n",
    "        # Recursive case: multiplying n by the factorial of (n-1)\n",
    "        return n * factorial(n - 1)\n",
    "\n",
    "print(factorial(5))"
   ]
  },
  {
   "cell_type": "markdown",
   "id": "eb10e816",
   "metadata": {},
   "source": [
    "##### Example 2: Recursive Sum of Numbers"
   ]
  },
  {
   "cell_type": "code",
   "execution_count": 30,
   "id": "6bfa03c2",
   "metadata": {},
   "outputs": [
    {
     "name": "stdout",
     "output_type": "stream",
     "text": [
      "15\n"
     ]
    }
   ],
   "source": [
    "def recursive_sum(n):\n",
    "    # Base case: when n is 0, return 0\n",
    "    if n == 0:\n",
    "        return 0\n",
    "    else:\n",
    "        # Recursive case: add n to the result of the recursive call\n",
    "        return n + recursive_sum(n - 1)\n",
    "\n",
    "print(recursive_sum(5))"
   ]
  },
  {
   "cell_type": "markdown",
   "id": "e5fdccd5",
   "metadata": {},
   "source": [
    "##### Fibonacci Sequence: The Fibonacci sequence starts with 0 and 1, and each subsequent number is the sum of the two preceding ones."
   ]
  },
  {
   "cell_type": "code",
   "execution_count": 32,
   "id": "b2c7b3b0",
   "metadata": {},
   "outputs": [
    {
     "name": "stdout",
     "output_type": "stream",
     "text": [
      "8\n"
     ]
    }
   ],
   "source": [
    "def fibonnaci(num):\n",
    "    # Base case: return num if it's 0 or 1\n",
    "    if num <= 1:\n",
    "        return num\n",
    "    else:\n",
    "        # Recursive case: return the sum of the two preceding numbers\n",
    "        return fibonnaci(num - 1) + fibonnaci(num - 2)\n",
    "\n",
    "print(fibonnaci(6))"
   ]
  },
  {
   "cell_type": "code",
   "execution_count": 33,
   "id": "8106c1be",
   "metadata": {},
   "outputs": [
    {
     "name": "stdout",
     "output_type": "stream",
     "text": [
      "The number 12345 has 5 digits\n"
     ]
    }
   ],
   "source": [
    "# Count digits Recursively:\n",
    "\n",
    "def count_digits(num):\n",
    "    # Base case: if num is 0, return 0\n",
    "    if num == 0:\n",
    "        return 0\n",
    "    else:\n",
    "        return 1 + count_digits(num // 10)  # Recursive case: remove the last digit and add 1\n",
    "\n",
    "num = int(input(\"Enter a number to count its digits: \"))\n",
    "\n",
    "# Validating input to ensure it's non-negative\n",
    "if num < 0:\n",
    "    print(\"Please enter a non-negative integer.\")\n",
    "else:\n",
    "    print(f\"The number {num} has {count_digits(num)} digits\")"
   ]
  }
 ],
 "metadata": {
  "kernelspec": {
   "display_name": "base",
   "language": "python",
   "name": "python3"
  },
  "language_info": {
   "codemirror_mode": {
    "name": "ipython",
    "version": 3
   },
   "file_extension": ".py",
   "mimetype": "text/x-python",
   "name": "python",
   "nbconvert_exporter": "python",
   "pygments_lexer": "ipython3",
   "version": "3.13.5"
  }
 },
 "nbformat": 4,
 "nbformat_minor": 5
}
