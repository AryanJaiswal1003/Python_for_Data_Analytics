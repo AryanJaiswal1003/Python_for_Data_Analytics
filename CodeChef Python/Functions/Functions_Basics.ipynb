{
 "cells": [
  {
   "cell_type": "code",
   "execution_count": 2,
   "id": "3901c583",
   "metadata": {},
   "outputs": [],
   "source": [
    "# ------------------------------------------------ Functions Basics -----------------------------------------------\n",
    "## Contents:--\n",
    "    #-- Function Structure (def keyword)\n",
    "    #-- Function With Single Parameter\n",
    "    #-- Function With Multiple Parameters\n",
    "    #-- Function Documentation String\n",
    "    #-- Return Statement Basics\n",
    "    #-- Multiple Return Values\n",
    "    #-- Return v/s Print\n",
    "    #-- Empty Return Statement\n",
    "    #-- Function Naming Conventions\n",
    "    #-- Nested Functions"
   ]
  },
  {
   "cell_type": "markdown",
   "id": "83649573",
   "metadata": {},
   "source": [
    "##### ***Function Structure in Python (def keyword):***\n",
    "1. Functions in Python allow for **efficient code structuring and reuse**.  \n",
    "2. A function is defined using the **`def` keyword**.  \n",
    "3. When a function is **called**, control jumps to the function body, executes its statements, and then returns to the next line after the call.  \n",
    "4. Functions are essential for **modular programming** and **reusable code structures**.  \n",
    "---\n",
    "##### ***Defining a Function:***\n",
    "```python\n",
    "def my_function():\n",
    "    print(\"Hello from a function\")  # Function body\n",
    "\n",
    "# Calling a Function:\n",
    "my_function()\n",
    "```"
   ]
  },
  {
   "cell_type": "code",
   "execution_count": 3,
   "id": "2e16e6b3",
   "metadata": {},
   "outputs": [
    {
     "name": "stdout",
     "output_type": "stream",
     "text": [
      "*\n",
      "**\n",
      "***\n",
      "****\n",
      "*****\n"
     ]
    }
   ],
   "source": [
    "# Print a pattern of stars in increasing order:\n",
    "\n",
    "def print_stars():\n",
    "    for star in range(1, 6):\n",
    "        print('*' * star)\n",
    "\n",
    "print_stars()"
   ]
  },
  {
   "cell_type": "markdown",
   "id": "205ef9bd",
   "metadata": {},
   "source": [
    "##### **Function with Single Parameter:**\n",
    "1. Functions can accept **parameters**, making them **flexible and reusable**.  \n",
    "2. A **parameter** allows values to be passed into a function when it is called.  \n",
    "3. Using parameters helps avoid **hardcoding values**, enabling dynamic and reusable code.  \n",
    "---\n",
    "##### ***Syntax:***\n",
    "```python\n",
    "    def function_name(parameter):\n",
    "        # Function body using the parameter\n",
    "        print(\"Value passed:\", parameter)\n",
    "```"
   ]
  },
  {
   "cell_type": "code",
   "execution_count": 5,
   "id": "8cbaca22",
   "metadata": {},
   "outputs": [
    {
     "name": "stdout",
     "output_type": "stream",
     "text": [
      "98.6 Fahrenheit is 37.0 Celsius\n"
     ]
    }
   ],
   "source": [
    "# Convert Fahrenheit to Celsius:\n",
    "\n",
    "def fahrenheit_to_celsius(fahrenheit):\n",
    "    # Calculate Celsius using the conversion formula\n",
    "    celsius = (fahrenheit - 32) * 5/9\n",
    "    print(f\"{fahrenheit} Fahrenheit is {celsius} Celsius\")\n",
    "\n",
    "# Call the function with the argument 98.6 (Fahrenheit)\n",
    "fahrenheit_to_celsius(98.6)"
   ]
  },
  {
   "cell_type": "markdown",
   "id": "91a11b6b",
   "metadata": {},
   "source": [
    "##### **Function With Multiple Parameters:**\n",
    "1. Functions in Python can accept **multiple parameters**.  \n",
    "2. Parameters allow passing values into the function, making it **dynamic and reusable**.  \n",
    "3. You can define a function that takes **two or more values** and performs operations based on them.  \n",
    "---\n",
    "##### ***Syntax:***\n",
    "```python\n",
    "# Define a function with multiple parameters\n",
    "    def add_numbers(a, b):\n",
    "        return a + b  # Returns the sum of two numbers\n",
    "\n",
    "    result = add_numbers(5, 3) # Calling function with two arguments\n",
    "    print(result)  # Output: 8\n",
    "```"
   ]
  },
  {
   "cell_type": "code",
   "execution_count": 7,
   "id": "0a80d28b",
   "metadata": {},
   "outputs": [
    {
     "name": "stdout",
     "output_type": "stream",
     "text": [
      "The area of the rectangle is 50 square units.\n"
     ]
    }
   ],
   "source": [
    "# Example: Calculating the Area of a Rectangle\n",
    "\n",
    "def calculate_area(length, width):\n",
    "    return length * width  # Returns the area by multiplying length and width\n",
    "\n",
    "area1 = calculate_area(5, 10)\n",
    "print(f\"The area of the rectangle is {area1} square units.\") # Output: 50"
   ]
  },
  {
   "cell_type": "code",
   "execution_count": 8,
   "id": "17129914",
   "metadata": {},
   "outputs": [
    {
     "name": "stdout",
     "output_type": "stream",
     "text": [
      "4 hours and 20 minutes is equal to 260 minutes\n"
     ]
    }
   ],
   "source": [
    "# Convert Hours and Minutes to Total Minutes:\n",
    "\n",
    "def convert_to_minutes(hours, minutes):\n",
    "    total_minutes = hours * 60 + minutes\n",
    "    print(f\"{hours} hours and {minutes} minutes is equal to {total_minutes} minutes\")\n",
    "\n",
    "convert_to_minutes(4, 20)"
   ]
  },
  {
   "cell_type": "code",
   "execution_count": 9,
   "id": "35e92f1c",
   "metadata": {},
   "outputs": [
    {
     "name": "stdout",
     "output_type": "stream",
     "text": [
      "10 is not greater than 10\n",
      "5 is not greater than 10\n",
      "20 is greater than 10\n",
      "3 is not greater than 10\n",
      "15 is greater than 10\n"
     ]
    }
   ],
   "source": [
    "# Number Classification and Threshold Check:\n",
    "\n",
    "def check_and_print(numbers, threshold):\n",
    "    for num in numbers:\n",
    "        if num > threshold:\n",
    "            print(f\"{num} is greater than {threshold}\")\n",
    "        else:\n",
    "            print(f\"{num} is not greater than {threshold}\")\n",
    "\n",
    "numbers = [10, 5, 20, 3, 15]\n",
    "threshold = 10\n",
    "check_and_print(numbers, threshold)"
   ]
  },
  {
   "cell_type": "markdown",
   "id": "fd3fd16b",
   "metadata": {},
   "source": [
    "##### **Function Documentation String (Docstring):**\n",
    "1. **Docstrings** provide essential details about a function’s purpose, parameters, and return values.  \n",
    "2. They improve **code readability** and **maintainability**, especially in large projects.  \n",
    "3. Docstrings are placed **at the beginning of a function**, enclosed in triple quotes (`\"\"\"`).\n",
    "---\n",
    "##### ***A Good Docstring Should Explain:***\n",
    "- What the function does.  \n",
    "- The parameters it takes (if any).  \n",
    "- What it returns.  \n",
    "---\n",
    "##### ***Syntax of a Docstring:***\n",
    "```python\n",
    "def function_name(parameters):\n",
    "    \"\"\"\n",
    "    This is the docstring that explains:\n",
    "    - What the function does\n",
    "    - What parameters it takes\n",
    "    - What it returns\n",
    "    \"\"\"\n",
    "    # function body\n",
    "```"
   ]
  },
  {
   "cell_type": "code",
   "execution_count": 4,
   "id": "1bd9105b",
   "metadata": {},
   "outputs": [
    {
     "name": "stdout",
     "output_type": "stream",
     "text": [
      "Number 5 & 10, adds upto: 15\n"
     ]
    }
   ],
   "source": [
    "def add_numbers(a, b):\n",
    "    \"\"\"\n",
    "    This function takes two integers and returns their sum.\n",
    "\n",
    "    Parameters:\n",
    "    a (int): The first number.\n",
    "    b (int): The second number.\n",
    "\n",
    "    Returns:\n",
    "    int: The sum of a and b.\n",
    "    \"\"\"\n",
    "    return f\"Number {a} & {b}, adds upto: {a + b}\"\n",
    "\n",
    "print(add_numbers(5, 10))  # Output: 15"
   ]
  },
  {
   "cell_type": "markdown",
   "id": "2c460205",
   "metadata": {},
   "source": [
    "##### **Return Statement Basics:**\n",
    "1. The **return statement** in Python allows a function to send back a result.  \n",
    "2. Instead of just displaying a value, it makes the result **reusable** in different parts of a program.  \n",
    "3. The returned value can be **stored in a variable** or **used in further operations**.  \n",
    "---\n",
    "##### ***Syntax of return:***\n",
    "```python\n",
    "    def function_name(parameters):\n",
    "        # function body\n",
    "        return value\n",
    "```"
   ]
  },
  {
   "cell_type": "code",
   "execution_count": 5,
   "id": "221dd6a9",
   "metadata": {},
   "outputs": [
    {
     "name": "stdout",
     "output_type": "stream",
     "text": [
      "The square of the number is: 16\n"
     ]
    }
   ],
   "source": [
    "# Define a function to calculate the square of a number\n",
    "def calculate_square(number):\n",
    "    # Return the square of the given number\n",
    "    return number ** 2\n",
    "\n",
    "# Call the function with an input value and store the result\n",
    "result = calculate_square(4)\n",
    "print(\"The square of the number is:\", result)  # Outputs: 16"
   ]
  },
  {
   "cell_type": "code",
   "execution_count": 6,
   "id": "516bf797",
   "metadata": {},
   "outputs": [
    {
     "name": "stdout",
     "output_type": "stream",
     "text": [
      "The total price including tax is: 124.2\n"
     ]
    }
   ],
   "source": [
    "# Calculating the Total Price with Tax:\n",
    "def calculate_total_price(price, tax_rate):\n",
    "    \"\"\"\n",
    "    Calculate the total price of an item including tax.\n",
    "\n",
    "    Parameters:\n",
    "    price (float): The base price of the item.\n",
    "    tax_rate (float): The tax rate as a decimal (e.g., 0.07 for 7%).\n",
    "\n",
    "    Returns:\n",
    "    float: The total price including tax.\n",
    "    \"\"\"\n",
    "\n",
    "    total_price = price + (price * tax_rate)\n",
    "    return total_price\n",
    "\n",
    "price = 60.0\n",
    "tax_rate = 1.07\n",
    "\n",
    "result = calculate_total_price(price, tax_rate)\n",
    "print(\"The total price including tax is:\", result)"
   ]
  },
  {
   "cell_type": "markdown",
   "id": "e36c3c60",
   "metadata": {},
   "source": [
    "##### **Multiple Return Values:**\n",
    "1. Python allows functions to **return multiple values** in a single call.  \n",
    "2. This is achieved by returning a **tuple** that groups related results together.  \n",
    "3. Multiple return values simplify data processing by avoiding the need for multiple functions or repeated print statements.  \n",
    "4. Returned tuples can be **unpacked into separate variables** for easy use.  \n",
    "---\n",
    "##### ***Syntax of multiple return values:***\n",
    "```python\n",
    "def function_name(parameters):\n",
    "    # function body\n",
    "    return value1, value2, value3   # Returns multiple values as a tuple\n",
    "\n",
    "# Unpacking the returned values\n",
    "a, b, c = function_name(arguments)\n",
    "```"
   ]
  },
  {
   "cell_type": "code",
   "execution_count": 7,
   "id": "cc6dd9d2",
   "metadata": {},
   "outputs": [
    {
     "name": "stdout",
     "output_type": "stream",
     "text": [
      "15\n",
      "5\n"
     ]
    }
   ],
   "source": [
    "# Define a function that calculates the sum and difference of two numbers\n",
    "def calculate(a, b):\n",
    "    sum_value = a + b # Calculate the sum of a and b\n",
    "    difference = a - b # Calculate the difference of a and b\n",
    "\n",
    "    return sum_value, difference # Return both values as a tuple\n",
    "\n",
    "# Call the function with two numbers and store the returned values\n",
    "result_sum, result_difference = calculate(10, 5)\n",
    "\n",
    "print(result_sum)  # Outputs: 15\n",
    "print(result_difference)  # Outputs: 5"
   ]
  },
  {
   "cell_type": "code",
   "execution_count": 9,
   "id": "0fe8cb47",
   "metadata": {},
   "outputs": [
    {
     "name": "stdout",
     "output_type": "stream",
     "text": [
      "Simple_Interest: 1000.0\n",
      "Final Amount [SI]: 11000.0\n",
      "\n",
      "Compound_Interest: 1025.0\n",
      "Final Amount [CI]: 11025.0\n"
     ]
    }
   ],
   "source": [
    "# Financial Calculations:\n",
    "\n",
    "def calculate_interest(principal, rate, time):\n",
    "    simple_interest = (principal * rate * time) / 100  # Simple Interest\n",
    "    final_amount = principal + simple_interest\n",
    "\n",
    "    compound_interest = principal * (1 + rate/100)**time - principal  # Compound Interest\n",
    "    final_amount_ci = principal + compound_interest\n",
    "\n",
    "    return simple_interest, final_amount, compound_interest, final_amount_ci\n",
    "\n",
    "# Define input values\n",
    "principal = 10000\n",
    "rate = 5\n",
    "time = 2\n",
    "\n",
    "simple_int, final_amount, compound_int, final_amount_ci = calculate_interest(principal, rate, time)\n",
    "\n",
    "print(\"Simple_Interest:\", simple_int)  # Output the calculated interest\n",
    "print(\"Final Amount [SI]:\", final_amount)  # Output the final amount after adding interest\n",
    "print()\n",
    "print(\"Compound_Interest:\", compound_int)  # Output the calculated compound interest\n",
    "print(\"Final Amount [CI]:\", final_amount_ci)  # Output the final amount after adding compound interest"
   ]
  },
  {
   "cell_type": "markdown",
   "id": "9154a929",
   "metadata": {},
   "source": [
    "##### **Return vs Print:**\n",
    "1. In Python, `return` and `print` serve **different purposes** when working with functions.  \n",
    "2. `print`: Displays the value on the screen immediately, mainly for user interaction or debugging.  \n",
    "3. `return`: Sends a value back from a function so it can be **stored, reused, or processed further** in the program.  \n",
    "4. Use `print` when the goal is **output to the user**.  \n",
    "5. Use `return` when the goal is **to provide results back to the program** for later use.  "
   ]
  },
  {
   "cell_type": "code",
   "execution_count": 15,
   "id": "65c8fe22",
   "metadata": {},
   "outputs": [
    {
     "name": "stdout",
     "output_type": "stream",
     "text": [
      "The total price of items in the cart is: 105.96\n",
      "Discounted price after 10% discount: 95.36\n"
     ]
    }
   ],
   "source": [
    "# Shopping Cart Calculation:\n",
    "def calculate_total(cart_items):\n",
    "    \"\"\"Calculate the total price of items in the cart.\"\"\"\n",
    "    total = round(sum(cart_items), 2)\n",
    "\n",
    "    print(\"The total price of items in the cart is:\", total)\n",
    "    return total\n",
    "\n",
    "cart_items = [29.99, 49.99, 9.99, 15.99]\n",
    "\n",
    "total = calculate_total(cart_items) # Call the function to calculate the total price\n",
    "discounted_price = round(total * 0.9, 2) # Apply a 10% discount to the total price\n",
    "\n",
    "print(\"Discounted price after 10% discount:\", discounted_price)"
   ]
  },
  {
   "cell_type": "markdown",
   "id": "85c83489",
   "metadata": {},
   "source": [
    "##### ***Empty Return Statement in Python:***\n",
    "1. The `return` statement is usually used to send a value back from a function.  \n",
    "2. Sometimes, a function does not need to return any specific value.  \n",
    "   - In such cases, an **empty return** can be used to simply exit the function.  \n",
    "   - An empty return (or no return at all) makes the function return `None`.  \n",
    "---\n",
    "##### **Implicit vs Explicit Return:**\n",
    "- **Implicit Return:**  \n",
    "  If a function has no `return` statement, Python automatically returns `None`.  \n",
    "- **Explicit Return (Empty):**  \n",
    "  Writing `return` without a value also returns `None`, but it makes the exit **clearer**.  \n",
    "---\n",
    "##### Why use empty return instead of pass?\n",
    "- `Pass` is a placeholder that does nothing & `lets the code continue`, often used in empty functions or classes. An empty `return exits function`, returning None. Use pass to do nothing, & return to stop a function early."
   ]
  },
  {
   "cell_type": "code",
   "execution_count": 16,
   "id": "210e8492",
   "metadata": {},
   "outputs": [
    {
     "name": "stdout",
     "output_type": "stream",
     "text": [
      "13 X 1 = 13\n",
      "13 X 2 = 26\n",
      "13 X 3 = 39\n",
      "13 X 4 = 52\n",
      "13 X 5 = 65\n"
     ]
    }
   ],
   "source": [
    "# Display Multiplication Table:\n",
    "def multiplication_table():\n",
    "    \"\"\"\n",
    "    This function generates a multiplication table for a given number.\n",
    "    The user is prompted to input a number, and the table is displayed from 1 to 5.\n",
    "    \"\"\"\n",
    "    number = int(input())\n",
    "\n",
    "    for i in range(1, 6):\n",
    "        print(f\"{number} X {i} = {number * i}\")\n",
    "\n",
    "    return\n",
    "\n",
    "multiplication_table()"
   ]
  },
  {
   "cell_type": "markdown",
   "id": "88a1da72",
   "metadata": {},
   "source": [
    "##### **Function Naming Conventions in Python**\n",
    "Function names play a crucial role in making code readable and maintainable. Python follows specific naming conventions to ensure clarity and consistency.\n",
    "\n",
    "---\n",
    "##### ***Rules for Naming Functions:***\n",
    "1. **Use Descriptive Names**  \n",
    "   - Names should clearly describe what the function does.  \n",
    "   - Example: `add_numbers` (✔️) is better than `function1` (❌).  \n",
    "2. **Use Lowercase Letters (snake_case)**  \n",
    "   - Function names should be written in lowercase.  \n",
    "   - Multiple words should be separated by underscores (`_`).  \n",
    "   - Example: `calculate_area()` (✔️) is preferred over `CalculateArea()` (❌).  \n",
    "3. **Avoid Special Characters and Spaces**  \n",
    "   - Do not use `@, #, $, %` or spaces.  \n",
    "   - Stick to letters, numbers, and underscores.  \n",
    "4. **Be Concise but Informative**  \n",
    "   - Function names should not be too short (unclear) or too long (unnecessary).  \n",
    "   - Example: `find_max` (✔️) is better than `find_the_maximum_value_in_list` (❌).  \n",
    "5. **Use Verbs for Actions**  \n",
    "   - Since functions perform tasks, start names with verbs.  \n",
    "   - Examples:  \n",
    "     - `print_message()`  \n",
    "     - `get_user_input()`  \n",
    "     - `calculate_sum()`  "
   ]
  },
  {
   "cell_type": "code",
   "execution_count": null,
   "id": "f9c37453",
   "metadata": {},
   "outputs": [],
   "source": [
    "def print_message():\n",
    "    pass\n",
    "\n",
    "def get_user_input():\n",
    "    pass\n",
    "\n",
    "def calculate_sum():\n",
    "    pass"
   ]
  },
  {
   "cell_type": "code",
   "execution_count": 18,
   "id": "3bf78ca6",
   "metadata": {},
   "outputs": [
    {
     "name": "stdout",
     "output_type": "stream",
     "text": [
      "The factorial of 13 is 6227020800\n"
     ]
    }
   ],
   "source": [
    "\"\"\" Calculate Factorial: Factorial of a number (n!) is the product of all positive integers from 1 to n. The factorial\n",
    "      of 0 is defined as 1.\"\"\"\n",
    "\n",
    "def factorial(n):\n",
    "    if n == 0: # Base case: Factorial of 0 is 1\n",
    "        return 1\n",
    "    else:\n",
    "        if n > 0:\n",
    "            return n * factorial(n - 1) # Recursive case: n! = n * (n-1)!\n",
    "        else:\n",
    "            return None\n",
    "\n",
    "num = int(input(\"Enter a Number: \"))\n",
    "\n",
    "if num < 0:\n",
    "    print(\"Factorial is not defined for negative numbers.\")\n",
    "else:\n",
    "    print(f\"The factorial of {num} is {factorial(num)}\")"
   ]
  },
  {
   "cell_type": "markdown",
   "id": "4f5c621f",
   "metadata": {},
   "source": [
    "##### **Nested Functions in Python**\n",
    "A **nested function** is a function defined inside another function. It improves **code organization, scope management, and encapsulation** by restricting access to specific functionalities.  \n",
    "\n",
    "Nested functions help in:\n",
    "- Keeping related logic grouped within an outer function.  \n",
    "- Accessing outer function variables.  \n",
    "- Preventing external access to the inner function, ensuring data security and maintainability.  \n",
    "---\n",
    "##### ***Defining a Nested Function***\n",
    "```python\n",
    "# Outer function with parameter x\n",
    "def outer_function(x):\n",
    "    def inner_function(y): # Inner (nested) function with parameter y\n",
    "        return y + 1  # Adds 1 to the input value\n",
    "\n",
    "    return inner_function(x) + 1  # Calls inner_function and adds 1 to its result\n",
    "\n",
    "result = outer_function(5)\n",
    "print(result)  # Output: 7\n",
    "```"
   ]
  },
  {
   "cell_type": "code",
   "execution_count": 19,
   "id": "bbcad3ec",
   "metadata": {},
   "outputs": [
    {
     "name": "stdout",
     "output_type": "stream",
     "text": [
      "Hello, John Doe!\n"
     ]
    }
   ],
   "source": [
    "# Define an outer function that generates a greeting message\n",
    "def greet(name):\n",
    "    # Define a nested function to format the name properly\n",
    "    def format_name(n):\n",
    "        return n.title()  # Converts the name to title case\n",
    "\n",
    "    # Use the nested function to format the name and create a greeting message\n",
    "    return \"Hello, \" + format_name(name) + \"!\"\n",
    "\n",
    "# Call the function with a name and print the result\n",
    "print(greet(\"john doe\"))  # Outputs: Hello, John Doe!"
   ]
  }
 ],
 "metadata": {
  "kernelspec": {
   "display_name": "base",
   "language": "python",
   "name": "python3"
  },
  "language_info": {
   "codemirror_mode": {
    "name": "ipython",
    "version": 3
   },
   "file_extension": ".py",
   "mimetype": "text/x-python",
   "name": "python",
   "nbconvert_exporter": "python",
   "pygments_lexer": "ipython3",
   "version": "3.13.5"
  }
 },
 "nbformat": 4,
 "nbformat_minor": 5
}
