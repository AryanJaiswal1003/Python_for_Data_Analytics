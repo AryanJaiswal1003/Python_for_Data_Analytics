{
 "cells": [
  {
   "cell_type": "code",
   "execution_count": 10,
   "id": "1310989f",
   "metadata": {},
   "outputs": [],
   "source": [
    "# ------------------------------------------------ Advanced File Operations -----------------------------------------------\n",
    "## Contents:--\n",
    "    #-- Telling File Position --> .tell()\n",
    "    #-- Seeking File Position --> .seek()"
   ]
  },
  {
   "cell_type": "markdown",
   "id": "fd8ce361",
   "metadata": {},
   "source": [
    "### **Telling File Positions in Python**\n",
    "The **`.tell()`** method is used to determine the current position of the **file pointer** — the location (in bytes) where the next read or write operation will occur.  \n",
    "It’s a crucial tool for understanding how Python reads and writes data in files, especially when working with large or structured files.\n",
    "\n",
    "---\n",
    "##### ➡️ **Syntax**\n",
    "```python\n",
    "position = file.tell()\n",
    "```\n",
    "- `file` → The file object you are working with.\n",
    "- `position` → Returns the pointer’s current position (in bytes) from the beginning of the file.\n",
    "---\n",
    "##### ➡️ **Key Points**\n",
    "1. `.tell()` returns the current byte position from the start of the file.\n",
    "2. The file pointer moves automatically after every `.read()` or `.write()` operation.\n",
    "3. In append mode ('a'), the pointer always starts at the end of the file.\n",
    "4. `.tell()` is often paired with `.seek()` to navigate to specific positions efficiently. \n",
    "---\n",
    "##### ➡️ **Tip**: Use `.tell()` to:\n",
    "1. Track reading progress in large files.\n",
    "2. Debug and verify data-writing positions.\n",
    "3. Combine with `.seek()` for precise control over file navigation."
   ]
  },
  {
   "cell_type": "markdown",
   "id": "0fcee7fb",
   "metadata": {},
   "source": [
    "##### **Worked Example - Find File Cursor Position**"
   ]
  },
  {
   "cell_type": "code",
   "execution_count": 4,
   "id": "d173494f",
   "metadata": {},
   "outputs": [
    {
     "name": "stdout",
     "output_type": "stream",
     "text": [
      "43\n"
     ]
    }
   ],
   "source": [
    "def findPosition():\n",
    "    # Define the file path\n",
    "    filename = \"File Operations/products.txt\"\n",
    "\n",
    "    # Open the file in read mode\n",
    "    with open(filename, 'r', encoding='utf-8') as file:\n",
    "        # Read the first line (but do not store it)\n",
    "        file.read()\n",
    "\n",
    "        # Return the current file position after reading the first line\n",
    "        return file.tell()\n",
    "\n",
    "if __name__ == '__main__':\n",
    "    # Print the file position after reading the first line\n",
    "    print(findPosition())"
   ]
  },
  {
   "cell_type": "markdown",
   "id": "644c4433",
   "metadata": {},
   "source": [
    "##### ➡️ **Write and Track Position:** \n",
    "You need to open a text file in write mode, write data to it, and track the file pointer's position at different stages. The function should return a list of recorded positions."
   ]
  },
  {
   "cell_type": "code",
   "execution_count": 5,
   "id": "4604cad3",
   "metadata": {},
   "outputs": [
    {
     "name": "stdout",
     "output_type": "stream",
     "text": [
      "File positions tracked: [0, 15, 50]\n"
     ]
    }
   ],
   "source": [
    "def write_and_track_position():\n",
    "    filename = \"File Operations/products.txt\"\n",
    "    positions = []\n",
    "\n",
    "    with open(filename, \"w\") as file:\n",
    "        positions.append(file.tell())\n",
    "\n",
    "        file.write(\"Hello, World!\\n\")\n",
    "        positions.append(file.tell())\n",
    "\n",
    "        file.write(\"Tracking file position in Python.\\n\")\n",
    "        positions.append(file.tell())\n",
    "\n",
    "    return positions\n",
    "\n",
    "positions = write_and_track_position()\n",
    "print(\"File positions tracked:\", positions)"
   ]
  },
  {
   "cell_type": "markdown",
   "id": "9725bb29",
   "metadata": {},
   "source": [
    "### **Seeking File Positions in Python**\n",
    "The **`.seek()`** method allows you to **move the file pointer** to a specific location within a file. It’s especially useful when you want to **reread**, **overwrite**, or **skip** certain parts of a file without reopening it.\n",
    "\n",
    "---\n",
    "##### ➡️ **Syntax**\n",
    "```python\n",
    "file.seek(offset, whence)\n",
    "```\n",
    "1. `offset` → The number of bytes to move the pointer.\n",
    "2. `whence` (optional) → Defines from where the movement begins:\n",
    "    - `0` → from the start of the file (default)\n",
    "    - `1` → from the current position\n",
    "    - `2` → from the end of the file\n",
    "---\n",
    "##### ➡️ **Key Points**\n",
    "1. `.seek(0)` → moves the pointer to the start of the file.\n",
    "2. `.seek(file.tell())` → keeps the pointer at the current position.\n",
    "3. `.seek(0, 2)` → moves the pointer to the end of the file.\n",
    "4. Useful for random access, file rewinding, and custom data manipulation.\n",
    "5. Combine `.seek()` with `.tell()` for fine-grained control."
   ]
  },
  {
   "cell_type": "markdown",
   "id": "853c32b7",
   "metadata": {},
   "source": [
    "##### ✅ **Example** — Move to a Specific Position"
   ]
  },
  {
   "cell_type": "code",
   "execution_count": 8,
   "id": "fa24df0e",
   "metadata": {},
   "outputs": [
    {
     "name": "stdout",
     "output_type": "stream",
     "text": [
      "10\n"
     ]
    }
   ],
   "source": [
    "with open('File Operations/products.txt', 'r') as file:\n",
    "    file.seek(10)             # Move pointer to the 10th byte\n",
    "    position = file.tell()    # Check current pointer position\n",
    "    print(position)           # Output: 10"
   ]
  },
  {
   "cell_type": "code",
   "execution_count": 9,
   "id": "70f028e5",
   "metadata": {},
   "outputs": [
    {
     "name": "stdout",
     "output_type": "stream",
     "text": [
      "10\n"
     ]
    }
   ],
   "source": [
    "def findPosition():\n",
    "    filename = \"File Operations/products.txt\"\n",
    "\n",
    "    # Open the file in read mode\n",
    "    with open(filename, 'r') as file:\n",
    "        file.seek(10) # Move the file pointer to the 10th byte in the file\n",
    "\n",
    "        return file.tell() # Return the current file position after seeking\n",
    "\n",
    "print(findPosition())"
   ]
  }
 ],
 "metadata": {
  "kernelspec": {
   "display_name": "base",
   "language": "python",
   "name": "python3"
  },
  "language_info": {
   "codemirror_mode": {
    "name": "ipython",
    "version": 3
   },
   "file_extension": ".py",
   "mimetype": "text/x-python",
   "name": "python",
   "nbconvert_exporter": "python",
   "pygments_lexer": "ipython3",
   "version": "3.13.5"
  }
 },
 "nbformat": 4,
 "nbformat_minor": 5
}
