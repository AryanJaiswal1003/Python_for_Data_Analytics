{
 "cells": [
  {
   "cell_type": "code",
   "execution_count": 1,
   "id": "b3550bd9",
   "metadata": {},
   "outputs": [],
   "source": [
    "# ------------------------------------------------ Basic File Operations -----------------------------------------------\n",
    "## Contents:--\n",
    "    #-- Opening Files (read mode)\n",
    "    #-- With Statement Usage\n",
    "    #-- Reading Entire File\n",
    "    #-- Reading lines in a file\n",
    "    #-- Opening Files (write mode)\n",
    "    #-- Writing text to files\n",
    "    #-- Writing lines to files\n",
    "    #-- Opening and writing to files in append mode"
   ]
  },
  {
   "cell_type": "markdown",
   "id": "5b075863",
   "metadata": {},
   "source": [
    "### **Opening Files in Python (Read Mode)**\n",
    "Reading files in Python is a fundamental operation for accessing external data, such as text, lists, or configurations. Python provides the built-in `open()` function for this purpose.\n",
    "\n",
    "---\n",
    "##### ➡️ Syntax: `file = open('filename.txt', 'r')`\n",
    "- `'filename.txt'` → The name or path of the file to open.\n",
    "- `'r'` → Read mode, meaning the file is opened only for reading.\n",
    "---\n",
    "##### ➡️ Key Points:\n",
    "1. File must exist: Opening a non-existent file in read mode raises a FileNotFoundError.\n",
    "2. ile object: open() returns a file object that you can use to read contents.\n",
    "3. Close the file: Always close the file after operations to free resources: `file.close()`"
   ]
  },
  {
   "cell_type": "code",
   "execution_count": 25,
   "id": "61847b97",
   "metadata": {},
   "outputs": [
    {
     "name": "stdout",
     "output_type": "stream",
     "text": [
      "In a quiet village, old clockmaker Mr. Alwin filled his shop with ticking clocks. Each morning he whispered\n",
      "Keep time honest.One foggy evening, a boy named Leo brought in his stopped watch. Mr. Alwin whispered to it\n",
      "wound it gently, and it began ticking again. “Every clock has a heart,” he said. “You just have to remind it why it ticks.”\n"
     ]
    }
   ],
   "source": [
    "# Open the file in read mode\n",
    "file = open('File Operations/story.txt', 'r', encoding='utf-8')\n",
    "\n",
    "content = file.read() # Read and print contents\n",
    "print(content)\n",
    "\n",
    "file.close() # Close the file"
   ]
  },
  {
   "cell_type": "markdown",
   "id": "c9f4f8ad",
   "metadata": {},
   "source": [
    "##### **Example:** Display Favorite Genre"
   ]
  },
  {
   "cell_type": "code",
   "execution_count": 24,
   "id": "a7888d15",
   "metadata": {},
   "outputs": [
    {
     "name": "stdout",
     "output_type": "stream",
     "text": [
      "Beneath the silver evening sky,\n",
      "Dreams like fireflies drift and fly.\n",
      "Whispers dance through fields of gold,\n",
      "Tales of love and stars retold.\n"
     ]
    }
   ],
   "source": [
    "# Function to read file content based on user selection\n",
    "def openFileByChoice(user_choice):\n",
    "    \"\"\"\n",
    "    Reads and returns the selected file based on user input.\n",
    "    Args:\n",
    "        user_choice (int): The user's file selection choice.\n",
    "    Returns:\n",
    "        str: The file object or an error message if the choice is invalid.\n",
    "    \"\"\"\n",
    "    if user_choice == 1:\n",
    "        file = open('File Operations/story.txt', 'r', encoding='utf-8')\n",
    "        content = file.read()\n",
    "        return content\n",
    "\n",
    "    elif user_choice == 2:\n",
    "        file = open('File Operations/poem.txt', 'r', encoding='utf-8')\n",
    "        content = file.read()\n",
    "        return content\n",
    "\n",
    "    else:\n",
    "        return \"Invalid choice. Please select 1 or 2.\"\n",
    "\n",
    "# Get user input and ensure it's an integer\n",
    "user_choice = int(input(\"Select the file: \"))\n",
    "\n",
    "# Get and print file content\n",
    "file = openFileByChoice(user_choice)\n",
    "print(file)"
   ]
  },
  {
   "cell_type": "markdown",
   "id": "f8910a63",
   "metadata": {},
   "source": [
    "### **With Statement Usage in File Handling**\n",
    "The **`with` statement** in Python provides a **safe and efficient** way to handle files.  \n",
    "It ensures that the file is **automatically closed** after completing its operations — even if an error occurs during execution.\n",
    "\n",
    "---\n",
    "##### ➡️ **Syntax**\n",
    "```python\n",
    "with open('filename.txt', 'mode') as file:\n",
    "    # Perform file operations\n",
    "```\n",
    "- `filename.txt` → The name or path of the file to open.\n",
    "- `mode` → Defines how the file should be accessed (`'r'` for read, `'w'` for write, etc.).\n",
    "- `file` → A variable that represents the opened file object.\n",
    "---\n",
    "##### ✅ **Advantages of Using `with`:**\n",
    "1. No need to manually call `file.close()`.\n",
    "2. Prevents resource leaks.\n",
    "3. Improves code readability and safety."
   ]
  },
  {
   "cell_type": "code",
   "execution_count": 23,
   "id": "8eddd933",
   "metadata": {},
   "outputs": [
    {
     "name": "stdout",
     "output_type": "stream",
     "text": [
      "Beneath the silver evening sky,\n",
      "Dreams like fireflies drift and fly.\n",
      "Whispers dance through fields of gold,\n",
      "Tales of love and stars retold.\n"
     ]
    }
   ],
   "source": [
    "with open('File Operations/poem.txt', 'r', encoding='utf-8') as file:\n",
    "    content = file.read()\n",
    "    print(content)"
   ]
  },
  {
   "cell_type": "markdown",
   "id": "98b2d830",
   "metadata": {},
   "source": [
    "### **Reading Entire File**\n",
    "\n",
    "##### ➡️ **Key Considerations**\n",
    "- If the file does not exist, a `FileNotFoundError` will occur.\n",
    "- `.read()` reads the whole file at once, which may be inefficient for large files.\n",
    "- If the file is empty, the returned value will be an empty string (`''`).\n",
    "- Using the `with` statement is safer and more efficient, as it automatically closes the file after reading.\n",
    "---\n",
    "##### ➡️ **Syntax**\n",
    "##### **Method 1**: Using `open()` and `close()`"
   ]
  },
  {
   "cell_type": "code",
   "execution_count": 26,
   "id": "119b87ab",
   "metadata": {},
   "outputs": [
    {
     "name": "stdout",
     "output_type": "stream",
     "text": [
      "Beneath the silver evening sky,\n",
      "Dreams like fireflies drift and fly.\n",
      "Whispers dance through fields of gold,\n",
      "Tales of love and stars retold.\n"
     ]
    }
   ],
   "source": [
    "file = open('File Operations/poem.txt', 'r', encoding='utf-8')\n",
    "content = file.read()\n",
    "\n",
    "print(content)\n",
    "file.close()"
   ]
  },
  {
   "cell_type": "markdown",
   "id": "b2e36538",
   "metadata": {},
   "source": [
    "##### **Method 2**: Using the `with` statement (recommended)"
   ]
  },
  {
   "cell_type": "code",
   "execution_count": 27,
   "id": "bb417989",
   "metadata": {},
   "outputs": [
    {
     "name": "stdout",
     "output_type": "stream",
     "text": [
      "In a quiet village, old clockmaker Mr. Alwin filled his shop with ticking clocks. Each morning he whispered\n",
      "Keep time honest.One foggy evening, a boy named Leo brought in his stopped watch. Mr. Alwin whispered to it\n",
      "wound it gently, and it began ticking again. “Every clock has a heart,” he said. “You just have to remind it why it ticks.”\n"
     ]
    }
   ],
   "source": [
    "with open('File Operations/story.txt', 'r', encoding='utf-8') as file:\n",
    "    content = file.read()\n",
    "    print(content)"
   ]
  },
  {
   "cell_type": "code",
   "execution_count": 29,
   "id": "9e2067e6",
   "metadata": {},
   "outputs": [
    {
     "name": "stdout",
     "output_type": "stream",
     "text": [
      "1\n"
     ]
    }
   ],
   "source": [
    "# Count Character in File:\n",
    "def countCharacterInFile(special_character):\n",
    "    \"\"\"\n",
    "    Reads the content of the poem file and counts the occurrences of\n",
    "    the specified special_character (substring).\n",
    "\n",
    "    :param special_character: The character or substring to count in the file.\n",
    "    :return: The number of times the special_character appears in the file.\n",
    "    \"\"\"\n",
    "    with open('File Operations/poem.txt', 'r', encoding='utf-8') as file:\n",
    "        content = file.read()\n",
    "\n",
    "    return content.count(special_character)\n",
    "\n",
    "if __name__ == \"__main__\":\n",
    "    # Call the function to count occurrences of \"the\" in the file\n",
    "    character_count = countCharacterInFile(\"the\")\n",
    "\n",
    "    # Print the count of occurrences\n",
    "    print(character_count)"
   ]
  },
  {
   "cell_type": "markdown",
   "id": "cd906700",
   "metadata": {},
   "source": [
    "### **Reading Lines**\n",
    "Using the **`.readline()`** and **`.readlines()`** methods.  \n",
    "These methods are helpful when working with **structured data, logs**, or **large files**, where reading the entire content at once is not efficient.\n",
    "\n",
    "---\n",
    "##### ➡️ **Key Considerations**\n",
    "- If there are no more lines left, .readline() returns an empty string ('').\n",
    "- Each line returned includes the newline character (\\n) at the end.\n",
    "- Using with ensures that the file is automatically closed after reading."
   ]
  },
  {
   "cell_type": "markdown",
   "id": "98ccb3a5",
   "metadata": {},
   "source": [
    "##### **Method-1** --> Access the file using `open()` and `close()`"
   ]
  },
  {
   "cell_type": "code",
   "execution_count": 33,
   "id": "a3f979e3",
   "metadata": {},
   "outputs": [
    {
     "name": "stdout",
     "output_type": "stream",
     "text": [
      "Beneath the silver evening sky,\n",
      "\n",
      "['Dreams like fireflies drift and fly.\\n', 'Whispers dance through fields of gold,\\n', 'Tales of love and stars retold.']\n"
     ]
    }
   ],
   "source": [
    "file = open('File Operations/poem.txt', 'r', encoding='utf-8')\n",
    "\n",
    "line = file.readline() # reads only one line from the file and return a string.\n",
    "line_list = file.readlines()  # reads multiple lines from the file and returns a list of strings.\n",
    "\n",
    "print(line)\n",
    "print(line_list)\n",
    "file.close()"
   ]
  },
  {
   "cell_type": "markdown",
   "id": "acadd4c5",
   "metadata": {},
   "source": [
    "##### **Method-2** to access the file"
   ]
  },
  {
   "cell_type": "code",
   "execution_count": 34,
   "id": "181b85a3",
   "metadata": {},
   "outputs": [
    {
     "name": "stdout",
     "output_type": "stream",
     "text": [
      "Beneath the silver evening sky,\n",
      "\n",
      "['Dreams like fireflies drift and fly.\\n', 'Whispers dance through fields of gold,\\n', 'Tales of love and stars retold.']\n"
     ]
    }
   ],
   "source": [
    "with open('File Operations/poem.txt', 'r') as file:\n",
    "    line = file.readline() # reads only one line from the file and return a string.\n",
    "    line_list = file.readlines() #  reads multiple lines from the file and returns a list of strings.\n",
    "\n",
    "    print(line)\n",
    "    print(line_list)"
   ]
  },
  {
   "cell_type": "code",
   "execution_count": null,
   "id": "b6f3e562",
   "metadata": {},
   "outputs": [
    {
     "name": "stdout",
     "output_type": "stream",
     "text": [
      "['Beneath the silver evening sky,', 'Dreams like fireflies drift and fly.', 'Whispers dance through fields of gold,', 'Tales of love and stars retold.']\n"
     ]
    }
   ],
   "source": [
    "# Get Filtered Expenses List\n",
    "def get_expenses_list():\n",
    "\n",
    "    file_path = 'File Operations/poem.txt'\n",
    "\n",
    "    # Open the file in read mode and read all lines\n",
    "    with open(file_path, \"r\") as file:\n",
    "        expenses = file.readlines()\n",
    "\n",
    "    # Initialized an empty list to store filtered expenses\n",
    "    filtered_list = []\n",
    "\n",
    "    # Iterate through each expense and remove newline characters\n",
    "    for i in expenses:\n",
    "        words = i.strip(\"\\n\")\n",
    "        filtered_list.append(words)\n",
    "\n",
    "    # Return the cleaned list of expenses\n",
    "    return filtered_list\n",
    "\n",
    "print(get_expenses_list())"
   ]
  },
  {
   "cell_type": "markdown",
   "id": "e10646cf",
   "metadata": {},
   "source": [
    "### **Opening Files (Write Mode)** \n",
    "File operations are essential for **storing or modifying external data**, such as logs, reports, or configuration files.  \n",
    "\n",
    "##### ➡️ **Key Considerations**\n",
    "1. If the file does not exist, Python will create a new file automatically.\n",
    "2. If the file already exists, opening it in write mode will erase its previous contents.\n",
    "3. Always close the file after writing (if not using `with`) to free system resources.\n",
    "---\n",
    "##### **Method 1: Using `open()` and `close()`**"
   ]
  },
  {
   "cell_type": "code",
   "execution_count": 37,
   "id": "b8f4d11a",
   "metadata": {},
   "outputs": [],
   "source": [
    "file = open('File Operations/poem.txt', 'w')\n",
    "\n",
    "file.close() # Perform write operations"
   ]
  },
  {
   "cell_type": "markdown",
   "id": "1f864589",
   "metadata": {},
   "source": [
    "##### **Method 2**: Using `with` Statement (Recommended)"
   ]
  },
  {
   "cell_type": "code",
   "execution_count": 39,
   "id": "1c3b9162",
   "metadata": {},
   "outputs": [],
   "source": [
    "with open('File Operations/poem.txt', 'w') as file:\n",
    "    # Perform write operations\n",
    "    pass"
   ]
  },
  {
   "cell_type": "markdown",
   "id": "d6874b32",
   "metadata": {},
   "source": [
    "### **Writing Text to a File**\n",
    "Writing text to a file in Python allows you to save data permanently — such as logs, reports, or user input. Python makes this simple using the built-in `open()` function combined with the `.write()` method.\n",
    "\n",
    "---\n",
    "##### ⚠️ **Key Points**\n",
    "- Opening an existing file in `'w'` mode erases all previous data.\n",
    "- To append new data instead of overwriting, use `'a'` mode.\n",
    "- `.write()` does not add a newline (`\\n`) automatically — include it if needed.\n",
    "- Writing binary or non-text data requires `'wb'` mode (write binary)."
   ]
  },
  {
   "cell_type": "markdown",
   "id": "6fc0f610",
   "metadata": {},
   "source": [
    "##### **Method 1 — Manual Open and Close**"
   ]
  },
  {
   "cell_type": "code",
   "execution_count": 44,
   "id": "73a41f36",
   "metadata": {},
   "outputs": [],
   "source": [
    "file = open('filename.txt', 'w')\n",
    "\n",
    "file.write('Hello, World!')\n",
    "file.close()"
   ]
  },
  {
   "cell_type": "markdown",
   "id": "154a4292",
   "metadata": {},
   "source": [
    "##### **Method-2 — to write to the file**"
   ]
  },
  {
   "cell_type": "code",
   "execution_count": 1,
   "id": "562ca487",
   "metadata": {},
   "outputs": [],
   "source": [
    "with open('filename.txt', 'w') as file:\n",
    "   file.write('Hello, World!')"
   ]
  },
  {
   "cell_type": "code",
   "execution_count": 3,
   "id": "07a0edca",
   "metadata": {},
   "outputs": [],
   "source": [
    "# Save Product Names to File:\n",
    "def save_products(product_list):\n",
    "    \"\"\"\n",
    "    Saves the given list of products to the products file.\n",
    "\n",
    "    :param product_list: A string containing product names, each on a new line.\n",
    "    \"\"\"\n",
    "    with open(\"File Operations/products.txt\", 'w') as file:\n",
    "        file.write(product_list)\n",
    "\n",
    "\n",
    "if __name__ == '__main__':\n",
    "    # Define the product names as a multi-line string\n",
    "    products = \"\"\"\n",
    "    Wireless Earbuds\n",
    "    Smartwatch\n",
    "    Mechanical Keyboard\n",
    "    Portable Power Bank\n",
    "    Smart Home Security Camera\"\"\"\n",
    "\n",
    "# Call the function to save the products to the file\n",
    "save_products(products)"
   ]
  },
  {
   "cell_type": "markdown",
   "id": "fbfb5a24",
   "metadata": {},
   "source": [
    "### **Writing Multiple Lines to a File**\n",
    "When you need to write several lines of text to a file in Python, the `.writelines()` method is the most efficient choice.  \n",
    "Unlike `.write()`, which writes a single string, `.writelines()` takes an **iterable** (like a list or tuple) of strings and writes them all at once.\n",
    "\n",
    "---\n",
    "##### ⚠️ **Important Notes**\n",
    "1. `.writelines()` does not add newlines automatically — you must include `\\n` at the end of each line manually.\n",
    "2. Opening a file in `'w'` mode erases previous data, so use `'a'` mode if you want to append instead.\n",
    "3. Each element in the list must be a string — non-string data (like integers) will raise a `TypeError`.\n",
    "---\n",
    "##### **📘 Syntax**\n",
    "##### **Method 1** — `Manual Open and Close`"
   ]
  },
  {
   "cell_type": "code",
   "execution_count": 4,
   "id": "b6ccf11a",
   "metadata": {},
   "outputs": [],
   "source": [
    "file = open('File Operations/products.txt', 'w')\n",
    "\n",
    "file.writelines(['Line 1\\n', 'Line 2\\n', 'Line 3\\n'])\n",
    "file.close()"
   ]
  },
  {
   "cell_type": "markdown",
   "id": "fa355f1a",
   "metadata": {},
   "source": [
    "##### **Method 2** — Using `with` Statement (Recommended)"
   ]
  },
  {
   "cell_type": "code",
   "execution_count": 6,
   "id": "da90dad6",
   "metadata": {},
   "outputs": [],
   "source": [
    "with open('File Operations/products.txt', 'w') as file:\n",
    "    file.writelines(['Line 1\\n', 'Line 2\\n', 'Line 3\\n']) # .writelines() → Writes all the strings in the provided iterable exactly as given."
   ]
  },
  {
   "cell_type": "code",
   "execution_count": 11,
   "id": "69c5ef62",
   "metadata": {},
   "outputs": [],
   "source": [
    "def save_travel_list(travel_list):\n",
    "    \"\"\"\n",
    "    Saves the given travel list to the travel_list.txt file.\n",
    "\n",
    "    :param travel_list: A list of destination names, each as a separate string with a newline character.\n",
    "    \"\"\"\n",
    "    file_path = 'File Operations/products.txt'\n",
    "    with open(file_path, 'w') as file:\n",
    "        file.writelines(travel_list)\n",
    "\n",
    "if __name__ == '__main__':\n",
    "    # Define the travel list as a list of strings with newline characters\n",
    "    travel_list = [\"Paris\\n\", \"Tokyo\\n\", \"New York\\n\", \"Sydney\\n\", \"Rome\\n\"]\n",
    "\n",
    "# Call the function to save the travel list\n",
    "save_travel_list(travel_list)"
   ]
  },
  {
   "cell_type": "code",
   "execution_count": 16,
   "id": "bacdf4e2",
   "metadata": {},
   "outputs": [],
   "source": [
    "def save_statements_list(statements):\n",
    "\n",
    "    # Define the file path where statements will be saved\n",
    "    filename = 'File Operations/products.txt'\n",
    "\n",
    "    # Initialize an empty list to store filtered statements\n",
    "    filtered_statements = []\n",
    "\n",
    "    # -------Write code here----------\n",
    "    for word in statements:\n",
    "        if len(word) > 10:\n",
    "            filtered_statements.append(word + \"\\n\")\n",
    "    with open(filename, 'w') as file:\n",
    "        file.writelines(filtered_statements)\n",
    "\n",
    "if __name__ == \"__main__\":\n",
    "    # Define a list of statements\n",
    "    statements = [\"pomegranate\", \"Bananas\", \"Carrots\", \"Barak Obama\", \"Osama Bin Laden\"]\n",
    "\n",
    "# Call the function to save the statements list to a file\n",
    "save_statements_list(statements)"
   ]
  },
  {
   "cell_type": "markdown",
   "id": "3dafbb38",
   "metadata": {},
   "source": [
    "### **Opening Files in Append Mode**\n",
    "When you want to **add new data** to an existing file without erasing its current content, Python’s **append mode** (`'a'`) is the ideal choice.  \n",
    "It’s especially useful for logging, saving user inputs, or updating reports while preserving older information.\n",
    "\n",
    "---\n",
    "##### ⚠️ **Important Notes**\n",
    "- Existing content is preserved — new data is simply appended.\n",
    "- If the file does not exist, Python creates a new one automatically.\n",
    "- To separate new entries clearly, always add a newline (`\\n`) at the end of each write statement.\n",
    "- You can still use `.write()` or `.writelines()` just like in write mode.\n",
    "---\n",
    "##### 💡 **Tip**: Append mode is ideal for:\n",
    "1. Log files (adding new log entries)\n",
    "2. Data collection scripts\n",
    "3. Audit trails (recording actions over time)\n",
    "---\n",
    "##### **📘 Syntax**\n",
    "##### **Method 1 — Manual Open and Close**"
   ]
  },
  {
   "cell_type": "code",
   "execution_count": 13,
   "id": "7409fdf7",
   "metadata": {},
   "outputs": [],
   "source": [
    "file = open('filename.txt', 'a')"
   ]
  },
  {
   "cell_type": "markdown",
   "id": "828a3e03",
   "metadata": {},
   "source": [
    "##### **Method 2 — Using with Statement (Recommended)**"
   ]
  },
  {
   "cell_type": "code",
   "execution_count": 14,
   "id": "372b70fb",
   "metadata": {},
   "outputs": [],
   "source": [
    "with open('File Operations/products.txt', 'a') as file:\n",
    "    # Perform write operations\n",
    "    file.write(\"New data added.\\n\")"
   ]
  },
  {
   "cell_type": "code",
   "execution_count": 15,
   "id": "fc99f63f",
   "metadata": {},
   "outputs": [
    {
     "name": "stdout",
     "output_type": "stream",
     "text": [
      "File opened in read mode\n",
      "File opened in write mode\n",
      "File opened in append mode\n",
      "Invalid mode\n"
     ]
    }
   ],
   "source": [
    "# Open File in Specified Mode:\n",
    "def openFile(mode):\n",
    "    \"\"\"\n",
    "    Opens a file in the specified mode.\n",
    "    Parameters:\n",
    "    mode (str): The mode in which to open the file. Accepts 'r', 'w', or 'a'.\n",
    "    Returns:\n",
    "    str: A message indicating the file has been opened in the specified mode,\n",
    "         or an error message for an invalid mode.\n",
    "    \"\"\"\n",
    "    filepath =  'File Operations/products.txt'\n",
    "    if mode == 'r':\n",
    "        with open(filepath, 'r'):\n",
    "            return \"File opened in read mode\"\n",
    "    elif mode == 'w':\n",
    "        with open(filepath, 'w'):\n",
    "            return \"File opened in write mode\"\n",
    "    elif mode == 'a':\n",
    "        with open(filepath, 'a'):\n",
    "            return \"File opened in append mode\"\n",
    "    else:\n",
    "        return \"Invalid mode\"\n",
    "\n",
    "if __name__ == '__main__':\n",
    "    print(openFile('r'))\n",
    "    print(openFile('w'))\n",
    "    print(openFile('a'))\n",
    "    print(openFile('x'))  # This will return \"Invalid mode\""
   ]
  }
 ],
 "metadata": {
  "kernelspec": {
   "display_name": "base",
   "language": "python",
   "name": "python3"
  },
  "language_info": {
   "codemirror_mode": {
    "name": "ipython",
    "version": 3
   },
   "file_extension": ".py",
   "mimetype": "text/x-python",
   "name": "python",
   "nbconvert_exporter": "python",
   "pygments_lexer": "ipython3",
   "version": "3.13.5"
  }
 },
 "nbformat": 4,
 "nbformat_minor": 5
}
