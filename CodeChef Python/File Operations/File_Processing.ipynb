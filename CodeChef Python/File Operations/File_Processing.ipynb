{
 "cells": [
  {
   "cell_type": "code",
   "execution_count": null,
   "id": "f8781b7a",
   "metadata": {},
   "outputs": [],
   "source": [
    "# ------------------------------------------------ File Processing -----------------------------------------------\n",
    "## Contents:--\n",
    "    #--"
   ]
  },
  {
   "cell_type": "markdown",
   "id": "5e47946f",
   "metadata": {},
   "source": [
    "### **Reading CSV Files in Python**\n",
    "CSV (**Comma-Separated Values**) files are widely used to store **structured tabular data** in plain text form. Python’s built-in **`csv`** module provides an efficient and convenient way to read such files.\n",
    "\n",
    "---\n",
    "##### ➡️ **Key Points Before Reading**\n",
    "- The file **must exist**, or Python will raise a **`FileNotFoundError`**.  \n",
    "- **`csv.reader()`** reads each row as a **list of strings**.  \n",
    "- If the file uses a different delimiter (e.g., `;` or `|`), specify it using the **`delimiter`** parameter:  \n",
    "  ```python\n",
    "  csv.reader(file, delimiter=';')\n",
    "---\n",
    "##### ➡️ **Useful Notes**\n",
    "- Each `row` is a list of string values corresponding to one line in the CSV file.\n",
    "- The `csv` module handles commas, quotes, and escape characters automatically.\n",
    "- Use `encoding='utf-8'` in `open()` if your CSV contains special characters."
   ]
  },
  {
   "cell_type": "markdown",
   "id": "5a2c2acd",
   "metadata": {},
   "source": [
    "##### **Example 1**: Reading a CSV File"
   ]
  },
  {
   "cell_type": "code",
   "execution_count": 2,
   "id": "02a36263",
   "metadata": {},
   "outputs": [
    {
     "name": "stdout",
     "output_type": "stream",
     "text": [
      "['ID', 'Name', 'Age', 'Country', 'Salary']\n",
      "['1', 'Noah Miller', '22', 'France', '63885']\n",
      "['2', 'Olivia Novak', '42', 'China', '63639']\n",
      "['3', 'Emily Carter', '42', 'France', '57258']\n",
      "['4', 'John Smith', '34', 'China', '67929']\n",
      "['5', 'Olivia Novak', '38', 'USA', '63526']\n",
      "['6', 'Noah Miller', '48', 'Canada', '53065']\n",
      "['7', 'Olivia Novak', '47', 'France', '60960']\n",
      "['8', 'Noah Miller', '43', 'Italy', '65620']\n",
      "['9', 'Noah Miller', '27', 'Italy', '51826']\n",
      "['10', 'Arjun Patel', '24', 'Germany', '69213']\n"
     ]
    }
   ],
   "source": [
    "import csv\n",
    "\n",
    "with open('File Operations/random_data.csv', 'r') as file:\n",
    "    reader = csv.reader(file)\n",
    "\n",
    "    for row in reader:\n",
    "        print(row)"
   ]
  },
  {
   "cell_type": "markdown",
   "id": "d7f25278",
   "metadata": {},
   "source": [
    "##### ➡️ **Skipping the Header Row**: You can skip the first row (usually column names) using `next(reader)`"
   ]
  },
  {
   "cell_type": "code",
   "execution_count": 4,
   "id": "ac526989",
   "metadata": {},
   "outputs": [
    {
     "name": "stdout",
     "output_type": "stream",
     "text": [
      "['1', 'Noah Miller', '22', 'France', '63885']\n",
      "['2', 'Olivia Novak', '42', 'China', '63639']\n",
      "['3', 'Emily Carter', '42', 'France', '57258']\n",
      "['4', 'John Smith', '34', 'China', '67929']\n",
      "['5', 'Olivia Novak', '38', 'USA', '63526']\n",
      "['6', 'Noah Miller', '48', 'Canada', '53065']\n",
      "['7', 'Olivia Novak', '47', 'France', '60960']\n",
      "['8', 'Noah Miller', '43', 'Italy', '65620']\n",
      "['9', 'Noah Miller', '27', 'Italy', '51826']\n",
      "['10', 'Arjun Patel', '24', 'Germany', '69213']\n"
     ]
    }
   ],
   "source": [
    "import csv\n",
    "\n",
    "with open('File Operations/random_data.csv', 'r') as file:\n",
    "    reader = csv.reader(file)\n",
    "    next(reader)  # Skip the header row\n",
    "\n",
    "    for row in reader:\n",
    "        print(row)"
   ]
  },
  {
   "cell_type": "code",
   "execution_count": null,
   "id": "939d7fa2",
   "metadata": {},
   "outputs": [
    {
     "ename": "IndexError",
     "evalue": "string index out of range",
     "output_type": "error",
     "traceback": [
      "\u001b[1;31m---------------------------------------------------------------------------\u001b[0m",
      "\u001b[1;31mIndexError\u001b[0m                                Traceback (most recent call last)",
      "Cell \u001b[1;32mIn[4], line 14\u001b[0m\n\u001b[0;32m     11\u001b[0m             \u001b[38;5;28mprint\u001b[39m(\u001b[38;5;124mf\u001b[39m\u001b[38;5;124m\"\u001b[39m\u001b[38;5;124mName: \u001b[39m\u001b[38;5;132;01m{\u001b[39;00mrow[\u001b[38;5;241m1\u001b[39m]\u001b[38;5;132;01m}\u001b[39;00m\u001b[38;5;124m, Salary: \u001b[39m\u001b[38;5;132;01m{\u001b[39;00mrow[\u001b[38;5;241m4\u001b[39m]\u001b[38;5;132;01m}\u001b[39;00m\u001b[38;5;124m\"\u001b[39m)\n\u001b[0;32m     13\u001b[0m filename \u001b[38;5;241m=\u001b[39m \u001b[38;5;124m'\u001b[39m\u001b[38;5;124mFile Operations/random_data.csv\u001b[39m\u001b[38;5;124m'\u001b[39m  \u001b[38;5;66;03m# Update with the correct path\u001b[39;00m\n\u001b[1;32m---> 14\u001b[0m read_user_credentials(filename)\n",
      "Cell \u001b[1;32mIn[4], line 11\u001b[0m, in \u001b[0;36mread_user_credentials\u001b[1;34m(filename)\u001b[0m\n\u001b[0;32m      9\u001b[0m \u001b[38;5;66;03m# Iterate over each row and print formatted output\u001b[39;00m\n\u001b[0;32m     10\u001b[0m \u001b[38;5;28;01mfor\u001b[39;00m row \u001b[38;5;129;01min\u001b[39;00m headers:\n\u001b[1;32m---> 11\u001b[0m     \u001b[38;5;28mprint\u001b[39m(\u001b[38;5;124mf\u001b[39m\u001b[38;5;124m\"\u001b[39m\u001b[38;5;124mName: \u001b[39m\u001b[38;5;132;01m{\u001b[39;00mrow[\u001b[38;5;241m1\u001b[39m]\u001b[38;5;132;01m}\u001b[39;00m\u001b[38;5;124m, Salary: \u001b[39m\u001b[38;5;132;01m{\u001b[39;00mrow[\u001b[38;5;241m4\u001b[39m]\u001b[38;5;132;01m}\u001b[39;00m\u001b[38;5;124m\"\u001b[39m)\n",
      "\u001b[1;31mIndexError\u001b[0m: string index out of range"
     ]
    }
   ],
   "source": [
    "# Worked Example - Read User Credentials\n",
    "def read_user_credentials(filename):\n",
    "    \"\"\"Reads a CSV file and prints the username-password pairs.\"\"\"\n",
    "\n",
    "    with open(filename, 'r') as file:\n",
    "        reader = csv.reader(file)  # Create a CSV reader object\n",
    "        headers = next(reader)  # Skip the header row\n",
    "\n",
    "        # Iterate over each row and print formatted output\n",
    "        for row in reader:\n",
    "            print(f\"Name: {row[1]}, Salary: {row[4]}\")\n",
    "\n",
    "filename = 'File Operations/random_data.csv'  # Update with the correct path\n",
    "read_user_credentials(filename) # Call the function to read and print user credentials"
   ]
  },
  {
   "cell_type": "code",
   "execution_count": 2,
   "id": "198118ee",
   "metadata": {},
   "outputs": [
    {
     "name": "stdout",
     "output_type": "stream",
     "text": [
      "[['1', 'Noah Miller', '22', 'France', '63885'], ['2', 'Olivia Novak', '42', 'China', '63639'], ['3', 'Emily Carter', '42', 'France', '57258'], ['4', 'John Smith', '34', 'China', '67929'], ['5', 'Olivia Novak', '38', 'USA', '63526'], ['6', 'Noah Miller', '48', 'Canada', '53065'], ['7', 'Olivia Novak', '47', 'France', '60960'], ['8', 'Noah Miller', '43', 'Italy', '65620'], ['9', 'Noah Miller', '27', 'Italy', '51826'], ['10', 'Arjun Patel', '24', 'Germany', '69213']]\n"
     ]
    }
   ],
   "source": [
    "import csv\n",
    "\n",
    "def read_product_data(filename):\n",
    "    \"\"\"Reads a CSV file and prints product details.\"\"\"\n",
    "\n",
    "    with open(filename, 'r') as file:\n",
    "        reader =  csv.reader(file) # Create a CSV reader object\n",
    "        headers = next(reader)  # Skip the header row\n",
    "\n",
    "        product_list = []  # Initialize an empty list to store product data\n",
    "        for row in reader:\n",
    "            product_list.append(row)\n",
    "\n",
    "        return product_list  # Return the list of product details\n",
    "\n",
    "filename = 'File Operations/random_data.csv'  # Update with the correct path\n",
    "print(read_product_data(filename))"
   ]
  },
  {
   "cell_type": "code",
   "execution_count": 10,
   "id": "4703f554",
   "metadata": {},
   "outputs": [
    {
     "name": "stdout",
     "output_type": "stream",
     "text": [
      "[['Noah Miller', 1.2, 50], ['Olivia Novak', 0.5, 100], ['Emily Carter', 0.8, 60], ['John Smith', 2.5, 48], ['Olivia Novak', 4.0, 52], ['Noah Miller', 4.6, 31], ['Olivia Novak', 3.1, 29], ['Noah Miller', 2.7, 64], ['Noah Miller', 5.1, 75], ['Arjun Patel', 5.9, 95]]\n"
     ]
    }
   ],
   "source": [
    "import csv  # Import the csv module to handle CSV file operations\n",
    "\n",
    "def read_and_filter_products(filename, min_price):\n",
    "    \"\"\"Reads a CSV file and returns products with price greater than min_price as a 2D list.\"\"\"\n",
    "    with open(filename, 'r', newline='', encoding='utf-8') as file:\n",
    "        reader = csv.reader(file)\n",
    "        headers = next(reader)\n",
    "\n",
    "        filtered_products = []\n",
    "        for row in reader:\n",
    "            price = float(row[5])\n",
    "            stock = int(row[6])\n",
    "            name = row[1]\n",
    "\n",
    "            if price > min_price:\n",
    "                filtered_products.append([row[1], price, stock])\n",
    "    return filtered_products\n",
    "\n",
    "# Define the CSV file path\n",
    "filename = 'File Operations/random_data.csv'  # Update with the correct path\n",
    "\n",
    "# Call the function with filtering condition (e.g., min_price = 200)\n",
    "result = read_and_filter_products(filename, min_price=0.2)\n",
    "\n",
    "# Print the returned 2D list\n",
    "print(result)\n"
   ]
  },
  {
   "cell_type": "markdown",
   "id": "77497919",
   "metadata": {},
   "source": [
    "### **Writing CSV Files in Python**\n",
    "CSV (**Comma-Separated Values**) files provide a simple and portable way to store **structured data** in plain text form.  \n",
    "Python’s **`csv`** module offers efficient tools to create, modify, and append data to CSV files.\n",
    "\n",
    "---\n",
    "##### ➡️ **Key Modes for Writing**\n",
    "Before writing, ensure you open the file in the correct mode:\n",
    "- `'w'` → **Write mode**: Overwrites existing content or creates a new file.  \n",
    "- `'a'` → **Append mode**: Adds new data to the end without erasing existing content.\n",
    "- `newline = ''` → Prevents extra blank lines between rows (important for cross-platform compatibility).\n",
    "- `writer.writerow()` → Writes a single row of data.\n",
    "---\n",
    "##### ➡️ **Useful Notes**\n",
    "- Each row must be provided as a list or tuple of values.\n",
    "- Use `writer.writerows()` for writing multiple rows at once.\n",
    "- Always include `newline=''` in `open()` to avoid formatting issues.\n",
    "- If the file doesn’t exist, Python automatically creates it."
   ]
  },
  {
   "cell_type": "markdown",
   "id": "df08b06f",
   "metadata": {},
   "source": [
    "##### **Example: Writing a Single Row** --> `.writerow()`"
   ]
  },
  {
   "cell_type": "code",
   "execution_count": 11,
   "id": "4741c5c4",
   "metadata": {},
   "outputs": [],
   "source": [
    "with open('filename.csv', 'w', newline='') as file:\n",
    "    writer = csv.writer(file)\n",
    "    writer.writerow(['column1', 'column2', 'column3'])  # Write a single row"
   ]
  },
  {
   "cell_type": "markdown",
   "id": "87024a27",
   "metadata": {},
   "source": [
    "##### **Example: Writing Multiple Rows** --> `.writerows()`"
   ]
  },
  {
   "cell_type": "code",
   "execution_count": 13,
   "id": "32cb7727",
   "metadata": {},
   "outputs": [],
   "source": [
    "with open('filename.csv', 'w', newline='') as file:\n",
    "    writer = csv.writer(file)\n",
    "    writer.writerow(['Name', 'Age', 'City']) # Writing the header\n",
    "\n",
    "    # Writing multiple rows of data\n",
    "    writer.writerows([\n",
    "        ['Alice', 25, 'New York'],\n",
    "        ['Bob', 30, 'Los Angeles'],\n",
    "        ['Charlie', 22, 'Chicago']\n",
    "    ])"
   ]
  },
  {
   "cell_type": "code",
   "execution_count": 19,
   "id": "8e988afa",
   "metadata": {},
   "outputs": [
    {
     "name": "stdout",
     "output_type": "stream",
     "text": [
      "Filtered product data has been written to filename.csv.\n"
     ]
    }
   ],
   "source": [
    "def write_filtered_products(filename, products, min_price, excluded_category):\n",
    "    \"\"\"Writes only products with price >= min_price and category != excluded_category to a CSV file.\"\"\"\n",
    "\n",
    "    # Filter the products based on conditions\n",
    "    filtered_products = [\n",
    "        product for product in products if product[\"price\"] >= min_price and product[\"category\"] != excluded_category\n",
    "    ]\n",
    "\n",
    "    # Write to CSV file\n",
    "    with open(filename, 'w', newline='', encoding='utf-8') as file:\n",
    "        writer = csv.writer(file)  # Create a CSV writer object\n",
    "\n",
    "        # Write the header row\n",
    "        writer.writerow([\"Product Name\", \"Category\", \"Price\"])\n",
    "\n",
    "        # Write filtered product data\n",
    "        for product in filtered_products:\n",
    "            writer.writerow([product[\"name\"], product[\"category\"], product[\"price\"]])\n",
    "\n",
    "filename = \"filename.csv\"  # Update with the correct path\n",
    "\n",
    "# Sample product data (list of dictionaries)\n",
    "product_data = [\n",
    "    {\"name\": \"Laptop\", \"category\": \"Electronics\", \"price\": 900},\n",
    "    {\"name\": \"Smartphone\", \"category\": \"Electronics\", \"price\": 700},\n",
    "    {\"name\": \"Headphones\", \"category\": \"Accessories\", \"price\": 150},\n",
    "    {\"name\": \"Office Chair\", \"category\": \"Furniture\", \"price\": 300},\n",
    "    {\"name\": \"Coffee Maker\", \"category\": \"Appliances\", \"price\": 80},\n",
    "    {\"name\": \"Smartwatch\", \"category\": \"Wearables\", \"price\": 250},\n",
    "    {\"name\": \"Gaming Console\", \"category\": \"Entertainment\", \"price\": 500}\n",
    "]\n",
    "# Define filtering conditions\n",
    "min_price = 300  # Only products costing $300 or more\n",
    "excluded_category = \"Accessories\"  # Exclude all products in 'Accessories' category\n",
    "\n",
    "# Call the function to write filtered data to the file\n",
    "filtered_data = write_filtered_products(filename, product_data, min_price, excluded_category)\n",
    "print(f\"Filtered product data has been written to {filename}.\")"
   ]
  },
  {
   "cell_type": "markdown",
   "id": "4fe5e0df",
   "metadata": {},
   "source": [
    "### **Writing Text to a File**\n",
    "Writing text to a file in Python allows you to save data permanently — such as logs, reports, or user input.  \n",
    "Python makes this simple using the built-in `open()` function combined with the `.write()` method.\n",
    "\n",
    "---\n",
    "##### ➡️ **Key Points**\n",
    "1. Opening an existing file in `'w'` mode erases all previous data.\n",
    "2. To append new data instead of overwriting, use `'a'` mode.\n",
    "3. `.write()` does not add a newline (`\\n`) automatically — include it if needed.\n",
    "4. Writing binary or non-text data requires `'wb'` mode (write binary).\n",
    "5. For writing multiple lines easily, you can combine `.write() with loops` or use `.writelines()`\n",
    "---\n",
    "##### ➡️ **Syntax**"
   ]
  },
  {
   "cell_type": "markdown",
   "id": "0aefa9f6",
   "metadata": {},
   "source": [
    "##### **Method 1 — Manual Open and Close**"
   ]
  },
  {
   "cell_type": "code",
   "execution_count": 20,
   "id": "2be40a75",
   "metadata": {},
   "outputs": [],
   "source": [
    "file = open('filename.txt', 'w')\n",
    "file.write('Hello, World!')\n",
    "\n",
    "file.close()"
   ]
  },
  {
   "cell_type": "markdown",
   "id": "4c1f8d46",
   "metadata": {},
   "source": [
    "##### **Method 2 — Using `with` Statement (Recommended)**"
   ]
  },
  {
   "cell_type": "code",
   "execution_count": 22,
   "id": "ea510347",
   "metadata": {},
   "outputs": [],
   "source": [
    "lines = ['Apple\\n', 'Banana\\n', 'Cherry\\n']\n",
    "\n",
    "with open('filename.txt', 'w') as file:\n",
    "    file.write('Program started\\n')\n",
    "    file.write('All systems operational\\n')\n",
    "\n",
    "    file.writelines(lines)"
   ]
  },
  {
   "cell_type": "markdown",
   "id": "14386c3e",
   "metadata": {},
   "source": [
    "##### **Example: Display Employee Data from JSON**"
   ]
  },
  {
   "cell_type": "code",
   "execution_count": 23,
   "id": "f4a69ec4",
   "metadata": {},
   "outputs": [
    {
     "name": "stdout",
     "output_type": "stream",
     "text": [
      "{'employees': [{'name': 'Alice', 'position': 'Manager', 'salary': 75000}, {'name': 'Bob', 'position': 'Engineer', 'salary': 60000}, {'name': 'Charlie', 'position': 'HR', 'salary': 50000}]}\n"
     ]
    }
   ],
   "source": [
    "import json  # Import the JSON module to handle JSON file operations\n",
    "\n",
    "def read_employee_data(filename):\n",
    "    \"\"\"Reads employee data from a JSON file and returns it as a dictionary.\"\"\"\n",
    "\n",
    "    with open(filename, 'r') as file:\n",
    "        data = json.load(file)\n",
    "\n",
    "    return data\n",
    "\n",
    "# Define the JSON file path\n",
    "filename = \"filename.txt\"  # Update with the correct path\n",
    "employee_data = read_employee_data(filename) # Read and store the JSON data\n",
    "print(employee_data)"
   ]
  },
  {
   "cell_type": "code",
   "execution_count": 26,
   "id": "3d56b6e4",
   "metadata": {},
   "outputs": [
    {
     "name": "stdout",
     "output_type": "stream",
     "text": [
      "[{'id': 3, 'name': 'Charlie', 'salary': 75000}]\n"
     ]
    }
   ],
   "source": [
    "def read_employee_data(filename, min_salary):\n",
    "    \"\"\"Reads employee data from a JSON file and returns employees with salary above min_salary.\"\"\"\n",
    "    filtered_products = []\n",
    "    with open(filename, 'r') as file:\n",
    "        employees = json.load(file)\n",
    "\n",
    "    for employee in employees:\n",
    "        if employee['salary'] > min_salary:\n",
    "            filtered_products.append(employee)\n",
    "    return filtered_products\n",
    "\n",
    "filename = \"employees.json\"  # Update with the correct path\n",
    "\n",
    "# Read and filter employee data\n",
    "high_salary_employees = read_employee_data(filename, 70000)\n",
    "print(high_salary_employees)"
   ]
  },
  {
   "cell_type": "markdown",
   "id": "5cc1b0ba",
   "metadata": {},
   "source": [
    "### **JSON File Writing in Python**\n",
    "**JSON (JavaScript Object Notation)** is a lightweight, human-readable format for storing and exchanging structured data.  \n",
    "Python’s built-in **`json`** module allows easy conversion of Python objects into JSON files.\n",
    "\n",
    "---\n",
    "##### **🔹 Key Points**\n",
    "- Open the file in **write (`'w'`)** or **append (`'a'`)** mode before writing.\n",
    "- Use **`json.dump()`** to convert and write Python data into a JSON file.\n",
    "- Data must be **JSON-serializable** — i.e., consist of types like:\n",
    "  - Dictionaries (`dict`)\n",
    "  - Lists (`list`)\n",
    "  - Strings, numbers, booleans, or `None`.\n",
    "- The **`indent`** parameter improves readability by formatting JSON with spaces.\n",
    "---\n",
    "##### 🔹**Best Practices**\n",
    "- Always use `with open()` to ensure files close automatically.\n",
    "- Use `indent` or `sort_keys=True` for clean, organized JSON output.\n",
    "- Avoid non-serializable objects (like custom classes) unless explicitly converted."
   ]
  },
  {
   "cell_type": "markdown",
   "id": "a0e70adb",
   "metadata": {},
   "source": [
    "##### **🔹Syntax**\n",
    "```python\n",
    "import json\n",
    "\n",
    "with open('filename.json', 'w') as file:\n",
    "    json.dump(data, file, indent=4)\n",
    "```\n",
    "- `'filename.json'` → file to be created or overwritten.\n",
    "- `'w'` → write mode (erases existing content).\n",
    "- `json.dump(data, file, indent=4)` → writes structured data to file in readable JSON format."
   ]
  },
  {
   "cell_type": "code",
   "execution_count": 28,
   "id": "a213e578",
   "metadata": {},
   "outputs": [
    {
     "name": "stdout",
     "output_type": "stream",
     "text": [
      "Product data has been written to data.json.\n"
     ]
    }
   ],
   "source": [
    "import json\n",
    "\n",
    "def write_product_data(filename, products):\n",
    "    \"\"\"Writes product data to a JSON file.\"\"\"\n",
    "\n",
    "    with open(filename, 'w') as file:\n",
    "        json.dump(products, file, indent=4)  # Write JSON data with indentation for readability\n",
    "\n",
    "filename = \"data.json\"  # Update with the correct path\n",
    "\n",
    "product_data = [\n",
    "    {\"name\": \"Laptop\", \"category\": \"Electronics\", \"price\": 1200},\n",
    "    {\"name\": \"Phone\", \"category\": \"Electronics\", \"price\": 800},\n",
    "    {\"name\": \"Chair\", \"category\": \"Furniture\", \"price\": 150},\n",
    "    {\"name\": \"Book\", \"category\": \"Stationery\", \"price\": 20},\n",
    "    {\"name\": \"Headphones\", \"category\": \"Accessories\", \"price\": 100}\n",
    "]\n",
    "write_product_data(filename, product_data)\n",
    "print(f\"Product data has been written to {filename}.\")"
   ]
  },
  {
   "cell_type": "code",
   "execution_count": 29,
   "id": "6a6bdb22",
   "metadata": {},
   "outputs": [
    {
     "name": "stdout",
     "output_type": "stream",
     "text": [
      "Filtered employee data has been written to employees.json.\n"
     ]
    }
   ],
   "source": [
    "# Write Filtered Employees:\n",
    "\n",
    "def write_filtered_employees(filename, employees, min_salary):\n",
    "    \"\"\"Writes only employees with salary greater than or equal to min_salary to a JSON file.\"\"\"\n",
    "\n",
    "    filtered_employee = [\n",
    "        employee for employee in employees if employee['salary'] >= min_salary\n",
    "    ]\n",
    "    with open(filename, 'w') as file:\n",
    "        json.dump(filtered_employee, file, indent=4)\n",
    "\n",
    "    return filtered_employee\n",
    "\n",
    "filename = \"employees.json\"  # Update with the correct path\n",
    "\n",
    "employee_data = [\n",
    "    {\"name\": \"Alice Johnson\", \"department\": \"HR\", \"salary\": 60000},\n",
    "    {\"name\": \"Bob Smith\", \"department\": \"Engineering\", \"salary\": 80000},\n",
    "    {\"name\": \"Charlie Brown\", \"department\": \"Marketing\", \"salary\": 55000},\n",
    "    {\"name\": \"David White\", \"department\": \"Sales\", \"salary\": 62000},\n",
    "    {\"name\": \"Emma Green\", \"department\": \"Finance\", \"salary\": 75000}\n",
    "]\n",
    "\n",
    "# Define the salary threshold\n",
    "min_salary = 60000  # Only employees earning 60,000 or more will be saved\n",
    "filtered_data = write_filtered_employees(filename, employee_data, min_salary)\n",
    "print(f\"Filtered employee data has been written to {filename}.\")"
   ]
  },
  {
   "cell_type": "markdown",
   "id": "84888f9e",
   "metadata": {},
   "source": [
    "### **File Existence Check in Python**\n",
    "Before performing file operations, it’s good practice to verify whether the file actually exists.  \n",
    "Python’s built-in **`os`** module provides functions to check this safely and avoid runtime errors like **`FileNotFoundError`**.\n",
    "\n",
    "---\n",
    "##### **🔹 Key Functions**\n",
    "1. **`os.path.isfile(path)`**  \n",
    "   - Returns `True` if the given path refers to an existing **regular file**.  \n",
    "   - Returns `False` for directories or non-existent paths.  \n",
    "2. **`os.path.exists(path)`**  \n",
    "   - Returns `True` if the specified **file or directory** exists.  \n",
    "   - More general than `isfile()`, as it checks both files and folders.\n",
    "---\n",
    "##### 🔹**In summary**:\n",
    "1. `os.path.isfile()` → checks for files only.\n",
    "2. `os.path.exists()` → checks for both files and directories.\n",
    "3. Combine this with exception handling (`try-except`) for robust file management."
   ]
  },
  {
   "cell_type": "markdown",
   "id": "5fa48b4d",
   "metadata": {},
   "source": [
    "##### **Example: Checking File Existence**"
   ]
  },
  {
   "cell_type": "code",
   "execution_count": 30,
   "id": "e9e3271b",
   "metadata": {},
   "outputs": [
    {
     "name": "stdout",
     "output_type": "stream",
     "text": [
      "File exists and is a regular file.\n",
      "File or directory exists.\n"
     ]
    }
   ],
   "source": [
    "import os\n",
    "\n",
    "file_name = \"filename.txt\"\n",
    "\n",
    "if os.path.isfile(file_name): # Check if it is a file\n",
    "    print(\"File exists and is a regular file.\")\n",
    "else:\n",
    "    print(\"File does not exist or is not a regular file.\")\n",
    "\n",
    "# Check if it exists (file or directory)\n",
    "if os.path.exists(file_name):\n",
    "    print(\"File or directory exists.\")\n",
    "else:\n",
    "    print(\"File or directory does not exist.\")"
   ]
  },
  {
   "cell_type": "code",
   "execution_count": 32,
   "id": "ac2f3ba5",
   "metadata": {},
   "outputs": [
    {
     "name": "stdout",
     "output_type": "stream",
     "text": [
      "File exists. Content: {\n",
      "    \"employees\": [\n"
     ]
    }
   ],
   "source": [
    "import os\n",
    "\n",
    "def checkAndReadFile():\n",
    "    filename = \"filename.txt\"\n",
    "    try:\n",
    "        if os.path.exists(filename):\n",
    "            with open(filename, 'r') as file:\n",
    "                content = file.read(20)\n",
    "            return f\"File exists. Content: {content}\"\n",
    "        else:\n",
    "            return \"File does not exists.\"\n",
    "\n",
    "    except Exception as e:\n",
    "        return \"Error reading file: {e}\"\n",
    "\n",
    "print(checkAndReadFile())"
   ]
  },
  {
   "cell_type": "markdown",
   "id": "77c3dbb9",
   "metadata": {},
   "source": [
    "### **Directory Operations**\n",
    "Python’s **`os`** module provides functions for managing directories — checking their existence, creating new ones, and listing contents. These functions make file system operations efficient and error-free.\n",
    "\n",
    "---\n",
    "##### **1. Checking if a Directory Exists (`os.path.exists`) & `os.path.isdir()` to confirm it is a directory (not a file).**\n",
    "- The **`os.path.exists(directory_name)`** method returns `True` if the directory exists; otherwise, it returns `False`.  \n",
    "- This prevents errors when working with directories that may not exist."
   ]
  },
  {
   "cell_type": "code",
   "execution_count": 33,
   "id": "135a17a6",
   "metadata": {},
   "outputs": [
    {
     "name": "stdout",
     "output_type": "stream",
     "text": [
      "Directory does not exist.\n"
     ]
    }
   ],
   "source": [
    "import os\n",
    "\n",
    "directory = \"sample_dir\"\n",
    "\n",
    "if os.path.exists(directory):\n",
    "    print(\"Directory exists.\")\n",
    "else:\n",
    "    print(\"Directory does not exist.\")"
   ]
  },
  {
   "cell_type": "markdown",
   "id": "e948a2d8",
   "metadata": {},
   "source": [
    "##### 2. Creating a Directory (`os.mkdir`)\n",
    "- The `os.mkdir(directory_name)` method creates a new directory.\n",
    "- If it already exists, a `FileExistsError` is raised.\n",
    "- Use `os.makedirs()` to create nested directories."
   ]
  },
  {
   "cell_type": "code",
   "execution_count": 34,
   "id": "21bfe19a",
   "metadata": {},
   "outputs": [
    {
     "name": "stdout",
     "output_type": "stream",
     "text": [
      "Directory 'new_folder' created successfully.\n"
     ]
    }
   ],
   "source": [
    "import os\n",
    "\n",
    "directory = \"new_folder\"\n",
    "\n",
    "try:\n",
    "    os.mkdir(directory)\n",
    "    print(f\"Directory '{directory}' created successfully.\")\n",
    "except FileExistsError:\n",
    "    print(\"Directory already exists.\")"
   ]
  },
  {
   "cell_type": "markdown",
   "id": "336ef7e7",
   "metadata": {},
   "source": [
    "##### 3. Listing Directory Contents (`os.listdir`)\n",
    "- The `os.listdir(directory_name)` method returns a list of all files and folders in the specified directory.\n",
    "- It can be combined with `os.path` functions to distinguish files from folders."
   ]
  },
  {
   "cell_type": "code",
   "execution_count": 35,
   "id": "976fe31e",
   "metadata": {},
   "outputs": [
    {
     "name": "stdout",
     "output_type": "stream",
     "text": [
      "Contents: ['.vscode', 'Control_Flow', 'data.json', 'Dictionary and Sets', 'employees.json', 'Error_Handling', 'File Operations', 'filename.csv', 'filename.txt', 'Functions', 'Lists_&_Tuples', 'new_folder', 'User_Inputs', 'Variables, Data_types & Operators']\n"
     ]
    }
   ],
   "source": [
    "import os\n",
    "\n",
    "directory = \".\"\n",
    "\n",
    "files = os.listdir(directory)\n",
    "print(\"Contents:\", files)"
   ]
  },
  {
   "cell_type": "code",
   "execution_count": 36,
   "id": "4e0a961d",
   "metadata": {},
   "outputs": [
    {
     "name": "stdout",
     "output_type": "stream",
     "text": [
      "Directory already exists.\n"
     ]
    }
   ],
   "source": [
    "# Worked Example - Check and Create a Directory\n",
    "import os  # Import the os module for file and directory operations\n",
    "\n",
    "def checkAndCreateDirectory():\n",
    "    directory = \"/CodeChef Python/File Operations\" # Define the directory path\n",
    "\n",
    "    # Check if the directory does not exist\n",
    "    if not os.path.exists(directory):\n",
    "        os.makedirs(directory)  # Create the directory (including parent directories if needed)\n",
    "        return \"Directory created.\"\n",
    "    else:\n",
    "        return \"Directory already exists.\"\n",
    "\n",
    "print(checkAndCreateDirectory())"
   ]
  },
  {
   "cell_type": "code",
   "execution_count": 37,
   "id": "501cdff1",
   "metadata": {},
   "outputs": [
    {
     "name": "stdout",
     "output_type": "stream",
     "text": [
      "['Advanced_File_Operations.ipynb', 'Basic_File_Operations.ipynb', 'File_Processing.ipynb', 'products.txt', 'random_data.csv']\n"
     ]
    }
   ],
   "source": [
    "import os\n",
    "\n",
    "def listDirectoryContents():\n",
    "\n",
    "    directory = \"/CodeChef Python/File Operations\" # Define the directory path\n",
    "\n",
    "    # Check if the directory exists and is indeed a directory\n",
    "    if os.path.exists(directory) and os.path.isdir(directory):\n",
    "        files = os.listdir(directory)\n",
    "        # Complete code to list and return contents of the directory\n",
    "        return files\n",
    "    else:\n",
    "        return \"Directory does not exist.\"\n",
    "\n",
    "\n",
    "# Print the list of directory contents or an error message\n",
    "print(listDirectoryContents())"
   ]
  },
  {
   "cell_type": "code",
   "execution_count": 38,
   "id": "9de6f2c9",
   "metadata": {},
   "outputs": [
    {
     "name": "stdout",
     "output_type": "stream",
     "text": [
      "File exists in the directory.\n"
     ]
    }
   ],
   "source": [
    "# Check File in Directory:\n",
    "\n",
    "def checkFileInDirectory():\n",
    "    directory = \"/CodeChef Python/File Operations\"\n",
    "    filename = \"File_Processing.ipynb\"\n",
    "    filepath = os.path.join(directory, filename)\n",
    "\n",
    "    if os.path.isdir(directory):\n",
    "        if os.path.exists(filepath):\n",
    "            return \"File exists in the directory.\"\n",
    "        else:\n",
    "            return \"File does not exist in the directory.\"\n",
    "    else:\n",
    "        return \"Directory does not exist.\"\n",
    "\n",
    "print(checkFileInDirectory())"
   ]
  },
  {
   "cell_type": "markdown",
   "id": "c407afc2",
   "metadata": {},
   "source": [
    "### **File Copying**\n",
    "File copying is a key operation in file handling — useful for **backups**, **duplication**, or **moving files**.  \n",
    "Python simplifies this task using the **`shutil`** module.\n",
    "\n",
    "---\n",
    "##### **1. Overview**\n",
    "- **`shutil.copy(src, dest)`** copies a file from the source to the destination.  \n",
    "- If the destination file already exists, it **overwrites** it.  \n",
    "- If the source file does not exist, a **`FileNotFoundError`** occurs.  \n",
    "- The function **preserves file content but not metadata** (use `shutil.copy2()` to preserve metadata).\n",
    "---\n",
    "##### **2. Copying a File**"
   ]
  },
  {
   "cell_type": "code",
   "execution_count": 39,
   "id": "7dfb0d87",
   "metadata": {},
   "outputs": [
    {
     "name": "stdout",
     "output_type": "stream",
     "text": [
      "This is the source file.\n"
     ]
    }
   ],
   "source": [
    "import shutil\n",
    "\n",
    "with open('filename.txt', 'w') as file:\n",
    "    file.write(\"This is the source file.\")\n",
    "\n",
    "shutil.copy('filename.txt', 'copy.txt')\n",
    "\n",
    "with open('copy.txt', 'r') as file:\n",
    "    print(file.read())  # Output: This is the source file."
   ]
  },
  {
   "cell_type": "markdown",
   "id": "953ed115",
   "metadata": {},
   "source": [
    "##### **3. Copying a File to Another Directory**"
   ]
  },
  {
   "cell_type": "code",
   "execution_count": 41,
   "id": "3e38bd8e",
   "metadata": {},
   "outputs": [
    {
     "data": {
      "text/plain": [
       "'/CodeChef Python/File Operations\\\\filename.txt'"
      ]
     },
     "execution_count": 41,
     "metadata": {},
     "output_type": "execute_result"
    }
   ],
   "source": [
    "import shutil\n",
    "\n",
    "shutil.copy('filename.txt', \"/CodeChef Python/File Operations\")"
   ]
  },
  {
   "cell_type": "markdown",
   "id": "98cfb003",
   "metadata": {},
   "source": [
    "##### **4. Copying and Renaming a File**"
   ]
  },
  {
   "cell_type": "code",
   "execution_count": 42,
   "id": "7b51e14a",
   "metadata": {},
   "outputs": [
    {
     "data": {
      "text/plain": [
       "'new_file.txt'"
      ]
     },
     "execution_count": 42,
     "metadata": {},
     "output_type": "execute_result"
    }
   ],
   "source": [
    "import shutil\n",
    "\n",
    "shutil.copy('filename.txt', 'new_file.txt')"
   ]
  },
  {
   "cell_type": "markdown",
   "id": "a941e351",
   "metadata": {},
   "source": [
    "##### 🔹 **Worked Example - Copy Log File**"
   ]
  },
  {
   "cell_type": "code",
   "execution_count": 1,
   "id": "672d7aea",
   "metadata": {},
   "outputs": [
    {
     "name": "stdout",
     "output_type": "stream",
     "text": [
      "File copied successfully to backup_logs.\n"
     ]
    }
   ],
   "source": [
    "import shutil  # Import shutil for file operations\n",
    "import os  # Import os to check file existence\n",
    "\n",
    "def copy_log_file():\n",
    "    \"\"\"Copies server.log from logs directory to backup_logs directory.\"\"\"\n",
    "\n",
    "    source = \"filename.txt\"  # Source file path\n",
    "    destination = \"File Operations/filename.txt\"  # Destination path\n",
    "\n",
    "    # Check if the source file exists before copying\n",
    "    if not os.path.exists(source):\n",
    "        return \"Source file not found.\"\n",
    "\n",
    "    shutil.copy(source, destination) # Copy the file to the destination\n",
    "    return \"File copied successfully to backup_logs.\"\n",
    "\n",
    "print(copy_log_file())"
   ]
  },
  {
   "cell_type": "code",
   "execution_count": 1,
   "id": "449299c8",
   "metadata": {},
   "outputs": [
    {
     "name": "stdout",
     "output_type": "stream",
     "text": [
      "['ID,Name,Age,Country,Salary,Price,Stock', '1,Noah Miller,22,France,63885,1.2,50', '2,Olivia Novak,42,China,63639,0.5,100']\n"
     ]
    }
   ],
   "source": [
    "# Duplicating a Recipe File\n",
    "import shutil\n",
    "import os\n",
    "\n",
    "def copy_paste_data():\n",
    "    \"\"\"Copies user_data.csv and reads the first 3 lines from it.\"\"\"\n",
    "\n",
    "    source = \"random_data.csv\"\n",
    "    destination = \"File Operations/random_data.csv\"\n",
    "\n",
    "    if not os.path.exists(source):\n",
    "        return \"User file does not exists\"\n",
    "\n",
    "    shutil.copy(source, destination)\n",
    "    file_lines = []\n",
    "\n",
    "    with open(destination, 'r') as file:\n",
    "        for _ in range(3):\n",
    "            data = file.readline().strip()\n",
    "            if data:\n",
    "                file_lines.append(data)\n",
    "    return file_lines\n",
    "\n",
    "print(copy_paste_data())"
   ]
  },
  {
   "cell_type": "markdown",
   "id": "c4277565",
   "metadata": {},
   "source": [
    "### **File Moving**\n",
    "Moving files is a common operation used for **organizing directories**, **archiving data**, or **automating file management**.  \n",
    "Python’s **`shutil`** module provides an efficient and reliable way to move or rename files.\n",
    "\n",
    "---\n",
    "##### **1. Overview**\n",
    "- **`shutil.move(src, dest)`** moves a file from the **source path** to the **destination path**.  \n",
    "- If the destination already has a file with the same name, it will be **overwritten**.  \n",
    "- It works **across drives and file systems** automatically.  \n",
    "- The function can also **rename the file** during the move.\n",
    "---\n",
    "##### ⚠️ **Important Notes**\n",
    "- .writelines() does not add newlines automatically — you must include \\n at the end of each line manually.\n",
    "- Opening a file in 'w' mode erases previous data, so use 'a' mode if you want to append instead.\n",
    "- Each element in the list must be a string — non-string data (like integers) will raise a TypeError.\n",
    "---\n",
    "##### **2. Moving a File**"
   ]
  },
  {
   "cell_type": "code",
   "execution_count": 4,
   "id": "9ce7f216",
   "metadata": {},
   "outputs": [
    {
     "name": "stdout",
     "output_type": "stream",
     "text": [
      "This file will be moved.\n"
     ]
    }
   ],
   "source": [
    "import shutil\n",
    "\n",
    "# Create a sample file\n",
    "with open('example.txt', 'w') as file:\n",
    "    file.write(\"This file will be moved.\")\n",
    "\n",
    "# Move the file to a new location\n",
    "shutil.move('example.txt', 'File Operations/example_moved.txt')\n",
    "\n",
    "# Verify the move\n",
    "with open('File Operations/example_moved.txt', 'r') as file:\n",
    "    print(file.read())  # Output: This file will be moved."
   ]
  },
  {
   "cell_type": "markdown",
   "id": "a625549c",
   "metadata": {},
   "source": [
    "##### **3. Renaming While Moving**"
   ]
  },
  {
   "cell_type": "code",
   "execution_count": 5,
   "id": "430f10c3",
   "metadata": {},
   "outputs": [
    {
     "data": {
      "text/plain": [
       "'File Operations/renamed_file.txt'"
      ]
     },
     "execution_count": 5,
     "metadata": {},
     "output_type": "execute_result"
    }
   ],
   "source": [
    "import shutil\n",
    "\n",
    "shutil.move('File Operations/example_moved.txt', 'File Operations/renamed_file.txt')"
   ]
  },
  {
   "cell_type": "code",
   "execution_count": 6,
   "id": "d58561c3",
   "metadata": {},
   "outputs": [
    {
     "name": "stdout",
     "output_type": "stream",
     "text": [
      "Log file moved successfully.\n"
     ]
    }
   ],
   "source": [
    "# Worked Example - Move Log File\n",
    "import shutil\n",
    "import os\n",
    "\n",
    "def move_log_file():\n",
    "    \"\"\"Moves server.log from logs directory to archive_logs directory.\"\"\"\n",
    "\n",
    "    source = \"random_data.csv\"  # Source file path\n",
    "    destination = \"File Operations/random_data.csv\"  # Destination path\n",
    "\n",
    "    # Check if source file exists before moving\n",
    "    if not os.path.exists(source):\n",
    "        return \"Error: Log file not found.\"\n",
    "\n",
    "    shutil.move(source, destination)\n",
    "    return \"Log file moved successfully.\"\n",
    "\n",
    "print(move_log_file())"
   ]
  },
  {
   "cell_type": "markdown",
   "id": "948ae8d9",
   "metadata": {},
   "source": [
    "### **File Deletion**\n",
    "Deleting files is a vital part of **file management**, particularly for cleaning up storage, removing temporary data, or managing outdated files.  \n",
    "Python offers several safe and efficient methods through the **`os`** and **`shutil`** modules.\n",
    "\n",
    "---\n",
    "##### **🔹Use:**\n",
    "- **os.remove()** → for deleting files\n",
    "- **os.rmdir()** → for empty directories\n",
    "- **shutil.rmtree()** → for directories containing files\n",
    "---\n",
    "##### **1. Overview**\n",
    "- `os.remove(file_path)` → Deletes a single file.  \n",
    "- `os.rmdir(dir_path)` → Deletes an **empty** directory.  \n",
    "- `shutil.rmtree(dir_path)` → Deletes a **non-empty** directory (with all its contents).  \n",
    "- Always **check existence** before deletion to avoid `FileNotFoundError`.  \n",
    "- Deleted files cannot be recovered unless you’ve created a backup.\n",
    "---\n",
    "##### **2. Deleting a File**"
   ]
  },
  {
   "cell_type": "code",
   "execution_count": 7,
   "id": "c50871ef",
   "metadata": {},
   "outputs": [
    {
     "name": "stdout",
     "output_type": "stream",
     "text": [
      "File deleted successfully!\n"
     ]
    }
   ],
   "source": [
    "import os\n",
    "\n",
    "# Create a file for demonstration\n",
    "with open('sample.txt', 'w') as file:\n",
    "    file.write(\"This file will be deleted.\")\n",
    "\n",
    "# Delete the file\n",
    "os.remove('sample.txt')\n",
    "\n",
    "print(\"File deleted successfully!\")"
   ]
  },
  {
   "cell_type": "markdown",
   "id": "221e09e4",
   "metadata": {},
   "source": [
    "##### **3. Deleting an Empty Directory**"
   ]
  },
  {
   "cell_type": "code",
   "execution_count": 11,
   "id": "7c6bad00",
   "metadata": {},
   "outputs": [],
   "source": [
    "import os\n",
    "\n",
    "os.rmdir('/CODECHEF PYTHON/empty_folder')"
   ]
  },
  {
   "cell_type": "markdown",
   "id": "99281879",
   "metadata": {},
   "source": [
    "##### **4. Deleting a Non-Empty Directory**"
   ]
  },
  {
   "cell_type": "code",
   "execution_count": 12,
   "id": "59720695",
   "metadata": {},
   "outputs": [],
   "source": [
    "import shutil\n",
    "\n",
    "shutil.rmtree('/CodeChef Python/file operations/folder_to_delete')"
   ]
  },
  {
   "cell_type": "code",
   "execution_count": null,
   "id": "6c00e13d",
   "metadata": {},
   "outputs": [
    {
     "name": "stdout",
     "output_type": "stream",
     "text": [
      "File deleted successfully.\n"
     ]
    }
   ],
   "source": [
    "# Worked Example - Delete a Temporary Log File\n",
    "import os  # Import os for file operations\n",
    "\n",
    "def delete_file():\n",
    "    \"\"\"Deletes log.txt from temp_logs folder.\"\"\"\n",
    "\n",
    "    file_path = \"/CodeChef Python/log.txt\"  # File to be deleted\n",
    "\n",
    "    # Check if the file exists before deleting\n",
    "    if not os.path.exists(file_path):\n",
    "        return \"File not found.\"\n",
    "\n",
    "    os.remove(file_path) # Delete the file\n",
    "    return \"File deleted successfully.\"\n",
    "\n",
    "print(delete_file())"
   ]
  }
 ],
 "metadata": {
  "kernelspec": {
   "display_name": "base",
   "language": "python",
   "name": "python3"
  },
  "language_info": {
   "codemirror_mode": {
    "name": "ipython",
    "version": 3
   },
   "file_extension": ".py",
   "mimetype": "text/x-python",
   "name": "python",
   "nbconvert_exporter": "python",
   "pygments_lexer": "ipython3",
   "version": "3.13.5"
  }
 },
 "nbformat": 4,
 "nbformat_minor": 5
}
