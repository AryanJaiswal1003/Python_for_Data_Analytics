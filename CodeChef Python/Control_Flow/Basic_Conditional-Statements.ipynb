{
 "cells": [
  {
   "cell_type": "code",
   "execution_count": 2,
   "id": "6d91b37c",
   "metadata": {},
   "outputs": [],
   "source": [
    "# ------------------------------------------------ Basics Conditional Statements -------------------------------------------------\n",
    "## Contents:\n",
    "    #-- Simple if Statement Structure\n",
    "    #-- if-else Statement Structure\n",
    "    #-- Comparison with Equal (==)\n",
    "    #-- Comparison with Not Equal (!=)\n",
    "    #-- Multiple Conditions with 'and'\n",
    "    #-- Multiple Conditions with 'or'"
   ]
  },
  {
   "cell_type": "code",
   "execution_count": null,
   "id": "0310f85e",
   "metadata": {},
   "outputs": [
    {
     "name": "stdout",
     "output_type": "stream",
     "text": [
      "You are an adult!\n"
     ]
    }
   ],
   "source": [
    "# ------------------------------------------------ Simple if Statement Structure -------------------------------------------------\n",
    "\n",
    "\"\"\"The if statement is a fundamental part of programming that allows you to make decisions in your code. An if statement allows you\n",
    "    to run specific code only if a condition is true. If the condition is false, it simply skips the block of code.\"\"\"\n",
    "\n",
    "\"\"\"\n",
    "    if condition:\n",
    "        # code to execute if condition is true\n",
    "        pass\n",
    "\"\"\"\n",
    "    # --> if keyword: Evaluate a condition and decide what to do next.\n",
    "    # --> condition: It evaluates to either True or False. If it's True, the code inside the if block will run.\n",
    "    # --> colon: Tells Python, \"The block of code for this condition starts here.\"\n",
    "\n",
    "age = 18\n",
    "if age >= 18:\n",
    "    print(\"You are an adult!\")"
   ]
  },
  {
   "cell_type": "code",
   "execution_count": 8,
   "id": "907d8c85",
   "metadata": {},
   "outputs": [
    {
     "name": "stdout",
     "output_type": "stream",
     "text": [
      "You are an adult.\n"
     ]
    }
   ],
   "source": [
    "# ------------------------------------------------ if-else Statement Structure -------------------------------------------------\n",
    "\n",
    "\"\"\" The if-else statement allows you to execute different blocks of code based on certain conditions. An if-else statement consists\n",
    "      of two main parts: the 'if' part and the 'else' part. The 'if' part checks a condition, and if that condition is true, the code\n",
    "            within the 'if' block runs. If the condition is false, the code within the 'else' block runs instead.\"\"\"\n",
    "\n",
    "\"\"\"\n",
    "    if condition:\n",
    "        # Code to execute if the condition is true\n",
    "    else:\n",
    "        # Code to execute if the condition is false\n",
    "\"\"\"\n",
    "# ---------------------------------------------------------------------------------------------------------------------------------\n",
    "age = 18\n",
    "\n",
    "if age >= 18:\n",
    "    print(\"You are an adult.\")\n",
    "else:\n",
    "    print(\"You are a minor.\")"
   ]
  },
  {
   "cell_type": "code",
   "execution_count": 9,
   "id": "d915c81e",
   "metadata": {},
   "outputs": [
    {
     "name": "stdout",
     "output_type": "stream",
     "text": [
      "True\n",
      "False\n",
      "True\n"
     ]
    }
   ],
   "source": [
    "# ------------------------------------------------ Comparison with Equal (==) -------------------------------------------------\n",
    "\n",
    "\"\"\"The == operator is used to check if two values are equal. It compares the value on the left with the value on the right.\n",
    "        If the values are the same, it returns True; if they are not, it returns False.\"\"\"\n",
    "\n",
    "# 1. Example of Equality Check with Numbers:\n",
    "result = (5 == 5)\n",
    "print(result)  # This will output: True\n",
    "\n",
    "# ---------------------------------------------------------------------------------------------------------------------------------\n",
    "# 2. Comparing Strings: We can use the == operator not just with numbers, but also with strings, lists, and other data types.\n",
    "result = (\"hello\" == \"Hello\")\n",
    "print(result)  # This will output: False\n",
    "\n",
    "# ---------------------------------------------------------------------------------------------------------------------------------\n",
    "# 3. Comparing Integers and Floats: Integers and floats with the same numeric value are equal.\n",
    "result = (3.0 == 3)\n",
    "print(result)  # This will output: True"
   ]
  },
  {
   "cell_type": "code",
   "execution_count": 10,
   "id": "9858761a",
   "metadata": {},
   "outputs": [
    {
     "data": {
      "text/plain": [
       "'!=: This operator is used to compare two values and check if they are not equal to each other. If the values on either side\\n       of the != operator are not the same, the expression evaluates to True; otherwise, it evaluates to False.'"
      ]
     },
     "execution_count": 10,
     "metadata": {},
     "output_type": "execute_result"
    }
   ],
   "source": [
    "# ------------------------------------------------ Comparison with Not Equal (!=) -------------------------------------------------\n",
    "\n",
    "\"\"\"!=: This operator is used to compare two values and check if they are not equal to each other. If the values on either side\n",
    "       of the != operator are not the same, the expression evaluates to True; otherwise, it evaluates to False.\"\"\"\n",
    "\n",
    "# Syntax of the != operator:    value1 != value2\n",
    "\n",
    "# For example:\n",
    "    # If we have 5 != 3, this means \"5 is not equal to 3\", which is True.\n",
    "    # If we have 10 != 10, this means \"10 is not equal to 10\", which is False."
   ]
  },
  {
   "cell_type": "code",
   "execution_count": 12,
   "id": "e6e2cad6",
   "metadata": {},
   "outputs": [
    {
     "name": "stdout",
     "output_type": "stream",
     "text": [
      "True\n",
      "False\n",
      "You are eligible to drive.\n"
     ]
    }
   ],
   "source": [
    "# ------------------------------------------------ Multiple Conditions with and -------------------------------------------------\n",
    "\n",
    "# Multiple conditions with the \"and\" keyword combine conditions as it allows us to make more complex decisions in our programs.\n",
    "\n",
    "# 1.1. Example 1: Both Conditions are True\n",
    "print(5 > 3 and 8 > 6)  # Output: True\n",
    "\n",
    "# ---------------------------------------------------------------------------------------------------------------------------------\n",
    "# 1.2. Example 2: One Condition is False\n",
    "print(5 > 10 and 8 > 6)  # Output: False\n",
    "\n",
    "# ---------------------------------------------------------------------------------------------------------------------------------\n",
    "# 2. Using the and Operator in Conditional Statements:\n",
    "age = 25\n",
    "has_license = True # Define whether the person has a driving license (True or False)\n",
    "\n",
    "if age >= 18 and has_license:\n",
    "    print(\"You are eligible to drive.\")\n",
    "else:\n",
    "    # If any condition is not met, print ineligibility message\n",
    "    print(\"You are not eligible to drive.\")"
   ]
  },
  {
   "cell_type": "code",
   "execution_count": 13,
   "id": "4e9aea21",
   "metadata": {},
   "outputs": [
    {
     "name": "stdout",
     "output_type": "stream",
     "text": [
      "True\n",
      "True\n",
      "The number is either less than 10 or greater than 50.\n"
     ]
    }
   ],
   "source": [
    "# ------------------------------------------------ Multiple Conditions with or -------------------------------------------------\n",
    "\n",
    "\"\"\"Multiple conditions with the logical operator or, allows us to combine multiple conditions in such a way that if at least one of\n",
    "    the conditions is true, the entire expression evaluates to true.\"\"\"\n",
    "\n",
    "# 1.1. Conditions with Integers:\n",
    "a = 15\n",
    "b = 5\n",
    "c = 25\n",
    "\n",
    "result = (a > 10 or b < 10 or c > 20)\n",
    "print(result)  # This will output: True\n",
    "\n",
    "# ---------------------------------------------------------------------------------------------------------------------------------\n",
    "# 1.2. Conditions with Variables:\n",
    "x = 10\n",
    "y = 20\n",
    "\n",
    "result = x < 20 or y <= 10\n",
    "print(result)  # This will output: True\n",
    "\n",
    "# ---------------------------------------------------------------------------------------------------------------------------------\n",
    "# 2. Using the or Operator in Conditional Statements:\n",
    "number = 5\n",
    "\n",
    "if number < 10 or number > 50:\n",
    "    print(\"The number is either less than 10 or greater than 50.\")\n",
    "else:\n",
    "    # If the condition is false, print that the number is within the specified range\n",
    "    print(\"The number is between 10 and 50.\")"
   ]
  }
 ],
 "metadata": {
  "kernelspec": {
   "display_name": "base",
   "language": "python",
   "name": "python3"
  },
  "language_info": {
   "codemirror_mode": {
    "name": "ipython",
    "version": 3
   },
   "file_extension": ".py",
   "mimetype": "text/x-python",
   "name": "python",
   "nbconvert_exporter": "python",
   "pygments_lexer": "ipython3",
   "version": "3.13.5"
  }
 },
 "nbformat": 4,
 "nbformat_minor": 5
}
