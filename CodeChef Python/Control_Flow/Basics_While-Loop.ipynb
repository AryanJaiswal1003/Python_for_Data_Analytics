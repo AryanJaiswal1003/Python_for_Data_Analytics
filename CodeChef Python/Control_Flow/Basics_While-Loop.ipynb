{
 "cells": [
  {
   "cell_type": "code",
   "execution_count": null,
   "id": "b6ed74c7",
   "metadata": {},
   "outputs": [],
   "source": [
    "# ------------------------------------------------ Basics While Loops -------------------------------------------------\n",
    "## Contents:\n",
    "    #-- While Loop Structure\n",
    "    #-- While with multiple conditions\n",
    "    #-- Infinite loops\n",
    "    #-- Break statement\n",
    "    #-- Continue statement\n",
    "    #-- While-else statement"
   ]
  },
  {
   "cell_type": "code",
   "execution_count": null,
   "id": "57f850e9",
   "metadata": {},
   "outputs": [
    {
     "name": "stdout",
     "output_type": "stream",
     "text": [
      "Time remaining:2 seconds\n",
      "Time remaining:1 seconds\n",
      "Time remaining:0 seconds\n",
      "Workout complete! Great job!\n"
     ]
    }
   ],
   "source": [
    "# ------------------------------------------------ While Loop Structure -------------------------------------------------\n",
    "\n",
    "\"\"\"The while loop in Python is used to execute a block of code repeatedly as long as a specified condition remains True. It is\n",
    "        useful when the number of iterations is not known in advance.\"\"\"\n",
    "\n",
    "# Syntax:\n",
    "\"\"\"\n",
    "    while condition:\n",
    "        # Code to execute\n",
    "    The loop continues until the condition becomes False.\n",
    "\"\"\"\n",
    "\n",
    "# ---------------------------------------------------------------------------------------------------------------------------------\n",
    "# Example - 1 Workout Timer Countdown:\n",
    "workout_time = int(input())\n",
    "\n",
    "while workout_time >= 0:\n",
    "    print(f\"Time remaining:{workout_time} seconds\")\n",
    "    workout_time -= 1\n",
    "print(\"Workout complete! Great job!\")"
   ]
  },
  {
   "cell_type": "code",
   "execution_count": 2,
   "id": "d0fe68e5",
   "metadata": {},
   "outputs": [
    {
     "name": "stdout",
     "output_type": "stream",
     "text": [
      "a: 2, b: 3\n",
      "a: 4, b: 6\n",
      "a: 6, b: 9\n",
      "a: 8, b: 12\n",
      "Loop finished!\n",
      "Booking successful! Tickets left:1\n",
      "Booking successful! Tickets left:0\n",
      "Booking successful! Tickets left:-1\n",
      "Tickets are sold out!\n"
     ]
    }
   ],
   "source": [
    "# ------------------------------------------------ While with Multiple Conditions -------------------------------------------------\n",
    "\n",
    "\"\"\"A while loop with multiple conditions ensures that the loop continues running only as long as all specified conditions are met.\n",
    "        This is useful when multiple constraints must be satisfied before terminating the loop.\"\"\"\n",
    "\n",
    "# Example - 1:\n",
    "a, b = 2, 3\n",
    "\n",
    "while a < 10 and b < 15:\n",
    "    print(f\"a: {a}, b: {b}\")\n",
    "    a += 2  # Increase a by 2\n",
    "    b += 3  # Increase b by 3\n",
    "\n",
    "print(\"Loop finished!\")\n",
    "\n",
    "# ---------------------------------------------------------------------------------------------------------------------------------\n",
    "# Example - 2: Movie Ticket Booking System\n",
    "\"\"\"A movie theater has a limited number of tickets available for a show. A customer must be 18 years old or older to book a ticket.\n",
    "        The system should allow users to book tickets until no tickets are left, checking for eligibility and age requirements at each step.\"\"\"\n",
    "\n",
    "# Take user input for available tickets and customer's age\n",
    "available_tickets = int(input(\"Available_Tickets: \"))\n",
    "customer_age = int(input(\"Please enter your Age: \"))\n",
    "\n",
    "# Check if there are no tickets available or if the customer is under 18\n",
    "if available_tickets == 0:\n",
    "    print(\"No tickets available.\")\n",
    "elif customer_age < 18:\n",
    "    print(\"You must be 18 or older to book a ticket.\")\n",
    "else:\n",
    "    while available_tickets >= 0 and customer_age >= 18:\n",
    "        print(f\"Booking successful! Tickets left:{available_tickets - 1}\")\n",
    "        available_tickets -= 1\n",
    "    print(\"Tickets are sold out!\")"
   ]
  },
  {
   "cell_type": "code",
   "execution_count": null,
   "id": "be5d4845",
   "metadata": {},
   "outputs": [
    {
     "data": {
      "text/plain": [
       "'\\n# Example --> This loop will run forever because \\'i\\' is never updated.\\ni = 1\\n\\nwhile i > 0:\\n    print(\"Infinite loop!\")\\n'"
      ]
     },
     "execution_count": 2,
     "metadata": {},
     "output_type": "execute_result"
    }
   ],
   "source": [
    "# ------------------------------------------------ Infinite Loops -------------------------------------------------\n",
    "\"\"\"An infinite loop occurs when a while loop’s termination condition is never met, causing the loop to run indefinitely. This\n",
    "    usually happens when the variables involved in the loop condition are not updated correctly, or when the condition is inherently\n",
    "        always True.\"\"\"\n",
    "\n",
    "\"\"\"\n",
    "# Example --> This loop will run forever because 'i' is never updated.\n",
    "i = 1\n",
    "while i > 0:\n",
    "    print(\"Infinite loop!\")\n",
    "\"\"\""
   ]
  },
  {
   "cell_type": "code",
   "execution_count": 4,
   "id": "e95b2fb4",
   "metadata": {},
   "outputs": [
    {
     "name": "stdout",
     "output_type": "stream",
     "text": [
      "1\n",
      "2\n",
      "3\n",
      "4\n",
      "Withdrawal of 200 is successful!\n"
     ]
    }
   ],
   "source": [
    "# ------------------------------------------------ Break Statement -------------------------------------------------\n",
    "\"\"\"The break statement in a while loop is used to immediately exit the loop, even if the loop condition is\n",
    "        still True. Once break is executed, the program jumps to the next statement outside the loop.\"\"\"\n",
    "\n",
    "\"\"\"\n",
    "while condition:\n",
    "    if exit_condition:\n",
    "        break  # Terminates the loop\n",
    "    # Code to execute\n",
    "\"\"\"\n",
    "\n",
    "# ---------------------------------------------------------------------------------------------------------------------------------\n",
    "# Example: Stop the loop when i reaches 4\n",
    "i = 1\n",
    "\n",
    "while i <= 10:\n",
    "    print(i)\n",
    "    if i == 4:  # Break the loop when i is 4\n",
    "        break\n",
    "    i += 1  # Increment i\n",
    "\n",
    "# ---------------------------------------------------------------------------------------------------------------------------------\n",
    "# Example: ATM Withdrawal System:\n",
    "while True:\n",
    "    amount = int(input(\"Enter the Amount: \"))\n",
    "\n",
    "    # Check if the amount is a multiple of 100\n",
    "    code = f\"Withdrawal of {amount} is successful!\" if amount % 100 == 0 else \"Invalid amount. Please enter a multiple of 100.\"\n",
    "    print(code)\n",
    "\n",
    "    if amount % 100 == 0:\n",
    "        break"
   ]
  },
  {
   "cell_type": "code",
   "execution_count": 6,
   "id": "5616c4ce",
   "metadata": {},
   "outputs": [
    {
     "name": "stdout",
     "output_type": "stream",
     "text": [
      "Training session on Day 1\n",
      "Training session on Day 2\n",
      "Training session on Day 4\n",
      "Training session on Day 5\n"
     ]
    }
   ],
   "source": [
    "# ------------------------------------------------ Continue Statement -------------------------------------------------\n",
    "\"\"\"The continue statement in a while loop skips the rest of the current iteration and moves to the next iteration without executing\n",
    "        the remaining code inside the loop. This is useful for skipping specific conditions while keeping the loop running.\"\"\"\n",
    "\n",
    "# Example: Skip printing 3 while counting from 1 to 5\n",
    "# Step 1: Initialize a counter variable for the training days\n",
    "day_num = 1\n",
    "\n",
    "while day_num <= 5:\n",
    "    if day_num == 3: # Skip Wednesday (Day 3)\n",
    "        day_num += 1  # Move to the next day before skipping\n",
    "        continue\n",
    "\n",
    "    print(f\"Training session on Day {day_num}\")\n",
    "    day_num += 1"
   ]
  },
  {
   "cell_type": "code",
   "execution_count": 10,
   "id": "a825ee12",
   "metadata": {},
   "outputs": [
    {
     "name": "stdout",
     "output_type": "stream",
     "text": [
      "Machine log: 8 is a multiple of 4\n",
      "Machine log: 4 is a multiple of 4\n",
      "Shutdown complete. Maintenance started.\n",
      "1\n",
      "2\n"
     ]
    }
   ],
   "source": [
    "# ------------------------------------------------ While-Else Statement -------------------------------------------------\n",
    "\n",
    "\"\"\"In Python, a while loop can have an else block, which executes once when the loop condition becomes False. However, if the loop\n",
    "        is exited using break, the else block does not execute.\"\"\"\n",
    "\n",
    "# 1. Normal Execution of else\n",
    "start_time = int(input(\"Enter Start Time: \"))\n",
    "\n",
    "while start_time >= 1:\n",
    "    if start_time % 4 == 0:\n",
    "        print(f\"Machine log: {start_time} is a multiple of 4\")\n",
    "    start_time -= 1\n",
    "\n",
    "else:\n",
    "    print(\"Shutdown complete. Maintenance started.\")\n",
    "\n",
    "# ---------------------------------------------------------------------------------------------------------------------------------\n",
    "# 2. 'else' Does Not Execute When 'break' is Used\n",
    "i = 1\n",
    "\n",
    "while i <= 3:\n",
    "    print(i)\n",
    "    if i == 2:\n",
    "        break  # Exits the loop before completion\n",
    "    i += 1\n",
    "else:\n",
    "    print(\"Loop completed successfully\")  # This will NOT execute"
   ]
  }
 ],
 "metadata": {
  "kernelspec": {
   "display_name": "base",
   "language": "python",
   "name": "python3"
  },
  "language_info": {
   "codemirror_mode": {
    "name": "ipython",
    "version": 3
   },
   "file_extension": ".py",
   "mimetype": "text/x-python",
   "name": "python",
   "nbconvert_exporter": "python",
   "pygments_lexer": "ipython3",
   "version": "3.13.5"
  }
 },
 "nbformat": 4,
 "nbformat_minor": 5
}
