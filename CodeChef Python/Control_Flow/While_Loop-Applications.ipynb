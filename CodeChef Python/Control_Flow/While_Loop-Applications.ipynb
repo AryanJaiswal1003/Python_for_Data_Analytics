{
 "cells": [
  {
   "cell_type": "code",
   "execution_count": 1,
   "id": "4a517a4e",
   "metadata": {},
   "outputs": [],
   "source": [
    "# ------------------------------------------------ While Loops Applications -------------------------------------------------\n",
    "## Contents:\n",
    "    #-- Input Validation Loops\n",
    "    #-- Accumulator pattern\n",
    "    #-- Flag controlled loop\n",
    "    #-- Nested while loops\n",
    "    #-- Pattern printing\n",
    "    #-- Number series generation\n",
    "    #-- String processing loops"
   ]
  },
  {
   "cell_type": "code",
   "execution_count": 2,
   "id": "a5368859",
   "metadata": {},
   "outputs": [
    {
     "name": "stdout",
     "output_type": "stream",
     "text": [
      "You entered a valid number: 30\n"
     ]
    }
   ],
   "source": [
    "# ------------------------------------------------ Input Validation Loops -------------------------------------------------\n",
    "\n",
    "\"\"\"An input validation loop in a while loop is a technique to ensure that the program receives valid user input. The loop repeatedly\n",
    "        prompts the user until the input meets the required conditions, helping prevent errors and ensuring reliable data for further processing.\"\"\"\n",
    "\n",
    "# Predefined valid range for the input\n",
    "valid_min = 1\n",
    "valid_max = 50\n",
    "\n",
    "# Prompt the user to enter a number between 1 and 50\n",
    "user_input = input(\"Enter a number between 1 and 50: \")\n",
    "\n",
    "# While loop to validate the input:\n",
    "# - Check if the input is all digits (i.e., an integer)\n",
    "# - Check if the integer is within the predefined valid range\n",
    "while not user_input.isdigit() or not (valid_min <= int(user_input) <= valid_max):\n",
    "    print(\"Invalid input! Please enter a number between 1 and 50.\")\n",
    "\n",
    "    user_input = input(\"Enter a number between 1 and 50: \")\n",
    "\n",
    "# Convert the validated input into an integer\n",
    "number = int(user_input)\n",
    "\n",
    "# Print the valid number using an f-string\n",
    "print(f\"You entered a valid number: {number}\")"
   ]
  },
  {
   "cell_type": "code",
   "execution_count": 4,
   "id": "f5e863de",
   "metadata": {},
   "outputs": [
    {
     "name": "stdout",
     "output_type": "stream",
     "text": [
      "Invalid input! Please enter a non-negative even number.\n",
      "You entered: 0\n"
     ]
    }
   ],
   "source": [
    "# Checking for Non-Negative Even Number:\n",
    "user_input = input(\"Enter a Number: \")\n",
    "\n",
    "while not user_input.isdigit() or int(user_input) < 0 or int(user_input) % 2 != 0:\n",
    "    print(\"Invalid input! Please enter a non-negative even number.\")\n",
    "    user_input = input()\n",
    "\n",
    "number = int(user_input)\n",
    "print(f\"You entered: {number}\")"
   ]
  },
  {
   "cell_type": "code",
   "execution_count": 6,
   "id": "1c987425",
   "metadata": {},
   "outputs": [
    {
     "name": "stdout",
     "output_type": "stream",
     "text": [
      "The sum of numbers from 1 to 10 is: 55\n"
     ]
    }
   ],
   "source": [
    "# ------------------------------------------------ Accumulator Pattern -------------------------------------------------\n",
    "\n",
    "\"\"\"The accumulator pattern in a while loop is used to build up (or accumulate) a result over several iterations. In this pattern, you\n",
    "        initialize an accumulator variable (often a number, string, or collection) and update it in each iteration of the loop until a\n",
    "                specified condition is met.\n",
    "\n",
    "        This technique is widely used for tasks like summing numbers, concatenating strings, or aggregating data.\"\"\"\n",
    "\n",
    "# Example: Summing Numbers from 1 to n: -\n",
    "n = 10                # Predefined value: sum numbers from 1 to 10\n",
    "total = 0             # Initialize accumulator for the sum\n",
    "counter = 1           # Initialize counter\n",
    "\n",
    "while counter <= n:   # Loop runs from 1 to n (inclusive)\n",
    "    total += counter   # Add the current number to the total\n",
    "    counter += 1              # Increment the counter by 1\n",
    "\n",
    "print(f\"The sum of numbers from 1 to {n} is: {total}\")"
   ]
  },
  {
   "cell_type": "code",
   "execution_count": 8,
   "id": "53cc6add",
   "metadata": {},
   "outputs": [
    {
     "name": "stdout",
     "output_type": "stream",
     "text": [
      "Invalid input. Please enter a valid number.\n",
      "Total even numbers entered: 1\n"
     ]
    }
   ],
   "source": [
    "# Counting Even Numbers:\n",
    "even_count = 0 # Initialize accumulator variable\n",
    "\n",
    "while True:\n",
    "    num = input(\"Enter Numbers: \").strip()  # Remove extra spaces\n",
    "\n",
    "    if not num.isdigit():\n",
    "        print(\"Invalid input. Please enter a valid number.\")\n",
    "        continue\n",
    "\n",
    "    num = int(num)\n",
    "\n",
    "    if num % 2 == 0 and num != 0:\n",
    "        even_count += 1\n",
    "\n",
    "    if num == 0:\n",
    "        break\n",
    "\n",
    "print(f\"Total even numbers entered: {even_count}\") # Display total even numbers entered"
   ]
  },
  {
   "cell_type": "code",
   "execution_count": 12,
   "id": "e986de28",
   "metadata": {},
   "outputs": [
    {
     "name": "stdout",
     "output_type": "stream",
     "text": [
      "The value of a: 4\n",
      "The value of a: 5\n",
      "The value of a: 6\n",
      "The value of a: 7\n",
      "The value of a: 8\n",
      "The value of a: 9\n",
      "The loop has ended.\n"
     ]
    }
   ],
   "source": [
    "# ------------------------------------------------ Flag Controlled Loop -------------------------------------------------\n",
    "\n",
    "\"\"\"A flag controlled loop in a while loop uses a boolean variable (the flag) to determine when the loop should continue or stop. In\n",
    "        this approach, the flag is initialized before the loop starts, and its value is updated within the loop based on certain conditions.\n",
    "                When the flag becomes False, the loop terminates.\n",
    "\n",
    "    This pattern is especially useful when the termination condition involves multiple criteria or complex logic that is best evaluated\n",
    "            inside the loop body.\"\"\"\n",
    "\n",
    "# Example:\n",
    "flag = True  # Initialize the flag\n",
    "a, b = 4, 10\n",
    "\n",
    "while flag:  # The loop runs as long as flag is True\n",
    "    if a == b:\n",
    "        print(\"The loop has ended.\")\n",
    "        flag = False\n",
    "\n",
    "    if a < b:\n",
    "        print(f\"The value of a: {a}\")\n",
    "        a+=1"
   ]
  },
  {
   "cell_type": "code",
   "execution_count": 14,
   "id": "e340633e",
   "metadata": {},
   "outputs": [
    {
     "name": "stdout",
     "output_type": "stream",
     "text": [
      "Product 'Potato' recorded.\n",
      "Product 'Tomato' recorded.\n",
      "Product 'Quinoa' recorded.\n",
      "Product 'Soyabean' recorded.\n",
      "Exiting product input loop...\n",
      "Inventory input complete.\n"
     ]
    }
   ],
   "source": [
    "# Retail Store Inventory System:\n",
    "collecting = True\n",
    "\n",
    "while collecting:\n",
    "    product = input(\"Enter the Product Name / Input 'STOP' to Exit: \").strip() # Prompt the user to enter a product name or 'stop' to finish\n",
    "\n",
    "    if product.lower() == \"stop\":\n",
    "        collecting = False  # Update the flag to stop the loop\n",
    "        print(\"Exiting product input loop...\")\n",
    "\n",
    "    else:\n",
    "        print(f\"Product '{product}' recorded.\")\n",
    "\n",
    "print(\"Inventory input complete.\") # Step 4: Print the final message after the loop has terminated\n"
   ]
  },
  {
   "cell_type": "code",
   "execution_count": null,
   "id": "d3e0813a",
   "metadata": {},
   "outputs": [
    {
     "name": "stdout",
     "output_type": "stream",
     "text": [
      "(1,1) (1,2) (1,3) (1,4) \n",
      "(2,1) (2,2) (2,3) (2,4) \n",
      "(3,1) (3,2) (3,3) (3,4) \n"
     ]
    }
   ],
   "source": [
    "# ------------------------------------------------ Nested While Loops -------------------------------------------------\n",
    "\n",
    "\"\"\"A nested while loop is a loop placed inside another while loop. This structure enables you to perform repeated tasks at multiple\n",
    "        levels of iteration, which is useful for processing multidimensional data, generating patterns, and handling complex repetitive tasks.\"\"\"\n",
    "\n",
    "# Example: Printing a 4X4 Grid:\n",
    "\n",
    "# Total number of rows and columns\n",
    "total_rows = 3\n",
    "total_cols = 4\n",
    "\n",
    "row = 1 # Initialize the row counter\n",
    "\n",
    "while row <= total_rows: # Outer loop for rows\n",
    "    col = 1\n",
    "\n",
    "    while col <= total_cols: # Inner loop for columns\n",
    "        print(f\"({row},{col})\", end=\" \")\n",
    "        col += 1  # Increment the column counter\n",
    "\n",
    "    print() # Moves to the next line\n",
    "    row += 1  # Increment the row counter"
   ]
  },
  {
   "cell_type": "code",
   "execution_count": 18,
   "id": "f2793a6c",
   "metadata": {},
   "outputs": [
    {
     "name": "stdout",
     "output_type": "stream",
     "text": [
      "Floor 1 - Room 1 | Floor 1 - Room 2 | \n",
      "Floor 2 - Room 1 | Floor 2 - Room 2 | \n",
      "Floor 3 - Room 1 | Floor 3 - Room 2 | \n"
     ]
    }
   ],
   "source": [
    "# Building Management System:\n",
    "floor_number = 1\n",
    "\n",
    "while floor_number <= 3:\n",
    "    room_number = 1\n",
    "\n",
    "    while room_number <= 2:\n",
    "        print(f\"Floor {floor_number} - Room {room_number}\", end=\" | \")\n",
    "        room_number += 1\n",
    "\n",
    "    print()\n",
    "    floor_number += 1"
   ]
  },
  {
   "cell_type": "code",
   "execution_count": 21,
   "id": "ba0df4e8",
   "metadata": {},
   "outputs": [
    {
     "name": "stdout",
     "output_type": "stream",
     "text": [
      "Multiplication Table for 2\n",
      "2 X 1 = 2\n",
      "2 X 2 = 4\n",
      "2 X 3 = 6\n",
      "\n",
      "Multiplication Table for 3\n",
      "3 X 1 = 3\n",
      "3 X 2 = 6\n",
      "3 X 3 = 9\n",
      "\n",
      "Multiplication Table for 4\n",
      "4 X 1 = 4\n",
      "4 X 2 = 8\n",
      "4 X 3 = 12\n",
      "\n"
     ]
    }
   ],
   "source": [
    "\"\"\" ****** Generate Multiplication Tables: ******\n",
    "## Three positive integers:\n",
    "    -- start: The beginning of the range for the multiplication tables.\n",
    "    -- end: The end of the range for the multiplication tables.\n",
    "    -- limit: The maximum multiplier for the tables.\"\"\"\n",
    "\n",
    "start = int(input(\"Enter the Starting Number: \"))\n",
    "end = int(input(\"Enter the Ending Number: \"))\n",
    "limit = int(input(\"Enter the Limit: \"))\n",
    "\n",
    "if start <= 0 or end <= 0 or limit <= 0 or start > end: # Validate input: Ensuring start is less than or equal to end & all values are positive\n",
    "    print(\"Invalid input.\")\n",
    "\n",
    "else:\n",
    "    while start <= end: # Outer loop for generating tables from 'start' to 'end'\n",
    "        num = 1\n",
    "        print(f\"Multiplication Table for {start}\")\n",
    "\n",
    "        while num <= limit:  # Inner loop for printing multiplication results up to 'limit'\n",
    "            print(f\"{start} X {num} = {start * num}\")\n",
    "            num += 1\n",
    "\n",
    "        print()\n",
    "        start += 1"
   ]
  },
  {
   "cell_type": "code",
   "execution_count": 22,
   "id": "eb2db84d",
   "metadata": {},
   "outputs": [
    {
     "name": "stdout",
     "output_type": "stream",
     "text": [
      "********\n",
      " ******\n",
      "  ****\n",
      "   **\n",
      "   **\n",
      "  ****\n",
      " ******\n",
      "********\n"
     ]
    }
   ],
   "source": [
    "\"\"\" ***** Hourglass Star Pattern *****\n",
    "    -- You are creating a program to generate an hourglass-shaped star pattern based on user input. The user enters a positive integer\n",
    "            (n) representing the height of the upper half. The program uses nested while loops to print the pattern symmetrically.\"\"\"\n",
    "\n",
    "n = int(input(\"Enter the Height for the Upper Half: \")) # user input for the height of the upper half\n",
    "\n",
    "if n <= 0: # Validate input\n",
    "    print(\"Invalid input. Please enter a positive integer.\")\n",
    "\n",
    "else:\n",
    "    row = n\n",
    "    while row > 0: # Upper half\n",
    "        stars = row * 2\n",
    "        spaces = n - row\n",
    "\n",
    "        print(' ' * spaces + '*' * stars)\n",
    "        row -= 1\n",
    "\n",
    "    row = 1\n",
    "    while row <= n: # Lower half\n",
    "        stars = row * 2\n",
    "        spaces = n - row\n",
    "\n",
    "        print(' ' * spaces + '*' * stars)\n",
    "        row += 1"
   ]
  },
  {
   "cell_type": "code",
   "execution_count": 24,
   "id": "59c73431",
   "metadata": {},
   "outputs": [
    {
     "name": "stdout",
     "output_type": "stream",
     "text": [
      "2\n",
      "4\n",
      "6\n",
      "8\n",
      "10\n",
      "End of Solution.\n",
      "\n",
      "10\n",
      "20\n",
      "30\n",
      "40\n",
      "50\n"
     ]
    }
   ],
   "source": [
    "# ------------------------------------------------ Number Series Generation -------------------------------------------------\n",
    "\n",
    "\"\"\"Number series generation using a while loop is a method to create sequences of numbers by repeatedly updating a variable until a\n",
    "        specified condition is met. This technique is useful for producing arithmetic progressions, custom numerical sequences, and controlled\n",
    "                iterations.\"\"\"\n",
    "\n",
    "# Example 1: Generating an Arithmetic Series (Even Numbers)\n",
    "num = 2  # Starting from 2\n",
    "\n",
    "while num <= 10:  # Continue until num exceeds 10\n",
    "    print(num)  # Print the current even number\n",
    "    num += 2  # Increment num by 2\n",
    "print(\"End of Solution.\\n\")\n",
    "\n",
    "# ---------------------------------------------------------------------------------------------------------------------------------\n",
    "# Example 2: Generating a Multiples Series:\n",
    "num = 1  # Start with 1\n",
    "\n",
    "while num <= 5:  # Continue until num exceeds 5\n",
    "    print(num * 10)  # Print the multiple of 10 corresponding to num\n",
    "    num += 1  # Increment num by 1"
   ]
  },
  {
   "cell_type": "code",
   "execution_count": 25,
   "id": "a43a2ff2",
   "metadata": {},
   "outputs": [
    {
     "name": "stdout",
     "output_type": "stream",
     "text": [
      "Current User Count: 10\n",
      "Current User Count: 20\n",
      "Current User Count: 40\n",
      "Current User Count: 80\n",
      "Target Exceeded. Growth simulation completed!\n"
     ]
    }
   ],
   "source": [
    "# ****** Doubling User Count Series Generation: ******\n",
    "\"\"\"Input Format:\n",
    "    --> Two positive integers:\n",
    "        -- initial_count: The starting number of users.\n",
    "        -- target_count: The target number of users to reach.\"\"\"\n",
    "\n",
    "# User input for initial and target user counts\n",
    "initial_count = int(input(\"Enter the Initial Count Value: \"))\n",
    "target_count = int(input(\"Enter the Final Count Value: \"))\n",
    "\n",
    "current_count = initial_count # Initializing current_count outside to prevent undefined variable errors\n",
    "\n",
    "if initial_count <= 0 or target_count <= 0: # Validate input: Ensure both values are greater than zero\n",
    "    print(\"Error: Both the initial and target user counts must be greater than zero.\")\n",
    "\n",
    "else:\n",
    "    while current_count <= target_count: # Doubling series until current_count exceeds target_count\n",
    "        print(f\"Current User Count: {current_count}\")\n",
    "        current_count *= 2\n",
    "\n",
    "    print(\"Target Exceeded. Growth simulation completed!\")"
   ]
  },
  {
   "cell_type": "code",
   "execution_count": 26,
   "id": "0655b05c",
   "metadata": {},
   "outputs": [
    {
     "name": "stdout",
     "output_type": "stream",
     "text": [
      "2, 5, 8, 11, 14\n"
     ]
    }
   ],
   "source": [
    "# Generate a Custom Number Series:\n",
    "\n",
    "\"\"\"Create a program that generates a custom number series based on user input. The user provides a\n",
    "        starting number, a step value, and a limit (number of terms) for the series.\"\"\"\n",
    "\n",
    "# Take user input for starting number, step value, and limit:\n",
    "start = int(input(\"Enter the Start Value: \"))\n",
    "step = int(input(\"Enter Step Value: \"))\n",
    "limit = int(input(\"Enter the Number of Iterations: \"))\n",
    "\n",
    "if start <= 0 or step <= 0 or limit <= 0:  # Validating input: Ensure all values are positive integers\n",
    "    print(\"Invalid input. Please enter positive integers.\")\n",
    "\n",
    "else:\n",
    "    # Initialize variables\n",
    "    count = 0\n",
    "    current = start\n",
    "\n",
    "    while count < limit:\n",
    "        print(current, end=\", \" if count < limit - 1 else \"\\n\")\n",
    "        count += 1\n",
    "        current += step\n",
    "\n",
    "# Note: if count < limit - 1 else \"\\n\"\n",
    "#       --> Prevents ',' to be printed after the last value, w/o this output: 2, 5, 8, 11, 14,"
   ]
  },
  {
   "cell_type": "code",
   "execution_count": null,
   "id": "4205a272",
   "metadata": {},
   "outputs": [
    {
     "name": "stdout",
     "output_type": "stream",
     "text": [
      "HELLO WORLD\n"
     ]
    }
   ],
   "source": [
    "# ------------------------------------------------ String Processing Loops -------------------------------------------------\n",
    "\n",
    "\"\"\"A string processing loop in a while loop is a method to iterate over a string character by character (or in defined segments) and\n",
    "    perform operations on each element. This approach is useful for tasks such as searching for specific characters, transforming strings, or\n",
    "        analyzing textual data.\n",
    "\"\"\"\n",
    "# Example: Converting a String to Uppercase\n",
    "input_str = \"hello world\"\n",
    "i = 0  # Initialize index\n",
    "\n",
    "while i < len(input_str): # Process each character and print it in uppercase\n",
    "    print(input_str[i].upper(), end=\"\") # Convert current character to uppercase and print without newline\n",
    "    i += 1  # Move to the next character\n",
    "\n",
    "print()"
   ]
  },
  {
   "cell_type": "code",
   "execution_count": 28,
   "id": "44510cbb",
   "metadata": {},
   "outputs": [
    {
     "name": "stdout",
     "output_type": "stream",
     "text": [
      "Total letters in the Name: 12\n"
     ]
    }
   ],
   "source": [
    "# Production Schedule Number Series --> In this example, we will write a Python program that counts the number of letters in a student's name.\n",
    "\n",
    "name = input(\"Enter your name: \").replace(' ', '').strip()\n",
    "\n",
    "# Inializing Variables\n",
    "index = 0\n",
    "letter_count = 0\n",
    "\n",
    "while index < len(name): # Process each character using a while loop\n",
    "    if name[index].isalpha(): # Count only letters, ignore spaces/numbers\n",
    "        letter_count += 1\n",
    "    index += 1 # Move to the next character\n",
    "\n",
    "print(f\"Total letters in the Name: {letter_count}\")"
   ]
  },
  {
   "cell_type": "code",
   "execution_count": 30,
   "id": "c56b76dd",
   "metadata": {},
   "outputs": [
    {
     "name": "stdout",
     "output_type": "stream",
     "text": [
      "Total vowels: 10\n",
      "Total Consonant: 16\n"
     ]
    }
   ],
   "source": [
    "# AI Speech Analyzer\n",
    "\"\"\" Input Format: A string representing the transcript or speech text.\n",
    "    Output Format: Print the total counts of vowels and consonants using the formats:\n",
    "        -- Total vowels: {vowel_count}\n",
    "        -- Total consonants: {consonant_count}\"\"\"\n",
    "\n",
    "transcript = input(\"Enter a Sentence to Transcript: \").lower()\n",
    "\n",
    "if not transcript.strip(): # Validating input: Ensuring it's not empty or just spaces\n",
    "    print(\"Invalid Input. Please enter a valid transcript.\")\n",
    "\n",
    "else:\n",
    "    # Initializing variables\n",
    "    index = 0\n",
    "    vowel_count = 0\n",
    "    consonant_count = 0\n",
    "    vowels = \"aeiou\"\n",
    "\n",
    "    while index < len(transcript): # Process each character using a while loop\n",
    "        text = transcript[index]\n",
    "\n",
    "        if text.isalpha(): # Count only letters, ignore spaces/numbers\n",
    "            if text in vowels:\n",
    "                vowel_count += 1\n",
    "            else:\n",
    "                consonant_count += 1\n",
    "\n",
    "        index += 1 # Move to the next character\n",
    "\n",
    "    print(f\"Total vowels: {vowel_count}\\nTotal Consonant: {consonant_count}\")"
   ]
  }
 ],
 "metadata": {
  "kernelspec": {
   "display_name": "base",
   "language": "python",
   "name": "python3"
  },
  "language_info": {
   "codemirror_mode": {
    "name": "ipython",
    "version": 3
   },
   "file_extension": ".py",
   "mimetype": "text/x-python",
   "name": "python",
   "nbconvert_exporter": "python",
   "pygments_lexer": "ipython3",
   "version": "3.13.5"
  }
 },
 "nbformat": 4,
 "nbformat_minor": 5
}
