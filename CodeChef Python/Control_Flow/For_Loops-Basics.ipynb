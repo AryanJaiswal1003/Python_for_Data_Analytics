{
 "cells": [
  {
   "cell_type": "code",
   "execution_count": null,
   "id": "5bc81267",
   "metadata": {},
   "outputs": [],
   "source": [
    "# ------------------------------------------------ Basics For Loops -----------------------------------------------\n",
    "## Contents:--\n",
    "    #-- For Loop with Range\n",
    "    #-- Range with Start and End\n",
    "    #-- Range with Step\n",
    "    #-- Negative Step Range\n",
    "    #-- Nested for loops\n",
    "    #-- For Loop with Break\n",
    "    #-- For Loop with Continue\n",
    "    #-- For Else statement\n",
    "    #-- Loop variable scope"
   ]
  },
  {
   "cell_type": "code",
   "execution_count": 2,
   "id": "7d035f07",
   "metadata": {},
   "outputs": [
    {
     "name": "stdout",
     "output_type": "stream",
     "text": [
      "0\n",
      "1\n",
      "2\n",
      "3\n",
      "4\n"
     ]
    }
   ],
   "source": [
    "# ------------------------------------------------ For Loop with Range -----------------------------------------------\n",
    "\n",
    "\"\"\"A for loop allows us to repeat a block of code multiple times, making it useful for tasks that require iteration. The range() function\n",
    "        generates a sequence of numbers that a for loop can iterate over. It helps control how many times a loop executes.\"\"\"\n",
    "\n",
    "# Syntax :\n",
    "\"\"\"\n",
    "    for index in range(n):\n",
    "        # Code to be executed\n",
    "\n",
    "--> Explanation:\n",
    "    -- index is the loop variable that stores the current iteration value.\n",
    "    -- range(n) generates numbers from 0 to n-1.\n",
    "    -- The loop runs n times, iterating over each number in the sequence.\n",
    "\"\"\"\n",
    "# Printing Numbers from 0 to 4\n",
    "for i in range(5):\n",
    "    print(i)"
   ]
  },
  {
   "cell_type": "code",
   "execution_count": null,
   "id": "67a98bf7",
   "metadata": {},
   "outputs": [
    {
     "name": "stdout",
     "output_type": "stream",
     "text": [
      "2\n",
      "3\n",
      "4\n",
      "5\n"
     ]
    }
   ],
   "source": [
    "# ------------------------------------------------ Range with Start and End -----------------------------------------------\n",
    "\n",
    "\"\"\" The range(start, end) function allows us to specify both a starting and ending value. Here’s how it works:\n",
    "        -- start: The number where the sequence begins. If omitted, it defaults to 0.\n",
    "        -- end: The number where the sequence stops (excluded).\n",
    "\"\"\"\n",
    "# Example:\n",
    "for num in range(2, 6):\n",
    "    print(num)"
   ]
  },
  {
   "cell_type": "code",
   "execution_count": null,
   "id": "26d754d4",
   "metadata": {},
   "outputs": [
    {
     "name": "stdout",
     "output_type": "stream",
     "text": [
      "Sum of Multiples of 5 b/w 0 & 100: 1050\n"
     ]
    }
   ],
   "source": [
    "# ------------------------------------------------ Range with Positive Step -----------------------------------------------\n",
    "\n",
    "\"\"\"The range() function can generate sequences of numbers with different patterns. By adding a third argument (step) to range(), we\n",
    "    can control how much the number increments each time the loop executes\n",
    "\n",
    "    for index in range(start, stop, step):\n",
    "        # Code to be executed\n",
    "\"\"\"\n",
    "# Example: Sum of multiples of 5 between 0 and 100.\n",
    "total = 0\n",
    "\n",
    "for number in range(0, 101, 5):\n",
    "    total += number\n",
    "print(f\"Sum of Multiples of 5 b/w 0 & 100: {total}\")"
   ]
  },
  {
   "cell_type": "code",
   "execution_count": 7,
   "id": "e6aeb8a3",
   "metadata": {},
   "outputs": [
    {
     "name": "stdout",
     "output_type": "stream",
     "text": [
      "e\n",
      "n\n",
      "i\n",
      "h\n",
      "c\n",
      "a\n",
      "M\n"
     ]
    }
   ],
   "source": [
    "# ------------------------------------------------ Range with Negative Step -----------------------------------------------\n",
    "\n",
    "\"\"\"Negative Step Range in Python, which allows us to generate a sequence of numbers in reverse order. This concept is particularly useful\n",
    "        when counting down or iterating backward through data.\"\"\"\n",
    "\n",
    "# Using a Negative Step: To count down, we use a negative step in the range function:\n",
    "\n",
    "# Example: Print a String in Reverse\n",
    "my_string = input(\"Enter a String to Iterate: \")  # String to iterate through\n",
    "\n",
    "# Iterate backward using a for loop and negative index\n",
    "for i in range(len(my_string) - 1, -1, -1):  # Define the range for the loop using the length of the string\n",
    "    # Print each character on a new line\n",
    "    print(my_string[i])"
   ]
  },
  {
   "cell_type": "code",
   "execution_count": 9,
   "id": "6885f729",
   "metadata": {},
   "outputs": [
    {
     "name": "stdout",
     "output_type": "stream",
     "text": [
      "i: 0, j: 0\n",
      "i: 0, j: 1\n",
      "i: 1, j: 0\n",
      "i: 1, j: 1\n",
      "i: 2, j: 0\n",
      "i: 2, j: 1\n"
     ]
    }
   ],
   "source": [
    "# ------------------------------------------------ Nested For Loops -----------------------------------------------\n",
    "\n",
    "\"\"\"A nested loop is a loop inside another loop, helping us process multi-dimensional data like matrices or grids. To create a nested loop,\n",
    "    place one for loop inside another:\n",
    "\n",
    "    for outer_variable in outer_iterable:\n",
    "        # Outer loop block\n",
    "        for inner_variable in inner_iterable:\n",
    "            # Inner loop block\n",
    "\"\"\"\n",
    "# Example:\n",
    "for i in range(3):   # Outer loop\n",
    "    for j in range(2): # Inner loop\n",
    "        print(f\"i: {i}, j: {j}\")"
   ]
  },
  {
   "cell_type": "code",
   "execution_count": 12,
   "id": "fe11bf24",
   "metadata": {},
   "outputs": [
    {
     "name": "stdout",
     "output_type": "stream",
     "text": [
      "1 * 1 = 1\n",
      "1 * 2 = 2\n",
      "1 * 3 = 3\n",
      "1 * 4 = 4\n",
      "1 * 5 = 5\n",
      "\n",
      "2 * 1 = 2\n",
      "2 * 2 = 4\n",
      "2 * 3 = 6\n",
      "2 * 4 = 8\n",
      "2 * 5 = 10\n",
      "\n",
      "3 * 1 = 3\n",
      "3 * 2 = 6\n",
      "3 * 3 = 9\n",
      "3 * 4 = 12\n",
      "3 * 5 = 15\n",
      "\n",
      "4 * 1 = 4\n",
      "4 * 2 = 8\n",
      "4 * 3 = 12\n",
      "4 * 4 = 16\n",
      "4 * 5 = 20\n",
      "\n",
      "5 * 1 = 5\n",
      "5 * 2 = 10\n",
      "5 * 3 = 15\n",
      "5 * 4 = 20\n",
      "5 * 5 = 25\n",
      "\n"
     ]
    }
   ],
   "source": [
    "# Create a Multiplication Table:\n",
    "\"\"\"Write a program to generate and display the multiplication tables for numbers 1 to 5, where each table should display the\n",
    "        multiples till 5 only.\n",
    "\n",
    "    Use nested loops to iterate through both the numbers (1 to 5) and the multiples (1 to 5).\"\"\"\n",
    "\n",
    "for i in range(1, 6):  # Outer loop: Iterates through numbers 1 to 5 (rows)\n",
    "    for j in range(1, 6):  # Inner loop: Iterates through numbers 1 to 5 (columns)\n",
    "        print(f\"{i} * {j} = {i*j}\")\n",
    "    print()"
   ]
  },
  {
   "cell_type": "code",
   "execution_count": 13,
   "id": "5d03f972",
   "metadata": {},
   "outputs": [
    {
     "name": "stdout",
     "output_type": "stream",
     "text": [
      "5 x 10 = 50 | 5 x 8 = 40 | 5 x 6 = 30 | 5 x 4 = 20 | 5 x 2 = 10 | \n",
      "4 x 10 = 40 | 4 x 8 = 32 | 4 x 6 = 24 | 4 x 4 = 16 | 4 x 2 = 8 | \n",
      "3 x 10 = 30 | 3 x 8 = 24 | 3 x 6 = 18 | 3 x 4 = 12 | 3 x 2 = 6 | \n",
      "2 x 10 = 20 | 2 x 8 = 16 | 2 x 6 = 12 | 2 x 4 = 8 | 2 x 2 = 4 | \n",
      "1 x 10 = 10 | 1 x 8 = 8 | 1 x 6 = 6 | 1 x 4 = 4 | 1 x 2 = 2 | \n"
     ]
    }
   ],
   "source": [
    "# Reverse Multiplication Table (Step of 2)\n",
    "\n",
    "\"\"\"Write a program to generate and display the reverse multiplication tables for numbers 5 to 1.\n",
    "For each number, display the products using decreasing multiples from 10 to 2, with a step size of -2.\"\"\"\n",
    "\n",
    "#  Outer loop iterates through numbers from 5 to 1 in reverse order\n",
    "for i in range(5, 0, -1):\n",
    "    # Inner loop iterates through even numbers from 10 to 2 in reverse order\n",
    "    for j in range(10, 1, -2):\n",
    "        # Printing multiplication result in the format \"i x j = result\", separated by \" | \"\n",
    "        print(f\"{i} x {j} = {i*j}\", end=\" | \")\n",
    "    # Print a newline after completing each row to separate tables for different 'i' values\n",
    "    print()"
   ]
  },
  {
   "cell_type": "code",
   "execution_count": 14,
   "id": "a3661f9d",
   "metadata": {},
   "outputs": [
    {
     "name": "stdout",
     "output_type": "stream",
     "text": [
      "3\n"
     ]
    }
   ],
   "source": [
    "# ------------------------------------------------ For Loop with Break -----------------------------------------------\n",
    "\n",
    "\"\"\"Break statement in Python, which is used to exit a loop before it completes all iterations. This is helpful when you want to stop\n",
    "        a loop as soon as a certain condition is met.\n",
    "\"\"\"\n",
    "# Stopping a Loop with break\n",
    "for i in range(5):\n",
    "    if i > 2:\n",
    "        print(i)\n",
    "        break  # This will exit the loop"
   ]
  },
  {
   "cell_type": "code",
   "execution_count": 15,
   "id": "7ce23fc9",
   "metadata": {},
   "outputs": [
    {
     "name": "stdout",
     "output_type": "stream",
     "text": [
      "p\n",
      "r\n"
     ]
    }
   ],
   "source": [
    "# Finding a vowel in a String\n",
    "\n",
    "\"\"\"In this task, you will create a program that iterates through a given word and prints each character until the first\n",
    "        vowel (a, e, i, o, u) is found. The loop will stop immediately when a vowel is encountered.\"\"\"\n",
    "\n",
    "word = input().lower()\n",
    "vowels = ('a', 'e', 'i', 'o', 'u')\n",
    "# Iterate through each character in the word\n",
    "for char in word:\n",
    "    if char in vowels:  # Stop the loop when the first vowel is encountered\n",
    "        break\n",
    "    print(char)"
   ]
  },
  {
   "cell_type": "code",
   "execution_count": 16,
   "id": "70c896f0",
   "metadata": {},
   "outputs": [
    {
     "name": "stdout",
     "output_type": "stream",
     "text": [
      "First pair found: 3, 5\n"
     ]
    }
   ],
   "source": [
    "# First Pair of Numbers that Add up to 10\n",
    "\n",
    "for i in range(1, 6): # Loop through numbers from 1 to 5 (outer loop)\n",
    "    for j in range(1, 6): # Loop through numbers from 1 to 5 (inner loop)\n",
    "        if (i + j) == 8: # Check if the sum of i and j equals 8\n",
    "            print(f\"First pair found: {i}, {j}\")\n",
    "            break\n",
    "    if (i + j) == 8: # Check if the sum of i and j equals 8\n",
    "        break"
   ]
  },
  {
   "cell_type": "code",
   "execution_count": 20,
   "id": "fdfedbca",
   "metadata": {},
   "outputs": [
    {
     "name": "stdout",
     "output_type": "stream",
     "text": [
      "1\n",
      "2\n",
      "3\n",
      "4\n",
      "6\n",
      "7\n",
      "8\n",
      "9\n",
      "10\n",
      "HelloWorld"
     ]
    }
   ],
   "source": [
    "# ------------------------------------------------ For Loop with Continue -----------------------------------------------\n",
    "\n",
    "\"\"\"Continue operator is used to skip specific iterations in a loop while continuing with the rest. This is helpful when you want to ignore\n",
    "        certain elements based on a condition without stopping the loop entirely.\"\"\"\n",
    "\n",
    "# Skipping a Value in a Loop:\n",
    "for number in range(1, 11):  # Looping from 1 to 10\n",
    "    if number == 5:          # Check if the number is 5\n",
    "        continue              # Skip the rest of the loop for this iteration\n",
    "\n",
    "    print(number)\n",
    "\n",
    "# ---------------------------------------------------------------------------------------------------------------------------------\n",
    "# Skipping Digits in a String\n",
    "input_string = \"Hello123World456\"\n",
    "\n",
    "for char in input_string:  # Iterate through each character in the string\n",
    "    if char.isdigit():  # Skip digits\n",
    "        continue\n",
    "    print(char, end=\"\")  # Print characters that are not digits"
   ]
  },
  {
   "cell_type": "code",
   "execution_count": 21,
   "id": "b910edef",
   "metadata": {},
   "outputs": [
    {
     "name": "stdout",
     "output_type": "stream",
     "text": [
      "i = 1, j = 2\n",
      "i = 1, j = 3\n",
      "i = 1, j = 4\n",
      "i = 1, j = 5\n",
      "i = 2, j = 1\n",
      "i = 2, j = 3\n",
      "i = 2, j = 4\n",
      "i = 2, j = 5\n",
      "i = 3, j = 1\n",
      "i = 3, j = 2\n",
      "i = 3, j = 4\n",
      "i = 3, j = 5\n",
      "i = 4, j = 1\n",
      "i = 4, j = 2\n",
      "i = 4, j = 3\n",
      "i = 4, j = 5\n",
      "i = 5, j = 1\n",
      "i = 5, j = 2\n",
      "i = 5, j = 3\n",
      "i = 5, j = 4\n",
      "All non-equal pairs printed.\n"
     ]
    }
   ],
   "source": [
    "# Skipping Equal Pairs in Nested Loops:\n",
    "\"\"\"Write a program that uses two nested loops to generate pairs of numbers within the range 1 to 5.\n",
    "The program should skip cases where both numbers are equal by using the continue statement to control the flow in the nested loops.\"\"\"\n",
    "\n",
    "for i in range(1, 6): # Outer loop iterates over numbers from 1 to 5\n",
    "    for j in range(1, 6): # Inner loop iterates over numbers from 1 to 5\n",
    "        if i == j: # If i and j are equal, skip this iteration and continue to the next\n",
    "            continue\n",
    "        print(f\"i = {i}, j = {j}\")\n",
    "print(\"All non-equal pairs printed.\")"
   ]
  },
  {
   "cell_type": "code",
   "execution_count": 22,
   "id": "387167d7",
   "metadata": {},
   "outputs": [
    {
     "name": "stdout",
     "output_type": "stream",
     "text": [
      "Breaking at 4\n"
     ]
    }
   ],
   "source": [
    "# ------------------------------------------------ For-Else Statement -----------------------------------------------\n",
    "\n",
    "# for-else statement, allows you to execute a block of code after a loop completes, but only if the loop was not interrupted by a break statement.\n",
    "\n",
    "# Searching for a Number in a Range, If we find it, we stop the loop using break. If we don’t find it, we execute the else block.\n",
    "for num in range(1, 6):\n",
    "    if num == 4:  # Stop when 4 is found\n",
    "        print(\"Breaking at\", num)\n",
    "        break\n",
    "else:\n",
    "    print(\"Loop completed!\")  # This will NOT execute because of break"
   ]
  },
  {
   "cell_type": "code",
   "execution_count": 23,
   "id": "bb1926fd",
   "metadata": {},
   "outputs": [
    {
     "name": "stdout",
     "output_type": "stream",
     "text": [
      "Found a multiple of 7:14\n"
     ]
    }
   ],
   "source": [
    "# Finding the First Multiple of 7:\n",
    "\n",
    "\"\"\"In this task, you will create a simple program that searches for the first multiple of 7 within the range provided as input,\n",
    "        x and y. If no multiple of 7 is found after checking all numbers, print \"No multiples of 7 found in the range.\"\"\"\n",
    "\n",
    "x=int(input(\"Enter the Starting Number: \"))\n",
    "y=int(input(\"Enter the Ending Number: \"))\n",
    "\n",
    "# Finding the first multiple of 7 in a given range (x to y)\n",
    "for number in range(x, y + 1):\n",
    "    if number % 7 == 0:\n",
    "        print(f\"Found a multiple of 7:{number}\")\n",
    "        break\n",
    "\n",
    "else:\n",
    "    print(\"No multiples of 7 found in the range.\")\n"
   ]
  },
  {
   "cell_type": "code",
   "execution_count": 25,
   "id": "adf42584",
   "metadata": {},
   "outputs": [
    {
     "name": "stdout",
     "output_type": "stream",
     "text": [
      "i: 0, j: 0\n",
      "i: 0, j: 1\n",
      "i: 1, j: 0\n",
      "i: 1, j: 1\n",
      "Last value of i after the outer loop: 1\n",
      "Last value of j after the inner loop: 1\n"
     ]
    }
   ],
   "source": [
    "# ------------------------------------------------ Loop Variable Scope -----------------------------------------------\n",
    "\n",
    "\"\"\"In Python, the scope of a loop variable extends beyond the loop itself. This means that even after the loop completes, the variable\n",
    "        still retains its last assigned value.\"\"\"\n",
    "\n",
    "# Example: Nested Loop Variable Scope\n",
    "for i in range(0, 2):\n",
    "    for j in range(0, 2):\n",
    "        print(f\"i: {i}, j: {j}\")\n",
    "\n",
    "# After the loop, 'i' still exists and holds the last value from the loop\n",
    "print(f\"Last value of i after the outer loop: {i}\")\n",
    "print(f\"Last value of j after the inner loop: {j}\")"
   ]
  }
 ],
 "metadata": {
  "kernelspec": {
   "display_name": "base",
   "language": "python",
   "name": "python3"
  },
  "language_info": {
   "codemirror_mode": {
    "name": "ipython",
    "version": 3
   },
   "file_extension": ".py",
   "mimetype": "text/x-python",
   "name": "python",
   "nbconvert_exporter": "python",
   "pygments_lexer": "ipython3",
   "version": "3.13.5"
  }
 },
 "nbformat": 4,
 "nbformat_minor": 5
}
