{
 "cells": [
  {
   "cell_type": "code",
   "execution_count": 1,
   "id": "8b1ffc12",
   "metadata": {},
   "outputs": [],
   "source": [
    "# ------------------------------------------------ For Loops Applications -----------------------------------------------\n",
    "## Contents:--\n",
    "    #-- Iterating Over Strings\n",
    "    #-- Pattern Printing with For\n",
    "    #-- Multiplication Tables\n",
    "    #-- Series Summation\n",
    "    #-- Factorial Calculation\n",
    "    #-- Factor Finding\n",
    "    #-- Prime Number Checking\n",
    "    #-- Character count"
   ]
  },
  {
   "cell_type": "code",
   "execution_count": 3,
   "id": "79fdbd9f",
   "metadata": {},
   "outputs": [
    {
     "name": "stdout",
     "output_type": "stream",
     "text": [
      "Alphabetic Character: A\n",
      "Alphabetic Character: r\n",
      "Alphabetic Character: y\n",
      "Alphabetic Character: a\n",
      "Alphabetic Character: n\n"
     ]
    }
   ],
   "source": [
    "# ------------------------------------------------ Iterating Over Strings -----------------------------------------------\n",
    "# A string is a sequence of characters, and iterating over it allows us to access each character one by one.\n",
    "my_string = input(\"Enter a Word:\")\n",
    "\n",
    "# Iterate through each character in the string\n",
    "for char in my_string:\n",
    "    if char.isalpha(): # Check if the character is an alphabetic letter (A-Z or a-z)\n",
    "        print(f\"Alphabetic Character: {char}\") # If the character is alphabetic, print it with a message"
   ]
  },
  {
   "cell_type": "code",
   "execution_count": null,
   "id": "9e622ecb",
   "metadata": {},
   "outputs": [
    {
     "name": "stdout",
     "output_type": "stream",
     "text": [
      "* \n",
      "* * \n",
      "* * * \n",
      "* * * * \n",
      "* * * * * \n"
     ]
    }
   ],
   "source": [
    "# ------------------------------------------------ Pattern Printing with For -----------------------------------------------\n",
    "\n",
    "\"\"\"Patterns allow us to practice looping constructs effectively. By combining for loops with printing methods, we can create various structured\n",
    "        outputs, such as stars and number sequences.\n",
    "\"\"\"\n",
    "# Printing a Simple Star Pattern To create a Right-angled triangle pattern using stars (*):\n",
    "\n",
    "for outer in range(5):  # Outer loop for the number of rows\n",
    "    for inner in range(outer + 1):  # Inner loop for the number of columns\n",
    "        print(\"*\", end=\" \")  # Print star without a newline\n",
    "\n",
    "    print()  # Move to the next line after each row"
   ]
  },
  {
   "cell_type": "code",
   "execution_count": 5,
   "id": "6f5cea7c",
   "metadata": {},
   "outputs": [
    {
     "name": "stdout",
     "output_type": "stream",
     "text": [
      "1 \n",
      "1 2 \n",
      "1 2 3 \n",
      "1 2 3 4 \n",
      "1 2 3 4 5 \n",
      "1 2 3 4 5 6 \n"
     ]
    }
   ],
   "source": [
    "# Number Triangle Pattern: The pattern starts from 1 and increases incrementally in each row up to the row number.\n",
    "rows = int(input(\"Enter the Number of Rows: \"))  # User input for number of rows\n",
    "\n",
    "for outer in range(1, rows + 1):\n",
    "    for inner in range(1, outer + 1):\n",
    "        print(inner, end=\" \")  # Print numbers in each row\n",
    "\n",
    "    print(\"\")"
   ]
  },
  {
   "cell_type": "code",
   "execution_count": 8,
   "id": "94e8fb9b",
   "metadata": {},
   "outputs": [
    {
     "name": "stdout",
     "output_type": "stream",
     "text": [
      "1 \n",
      "1 2 \n",
      "1 0 3 \n",
      "1 0 0 4 \n",
      "1 0 0 0 5 \n",
      "1 0 0 0 0 6 \n"
     ]
    }
   ],
   "source": [
    "# Generating a Number Triangle Pattern:\n",
    "\n",
    "\"\"\"Generate a number pattern using nested for loops. The pattern will have a structure where the first number of each row is 1, the\n",
    "        last number of each row is the row number, and the remaining positions in between are filled with zeros.\"\"\"\n",
    "row_num = int(input(\"Enter the Number of Rows: \").strip())\n",
    "\n",
    "for outer in range(1, row_num + 1):\n",
    "    for inner in range(1, outer + 1):\n",
    "        if inner == 1:\n",
    "            print(1, end=' ')\n",
    "        elif inner == outer:\n",
    "            print(outer, end=' ')\n",
    "        else:\n",
    "            print(0, end= ' ')\n",
    "    print()"
   ]
  },
  {
   "cell_type": "code",
   "execution_count": 9,
   "id": "0f00bcaa",
   "metadata": {},
   "outputs": [
    {
     "name": "stdout",
     "output_type": "stream",
     "text": [
      "1 x 1 = 1\n",
      "1 x 2 = 2\n",
      "1 x 3 = 3\n",
      "1 x 4 = 4\n",
      "1 x 5 = 5\n",
      "1 x 6 = 6\n",
      "1 x 7 = 7\n",
      "\n",
      "2 x 1 = 2\n",
      "2 x 2 = 4\n",
      "2 x 3 = 6\n",
      "2 x 4 = 8\n",
      "2 x 5 = 10\n",
      "2 x 6 = 12\n",
      "2 x 7 = 14\n",
      "\n"
     ]
    }
   ],
   "source": [
    "# ------------------------------------------------ Multiplication Tables -----------------------------------------------\n",
    "\"\"\"A multiplication table displays the product of numbers, typically from 1 to 10, when multiplied by each other. This is a great way\n",
    "        to practice multiplication and understand loops in Python.\"\"\"\n",
    "for outer in range(1, 3):\n",
    "\n",
    "    for inner in range(1, 8):\n",
    "        product = outer * inner  # Calculate the product\n",
    "        print(f\"{outer} x {inner} = {product}\")\n",
    "\n",
    "    print()"
   ]
  },
  {
   "cell_type": "code",
   "execution_count": 12,
   "id": "ea759b29",
   "metadata": {},
   "outputs": [
    {
     "name": "stdout",
     "output_type": "stream",
     "text": [
      "1(O) 2(E) 3(O) \n",
      "2(E) 4(E) 6(E) \n",
      "3(O) 6(E) 9(O) \n"
     ]
    }
   ],
   "source": [
    "# Multiplication Table with Even-Odd Condition:\n",
    "n = int(input(\"Enter value for Table Size: \").strip())  # User inputs the value of n for the table size (n x n)\n",
    "\n",
    "for outer in range(1, n + 1):\n",
    "    for inner in range(1, n + 1):\n",
    "        product = outer * inner\n",
    "\n",
    "        if product % 2 == 0:\n",
    "            print(f\"{product}(E)\", end=' ')\n",
    "        else:\n",
    "            print(f\"{product}(O)\", end= ' ')\n",
    "\n",
    "    print()"
   ]
  },
  {
   "cell_type": "code",
   "execution_count": null,
   "id": "44034bc9",
   "metadata": {},
   "outputs": [
    {
     "name": "stdout",
     "output_type": "stream",
     "text": [
      "The sum of the first 5 natural numbers is: 15\n"
     ]
    }
   ],
   "source": [
    "# ------------------------------------------------ Series Summation -----------------------------------------------\n",
    "\"\"\"Series Summation, a fundamental concept in mathematics and programming. It involves adding a sequence of numbers together to\n",
    "        compute their total sum. A series is simply a list of numbers that we want to sum up.\"\"\"\n",
    "number = 5\n",
    "total_sum = 0\n",
    "\n",
    "for i in range(1, number + 1):\n",
    "    total_sum += i  # This line adds the current number to the total_sum\n",
    "\n",
    "print(\"The sum of the first\", number, \"natural numbers is:\", total_sum)"
   ]
  },
  {
   "cell_type": "code",
   "execution_count": 14,
   "id": "c7311a69",
   "metadata": {},
   "outputs": [
    {
     "name": "stdout",
     "output_type": "stream",
     "text": [
      "The sum of the first 3 even numbers is: 12\n",
      "The sum of the first 3 odd numbers is: 9\n"
     ]
    }
   ],
   "source": [
    "# Sum of First n Even Numbers:\n",
    "n = int(input(\"Enter times of Interation: \").strip())\n",
    "total_sum = 0\n",
    "\n",
    "for i in range(1, n + 1):\n",
    "    even_number = 2 * i  # Find the ith even number\n",
    "    total_sum += even_number\n",
    "\n",
    "print(\"The sum of the first\", n, \"even numbers is:\", total_sum)\n",
    "\n",
    "# ------------------------------------------------------------------------------------------------------------------\n",
    "# Sum of First n Odd Numbers:\n",
    "n = int(input(\"Enter times of Interation: \").strip())\n",
    "total_sum = 0\n",
    "\n",
    "for i in range(n):\n",
    "    total_sum += (2 * i + 1)  # Generate odd numbers: 1, 3, 5, ...\n",
    "\n",
    "print(\"The sum of the first\", n, \"odd numbers is:\", total_sum)"
   ]
  },
  {
   "cell_type": "code",
   "execution_count": 15,
   "id": "17e87ee8",
   "metadata": {},
   "outputs": [
    {
     "name": "stdout",
     "output_type": "stream",
     "text": [
      "The sum of all values in the multiplication tables from 1 to 2 is: 165\n"
     ]
    }
   ],
   "source": [
    "\"\"\" Sum of Multiplication Tables: Write a program that calculates the sum of all values in the multiplication tables for the numbers 1\n",
    "       to N, where the multiples range from 1 to 10.\"\"\"\n",
    "\n",
    "number = int(input(\"Enter the Number for Multiplication: \").strip())\n",
    "total_sum = 0\n",
    "\n",
    "for outer in range(1, number + 1):\n",
    "    for inner in range(1, 11):\n",
    "        product = outer * inner\n",
    "        total_sum += product\n",
    "print(f\"The sum of all values in the multiplication tables from 1 to {number} is: {total_sum}\")"
   ]
  },
  {
   "cell_type": "code",
   "execution_count": 20,
   "id": "6ad4f080",
   "metadata": {},
   "outputs": [
    {
     "name": "stdout",
     "output_type": "stream",
     "text": [
      "The factorial of 3 is 6.\n"
     ]
    }
   ],
   "source": [
    "# ------------------------------------------------ Factorial Calculation -----------------------------------------------\n",
    "\n",
    "\"\"\"The factorial of a non-negative integer n is denoted as n! and is the product of all positive integers from 1 to n.\n",
    "            For example: 5! = 5 × 4 × 3 × 2 × 1 = 120\"\"\"\n",
    "\n",
    "number = int(input(\"Enter a Number: \"))\n",
    "factorial = 1\n",
    "\n",
    "for num in range(1, number + 1):\n",
    "    factorial *= num  # Multiply the current factorial by i\n",
    "\n",
    "print(f\"The factorial of {number} is {factorial}.\")"
   ]
  },
  {
   "cell_type": "code",
   "execution_count": 22,
   "id": "f3075903",
   "metadata": {},
   "outputs": [
    {
     "name": "stdout",
     "output_type": "stream",
     "text": [
      "The sum of the series is 34\n"
     ]
    }
   ],
   "source": [
    "# Calculating Factorials for Series Summation\n",
    "\n",
    "\"\"\"Compute the sum of the factorial series using a for loop in Python.\n",
    "        The series is defined as:\n",
    "        S = 0! + 1! +2! +3! + ⋯ + n!\"\"\"\n",
    "num = int(input(\"Enter a Number: \").strip())\n",
    "sum_series = 0   # Initialize sum_series to store the sum\n",
    "\n",
    "for outer in range(num + 1):   # Loop from 0 to n\n",
    "    factorial = 1   # Initialize factorial to 1\n",
    "\n",
    "    for inner in range(1, outer + 1):   # Loop from 1 to i (inclusive)\n",
    "        factorial *= inner   # Multiply factorial by j\n",
    "    sum_series += factorial  # Add factorial to sum_series\n",
    "\n",
    "print(f\"The sum of the series is {sum_series}\")"
   ]
  },
  {
   "cell_type": "code",
   "execution_count": 23,
   "id": "c49e4942",
   "metadata": {},
   "outputs": [
    {
     "name": "stdout",
     "output_type": "stream",
     "text": [
      "Factors of 4 are:\n",
      "1\n",
      "2\n",
      "4\n"
     ]
    }
   ],
   "source": [
    "# ------------------------------------------------ Factor Finding -----------------------------------------------\n",
    "# A factor is a number that divides another number completely without leaving a remainder.\n",
    "num = int(input(\"Enter a number: \"))\n",
    "\n",
    "# Finding factors using for loop\n",
    "print(f\"Factors of {num} are:\")\n",
    "for factor in range(1, num + 1):\n",
    "    if num % factor == 0:\n",
    "        print(factor)"
   ]
  },
  {
   "cell_type": "code",
   "execution_count": 24,
   "id": "fc7b7ea9",
   "metadata": {},
   "outputs": [
    {
     "name": "stdout",
     "output_type": "stream",
     "text": [
      "Possible group sizes for packaging 12 items:\n",
      "1\n",
      "2\n",
      "3\n",
      "4\n",
      "6\n",
      "12\n",
      "The number of possible group sizes is 6\n"
     ]
    }
   ],
   "source": [
    "# Finding Packaging Group Sizes:\n",
    "order_quantity = int(input(\"Enter the Order Quantity: \"))\n",
    "count_factors = 0\n",
    "\n",
    "print(f\"Possible group sizes for packaging {order_quantity} items:\")\n",
    "\n",
    "for factor in range(1, order_quantity + 1):\n",
    "    if order_quantity % factor == 0:\n",
    "        print(factor)\n",
    "        count_factors += 1\n",
    "\n",
    "print(f\"The number of possible group sizes is {count_factors}\")"
   ]
  },
  {
   "cell_type": "code",
   "execution_count": 25,
   "id": "45355ec4",
   "metadata": {},
   "outputs": [
    {
     "name": "stdout",
     "output_type": "stream",
     "text": [
      "3 is a prime number.\n"
     ]
    }
   ],
   "source": [
    "# ------------------------------------------------ Prime Number Checking -----------------------------------------------\n",
    "\n",
    "\"\"\"A prime number is a natural number greater than 1 that cannot be formed by multiplying two smaller natural numbers. In other words,\n",
    "        a prime number has exactly two positive divisors: 1 and itself.\"\"\"\n",
    "\n",
    "num = int(input(\"Enter a number: \"))\n",
    "\n",
    "if num < 2: # Check if the number is less than 2\n",
    "    print(num, \"is not a prime number.\")\n",
    "\n",
    "else:\n",
    "    is_prime = True # Assume the number is prime initially\n",
    "\n",
    "    for i in range(2, num): # Check for factors from 2 to num - 1\n",
    "        if num % i == 0:  # Check if num is divisible by i\n",
    "            is_prime = False  # Not a prime number\n",
    "            break  # Exit the loop if a divisor is found\n",
    "\n",
    "    if is_prime:\n",
    "        print(num, \"is a prime number.\")\n",
    "    else:\n",
    "        print(num, \"is not a prime number.\")"
   ]
  },
  {
   "cell_type": "code",
   "execution_count": 26,
   "id": "e0840048",
   "metadata": {},
   "outputs": [
    {
     "name": "stdout",
     "output_type": "stream",
     "text": [
      "Count of 'o': 2\n"
     ]
    }
   ],
   "source": [
    "# ------------------------------------------------ Character Counting -----------------------------------------------\n",
    "# Iterate through each character in a string using a for loop, and increment a counter each time the specified character is found.\n",
    "text = \"Hello, World!\"\n",
    "char_to_count = 'o'\n",
    "count = 0\n",
    "\n",
    "for char in text:\n",
    "    if char == char_to_count:\n",
    "        count += 1\n",
    "\n",
    "print(f\"Count of '{char_to_count}':\", count)"
   ]
  },
  {
   "cell_type": "code",
   "execution_count": 27,
   "id": "76b4753f",
   "metadata": {},
   "outputs": [
    {
     "name": "stdout",
     "output_type": "stream",
     "text": [
      "Vowels: 6\n",
      "Consonants: 11\n"
     ]
    }
   ],
   "source": [
    "# Count Digits in a String: In this task, we will count the number of vowels and consonants in a given sentence.\n",
    "\n",
    "text = input(\"Enter the Text you want to iterate upon: \").lower()\n",
    "vowel_count = 0\n",
    "consonant_count = 0\n",
    "vowels = \"aeiou\"\n",
    "\n",
    "for char in text:\n",
    "    if char.isalpha():\n",
    "        if char in vowels:\n",
    "            vowel_count += 1\n",
    "        else:\n",
    "            consonant_count += 1\n",
    "\n",
    "print(\"Vowels:\", vowel_count)\n",
    "print(\"Consonants:\", consonant_count)"
   ]
  },
  {
   "cell_type": "code",
   "execution_count": 30,
   "id": "ca3de8f9",
   "metadata": {},
   "outputs": [
    {
     "name": "stdout",
     "output_type": "stream",
     "text": [
      "4\n",
      "4\n",
      "25\n",
      "5\n",
      "9\n",
      "2\n",
      "2\n",
      "11\n",
      "0\n"
     ]
    }
   ],
   "source": [
    "number = 254\n",
    "total_sum = 0\n",
    "temp_number = number\n",
    "\n",
    "while temp_number > 0:\n",
    "    digit = temp_number % 10\n",
    "    print(digit)\n",
    "    total_sum = total_sum + digit\n",
    "    print(total_sum)\n",
    "    temp_number = temp_number // 10\n",
    "    print(temp_number)"
   ]
  },
  {
   "cell_type": "code",
   "execution_count": null,
   "id": "19f9d057",
   "metadata": {},
   "outputs": [
    {
     "name": "stdout",
     "output_type": "stream",
     "text": [
      "The total magic power of all ingredients is: 44\n"
     ]
    }
   ],
   "source": [
    "n = int(input().strip())\n",
    "total = 0\n",
    "\n",
    "for num in range(n):\n",
    "    int_input = int(input().strip())\n",
    "    total += int_input\n",
    "else:\n",
    "    print(f\"The total magic power of all ingredients is: {total}\")"
   ]
  },
  {
   "cell_type": "code",
   "execution_count": 15,
   "id": "c9250bbf",
   "metadata": {},
   "outputs": [
    {
     "name": "stdout",
     "output_type": "stream",
     "text": [
      "Hi!\n",
      "Hi!!\n",
      "Hi!!!\n"
     ]
    }
   ],
   "source": [
    "base_greeting = input( ).strip()\n",
    "num_greetings = int(input( ).strip())\n",
    "initial_exclamation = int(input( ).strip())\n",
    "\n",
    "end_exclamation = num_greetings + (initial_exclamation - 1)\n",
    "\n",
    "for n in range(initial_exclamation, end_exclamation + 1):\n",
    "    print(base_greeting+\"!\" * n)"
   ]
  },
  {
   "cell_type": "code",
   "execution_count": null,
   "id": "404fb701",
   "metadata": {},
   "outputs": [
    {
     "name": "stdout",
     "output_type": "stream",
     "text": [
      "5X1=5\n",
      "5X2=10\n",
      "5X3=15\n",
      "5X4=20\n",
      "5X5=25\n",
      "5X6=30\n",
      "5X7=35\n",
      "5X8=40\n",
      "5X9=45\n",
      "5X10=50\n"
     ]
    }
   ],
   "source": [
    "N = int(input().strip())\n",
    "\n",
    "for num in range(1, 11):\n",
    "    print(f\"{N} X {num} = {N*num}\")"
   ]
  },
  {
   "cell_type": "code",
   "execution_count": 38,
   "id": "b01b1375",
   "metadata": {},
   "outputs": [
    {
     "name": "stdout",
     "output_type": "stream",
     "text": [
      "The total amount spent is: 35.75\n"
     ]
    }
   ],
   "source": [
    "N = int(input().strip())\n",
    "\n",
    "total = 0\n",
    "for n in range(N):\n",
    "    n = float(input().strip())\n",
    "    total += n\n",
    "\n",
    "print(f\"The total amount spent is: {total}\")"
   ]
  },
  {
   "cell_type": "code",
   "execution_count": null,
   "id": "98284736",
   "metadata": {},
   "outputs": [
    {
     "name": "stdout",
     "output_type": "stream",
     "text": [
      "Total positive score:40\n"
     ]
    }
   ],
   "source": [
    "is_true = True\n",
    "postive_score = 0\n",
    "\n",
    "while is_true:\n",
    "    n = int(input().strip())\n",
    "\n",
    "    if n <= 0:\n",
    "        is_true = False\n",
    "        break\n",
    "    else:\n",
    "        postive_score += n\n",
    "\n",
    "print(f\"Total positive score: {postive_score}\")"
   ]
  },
  {
   "cell_type": "code",
   "execution_count": null,
   "id": "3cfac274",
   "metadata": {},
   "outputs": [
    {
     "name": "stdout",
     "output_type": "stream",
     "text": [
      "Invalid choice.\n",
      "Added Latte to your order.\n",
      "Added Cappuccino to your order.\n",
      "Added Espresso to your order.\n",
      "Added Cappuccino to your order.\n",
      "Thank you for your order!\n",
      "Your total bill is: $12.0\n"
     ]
    }
   ],
   "source": [
    "is_true = True\n",
    "total = 0\n",
    "\n",
    "while is_true:\n",
    "    n = int(input().strip())\n",
    "    if n > 3 or n < 0:\n",
    "        print(\"Invalid choice.\")\n",
    "\n",
    "    if n == 1:\n",
    "        print(\"Added Espresso to your order.\")\n",
    "        total += 2.5\n",
    "    if n == 2:\n",
    "        print(\"Added Latte to your order.\")\n",
    "        total += 3\n",
    "    if n == 3:\n",
    "        print(\"Added Cappuccino to your order.\")\n",
    "        total += 3.25\n",
    "\n",
    "    if n == 0:\n",
    "        is_true = False\n",
    "        break\n",
    "print(f\"Thank you for your order!\\nYour total bill is: ${total}\")"
   ]
  },
  {
   "cell_type": "code",
   "execution_count": null,
   "id": "4f240386",
   "metadata": {},
   "outputs": [
    {
     "name": "stdout",
     "output_type": "stream",
     "text": [
      "Enter the secret code:\n",
      "Enter the secret code:\n",
      "Access granted. Door opening...\n"
     ]
    }
   ],
   "source": [
    "# Secret code to unlock the door\n",
    "secret_code = \"python123\"\n",
    "user_input = \"\"\n",
    "\n",
    "while user_input != secret_code:\n",
    "    user_input = input(\"Enter the secret code:\\n\")\n",
    "\n",
    "print(\"Access granted. Door opening...\")"
   ]
  },
  {
   "cell_type": "code",
   "execution_count": null,
   "id": "7405f05c",
   "metadata": {},
   "outputs": [
    {
     "name": "stdout",
     "output_type": "stream",
     "text": [
      "It will take 3 months to reach your target of $1000.\n",
      "At that time, you will have $1400.\n"
     ]
    }
   ],
   "source": [
    "target_amount = int(input( ))\n",
    "current_savings = int(input( ))\n",
    "monthly_savings = int(input( ))\n",
    "\n",
    "if current_savings >= target_amount:\n",
    "    print(\"Congratulations! You have already reached or exceeded your savings goal.\")\n",
    "# Check if monthly saving is invalid\n",
    "elif monthly_savings <= 0 and current_savings < target_amount:\n",
    "    print(\"Monhtly savings must be positive amount to reach the target.\")\n",
    "else:\n",
    "    remaining_amount = target_amount - current_savings\n",
    "    months_needed = 0\n",
    "\n",
    "    while current_savings < target_amount:\n",
    "        current_savings += monthly_savings\n",
    "        months_needed += 1\n",
    "    print(f\"It will take {months_needed} months to reach your target of ${target_amount}.\")\n",
    "    print(f\"At that time, you will have ${current_savings}.\")"
   ]
  },
  {
   "cell_type": "code",
   "execution_count": null,
   "id": "98dcc3a9",
   "metadata": {},
   "outputs": [
    {
     "name": "stdout",
     "output_type": "stream",
     "text": [
      "Preparing tea with lemon.\n"
     ]
    }
   ],
   "source": [
    "drink_choice = input().strip()\n",
    "\n",
    "if drink_choice == \"Coffee\":\n",
    "    print(\"Preparing your Coffee.\")\n",
    "    sugar = input().strip()\n",
    "    milk = input().strip()\n",
    "    added = False\n",
    "    if sugar == \"yes\":\n",
    "        print(\"With sugar.\")\n",
    "        added = True\n",
    "    if milk == \"yes\":\n",
    "        print(\"With milk.\")\n",
    "        added = True\n",
    "    if not added:\n",
    "        print(\"Plain.\")\n",
    "\n",
    "elif drink_choice == \"Tea\":\n",
    "    print(\"Preparing your Tea.\")\n",
    "    sugar = input().strip()\n",
    "    lemon = input().strip()\n",
    "    added = False\n",
    "    if sugar == \"yes\":\n",
    "        print(\"With sugar.\")\n",
    "        added = True\n",
    "    if lemon == \"yes\":\n",
    "        print(\"With lemon.\")\n",
    "        added = True\n",
    "    if not added:\n",
    "        print(\"Plain.\")\n",
    "\n",
    "elif drink_choice == \"Water\":\n",
    "    print(\"Preparing your Water.\")\n",
    "    ice = input().strip()\n",
    "    if ice == \"yes\":\n",
    "        print(\"With ice.\")\n",
    "    else:\n",
    "        print(\"Plain.\")\n",
    "else:\n",
    "    print(\"Invalid drink choice.\")"
   ]
  },
  {
   "cell_type": "code",
   "execution_count": null,
   "id": "636ed2d3",
   "metadata": {},
   "outputs": [
    {
     "name": "stdout",
     "output_type": "stream",
     "text": [
      "It's cold and rainy. Better to stay indoors with a warm drink!\n"
     ]
    }
   ],
   "source": [
    "t = input().strip()\n",
    "r = input().strip()\n",
    "t= int(t)\n",
    "\n",
    "if r == 'yes' and t < 15:\n",
    "    print(\"It's cold and rainy. Better to stay indoors with a warm drink!\")\n",
    "elif r == 'yes' and t >= 15:\n",
    "    print(\"Don't forget your umbrella if you go out!\")\n",
    "elif r == 'no' and t >= 25:\n",
    "    print(\"Perfect weather for outdoor activities! Don't forget sunscreen.\")\n",
    "elif r == 'no' and 15 <= t and t < 25:\n",
    "    print(\"Pleasant weather. A good day to go for a walk.\")\n",
    "elif r == 'no' and t < 15:\n",
    "    print(\"It's a bit chilly, but dry. A light jacket would be good.\")"
   ]
  },
  {
   "cell_type": "code",
   "execution_count": null,
   "id": "f650d5fd",
   "metadata": {},
   "outputs": [],
   "source": []
  }
 ],
 "metadata": {
  "kernelspec": {
   "display_name": "base",
   "language": "python",
   "name": "python3"
  },
  "language_info": {
   "codemirror_mode": {
    "name": "ipython",
    "version": 3
   },
   "file_extension": ".py",
   "mimetype": "text/x-python",
   "name": "python",
   "nbconvert_exporter": "python",
   "pygments_lexer": "ipython3",
   "version": "3.13.5"
  }
 },
 "nbformat": 4,
 "nbformat_minor": 5
}
