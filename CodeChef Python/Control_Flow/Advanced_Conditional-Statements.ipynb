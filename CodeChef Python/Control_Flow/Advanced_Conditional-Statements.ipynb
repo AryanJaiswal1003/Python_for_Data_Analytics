{
 "cells": [
  {
   "cell_type": "code",
   "execution_count": null,
   "id": "0f474241",
   "metadata": {},
   "outputs": [],
   "source": [
    "# ------------------------------------------------ Advanced Conditional Statements -------------------------------------------------\n",
    "## Contents:\n",
    "    #-- if-elif-else Structure\n",
    "    #-- Nested if Statements\n",
    "    #-- Conditional Expression (Ternary)\n",
    "    #-- Truth Value Testing / Checking none\n",
    "    #-- Membership Testing (in)\n",
    "    #-- Identity Testing (is)\n",
    "    #-- Complex Boolean Expressions"
   ]
  },
  {
   "cell_type": "code",
   "execution_count": 2,
   "id": "199670a2",
   "metadata": {},
   "outputs": [
    {
     "data": {
      "text/plain": [
       "'\\n    if condition1:\\n        # Code executes if condition1 is True\\n    elif condition2:\\n        # Code executes if condition2 is True (and condition1 was False)\\n    elif condition3:\\n        # Code executes if condition3 is True (and previous conditions were False)\\n    else:\\n         # Code executes if none of the above conditions are True\\n'"
      ]
     },
     "execution_count": 2,
     "metadata": {},
     "output_type": "execute_result"
    }
   ],
   "source": [
    "# ------------------------------------------------ if-elif Structure ---------------------------------------------\n",
    "\n",
    "\"\"\"if-elif-else structure, helps programs make decisions based on different conditions. This structure allows your program to choose\n",
    "        between multiple options based on specific conditions.\"\"\"\n",
    "\n",
    "\"\"\"\n",
    "    if condition1:\n",
    "        # Code executes if condition1 is True\n",
    "    elif condition2:\n",
    "        # Code executes if condition2 is True (and condition1 was False)\n",
    "    elif condition3:\n",
    "        # Code executes if condition3 is True (and previous conditions were False)\n",
    "    else:\n",
    "         # Code executes if none of the above conditions are True\n",
    "\"\"\"\n",
    "    # --> if condition1: The first condition checked. If True, the code inside runs, and the rest are skipped.\n",
    "    # --> elif condition2: Checked if the first condition is False. If True, this block executes, and the rest are ignored.\n",
    "    # --> elif condition3: (Optional, multiple elif blocks allowed) → Runs only if all previous conditions are False.\n",
    "    # --> else: Executes only if none of the if or elif conditions are True."
   ]
  },
  {
   "cell_type": "code",
   "execution_count": 3,
   "id": "4c3f32f5",
   "metadata": {},
   "outputs": [
    {
     "data": {
      "text/plain": [
       "'\\nif condition1:\\n    # Code to execute if condition1 is true\\n    if condition2:\\n        # Code to execute if condition2 is true\\n'"
      ]
     },
     "execution_count": 3,
     "metadata": {},
     "output_type": "execute_result"
    }
   ],
   "source": [
    "# ------------------------------------------------ Nested if Structure ---------------------------------------------\n",
    "\n",
    "\"\"\"A nested if is an if statement placed inside another if statement. This means the second condition is checked only\n",
    "        if the first condition is true. It allows us to add more detailed checks within our code.\"\"\"\n",
    "\n",
    "# Here’s a basic structure of a nested if statement:\n",
    "\"\"\"\n",
    "if condition1:\n",
    "    # Code to execute if condition1 is true\n",
    "    if condition2:\n",
    "        # Code to execute if condition2 is true\n",
    "\"\"\"\n",
    "    # --> if condition1: → Checks the first condition; if True, the inner block runs.\n",
    "    # --> if condition2: → A second if inside the first one, checked only if condition1 is True."
   ]
  },
  {
   "cell_type": "code",
   "execution_count": 7,
   "id": "f5303499",
   "metadata": {},
   "outputs": [
    {
     "name": "stdout",
     "output_type": "stream",
     "text": [
      "Even\n",
      "The weather condition is: Warm\n"
     ]
    }
   ],
   "source": [
    "# ------------------------------------------------ Conditional Expression (Ternary) ---------------------------------------------\n",
    "\n",
    "\"\"\"The conditional expression (also called the ternary operator) allows you to write an if-else statement in just one line. Instead\n",
    "        of writing multiple lines to check a condition and return a value, you can express it in a single, clean statement, making your\n",
    "                code look simpler and smarter.\"\"\"\n",
    "\n",
    "# The Basic syntax: \"\"\"value_1 if condition else value_2\"\"\"\n",
    "\n",
    "# Chain syntax: \"\"\"value_1 if condition else value_2 if condition else value_3\"\"\"\n",
    "\n",
    "# Here’s a breakdown of the syntax:\n",
    "    # -- condition: → This is the expression that evaluates to either True or False.\n",
    "    # -- value_if_true: → This is the value that will be returned if the condition is True.\n",
    "    # -- value_if_false: → This is the value that will be returned if the condition is False.\n",
    "\n",
    "# ---------------------------------------------------------------------------------------------------------------------------------\n",
    "# Example - 1: Classifying Number:\n",
    "number = 4\n",
    "\n",
    "result = \"Even\" if number % 2 == 0 else \"Odd\"\n",
    "print(result)  # This will output: Even\n",
    "\n",
    "# ---------------------------------------------------------------------------------------------------------------------------------\n",
    "# Example-2: Classify Weather Conditions:\n",
    "temp = 20\n",
    "\n",
    "weather = \"Cold\" if temp < 15 else \"Warm\" if 15 <= temp < 25 else \"Hot\"\n",
    "print(\"The weather condition is:\", weather)\n"
   ]
  },
  {
   "cell_type": "code",
   "execution_count": null,
   "id": "2f24dfb2",
   "metadata": {},
   "outputs": [
    {
     "name": "stdout",
     "output_type": "stream",
     "text": [
      "You did not enter a movie!\n"
     ]
    }
   ],
   "source": [
    "# ------------------------------------------------ Truth Value Testing / Checking none ---------------------------------------------\n",
    "\n",
    "\"\"\"Truth value testing helps determine whether a value is \"True\" or \"False\", especially in if statements to control program flow.\n",
    "        A common case is checking for None, which represents the absence of a value (similar to null in other languages). In a boolean\n",
    "                context, None evaluates to False, allowing conditional statements to handle such cases efficiently.\"\"\"\n",
    "\n",
    "# Example: Check favorite Movie:\n",
    "movie = input(\"Enter your Favorite Movie: \").title()\n",
    "\n",
    "code = f\"Your favorite movie is {movie}\" if movie else \"You did not enter a movie!\" # Checks if the input is empty\n",
    "print(code)"
   ]
  },
  {
   "cell_type": "code",
   "execution_count": 10,
   "id": "10375576",
   "metadata": {},
   "outputs": [
    {
     "name": "stdout",
     "output_type": "stream",
     "text": [
      "True\n",
      "True\n",
      "True\n",
      "True\n"
     ]
    }
   ],
   "source": [
    "# ------------------------------------------------ Membership Testing (in) ---------------------------------------------\n",
    "\"\"\"Membership testing in Python checks whether a value exists within a collection like a string, list, or tuple using the in\n",
    "        and not in operators.\n",
    "            This operator is commonly used in conditional statements, loops, and validation checks to enhance the logic of programs.\"\"\"\n",
    "\n",
    "\"\"\"Syntax:\n",
    "    # element in collection\n",
    "    # element not in collection\"\"\"\n",
    "\n",
    "    # --> in: Returns True if the element is found in the collection, otherwise False.\n",
    "    # --> not in: Returns True if the element is absent, otherwise False.\n",
    "\n",
    "# ---------------------------------------------------------------------------------------------------------------------------------\n",
    "# Example - 1: Checking a Word in a String:\n",
    "message = \"Welcome to Python programming!\"\n",
    "\n",
    "print(\"Python\" in message)  # Output: True\n",
    "print(\"Java\" not in message)  # Output: True\n",
    "\n",
    "# ---------------------------------------------------------------------------------------------------------------------------------\n",
    "# Example - 2: Checking a Character in a String:\n",
    "text = \"Hello\"\n",
    "\n",
    "print(\"H\" in text)  # Output: True\n",
    "print(\"h\" not in text)  # Output: True\n"
   ]
  },
  {
   "cell_type": "code",
   "execution_count": 14,
   "id": "fac564ac",
   "metadata": {},
   "outputs": [
    {
     "name": "stdout",
     "output_type": "stream",
     "text": [
      "True\n",
      "False\n",
      "True\n"
     ]
    }
   ],
   "source": [
    "# ------------------------------------------------ Identity Testing (is) ---------------------------------------------\n",
    "\n",
    "\"\"\"The is operator checks whether two variables refer to the same object in memory, not just if their values\n",
    "        are equal. This differs from ==, which only compares values.\"\"\"\n",
    "\n",
    "\"\"\"\n",
    "    --> Use 'is' when you specifically need to know if two variables are referencing the exact same object. A common\n",
    "            use case is checking if a variable is None.\n",
    "\n",
    "    --> Use '==' when you need to know if two variables have the same value, regardless of whether they are the same\n",
    "            object. This is more common for comparing numbers, strings, lists, or other data structures.\n",
    "\"\"\"\n",
    "\n",
    "# ---------------------------------------------------------------------------------------------------------------------------------\n",
    "# Example: is with Integers/List:\n",
    "x = 100\n",
    "y = 100\n",
    "\n",
    "a=[1,2,3]\n",
    "b=[1,2,3]\n",
    "\n",
    "print(x is y)  # True\n",
    "print(a is b)  # False\n",
    "print(a == b)  # True"
   ]
  },
  {
   "cell_type": "code",
   "execution_count": 15,
   "id": "b37937f8",
   "metadata": {},
   "outputs": [
    {
     "name": "stdout",
     "output_type": "stream",
     "text": [
      "Allowed to proceed\n",
      "Entry allowed\n"
     ]
    }
   ],
   "source": [
    "# ------------------------------------------------ Complex Boolean Expressions ---------------------------------------------\n",
    "\n",
    "\"\"\"In Python, a complex Boolean expression refers to an advanced conditional statement that combines multiple logical operators\n",
    "        (and, or, not) and may include nested conditions or grouped expressions using parentheses. These expressions determine True or\n",
    "                False outcomes based on multiple factors.\"\"\"\n",
    "\n",
    "# Example - 1:\n",
    "age = 17\n",
    "has_permission = True\n",
    "parent_approval = False\n",
    "\n",
    "if (age >= 18 or has_permission) and not parent_approval:\n",
    "    print(\"Allowed to proceed\")\n",
    "\n",
    "# ---------------------------------------------------------------------------------------------------------------------------------\n",
    "# Example - 2: Theme Park Eligibility\n",
    "\"\"\"The conditions for entry are as follows:\n",
    "    --> A person must be at least 12 years old and possess a ride pass to enter the ride.\n",
    "    --> If they do not meet these criteria, entry is still possible if they are accompanied by an adult or if they have a VIP pass.\n",
    "    --> If none of these conditions are met, entry is denied.\n",
    "\"\"\"\n",
    "age = 10  # Example: Person's age\n",
    "has_ride_pass = False  # Does the person have a valid ride pass?\n",
    "accompanied_by_adult = True  # Is the person accompanied by an adult?\n",
    "is_vip = False  # Does the person have VIP status?\n",
    "\n",
    "if (age >= 12 and has_ride_pass) or (accompanied_by_adult or is_vip):\n",
    "    print(\"Entry allowed\")\n",
    "else:\n",
    "    print(\"Entry denied\")\n"
   ]
  }
 ],
 "metadata": {
  "kernelspec": {
   "display_name": "base",
   "language": "python",
   "name": "python3"
  },
  "language_info": {
   "codemirror_mode": {
    "name": "ipython",
    "version": 3
   },
   "file_extension": ".py",
   "mimetype": "text/x-python",
   "name": "python",
   "nbconvert_exporter": "python",
   "pygments_lexer": "ipython3",
   "version": "3.13.5"
  }
 },
 "nbformat": 4,
 "nbformat_minor": 5
}
