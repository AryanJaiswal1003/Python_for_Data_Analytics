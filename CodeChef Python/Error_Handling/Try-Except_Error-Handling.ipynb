{
 "cells": [
  {
   "cell_type": "markdown",
   "id": "85871a64",
   "metadata": {},
   "source": [
    "##### ***Basics of Try-Except in Python:***\n",
    "1. Errors in Python can occur at two stages:  \n",
    "   - **Compile-time errors** → Detected before execution (e.g., syntax mistakes).  \n",
    "   - **Run-time errors** → Occur during execution, which may cause the program to **crash unexpectedly**.  \n",
    "2. To prevent the program from crashing due to run-time errors, Python provides the **try-except** mechanism.  \n",
    "3. A `try-except` block allows you to:  \n",
    "   - Attempt to run code that may raise an error (`try`).  \n",
    "   - Handle the error gracefully with a **custom message or alternate logic** (`except`).  \n",
    "---\n",
    "```python\n",
    "# Syntax:\n",
    "    try:\n",
    "        # Code that might raise an exception\n",
    "    except:\n",
    "        # Code to handle the exception\n",
    "```"
   ]
  },
  {
   "cell_type": "code",
   "execution_count": null,
   "id": "922e028f",
   "metadata": {},
   "outputs": [
    {
     "name": "stdout",
     "output_type": "stream",
     "text": [
      "Error: invalid value of c\n",
      "This line will also be printed, as our program is not crashed\n",
      "Error: invalid value of c\n",
      "This line will also be printed, as our program is not crashed\n",
      "Error: invalid value of c\n",
      "This line will also be printed, as our program is not crashed\n"
     ]
    }
   ],
   "source": [
    "i = 0\n",
    "while i < 3:\n",
    "    a = 10\n",
    "    b = 0\n",
    "    try:\n",
    "        c = a / b  # This will raise a ZeroDivisionError\n",
    "    except:\n",
    "        print(\"Error: invalid value of c\")\n",
    "        c = None  # Assigning a default value to prevent a crash\n",
    "    print(\"This line will also be printed, as our program is not crashed\")\n",
    "    i=i+1"
   ]
  },
  {
   "cell_type": "code",
   "execution_count": 3,
   "id": "9826edaa",
   "metadata": {},
   "outputs": [
    {
     "name": "stdout",
     "output_type": "stream",
     "text": [
      "Invalid input. Please enter a valid integer.\n",
      "Invalid input. Please enter a valid integer.\n",
      "You entered the integer: 12\n"
     ]
    }
   ],
   "source": [
    "# Write a program to take an integer input and handle cases where the user enters invalid input?\n",
    "while True:\n",
    "    try:\n",
    "        user_input = int(input(\"Please enter an integer: \"))\n",
    "        print(f\"You entered the integer: {user_input}\")\n",
    "        break  # Exit the loop if input is valid\n",
    "    except ValueError:\n",
    "        print(\"Invalid input. Please enter a valid integer.\")"
   ]
  },
  {
   "cell_type": "markdown",
   "id": "89112f4b",
   "metadata": {},
   "source": [
    "##### ***Handling Multiple Exceptions in Python Try-Except Blocks:***\n",
    "1. The `try-except` block not only prevents programs from crashing but can also handle **specific error types**.  \n",
    "2. If we don’t know the **type of error**, we may not handle it properly.  \n",
    "3. By using **multiple `except` blocks**, Python allows us to catch and handle **different runtime errors separately**.  \n",
    "4. This improves **clarity, debugging, and user-friendly error messages**.  \n",
    "---\n",
    "##### ***Common Runtime Errors to Handle:***\n",
    "- **ZeroDivisionError** → Dividing a number by zero.  \n",
    "- **ValueError** → Passing an invalid value (e.g., converting text to int).  \n",
    "- **TypeError** → Performing an operation on incompatible data types.  \n",
    "- **IndexError** → Accessing a list index that doesn’t exist.  \n",
    "- **KeyError** → Accessing a dictionary key that is not present.  \n",
    "- **FileNotFoundError** → Trying to open a file that does not exist.  \n",
    "---\n",
    "##### ***Syntax for Multiple Exceptions:***\n",
    "```python\n",
    "    try:\n",
    "        # Code that might raise exceptions\n",
    "    except ZeroDivisionError:\n",
    "        # Handle division by zero\n",
    "    except ValueError:\n",
    "        # Handle invalid values\n",
    "    except TypeError:\n",
    "        # Handle wrong data type usage\n",
    "    except IndexError:\n",
    "        # Handle list index out of range\n",
    "    except KeyError:\n",
    "        # Handle missing dictionary key\n",
    "    except FileNotFoundError:\n",
    "        # Handle missing file\n",
    "```"
   ]
  },
  {
   "cell_type": "code",
   "execution_count": 6,
   "id": "2f34b016",
   "metadata": {},
   "outputs": [
    {
     "name": "stdout",
     "output_type": "stream",
     "text": [
      "I GOT VALUE ERROR!!!... ENTER A VALID INTEGER\n",
      "YOU DIVIDED SOME VALUE BY O??\n",
      "1.0\n"
     ]
    }
   ],
   "source": [
    "# Example: Handling Multiple Exception Types\n",
    "while True:\n",
    "    try:\n",
    "        # Code that might raise exceptions\n",
    "        number = int(input(\"Enter a number: \"))\n",
    "        result = 10 / number\n",
    "        print(result)\n",
    "        break  # Exit loop if successful\n",
    "    except ValueError:\n",
    "        print(\"I GOT VALUE ERROR!!!... ENTER A VALID INTEGER\")\n",
    "    except ZeroDivisionError:\n",
    "        print(\"YOU DIVIDED SOME VALUE BY O??\")"
   ]
  },
  {
   "cell_type": "markdown",
   "id": "30cde506",
   "metadata": {},
   "source": [
    "##### ***The else Block in Try-Except (Python):***\n",
    "1. In Python’s `try-except` structure, an additional **`else` block** can be used.  \n",
    "2. The `else` block is executed **only when no exceptions occur** in the `try` block.  \n",
    "3. It helps improve **code readability** by separating:  \n",
    "   - Code that may raise exceptions (`try`).  \n",
    "   - Code that handles exceptions (`except`).  \n",
    "   - Code that should run normally if everything works fine (`else`).  \n",
    "---\n",
    "##### Syntax:\n",
    "```python\n",
    "    try:\n",
    "        # Code that might raise an exception\n",
    "    except ExceptionType:\n",
    "        # Handle the exception\n",
    "    else:\n",
    "        # Code to run if no exception occurred\n",
    "```"
   ]
  },
  {
   "cell_type": "code",
   "execution_count": 8,
   "id": "4804345a",
   "metadata": {},
   "outputs": [
    {
     "name": "stdout",
     "output_type": "stream",
     "text": [
      "Error: Cannot divide by zero!\n",
      "The result is: 5.0\n"
     ]
    }
   ],
   "source": [
    "# Example: Using else with try-except:\n",
    "while True:\n",
    "    try:\n",
    "        number = int(input(\"Enter a number: \"))\n",
    "        result = 10 / number\n",
    "    except ZeroDivisionError:\n",
    "        print(\"Error: Cannot divide by zero!\")\n",
    "    else:\n",
    "        print(f\"The result is: {result}\") # prints the result if no exception encountere\n",
    "        break"
   ]
  },
  {
   "cell_type": "code",
   "execution_count": 11,
   "id": "1b475b47",
   "metadata": {},
   "outputs": [
    {
     "name": "stdout",
     "output_type": "stream",
     "text": [
      "Error: Invalid input\n",
      "100.0\n",
      "Calculation successful\n"
     ]
    }
   ],
   "source": [
    "# Square in else:\n",
    "\n",
    "while True:\n",
    "    try:\n",
    "        num = float(input(\"Enter a Number: \"))  # Taking input and converting to float\n",
    "        square = num ** 2  # Calculating square\n",
    "    except ValueError:\n",
    "        print(\"Error: Invalid input\")  # Handling invalid input\n",
    "    else:\n",
    "        print(square)\n",
    "        print(\"Calculation successful\")  # This runs only if no exception occurs\n",
    "        break"
   ]
  },
  {
   "cell_type": "code",
   "execution_count": 12,
   "id": "7514cc23",
   "metadata": {},
   "outputs": [
    {
     "name": "stdout",
     "output_type": "stream",
     "text": [
      "Error: Invalid Input\n",
      "Even Number\n"
     ]
    }
   ],
   "source": [
    "# Try error else Even-Odd:\n",
    "\n",
    "while True:\n",
    "    try:\n",
    "        num = float(input(\"Enter the Number: \"))  # Taking input and converting to float\n",
    "        if num % 2 == 0:\n",
    "            is_even = True\n",
    "        else:\n",
    "            is_even = False\n",
    "    except ValueError:\n",
    "        print(\"Error: Invalid Input\")\n",
    "    else:\n",
    "        if is_even:\n",
    "            print(\"Even Number\")\n",
    "        else:\n",
    "            print(\"Odd Number\")\n",
    "        break"
   ]
  },
  {
   "cell_type": "markdown",
   "id": "b9fde0e0",
   "metadata": {},
   "source": [
    "##### ***The finally Block in Try-Except (Python):***\n",
    "1. Just like the `else` block, Python provides a **`finally` block** in the `try-except` structure.  \n",
    "2. The `finally` block contains code that will **always execute**, regardless of whether an exception occurred or not.  \n",
    "3. While you could write code after the `try-except` block, the `finally` block ensures **guaranteed execution**, even if:  \n",
    "   - An exception occurs.  \n",
    "   - The program flow is interrupted (e.g., by `return`, `break`, or `continue`).  \n",
    "4. It is commonly used for **cleanup operations**, such as closing files, releasing resources, or disconnecting from a database.  \n",
    "---\n",
    "####\n",
    "```"
   ]
  },
  {
   "cell_type": "code",
   "execution_count": 13,
   "id": "d541d5a6",
   "metadata": {},
   "outputs": [
    {
     "name": "stdout",
     "output_type": "stream",
     "text": [
      "Error\n",
      "Piece of code after try-except\n",
      "Error\n",
      "Piece of code inside finally\n"
     ]
    }
   ],
   "source": [
    "# Example Without finally (No Guarantee):\n",
    "try:\n",
    "    c = 10 / 0\n",
    "except:\n",
    "    print(\"Error\")\n",
    "print(\"Piece of code after try-except\")\n",
    "\n",
    "# ---------------------------------------------------------------------------------------------------------------\n",
    "# Example With finally (Guaranteed Execution):\n",
    "try:\n",
    "    c = 10 / 0\n",
    "except:\n",
    "    print(\"Error\")\n",
    "finally:\n",
    "    print(\"Piece of code inside finally\")"
   ]
  }
 ],
 "metadata": {
  "kernelspec": {
   "display_name": "base",
   "language": "python",
   "name": "python3"
  },
  "language_info": {
   "codemirror_mode": {
    "name": "ipython",
    "version": 3
   },
   "file_extension": ".py",
   "mimetype": "text/x-python",
   "name": "python",
   "nbconvert_exporter": "python",
   "pygments_lexer": "ipython3",
   "version": "3.13.5"
  }
 },
 "nbformat": 4,
 "nbformat_minor": 5
}
