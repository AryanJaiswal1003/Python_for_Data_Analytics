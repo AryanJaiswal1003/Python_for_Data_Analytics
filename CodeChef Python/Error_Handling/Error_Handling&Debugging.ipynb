{
 "cells": [
  {
   "cell_type": "markdown",
   "id": "d494454c",
   "metadata": {},
   "source": [
    "##### ***Understanding Common Error Types – Compilation Errors:***\n",
    "1. In Python, **compilation errors** occur when the interpreter cannot translate the code into bytecode due to mistakes in syntax or structure.  \n",
    "2. This process, known as **compilation**, happens **before the program runs**.  \n",
    "3. If errors are present, the program cannot execute until they are corrected.  \n",
    "4. Compilation errors are usually **syntax-related**, such as missing colons, incorrect indentation, or invalid variable names.  \n",
    "---\n",
    "##### ***Key Point:***\n",
    "- Compilation errors prevent the program from running at all and must be resolved before execution."
   ]
  },
  {
   "cell_type": "code",
   "execution_count": null,
   "id": "3768b1bb",
   "metadata": {},
   "outputs": [
    {
     "ename": "SyntaxError",
     "evalue": "'(' was never closed (3915970186.py, line 5)",
     "output_type": "error",
     "traceback": [
      "\u001b[1;36m  Cell \u001b[1;32mIn[1], line 5\u001b[1;36m\u001b[0m\n\u001b[1;33m    print(\"Hello, World!\"  # Error: Missing closing parenthesis\u001b[0m\n\u001b[1;37m         ^\u001b[0m\n\u001b[1;31mSyntaxError\u001b[0m\u001b[1;31m:\u001b[0m '(' was never closed\n"
     ]
    }
   ],
   "source": [
    "# Misspelled Keywords\n",
    "pritn(\"Hello, World!\")  # Error: 'pritn' is not a recognized keyword\n",
    "\n",
    "# ---------------------------------------------------------------------------------------------------------------\n",
    "# Missing or Extra Punctuation\n",
    "print(\"Hello, World!\"  # Error: Missing closing parenthesis\n",
    "\n",
    "# ---------------------------------------------------------------------------------------------------------------\n",
    "# Improper Indentation\n",
    "while i >= 0:\n",
    "print(\"Hello\")  # Error: IndentationError, expected an indented block"
   ]
  },
  {
   "cell_type": "markdown",
   "id": "dee29151",
   "metadata": {},
   "source": [
    "##### ***Understanding Common Error Types – Run-time Errors:***\n",
    "1. **Run-time errors** occur while the program is **running**, unlike syntax errors which are detected before execution.  \n",
    "2. The program may start successfully, but an **unexpected condition** during execution prevents it from completing.  \n",
    "3. These errors often happen due to **invalid operations** or **unexpected input** provided by the user.  \n",
    "4. Examples include:  \n",
    "   - Dividing a number by zero.  \n",
    "   - Accessing a list element at an invalid index.  \n",
    "   - Receiving incorrect input from the user that the program cannot handle.  \n",
    "---\n",
    "##### ***Key Point:***\n",
    "- Run-time errors cause the program to **stop unexpectedly during execution** and must be handled using techniques like error handling (`try-except`) to ensure program stability."
   ]
  },
  {
   "cell_type": "code",
   "execution_count": null,
   "id": "9e88501a",
   "metadata": {},
   "outputs": [
    {
     "ename": "NameError",
     "evalue": "name 'undeclared_var' is not defined",
     "output_type": "error",
     "traceback": [
      "\u001b[1;31m---------------------------------------------------------------------------\u001b[0m",
      "\u001b[1;31mNameError\u001b[0m                                 Traceback (most recent call last)",
      "Cell \u001b[1;32mIn[2], line 2\u001b[0m\n\u001b[0;32m      1\u001b[0m \u001b[38;5;66;03m#1. Output Operations: Trying to print a variable that hasn't been defined\u001b[39;00m\n\u001b[1;32m----> 2\u001b[0m \u001b[38;5;28mprint\u001b[39m(undeclared_var)  \u001b[38;5;66;03m# This will cause a run-time error\u001b[39;00m\n\u001b[0;32m      4\u001b[0m \u001b[38;5;66;03m#2. Integer and Float Operations: Dividing by zero causes a run-time error\u001b[39;00m\n\u001b[0;32m      5\u001b[0m result \u001b[38;5;241m=\u001b[39m \u001b[38;5;241m10\u001b[39m \u001b[38;5;241m/\u001b[39m \u001b[38;5;241m0\u001b[39m  \u001b[38;5;66;03m# This will raise a ZeroDivisionError\u001b[39;00m\n",
      "\u001b[1;31mNameError\u001b[0m: name 'undeclared_var' is not defined"
     ]
    }
   ],
   "source": [
    "#1. Output Operations: Trying to print a variable that hasn't been defined\n",
    "print(undeclared_var)  # This will cause a run-time error\n",
    "\n",
    "# ---------------------------------------------------------------------------------------------------------------\n",
    "#2. Integer and Float Operations: Dividing by zero causes a run-time error\n",
    "result = 10 / 0  # This will raise a ZeroDivisionError\n",
    "\n",
    "# ---------------------------------------------------------------------------------------------------------------\n",
    "#3. String Methods: Accessing an out-of-range index in a string\n",
    "string = \"hello\"\n",
    "char = string[10]  # This will cause an IndexError"
   ]
  },
  {
   "cell_type": "markdown",
   "id": "726d58a0",
   "metadata": {},
   "source": [
    "##### ***Understanding Common Error Types – Logical Errors:***\n",
    "1. **Logical errors** occur when a program runs without crashing but produces **incorrect or unexpected results**.  \n",
    "2. Unlike syntax or run-time errors, they do **not generate error messages**, making them harder to detect.  \n",
    "3. Logical errors often arise due to:  \n",
    "   - Misunderstanding the program’s logic.  \n",
    "   - Incorrect assumptions about data.  \n",
    "   - Flawed algorithms or conditions.  \n",
    "4. Since the program executes normally, these errors can only be spotted by **carefully checking results**.  \n",
    "---\n",
    "##### ***Key Point:***\n",
    "- Logical errors require **testing, debugging, and validation** (e.g., using `print()` statements or debuggers) to ensure the program behaves as intended."
   ]
  },
  {
   "cell_type": "code",
   "execution_count": 3,
   "id": "275550df",
   "metadata": {},
   "outputs": [
    {
     "name": "stdout",
     "output_type": "stream",
     "text": [
      "-5\n",
      "Number is positive\n"
     ]
    }
   ],
   "source": [
    "#1. Incorrect Calculation: Intended: Add two numbers\n",
    "num1 = 5\n",
    "num2 = 10\n",
    "\n",
    "# Logical Error: Using subtraction instead of addition\n",
    "result = num1 - num2\n",
    "print(result)  # Output: -5 (Incorrect result)\n",
    "\n",
    "# ---------------------------------------------------------------------------------------------------------------\n",
    "#2. Incorrect Function Logic: Intended: Check if a number is positive\n",
    "number = -10\n",
    "\n",
    "# Logical Error: Incorrect condition for checking positive numbers\n",
    "if number <= 0:\n",
    "    print(\"Number is positive\")  # Output: \"Number is positive\" (Incorrect result)"
   ]
  },
  {
   "cell_type": "markdown",
   "id": "4e106544",
   "metadata": {},
   "source": [
    "##### ***Print Statement Debugging in Python:***\n",
    "1. **Print statement debugging** is a simple yet effective technique to identify and fix errors in your code.  \n",
    "2. It involves adding `print()` statements to display values and track the **flow of execution**.  \n",
    "3. This method helps you:  \n",
    "   - Check the values of variables at specific points.  \n",
    "   - Understand how the program is behaving step by step.  \n",
    "   - Confirm whether certain parts of the code are being executed.  \n",
    "4. By strategically placing print statements, you can **locate issues quickly** without using advanced debugging tools.  \n",
    "---\n",
    "##### ***Syntax***:\n",
    "```python\n",
    "        print(\"Message:\", variable)\n",
    "            # Message  → The description of the check\n",
    "            # variable → The value you want to check\n",
    "```"
   ]
  },
  {
   "cell_type": "code",
   "execution_count": 4,
   "id": "a7b73cfb",
   "metadata": {},
   "outputs": [
    {
     "name": "stdout",
     "output_type": "stream",
     "text": [
      "Before calculation: a = 5 , b = 10\n",
      "After calculation: sum_result = 15\n"
     ]
    }
   ],
   "source": [
    "# xamples: Basic Print Statement Debugging\n",
    "a = 5\n",
    "b = 10\n",
    "\n",
    "# Print before calculation to check values\n",
    "print(\"Before calculation: a =\", a, \", b =\", b)  # Output: Before calculation: a = 5 , b = 10\n",
    "# It helps verify that the correct values are assigned to the variables.\n",
    "\n",
    "sum_result = a + b  # Perform the calculation: a + b\n",
    "\n",
    "# Print after the calculation to check the result\n",
    "print(\"After calculation: sum_result =\", sum_result)  # Output: After calculation: sum_result = 15\n",
    "# It helps verify that the calculation was performed correctly and the result is as expected."
   ]
  },
  {
   "cell_type": "markdown",
   "id": "66952e67",
   "metadata": {},
   "source": [
    "##### ***Common Bug Patterns / Examples in Python:***\n",
    "1. While programming in Python, certain **common bug patterns** frequently occur.  \n",
    "2. Recognizing these patterns makes debugging faster and improves your programming skills.  \n",
    "3. Typical bug patterns include:  \n",
    "   - **Syntax mistakes** → Missing colons, parentheses, or indentation errors.  \n",
    "   - **Run-time issues** → Division by zero, invalid type operations, or accessing out-of-range indices.  \n",
    "   - **Logical errors** → Incorrect formulas, wrong conditions in loops, or flawed assumptions.  \n",
    "   - **Variable-related bugs** → Using undefined variables or overwriting variables unintentionally.  \n",
    "   - **Data type mismatches** → Performing operations on incompatible data types.  \n",
    "4. To tackle bugs effectively:  \n",
    "   - Keep your code **organized with comments**.  \n",
    "   - Carefully **read and analyze error messages** for clues.  \n",
    "   - Use debugging methods such as **print statements** or a **debugger tool**.  \n",
    "---\n",
    "##### ***Key Point:***\n",
    "- Identifying bug patterns early makes debugging more systematic and less time-consuming."
   ]
  },
  {
   "cell_type": "code",
   "execution_count": 5,
   "id": "547d9135",
   "metadata": {},
   "outputs": [
    {
     "ename": "SyntaxError",
     "evalue": "'(' was never closed (3875287459.py, line 17)",
     "output_type": "error",
     "traceback": [
      "\u001b[1;36m  Cell \u001b[1;32mIn[5], line 17\u001b[1;36m\u001b[0m\n\u001b[1;33m    print(\"Hello\"  # SyntaxError: unexpected EOF while parsing\u001b[0m\n\u001b[1;37m         ^\u001b[0m\n\u001b[1;31mSyntaxError\u001b[0m\u001b[1;31m:\u001b[0m '(' was never closed\n"
     ]
    }
   ],
   "source": [
    "# Common Bug Patterns:\n",
    "\n",
    "\"\"\"Off-by-One Errors: The loop iterates through the list, but 'i+1' causes an index to go out of range on the last\n",
    "        iteration.\"\"\"\n",
    "numbers = [1, 2, 3, 4]\n",
    "\n",
    "for i in range(len(numbers)):\n",
    "    print(numbers[i+1])  # IndexError on the last iteration\n",
    "\n",
    "# ---------------------------------------------------------------------------------------------------------------\n",
    "\"\"\"Using the Wrong Data Type: Occurs when a program mixes incompatible data types.\"\"\"\n",
    "age = \"25\"\n",
    "print(age + 5)  # TypeError: cannot concatenate 'str' and 'int'\n",
    "\n",
    "# ---------------------------------------------------------------------------------------------------------------\n",
    "\"\"\"Mismatched Parentheses: Happens when a parenthesis is missing or misplaced, causing a syntax error.\"\"\"\n",
    "print(\"Hello\"  # SyntaxError: unexpected EOF while parsing\n",
    "\n",
    "# ---------------------------------------------------------------------------------------------------------------\n",
    "\"\"\"Logical Errors: These errors do not cause crashes, but they produce incorrect results due to incorrect logic.\"\"\"\n",
    "def calculate_discount(price):\n",
    "    return price * 20  # Mistakenly used 20 instead of 0.20 for 20% discount\n",
    "print(calculate_discount(100))  # Output: 2000 (instead of 20)\n",
    "\n",
    "# ---------------------------------------------------------------------------------------------------------------\n",
    "\"\"\"Infinite Loops: Occurs when a loop never terminates, leading to program freezing.\"\"\"\n",
    "x = 5\n",
    "while x > 0:\n",
    "    print(x)  # Infinite loop because x is never updated\n",
    "\n",
    "# ---------------------------------------------------------------------------------------------------------------\n",
    "\"\"\"Index Errors: Occurs when trying to access an invalid index in a list or tuple.\"\"\"\n",
    "numbers = [1, 2, 3]\n",
    "print(numbers[5])  # IndexError: list index out of range"
   ]
  }
 ],
 "metadata": {
  "kernelspec": {
   "display_name": "base",
   "language": "python",
   "name": "python3"
  },
  "language_info": {
   "codemirror_mode": {
    "name": "ipython",
    "version": 3
   },
   "file_extension": ".py",
   "mimetype": "text/x-python",
   "name": "python",
   "nbconvert_exporter": "python",
   "pygments_lexer": "ipython3",
   "version": "3.13.5"
  }
 },
 "nbformat": 4,
 "nbformat_minor": 5
}
