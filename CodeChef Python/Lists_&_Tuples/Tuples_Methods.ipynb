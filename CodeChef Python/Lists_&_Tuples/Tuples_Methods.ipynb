{
 "cells": [
  {
   "cell_type": "code",
   "execution_count": 1,
   "id": "4e6744ac",
   "metadata": {},
   "outputs": [],
   "source": [
    "# ------------------------------------------------ Tuple Methods -----------------------------------------------\n",
    "## Contents:--\n",
    "    #-- count() Method\n",
    "    #-- Index method\n",
    "    #-- Built-in Functions with Tuples (len(); min(); max(); sum())"
   ]
  },
  {
   "cell_type": "markdown",
   "id": "7bbdb84e",
   "metadata": {},
   "source": [
    "##### ***`count()` Method in Tuples:***\n",
    "1. The `count()` method in tuples is used to determine how many times a **specific value** appears within the tuple.  \n",
    "2. It is especially useful in **data analysis tasks** where frequency determination is required.  \n",
    "3. Since tuples are **immutable**, this method only counts occurrences without altering the tuple’s content.  \n",
    "---\n",
    "##### ***Syntax***:\n",
    "```python\n",
    "    ➡️ tuple_name.count(value)\n",
    "        # tuple_name → The tuple in which you want to count.\n",
    "        # value      → The element whose frequency needs to be counted.\n",
    "```"
   ]
  },
  {
   "cell_type": "code",
   "execution_count": 2,
   "id": "a359a3a4",
   "metadata": {},
   "outputs": [
    {
     "name": "stdout",
     "output_type": "stream",
     "text": [
      "Number of times 'blue' appears: 3\n"
     ]
    }
   ],
   "source": [
    "colors = ('red', 'blue', 'green', 'blue', 'red', 'blue')\n",
    "\n",
    "# Using count() to determine how many times 'blue' appears in the tuple\n",
    "blue_count = colors.count('blue')\n",
    "print(\"Number of times 'blue' appears:\", blue_count)  # Output: 3"
   ]
  },
  {
   "cell_type": "code",
   "execution_count": 3,
   "id": "71689a1c",
   "metadata": {},
   "outputs": [
    {
     "name": "stdout",
     "output_type": "stream",
     "text": [
      "The element 'apple' appears 3 time(s) in the tuple.\n"
     ]
    }
   ],
   "source": [
    "#Counting Element Occurrences in a Tuple:\n",
    "user_input = input(\"Enter elements for Tuples: \").strip()\n",
    "search_element = input(\"Enter word to search: \").strip().lower()\n",
    "\n",
    "user_tuple = tuple(char.strip().lower() for char in user_input.split(\",\")) # Convert input into a tuple\n",
    "count_result = user_tuple.count(search_element)\n",
    "\n",
    "print(f\"The element '{search_element}' appears {count_result} time(s) in the tuple.\")"
   ]
  },
  {
   "cell_type": "markdown",
   "id": "7a7de31b",
   "metadata": {},
   "source": [
    "##### ***`index()` Method in Tuples:***\n",
    "1. The `index()` method in tuples is used to **find the first occurrence** of a specified value.  \n",
    "2. It searches through the tuple from the **beginning to end (or within a range if specified)**.  \n",
    "3. If the element is found, it returns the **index position** of the first match.  \n",
    "4. If the element is not found, a **ValueError** is raised.  \n",
    "5. Optional parameters `start` and `end` allow you to limit the search to a **specific range**.  \n",
    "---\n",
    "##### ***Syntax***:\n",
    "```python\n",
    "    ➡️ tuple_name.index(value, start, end)\n",
    "        # tuple_name → The tuple being searched.\n",
    "        # value      → The element whose index you want to find.\n",
    "        # start      → (Optional) The starting index of the search.\n",
    "        # end        → (Optional) The ending index of the search.\n",
    "```"
   ]
  },
  {
   "cell_type": "code",
   "execution_count": 4,
   "id": "c5c7fcb1",
   "metadata": {},
   "outputs": [
    {
     "name": "stdout",
     "output_type": "stream",
     "text": [
      "The first occurrence of 20 is at index: 1\n"
     ]
    }
   ],
   "source": [
    "example_tuple = (10, 20, 30, 40, 50, 20)\n",
    "\n",
    "# Using index() to find the position of the number 20\n",
    "index_of_twenty = example_tuple.index(20)\n",
    "print(\"The first occurrence of 20 is at index:\", index_of_twenty)  # Output: 2"
   ]
  },
  {
   "cell_type": "code",
   "execution_count": 5,
   "id": "86f3dd06",
   "metadata": {},
   "outputs": [
    {
     "name": "stdout",
     "output_type": "stream",
     "text": [
      "The city 'Paris' is found at index 0.\n"
     ]
    }
   ],
   "source": [
    "# Finding the Index of a City:\n",
    "cities = (\"Paris\", \"Tokyo\", \"New York\", \"London\", \"Dubai\", \"Rome\", \"Sydney\")\n",
    "user_input = input(\"Enter the City Name to find: \").strip()\n",
    "\n",
    "if user_input in cities:\n",
    "    index = cities.index(user_input)\n",
    "    print(f\"The city '{user_input}' is found at index {index}.\")\n",
    "\n",
    "else:\n",
    "    print(\"City not found.\")"
   ]
  },
  {
   "cell_type": "markdown",
   "id": "af093119",
   "metadata": {},
   "source": [
    "##### ***Built-in Functions with Tuples in Python (len(), min(), max(), sum()):***\n",
    "1. Python provides several **built-in functions** that allow efficient operations on tuples **without modifying them**.  \n",
    "2. These functions help in retrieving key information such as **length, minimum, maximum, and sum** of elements, making tuple handling more convenient.  \n",
    "---\n",
    "##### ***1. len() – Get Tuple Length***:\n",
    "```python\n",
    "    ➡️ len(tuple_name)\n",
    "        # Returns the total number of elements in the tuple\n",
    "    ➡️ min(tuple_name)\n",
    "        # Returns the smallest element in the tuple\n",
    "        # Works with numbers or strings (homogeneous data only)\n",
    "    ➡️ max(tuple_name)\n",
    "        # Returns the largest element in the tuple\n",
    "        # Works with numbers or strings (homogeneous data only)\n",
    "    ➡️ sum(tuple_name)\n",
    "        # Returns the total sum of all numeric elements in the tuple\n",
    "        # Does not work with non-numeric data types\n",
    "```"
   ]
  },
  {
   "cell_type": "code",
   "execution_count": 6,
   "id": "7b0e3edf",
   "metadata": {},
   "outputs": [
    {
     "name": "stdout",
     "output_type": "stream",
     "text": [
      "Total students: 9\n",
      "Highest score: 95\n",
      "Lowest score: 76\n",
      "Total sum of scores: 777\n"
     ]
    }
   ],
   "source": [
    "student_scores = (85, 90, 78, 92, 88, 76, 95, 89, 84)\n",
    "\n",
    "# Use built-in functions to analyze scores\n",
    "total_students = len(student_scores)  # Count total students\n",
    "highest_score = max(student_scores)  # Get highest score\n",
    "lowest_score = min(student_scores)  # Get lowest score\n",
    "total_sum = sum(student_scores)  # Calculate total sum of scores\n",
    "\n",
    "print(\"Total students:\", total_students)\n",
    "print(\"Highest score:\", highest_score)\n",
    "print(\"Lowest score:\", lowest_score)\n",
    "print(\"Total sum of scores:\", total_sum)"
   ]
  },
  {
   "cell_type": "code",
   "execution_count": 8,
   "id": "8bb0eb21",
   "metadata": {},
   "outputs": [
    {
     "name": "stdout",
     "output_type": "stream",
     "text": [
      "Javelin Throw Scores: (65.4, 72.8, 59.2, 80.1, 66.7)\n",
      "Total number of participants: 5\n",
      "Longest throw: 80.1 meters\n",
      "Shortest throw: 59.2 meters\n",
      "Total sum of throws: 344.2 meters\n"
     ]
    }
   ],
   "source": [
    "# Analyze Javelin Throw Scores:\n",
    "user_input = input(\"Enter the Throw values: \").strip()\n",
    "tuple_float = tuple(float(num.strip()) for num in user_input.split(\",\"))\n",
    "print(\"Javelin Throw Scores:\", tuple_float)\n",
    "\n",
    "total_participants = len(tuple_float) #  Finding the total number of participants\n",
    "\n",
    "# Determining shortest and longest throws & Sum\n",
    "longest_throw = max(tuple_float)\n",
    "shortest_throw = min(tuple_float)\n",
    "total_distance = sum(tuple_float)\n",
    "\n",
    "print(f\"Total number of participants: {total_participants}\")\n",
    "print(f\"Longest throw: {longest_throw} meters\")\n",
    "print(f\"Shortest throw: {shortest_throw} meters\")\n",
    "print(f\"Total sum of throws: {total_distance} meters\")"
   ]
  }
 ],
 "metadata": {
  "kernelspec": {
   "display_name": "base",
   "language": "python",
   "name": "python3"
  },
  "language_info": {
   "codemirror_mode": {
    "name": "ipython",
    "version": 3
   },
   "file_extension": ".py",
   "mimetype": "text/x-python",
   "name": "python",
   "nbconvert_exporter": "python",
   "pygments_lexer": "ipython3",
   "version": "3.13.5"
  }
 },
 "nbformat": 4,
 "nbformat_minor": 5
}
