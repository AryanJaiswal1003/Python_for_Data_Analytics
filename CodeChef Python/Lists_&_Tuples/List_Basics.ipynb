{
 "cells": [
  {
   "cell_type": "code",
   "execution_count": null,
   "id": "bff13b7b",
   "metadata": {},
   "outputs": [],
   "source": [
    "# ------------------------------------------------ Lists Basics -----------------------------------------------\n",
    "## Contents:--\n",
    "    #-- Introduction to List\n",
    "    #-- Accessing by Positive Index\n",
    "    #-- Accessing by Negative Index\n",
    "    #-- Modifying Elements\n",
    "    #-- Adding Elements (append)\n",
    "    #-- Adding Elements (insert)\n",
    "    #-- Removing Elements (remove)\n",
    "    #-- Removing Elements (pop)\n",
    "    #-- Checking List Length"
   ]
  },
  {
   "cell_type": "code",
   "execution_count": 2,
   "id": "52aa912f",
   "metadata": {},
   "outputs": [
    {
     "name": "stdout",
     "output_type": "stream",
     "text": [
      "['h', 'e', 'l', 'l', 'o']\n"
     ]
    }
   ],
   "source": [
    "# ------------------------------------------------ Introduction to List -----------------------------------------------\n",
    "\"\"\"A list is a flexible container that lets you keep an ordered collection of items under one name. You can store different types of\n",
    "        items in a list, such as numbers, strings, and even other lists.\n",
    "\n",
    "        -- Syntax: Create lists with square brackets [] or by using the list() inbuilt function.\n",
    "               #1. empty_list = []  # Initialize an empty list using square brackets\n",
    "               #2. my_list = list()  # Initialize an empty list using the list constructor\"\"\"\n",
    "\n",
    "# Method - 1: Using Square([]) Brackets\n",
    "\n",
    "empty_list = [] # Empty list\n",
    "mixed = [\"world\", 42, 3.14, False] # Mixed list with various data types\n",
    "\n",
    "# ----------------------------------------------------------------------------------------------------------------------\n",
    "# Method - 2: Using the list() constructor:\n",
    "\n",
    "empty_list = list() #Creating an empty list\n",
    "string = \"hello\" # Assign the string 'hello' to a variable\n",
    "list_from_string = list(string) # Convert the string into a list of characters\n",
    "print(list_from_string)  # Output: ['h', 'e', 'l', 'l', 'o']"
   ]
  },
  {
   "cell_type": "code",
   "execution_count": 6,
   "id": "0106707a",
   "metadata": {},
   "outputs": [
    {
     "name": "stdout",
     "output_type": "stream",
     "text": [
      "apple\n",
      "banana\n",
      "cherry\n"
     ]
    }
   ],
   "source": [
    "# ------------------------------------------------ Accessing by Positive Index -----------------------------------------------\n",
    "\"\"\"Lists are ordered collections of items that can be accessed using their position in the list, known as indexing. Positive indexing\n",
    "        starts from 0, where 0 represents the first element, 1 represents the second element, and so forth.\n",
    "    This method allows you to retrieve any element based on its position.\n",
    "\n",
    "        -- Syntax for Positive Indexing:\n",
    "\n",
    "            #1. Access the first item in a list:\n",
    "                    first_item = my_list[0]\n",
    "            #2. Access the second item:\n",
    "                    second_item = my_list[1]\"\"\"\n",
    "\n",
    "# ----------------------------------------------------------------------------------------------------------------------\n",
    "# Examples of Accessing Elements:\n",
    "fruits = ['apple', 'banana', 'cherry']\n",
    "\n",
    "print(fruits[0])  # This will output: apple\n",
    "print(fruits[1])  # This will output: banana\n",
    "print(fruits[2])  # This will output: cherry"
   ]
  },
  {
   "cell_type": "code",
   "execution_count": 8,
   "id": "a1e8d1b0",
   "metadata": {},
   "outputs": [
    {
     "name": "stdout",
     "output_type": "stream",
     "text": [
      "elderberry\n",
      "date\n"
     ]
    }
   ],
   "source": [
    "# ------------------------------------------------ Accessing by Negative Index -----------------------------------------------\n",
    "\"\"\"`Negative indexing allows you to access the elements of a list from the end towards the beginning, with -1 being the index of the last\n",
    "        item, -2 the second-last, and so on. This method is particularly useful when you need to work with elements at the end of the list\n",
    "                without needing to know the exact length of the list.\n",
    "\n",
    "        -- Syntax for Negative Indexing:\n",
    "            #1. Access the last item in a list:\n",
    "                last_item = my_list[-1]\n",
    "            #2. Access the second to last item:\n",
    "                second_last_item = my_list[-2]`\"\"\"\n",
    "\n",
    "# ----------------------------------------------------------------------------------------------------------------------\n",
    "# Examples of Accessing Elements:\n",
    "fruits = ['apple', 'banana', 'cherry', 'date', 'elderberry']\n",
    "\n",
    "last_fruit = fruits[-1]  # Accessing the last element using negative indexing --> This will return 'elderberry'\n",
    "print(last_fruit)\n",
    "\n",
    "second_last_fruit = fruits[-2]  # Accessing the second to last element -- > This will return 'date'\n",
    "print(second_last_fruit)"
   ]
  },
  {
   "cell_type": "code",
   "execution_count": 9,
   "id": "5d4ba3a2",
   "metadata": {},
   "outputs": [
    {
     "name": "stdout",
     "output_type": "stream",
     "text": [
      "['apple', 'blueberry', 'cherry']\n",
      "['rice', 'eggs', 'vegetables', 'bread']\n"
     ]
    }
   ],
   "source": [
    "# ------------------------------------------------ Modifying Elements -----------------------------------------------\n",
    "\"\"\"Python lists are mutable, meaning you can change their contents after creation. This flexibility makes lists ideal for efficiently\n",
    "        managing and updating data.\n",
    "\n",
    "        ## Syntax to Modify an Element: my_list[index] = new_value\n",
    "            --> Here, index is the position of the item you want to change, and new_value is the new value you want to assign to that position.\"\"\"\n",
    "\n",
    "# ----------------------------------------------------------------------------------------------------------------------\n",
    "#1. Modifying an Element Using Positive Indexing\n",
    "fruits = [\"apple\", \"banana\", \"cherry\"]\n",
    "fruits[1] = \"blueberry\"  # Changing \"banana\" to \"blueberry\"\n",
    "\n",
    "print(fruits) # Output: ['apple', 'blueberry', 'cherry']\n",
    "\n",
    "# ----------------------------------------------------------------------------------------------------------------------\n",
    "#2. Modifying an Element Using Negative Indexing\n",
    "shopping_list = [\"rice\", \"eggs\", \"vegetables\", \"juice\"]\n",
    "shopping_list[-1] = \"bread\"  # Replace last item\n",
    "\n",
    "print(shopping_list) # Output: ['rice', 'eggs', 'vegetables', 'bread']"
   ]
  },
  {
   "cell_type": "code",
   "execution_count": 7,
   "id": "9c4e6720",
   "metadata": {},
   "outputs": [
    {
     "name": "stdout",
     "output_type": "stream",
     "text": [
      "Modified names list: ['John', 'Jack', 'David', 'Emma', 'Rachel']\n"
     ]
    }
   ],
   "source": [
    "# Modify Names Using Indexing:\n",
    "user = input()\n",
    "\n",
    "names = [name.strip() for name in user.split(\",\")] # Convert input string into a list\n",
    "# Modify elements using positive and negative indexing\n",
    "names[1] = \"Jack\"\n",
    "names[-1] = \"Rachel\"\n",
    "\n",
    "print(\"Modified names list:\", names)"
   ]
  },
  {
   "cell_type": "code",
   "execution_count": 11,
   "id": "33542eee",
   "metadata": {},
   "outputs": [
    {
     "name": "stdout",
     "output_type": "stream",
     "text": [
      "['apple', 'banana', 'cherry']\n"
     ]
    }
   ],
   "source": [
    "# ------------------------------------------------ Adding Elements (append) -----------------------------------------------\n",
    "\"\"\"The append() method in Python is used to add a single element to the end of a list. This operation modifies the list in place and\n",
    "        does not return any value. It is one of the most commonly used list methods for dynamically building up lists.\n",
    "\n",
    "        -- Syntax:\n",
    "            my_list = []          # Initialize an empty list\n",
    "            my_list.append(item)  # Append 'item' to the list\"\"\"\n",
    "\n",
    "# ----------------------------------------------------------------------------------------------------------------------\n",
    "# Adding Elements to a List:\n",
    "fruits = []\n",
    "\n",
    "# Append elements to the list using the append() method\n",
    "fruits.append(\"apple\")\n",
    "fruits.append(\"banana\")\n",
    "fruits.append(\"cherry\")\n",
    "\n",
    "print(fruits)  # Output: ['apple', 'banana', 'cherry']"
   ]
  },
  {
   "cell_type": "code",
   "execution_count": 12,
   "id": "96213fe2",
   "metadata": {},
   "outputs": [
    {
     "name": "stdout",
     "output_type": "stream",
     "text": [
      "[1, 2, 3, 4, 5]\n"
     ]
    }
   ],
   "source": [
    "# ------------------------------------------------ Adding Elements (insert) -----------------------------------------------\n",
    "\"\"\"The insert() method in Python allows you to add a single element at a specified index within a list. Unlike the append() method, which\n",
    "        always adds an element to the end of a list, insert() gives you the flexibility to place the element anywhere in the list, shifting\n",
    "                the existing elements to the right.\n",
    "\n",
    "        ## Syntax for Inserting an Element:\n",
    "\n",
    "            -- my_list.insert(index, element) --> my_list.insert(index, element) places element at the specified index within my_list, shifting\n",
    "                    subsequent elements to the right.\"\"\"\n",
    "\n",
    "# ----------------------------------------------------------------------------------------------------------------------\n",
    "# Example: Inserting an Element into a List\n",
    "numbers = [1, 2, 4, 5]\n",
    "\n",
    "numbers.insert(2, 3) # Insert the number 3 at index 2\n",
    "print(numbers)  # Output: [1, 2, 3, 4, 5]"
   ]
  },
  {
   "cell_type": "code",
   "execution_count": 1,
   "id": "5a147933",
   "metadata": {},
   "outputs": [
    {
     "name": "stdout",
     "output_type": "stream",
     "text": [
      "Updated Team Lineup: ['John', 'Mike', 'Ryan', 'Alex', 'David', 'Chris']\n"
     ]
    }
   ],
   "source": [
    "# Insert a New Player into a Team Lineup:\n",
    "team_lineup = [\"John\", \"Mike\", \"Alex\", \"David\", \"Chris\"]\n",
    "\n",
    "new_player = input(\"Enter the Name of the Player to add: \").strip().title()\n",
    "position = int(input(\"Enter the Position Number: \").strip())\n",
    "\n",
    "team_lineup.insert(position, new_player) # Insert the new player at the specified position\n",
    "print(f\"Updated Team Lineup: {team_lineup}\")"
   ]
  },
  {
   "cell_type": "code",
   "execution_count": 13,
   "id": "d2970bc9",
   "metadata": {},
   "outputs": [
    {
     "name": "stdout",
     "output_type": "stream",
     "text": [
      "[1, 3, 2, 4, 5]\n"
     ]
    }
   ],
   "source": [
    "# ------------------------------------------------ Removing Elements (remove) -----------------------------------------------\n",
    "\"\"\"The remove() method in Python is designed to delete the first occurrence of a specified element from a list. This is a practical function\n",
    "        for directly modifying a list by eliminating an element when its value is known.\n",
    "\n",
    "        ## Syntax:\n",
    "            -- my_list.remove(element) --> my_list.remove(element) searches for the first match of element and removes it from the list.\"\"\"\n",
    "\n",
    "# ----------------------------------------------------------------------------------------------------------------------\n",
    "# Example: Removing an Element from a List:\n",
    "numbers = [1, 2, 3, 2, 4, 5]\n",
    "\n",
    "numbers.remove(2) # Remove the first occurrence of the number 2\n",
    "print(numbers)  # Output: [1, 3, 2, 4, 5]"
   ]
  },
  {
   "cell_type": "code",
   "execution_count": 3,
   "id": "b137000d",
   "metadata": {},
   "outputs": [
    {
     "name": "stdout",
     "output_type": "stream",
     "text": [
      "Curd is not in the shopping list.\n"
     ]
    }
   ],
   "source": [
    "# Remove item from Shopping list:\n",
    "shopping_list = [\"Milk\", \"Eggs\", \"Bread\", \"Butter\", \"Cheese\"]\n",
    "user_input = input(\"Enter an Item to Remove: \").strip().title()\n",
    "\n",
    "if user_input in shopping_list:\n",
    "    shopping_list.remove(user_input)\n",
    "    print(f\"Updated Shopping List: {shopping_list}\")\n",
    "else:\n",
    "    print(f\"{user_input} is not in the shopping list.\")"
   ]
  },
  {
   "cell_type": "code",
   "execution_count": 14,
   "id": "7486d66d",
   "metadata": {},
   "outputs": [
    {
     "name": "stdout",
     "output_type": "stream",
     "text": [
      "Removed fruit: cherry\n",
      "Updated list: ['apple', 'banana', 'date']\n",
      "Removed number: 50\n",
      "Updated list: [10, 20, 30, 40]\n"
     ]
    }
   ],
   "source": [
    "# ------------------------------------------------ Removing Elements (pop) -----------------------------------------------\n",
    "\"\"\"The pop() method in Python removes an element from a specified index in a list and returns it. If no index is provided, it defaults to\n",
    "        removing and returning the last item. This is particularly useful when you need both to eliminate an element and to use that element\n",
    "                for further operations.\n",
    "\n",
    "        ## Syntax\n",
    "            # Remove and return the last element:\n",
    "                -- removed_item = my_list.pop()\n",
    "\n",
    "            # Remove and return the element at a specific index:\n",
    "                -- removed_item = my_list.pop(index)\n",
    "\n",
    "    my_list.pop(index) removes and returns the element at the specified index from the list; if no index is provided, it removes the last element.\"\"\"\n",
    "\n",
    "# ----------------------------------------------------------------------------------------------------------------------\n",
    "# Example: Removing an Element from a List Using pop(index):\n",
    "fruits = ['apple', 'banana', 'cherry', 'date']\n",
    "\n",
    "removed_fruit = fruits.pop(2) # Remove the fruit at index 2 ('cherry') from the list and store it in removed_fruit\n",
    "print(\"Removed fruit:\", removed_fruit)\n",
    "print(\"Updated list:\", fruits)\n",
    "\n",
    "# ----------------------------------------------------------------------------------------------------------------------\n",
    "# Example: Removing an Element from a list using pop() w/o index:\n",
    "numbers = [10, 20, 30, 40, 50]\n",
    "\n",
    "removed_number = numbers.pop() # Remove the last element from the list and store it in removed_number\n",
    "print(\"Removed number:\", removed_number)\n",
    "print(\"Updated list:\", numbers)"
   ]
  },
  {
   "cell_type": "code",
   "execution_count": 15,
   "id": "ea6f87b5",
   "metadata": {},
   "outputs": [
    {
     "name": "stdout",
     "output_type": "stream",
     "text": [
      "Number of fruits: 4\n",
      "0\n",
      "1\n",
      "2\n",
      "3\n",
      "4\n"
     ]
    }
   ],
   "source": [
    "# ------------------------------------------------ Checking List Length -----------------------------------------------\n",
    "\"\"\"The length of a list tells us how many elements are contained within it, which is essential for understanding the size of our data\n",
    "        structures—especially when working with loops or conditions.\n",
    "\n",
    "        ## Syntax for Checking List Length\n",
    "            -- length = len(my_list)\n",
    "            -- len(my_list) calculates the number of items in my_list, storing this integer in length.\"\"\"\n",
    "\n",
    "# Example: Using len() to Determine List Size:\n",
    "fruits = ['apple', 'banana', 'cherry', 'date']\n",
    "number_of_fruits = len(fruits)\n",
    "\n",
    "print(\"Number of fruits:\", number_of_fruits)  # Output: Number of fruits: 4\n",
    "\n",
    "# ----------------------------------------------------------------------------------------------------------------------\n",
    "# Example: Using Length in a Loop:\n",
    "numbers = [10, 20, 30, 40, 50]\n",
    "\n",
    "i = 0\n",
    "while i < len(numbers):\n",
    "    print(i)\n",
    "    i += 1"
   ]
  }
 ],
 "metadata": {
  "kernelspec": {
   "display_name": "base",
   "language": "python",
   "name": "python3"
  },
  "language_info": {
   "codemirror_mode": {
    "name": "ipython",
    "version": 3
   },
   "file_extension": ".py",
   "mimetype": "text/x-python",
   "name": "python",
   "nbconvert_exporter": "python",
   "pygments_lexer": "ipython3",
   "version": "3.13.5"
  }
 },
 "nbformat": 4,
 "nbformat_minor": 5
}
