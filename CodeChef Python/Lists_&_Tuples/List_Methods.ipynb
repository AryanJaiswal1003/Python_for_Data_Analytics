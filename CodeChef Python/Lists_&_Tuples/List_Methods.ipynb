{
 "cells": [
  {
   "cell_type": "code",
   "execution_count": 1,
   "id": "5bd52b5c",
   "metadata": {},
   "outputs": [],
   "source": [
    "# ------------------------------------------------ Lists Methods -----------------------------------------------\n",
    "## Contents:--\n",
    "    #-- List Extension (extend)\n",
    "    #-- List concatenation\n",
    "    #-- Count Method\n",
    "    #-- Index Method\n",
    "    #-- Sort Method\n",
    "    #-- Reverse Method\n",
    "    #-- Copy Method\n",
    "    #-- Clear Method\n",
    "    #-- List Comprehension Basic\n",
    "    #-- List Comprehension with Condition"
   ]
  },
  {
   "cell_type": "markdown",
   "id": "41698931",
   "metadata": {},
   "source": [
    "##### ***List Extension (extend):***\n",
    "- The ***extend() method*** is essential for ***combining multiple lists*** or adding elements from an iterable to the ***end of an existing list.***\n",
    "- The extend() method ***modifies the original list by appending elements*** from an iterable (e.g., another list, tuple, set, or string) to the existing list. \n",
    "- This method ensures that the list is expanded in place, maintaining the identity of the original list while adding new elements.\n",
    "---\n",
    "##### ***Syntax: list.extend(iterable):*** \n",
    "- Use list.extend(iterable) to append all elements from an iterable to the end of an existing list in Python.\n",
    "---\n",
    "***Q] Difference between extend() and append()?***\n",
    "- The extend( ) method adds each item of the iterable to the end of the list, while append( ) adds the entire iterable as a single element to the end of the list."
   ]
  },
  {
   "cell_type": "code",
   "execution_count": 5,
   "id": "d9030a35",
   "metadata": {},
   "outputs": [
    {
     "name": "stdout",
     "output_type": "stream",
     "text": [
      "Extended list: [1, 2, 3, 4, 5, 6]\n"
     ]
    }
   ],
   "source": [
    "# Define the original list\n",
    "original_list = [1, 2, 3]\n",
    "new_elements = [4, 5, 6] # An iterable (another list in this case)\n",
    "\n",
    "# Extend the original list with new elements\n",
    "original_list.extend(new_elements)\n",
    "print(\"Extended list:\", original_list)  # Output: [1, 2, 3, 4, 5, 6]"
   ]
  },
  {
   "cell_type": "code",
   "execution_count": 3,
   "id": "75e71bd7",
   "metadata": {},
   "outputs": [
    {
     "name": "stdout",
     "output_type": "stream",
     "text": [
      "Updated fruits list: ['Apple', 'Banana', 'Mango', 'Orange', 'Grapes']\n"
     ]
    }
   ],
   "source": [
    "# Add food item in the list:\n",
    "fruits = [\"Apple\", \"Banana\", \"Mango\", \"Orange\"]\n",
    "user_input = input(\"Enter the Desired Fruit: \").strip().title()\n",
    "\n",
    "if user_input.isalpha():\n",
    "    fruits.extend([user_input]) # extend([user_input]) --> converts user_input into lists\n",
    "    print(f\"Updated fruits list: {fruits}\")\n",
    "\n",
    "else:\n",
    "    print(\"Error: Please enter a valid food name (letters only).\")"
   ]
  },
  {
   "cell_type": "markdown",
   "id": "e9f72106",
   "metadata": {},
   "source": [
    "##### ***List Concatenation:***\n",
    "- List concatenation in Python can be achieved using the ***plus (+) operator***. This operation ***does not modify the original lists*** but rather ***creates a new list*** that combines the elements from the concatenated lists. \n",
    "- This method is ideal for situations where you need to ***combine data without altering the original datasets***."
   ]
  },
  {
   "cell_type": "code",
   "execution_count": 3,
   "id": "efe45698",
   "metadata": {},
   "outputs": [
    {
     "name": "stdout",
     "output_type": "stream",
     "text": [
      "Combined list: [1, 2, 3, 4, 5, 6]\n"
     ]
    }
   ],
   "source": [
    "list1 = [1, 2, 3]\n",
    "list2 = [4, 5, 6]\n",
    "\n",
    "combined_list = list1 + list2 # Concatenate list1 and list2\n",
    "print(\"Combined list:\", combined_list)  # Output: [1, 2, 3, 4, 5, 6]"
   ]
  },
  {
   "cell_type": "code",
   "execution_count": null,
   "id": "b2fdf33b",
   "metadata": {},
   "outputs": [
    {
     "name": "stdout",
     "output_type": "stream",
     "text": [
      "New list using +: [1, 2, 3, 4, 5, 6]\n",
      "Original list1: [1, 2, 3]\n",
      "List1 after extend: [1, 2, 3, 4, 5, 6]\n",
      "List2: [4, 5, 6]\n"
     ]
    }
   ],
   "source": [
    "# Difference in List Concat (+) & List Extend method?\n",
    "\n",
    "\"\"\"-- Ans: The + operator (list concatenation) and the extend method both add elements to a list, but they do so in fundamentally different ways:\n",
    "\n",
    "        -- 1. + creates a new list.\n",
    "        -- 2. extend modifies the original list in place.\n",
    "\n",
    "# Concatenation (+):\n",
    "    -- Creates a new list object.\n",
    "    -- Copies elements from the original lists into the new list.\n",
    "    -- The original lists are unchanged.\n",
    "    -- Usage: new_list = list1 + list2\n",
    "\n",
    "\n",
    "# Extend Method:\n",
    "\n",
    "    -- Modifies the list on which it’s called.\n",
    "    -- Appends elements from another iterable (e.g., another list) to the end of the original list.\n",
    "    -- Does not create a new list.\n",
    "    -- Usage: list1.extend(list2)\n",
    "\n",
    "\n",
    "### *************** When to Use Which Method ***************\n",
    "\n",
    "# I] Use + when:\n",
    "    -- You want to create a new list without modifying the original lists.\n",
    "    -- You are not concerned about the performance implications of creating a new list.\n",
    "\n",
    "# Use extend when:\n",
    "\n",
    "    -- You want to modify an existing list in place.\n",
    "    -- You are working with large lists and want to avoid the overhead of creating a new list (more memory-efficient).\"\"\"\n",
    "\n",
    "list1 = [1, 2, 3]\n",
    "list2 = [4, 5, 6]\n",
    "\n",
    "# Using + Method:\n",
    "new_list = list1 + list2\n",
    "print(\"New list using +:\", new_list)  # Output: [1, 2, 3, 4, 5, 6]\n",
    "print(\"Original list1:\", list1)      # Output: [1, 2, 3] (unchanged)\n",
    "\n",
    "# Using extend Method\n",
    "list1.extend(list2)\n",
    "print(\"List1 after extend:\", list1)   # Output: [1, 2, 3, 4, 5, 6]\n",
    "print(\"List2:\", list2)              # Output: [4, 5, 6] (unchanged)"
   ]
  },
  {
   "cell_type": "markdown",
   "id": "098e3ebf",
   "metadata": {},
   "source": [
    "##### ***Count Method:***\n",
    "- The count() method takes one argument—the element whose occurrences in the list you wish to count. \n",
    "- It returns an integer representing the number of times that element appears in the list. It is especially useful in scenarios requiring ***data sorting, filtering, or analysis.*** \n",
    "- This method does not modify the list, ensuring that the original data remains intact while you obtain necessary insights about element distribution.\n",
    "---\n",
    "##### ***Syntax: ```list_name.count(element)```***\n",
    "- Where **`list_name`** is the name of the list and element is the item you want to count within the list.\"\"\""
   ]
  },
  {
   "cell_type": "code",
   "execution_count": 2,
   "id": "5e4f5e52",
   "metadata": {},
   "outputs": [
    {
     "name": "stdout",
     "output_type": "stream",
     "text": [
      "The count of 'apple' in the list is: 2\n"
     ]
    }
   ],
   "source": [
    "# Define a list with repeated elements\n",
    "sample_list = ['apple', 'banana', 'cherry', 'apple', 'cherry']\n",
    "\n",
    "# Count the occurrences of 'apple' in the list\n",
    "apple_count = sample_list.count('apple')\n",
    "print(\"The count of 'apple' in the list is:\", apple_count)  # Output: The count of 'apple' in the list is: 2"
   ]
  },
  {
   "cell_type": "markdown",
   "id": "e19cd51d",
   "metadata": {},
   "source": [
    "##### ***Index Method***\n",
    "- The `index()` method searches through the list from the beginning to find the **first instance** of the specified element and returns its index (i.e., its position in the list).  \n",
    "- If the element is not found, Python raises a `ValueError`.\n",
    "---\n",
    "##### ***Syntax: ```list_name.index(element, start, end)```***\n",
    "1. **`element`**: The item you are searching for in the list.\n",
    "2. **`start`** (optional): The starting index from which to begin the search."
   ]
  },
  {
   "cell_type": "code",
   "execution_count": 6,
   "id": "6dbe70e5",
   "metadata": {},
   "outputs": [
    {
     "name": "stdout",
     "output_type": "stream",
     "text": [
      "The index of 'apple' in the list is: 0\n",
      "The index of 'apple' from index 1 is: 3\n"
     ]
    }
   ],
   "source": [
    "# Define a list of elements:\n",
    "sample_list = ['apple', 'banana', 'cherry', 'apple']\n",
    "\n",
    "apple_index = sample_list.index('apple')\n",
    "print(\"The index of 'apple' in the list is:\", apple_index)  # Output: The index of 'apple' in the list is: 0\n",
    "\n",
    "# If you want to limit the search within a specific range, you can specify the start and end parameters:\n",
    "apple_index = sample_list.index('apple', 1) # Find the index of 'apple' starting from index 1\n",
    "print(\"The index of 'apple' from index 1 is:\", apple_index)  # Output: The index of 'apple' from index 1 is: 3"
   ]
  },
  {
   "cell_type": "code",
   "execution_count": 7,
   "id": "68fd41c1",
   "metadata": {},
   "outputs": [
    {
     "name": "stdout",
     "output_type": "stream",
     "text": [
      "Puma is found at index 2.\n"
     ]
    }
   ],
   "source": [
    "# Finding the Index of a Shoe Brand:\n",
    "shoe_brands = [\"Nike\", \"Adidas\", \"Puma\", \"Reebok\", \"Converse\", \"Vans\", \"Skechers\"]\n",
    "user_input = input(\"Enter the Shoe Brand: \").strip().title()\n",
    "\n",
    "if user_input in shoe_brands:\n",
    "    position = shoe_brands.index(user_input)\n",
    "    print(f\"{user_input} is found at index {position}.\")\n",
    "else:\n",
    "    print(\"Shoe brand not found.\")"
   ]
  },
  {
   "cell_type": "markdown",
   "id": "122f33fd",
   "metadata": {},
   "source": [
    "##### ***`sort()` Method in Python***\n",
    "- The `sort()` method rearranges the elements of a list **in place**, meaning the original list is changed and no new list is created.  \n",
    "- This in-place sorting makes it efficient when you want to order the elements of a list without duplicating it.\n",
    "---\n",
    "##### ***Syntax:***\n",
    "```python \n",
    "    list_name.sort(key=None, reverse=False)\n",
    "```\n",
    "1. ***list_name*** → the name of the list.\n",
    "2. ***key (optional)*** → a function of one argument used to extract a comparison key from each element.\n",
    "3. ***reverse (optional)*** → a boolean value. If True, sorts in descending order.\n",
    "---"
   ]
  },
  {
   "cell_type": "code",
   "execution_count": 15,
   "id": "bf3a8bd0",
   "metadata": {},
   "outputs": [
    {
     "name": "stdout",
     "output_type": "stream",
     "text": [
      "Sorted list: [1, 2, 3, 5, 8]\n",
      "Sorted list in descending order: [8, 5, 3, 2, 1]\n"
     ]
    }
   ],
   "source": [
    "# Example 1: Sort in Ascending Order:\n",
    "numbers = [5, 1, 8, 3, 2]\n",
    "numbers.sort()\n",
    "print(\"Sorted list:\", numbers) #### Sorted list: [1, 2, 3, 5, 8]\n",
    "\n",
    "# Example 2: Sort in Descending Order:\n",
    "numbers.sort(reverse=True)\n",
    "print(\"Sorted list in descending order:\", numbers) #### Sorted list in descending order: [8, 5, 3, 2, 1]"
   ]
  },
  {
   "cell_type": "code",
   "execution_count": 1,
   "id": "59f38a98",
   "metadata": {},
   "outputs": [
    {
     "name": "stdout",
     "output_type": "stream",
     "text": [
      "['apple', 'Banana', 'cherry', 'Date']\n",
      "['apple', 'Banana', 'cherry', 'Date']\n"
     ]
    }
   ],
   "source": [
    "\"\"\"Difference between sort() and sorted() functions?\n",
    "The sort() method modifies the list in-place, meaning it changes the original list directly. On the other hand, the sorted() function\n",
    "    returns a new sorted list without altering the original list.\"\"\"\n",
    "\n",
    "my_strings = [\"apple\", \"Banana\", \"cherry\", \"Date\"]\n",
    "\n",
    "# Using sort()\n",
    "my_strings.sort(key=str.lower)\n",
    "print(my_strings)  # Output: ['apple', 'Banana', 'cherry', 'Date']\n",
    "\n",
    "# Using sorted()\n",
    "sorted_strings = sorted(my_strings, key=str.lower)\n",
    "print(sorted_strings)  # Output: ['apple', 'Banana', 'cherry', 'Date']"
   ]
  },
  {
   "cell_type": "code",
   "execution_count": 2,
   "id": "c3f9619f",
   "metadata": {},
   "outputs": [
    {
     "name": "stdout",
     "output_type": "stream",
     "text": [
      "Updated country list after sorting: ['India', 'Australia', 'France', 'Germany', 'Japan', 'USA', 'Canada', 'Brazil']\n"
     ]
    }
   ],
   "source": [
    "# Sorting a Specific Range in a Country List:\n",
    "countries = [\"India\", \"USA\", \"Germany\", \"France\", \"Australia\", \"Japan\", \"Canada\", \"Brazil\"]\n",
    "\n",
    "# Taking user input for the starting and ending index\n",
    "start_index = int(input(\"Enter the starting index: \").strip())\n",
    "end_index = int(input(\"Enter the ending index: \").strip())\n",
    "\n",
    "if 0 <= start_index < end_index < len(countries): # Validate index range\n",
    "    # Sort only the selected portion of the list & reassign it back to that slice\n",
    "    countries[start_index:end_index + 1] = sorted(countries[start_index:end_index + 1])\n",
    "    print(\"Updated country list after sorting:\", countries)\n",
    "\n",
    "else:\n",
    "    print(\"Error: Invalid index range. Please enter valid indices within the list range.\")"
   ]
  },
  {
   "cell_type": "markdown",
   "id": "f05061f5",
   "metadata": {},
   "source": [
    "##### ***`reverse()` Method in Python:***\n",
    "- The `reverse()` method inverts the order of elements within the list itself. It does this **in place**, meaning no new list is created.  \n",
    "- This method is useful for reversing sequences directly, which enhances both performance and memory usage.  \n",
    "- It works with **homogeneous** (same type) and **mixed** (different types) data.\n",
    "---\n",
    "##### ***Syntax:***\n",
    "```python \n",
    "        list_name.reverse() # list_name → the name of the list you want to reverse.\n",
    "```"
   ]
  },
  {
   "cell_type": "code",
   "execution_count": 4,
   "id": "fcd05b5b",
   "metadata": {},
   "outputs": [
    {
     "name": "stdout",
     "output_type": "stream",
     "text": [
      "['date', 'cherry', 'banana', 'apple']\n",
      "[True, 2.5, 'apple', 1]\n",
      "Reversed characters in your name: ['n', 'a', 'y', 'r', 'A']\n"
     ]
    }
   ],
   "source": [
    "# Example 1: Reversing a List of Strings:\n",
    "fruits = [\"apple\", \"banana\", \"cherry\", \"date\"]\n",
    "\n",
    "fruits.reverse()\n",
    "print(fruits) # Output: ['date', 'cherry', 'banana', 'apple']\n",
    "\n",
    "# Example 2: Reversing a List of Mixed Data Types:\n",
    "mixed_list = [1, 'apple', 2.5, True]\n",
    "\n",
    "mixed_list.reverse()\n",
    "print(mixed_list) # Output: [True, 2.5, 'apple', 1]\n",
    "\n",
    "# Example 3: Reversing the Characters in a Name\n",
    "user_input = input(\"Enter your name: \").strip()\n",
    "user_input = list(user_input)\n",
    "user_input.reverse()\n",
    "\n",
    "print(f\"Reversed characters in your name: {user_input}\")"
   ]
  },
  {
   "cell_type": "markdown",
   "id": "9ff18278",
   "metadata": {},
   "source": [
    "##### ***`copy()` Method in Python:***\n",
    "1. In Python, the `copy()` method is used to make a **shallow copy** of a list.  \n",
    "2. This method creates a new list containing the same elements as the original list but stored at a **different memory address**.  \n",
    "3. It is useful when you want to work on a copy of the list **without modifying the original list**.\n",
    "\n",
    "---\n",
    "```python\n",
    "# Syntax: \n",
    "    list.copy()\n",
    "        1. Parameters: The copy() method does not take any parameters.\n",
    "        2. Returns: A shallow copy of the list.\n",
    "```"
   ]
  },
  {
   "cell_type": "code",
   "execution_count": 6,
   "id": "c7324585",
   "metadata": {},
   "outputs": [
    {
     "name": "stdout",
     "output_type": "stream",
     "text": [
      "Original list: [10, 20, 30]\n",
      "Copied list: [10, 20, 30]\n",
      "Original list: [10, 20, 30]\n",
      "Copied list: [10, 20, 30, 40]\n"
     ]
    }
   ],
   "source": [
    "# Example: Basic List Copying\n",
    "original_list = [10, 20, 30]\n",
    "copied_list = original_list.copy() # Copy the list\n",
    "\n",
    "print(\"Original list:\", original_list) # Output: Original list: [10, 20, 30]\n",
    "print(\"Copied list:\", copied_list) # Output: Copied list: [10, 20, 30]\n",
    "\n",
    "# --------------------------------------------------------------------------------------------------------------------------------------------\n",
    "# Example: Modifying the Copied List\n",
    "numbers = [10, 20, 30]\n",
    "numbers_copy = numbers.copy()\n",
    "\n",
    "numbers_copy.append(40) # Modify the copied list\n",
    "\n",
    "print('Original list:', numbers) # Output: Original list: [10, 20, 30]\n",
    "print('Copied list:', numbers_copy) # Output: Copied list: [10, 20, 30, 40]"
   ]
  },
  {
   "cell_type": "code",
   "execution_count": 8,
   "id": "a3aa6985",
   "metadata": {},
   "outputs": [
    {
     "name": "stdout",
     "output_type": "stream",
     "text": [
      "Copied list after removing 'y': ['A', 'r', 'a', 'n']\n",
      "Final Original list: ['A', 'r', 'y', 'a', 'n']\n"
     ]
    }
   ],
   "source": [
    "# Removing a Character from a Copied List:\n",
    "user_input = input(\"Enter a Word: \").strip()\n",
    "user_input = list(user_input) # Convert the string into a list of characters\n",
    "\n",
    "copy_item = user_input.copy() # Create a copy of the original list\n",
    "char_remove = input(\"Enter the Char to Remove: \").strip() # Ask the user for a character to remove\n",
    "\n",
    "# Modify the copied list by removing the user-specified character if it exists\n",
    "if char_remove in copy_item:\n",
    "    copy_item.remove(char_remove)\n",
    "    print(f\"Copied list after removing '{char_remove}': {copy_item}\")\n",
    "\n",
    "else:\n",
    "    print(f\"Character '{char_remove}' not found in the copied list.\")\n",
    "\n",
    "print(\"Final Original list:\", user_input)"
   ]
  },
  {
   "cell_type": "markdown",
   "id": "f9e3932b",
   "metadata": {},
   "source": [
    "##### ***`clear()` Method in Python:***\n",
    "1. The `clear()` method removes **all elements** from a list while keeping the original list reference intact.  \n",
    "2. This is helpful when you need to **reset a list** without deleting or reassigning it.  \n",
    "3. Instead of creating a new empty list, you can simply use `clear()` to empty the existing one.  \n",
    "4. It optimizes **memory use**, maintains program structure, and simplifies clearing **task lists, datasets, or temporary storage** in Python.  \n",
    "---\n",
    "##### ***Syntax:***\n",
    "```python\n",
    "    list.clear() # Removes all elements from a list while retaining its reference in memory.\n",
    "```"
   ]
  },
  {
   "cell_type": "code",
   "execution_count": 9,
   "id": "b462fcd4",
   "metadata": {},
   "outputs": [
    {
     "name": "stdout",
     "output_type": "stream",
     "text": [
      "[]\n",
      "[10, 20]\n"
     ]
    }
   ],
   "source": [
    "# Example 1: Clearing a List of Fruits:\n",
    "fruits = [\"apple\", \"banana\", \"cherry\"]\n",
    "\n",
    "fruits.clear() # Use the clear() method to remove all elements from the list\n",
    "print(fruits)  # Output: []\n",
    "\n",
    "# --------------------------------------------------------------------------------------------------------------------------------------------\n",
    "# Example 2: Clearing a List and Adding New Elements:\n",
    "numbers = [1, 2, 3, 4, 5]\n",
    "numbers.clear() # Clear the list\n",
    "\n",
    "# Add new elements to the same list\n",
    "numbers.append(10)\n",
    "numbers.append(20)\n",
    "\n",
    "print(numbers)  # Output: [10, 20]"
   ]
  },
  {
   "cell_type": "markdown",
   "id": "8aae1df3",
   "metadata": {},
   "source": [
    "##### ***List Comprehension in Python (Basic):***\n",
    "\n",
    "1. List comprehension is a **concise and efficient** way to create lists in Python.  \n",
    "2. It generates a new list by applying an **expression** to each element in an existing iterable (like a list, range, or string).  \n",
    "3. This method is generally more **readable and faster** than using traditional loops.  \n",
    "4. List comprehension is useful for **filtering, modifying, or restructuring** data in a clean and elegant way.  \n",
    "---\n",
    "##### ***Syntax***:\n",
    "```python\n",
    "    new_list = [expression for item in iterable]\n",
    "        # expression → The operation you want to perform on each item.\n",
    "        # item       → The variable that takes the value of each element in the iterable.\n",
    "        # iterable   → The collection you are looping through (e.g., list, range, string).\n",
    "```"
   ]
  },
  {
   "cell_type": "code",
   "execution_count": 12,
   "id": "e12a285d",
   "metadata": {},
   "outputs": [
    {
     "name": "stdout",
     "output_type": "stream",
     "text": [
      "[1, 27, 125, 343, 729, 1331, 2197, 3375, 4913, 6859]\n",
      "[1, 4, 9, 16, 25]\n",
      "['P', 'y', 't', 'h', 'o', 'n']\n"
     ]
    }
   ],
   "source": [
    "# Example: Creating a List of Squares\n",
    "numbers = [1, 2, 3, 4, 5]\n",
    "\n",
    "squares = [number ** 2 for number in numbers] # Create a new list with squares of numbers\n",
    "cubes = [x ** 3 for x in range(1, 21, 2)]\n",
    "\n",
    "print(cubes) # Output: [1, 27, 125, 343, 729, 1331, 2197, 3375, 4913, 6859]\n",
    "print(squares)  # Output: [1, 4, 9, 16, 25]\n",
    "\n",
    "# --------------------------------------------------------------------------------------------------------------------------------------------\n",
    "# Example: Transforming Strings into Character Lists:\n",
    "word = \"Python\"\n",
    "\n",
    "char_list = [char for char in word] # Convert string into a list of characters\n",
    "print(char_list)  # Output: ['P', 'y', 't', 'h', 'o', 'n']"
   ]
  },
  {
   "cell_type": "markdown",
   "id": "376530d2",
   "metadata": {},
   "source": [
    "##### ***List Comprehension with Condition in Python:***\n",
    "1. List comprehension allows you to **create lists efficiently** by applying an operation to each item in a collection.  \n",
    "2. With a **condition**, you can filter items and include only those that satisfy specific criteria.  \n",
    "3. This combines **looping and filtering** in a single line of code, making it easier to read and write.  \n",
    "4. It is a powerful way to **extract, modify, or transform** data based on conditions, reducing the need for complex loops and improving readability.  \n",
    "---\n",
    "##### ***Syntax***:\n",
    "```python\n",
    "    new_list = [expression for item in iterable if condition]\n",
    "        # expression → What we want to do with each item (e.g., double it, convert to uppercase).\n",
    "        # item       → The current element from the iterable.\n",
    "        # iterable   → The original list or collection we are looping through.\n",
    "        # condition  → Optional filter; only includes items that satisfy this condition.\n"
   ]
  },
  {
   "cell_type": "code",
   "execution_count": 13,
   "id": "15b3f50a",
   "metadata": {},
   "outputs": [
    {
     "name": "stdout",
     "output_type": "stream",
     "text": [
      "[2, 4, 6]\n",
      "['banana', 'cherry']\n"
     ]
    }
   ],
   "source": [
    "# Example: Filtering Even Numbers from a List:\n",
    "numbers = [1, 2, 3, 4, 5, 6]\n",
    "\n",
    "even_numbers = [num for num in numbers if num % 2 == 0]  #This iterates through each number and checks if it is divisible by 2 (even)\n",
    "print(even_numbers)  # Output: [2, 4, 6]\n",
    "\n",
    "# --------------------------------------------------------------------------------------------------------------------------------------------\n",
    "# Example: Extracting Words of a Certain Length:\n",
    "words = [\"apple\", \"banana\", \"cherry\", \"kiwi\", \"mango\"]\n",
    "\n",
    "long_words = [word for word in words if len(word) > 5] # This iterates through each word and checks if its length is greater than 5\n",
    "print(long_words)  # Output: ['banana', 'cherry']"
   ]
  },
  {
   "cell_type": "code",
   "execution_count": 14,
   "id": "b5128830",
   "metadata": {},
   "outputs": [
    {
     "name": "stdout",
     "output_type": "stream",
     "text": [
      "['a', 'a', 'a', 'i', 'a']\n"
     ]
    }
   ],
   "source": [
    "# Checking for Vowels in a String:\n",
    "user_input = input(\"Enter a word: \").strip().lower()\n",
    "final = list(user_input.replace(' ', '')) # Convert the string into a list of characters, removing extra spaces\n",
    "\n",
    "vowels = \"aeiou\"\n",
    "vowel_list = [char for char in final if char in vowels]\n",
    "print(vowel_list)"
   ]
  },
  {
   "cell_type": "code",
   "execution_count": null,
   "id": "4c368e4e",
   "metadata": {},
   "outputs": [],
   "source": []
  }
 ],
 "metadata": {
  "kernelspec": {
   "display_name": "base",
   "language": "python",
   "name": "python3"
  },
  "language_info": {
   "codemirror_mode": {
    "name": "ipython",
    "version": 3
   },
   "file_extension": ".py",
   "mimetype": "text/x-python",
   "name": "python",
   "nbconvert_exporter": "python",
   "pygments_lexer": "ipython3",
   "version": "3.13.5"
  }
 },
 "nbformat": 4,
 "nbformat_minor": 5
}
