{
 "cells": [
  {
   "cell_type": "code",
   "execution_count": 1,
   "id": "4eb8b3e7",
   "metadata": {},
   "outputs": [],
   "source": [
    "# ------------------------------------------------ Tuple Basics -----------------------------------------------\n",
    "## Contents:--\n",
    "    #-- What is a Tuple / Characteristic of a tuple\n",
    "    #-- Differences Between Tuples and Lists\n",
    "    #-- Nested Tuples\n",
    "    #-- Understanding tuple indexing\n",
    "    #-- Negative indexing in tuples\n",
    "    #-- Slice Syntax in Tuples\n",
    "    #-- Immutability of Tuples\n",
    "    #-- Iterating Through Tuples"
   ]
  },
  {
   "cell_type": "markdown",
   "id": "c49060b6",
   "metadata": {},
   "source": [
    "##### ***Tuple in Python:***\n",
    "1. A **tuple** is a fundamental data structure in Python that represents an **immutable, ordered sequence** of elements.  \n",
    "2. **Immutable** means that once a tuple is created, its contents **cannot be changed**, unlike lists which are mutable.  \n",
    "3. Tuples are useful for storing data that should remain constant throughout the program.  \n",
    "4. They are often used to **group related data** together in a structured way.  \n",
    "---\n",
    "##### ***Creating Tuples***:"
   ]
  },
  {
   "cell_type": "code",
   "execution_count": 1,
   "id": "573851c6",
   "metadata": {},
   "outputs": [],
   "source": [
    "# 1. Using Parentheses (most common)\n",
    "my_tuple = (1, 2, 3)\n",
    "\n",
    "# 2. Without Parentheses (Tuple Packing)\n",
    "another_tuple = 1, 2, 3\n",
    "\n",
    "# 3. Using tuple() Constructor\n",
    "list1 = [1, 2, 3]\n",
    "tuple_from_list = tuple(list1)\n",
    "\n",
    "# 4. Single Element Tuple (note the trailing comma)\n",
    "single_element_tuple = (1,)\n",
    "\n",
    "# 5. Empty Tuple\n",
    "empty_tuple = ()"
   ]
  },
  {
   "cell_type": "code",
   "execution_count": 7,
   "id": "e8d01db4",
   "metadata": {},
   "outputs": [
    {
     "name": "stdout",
     "output_type": "stream",
     "text": [
      "Tuple of favorite travel destination:('Paris', ' India', ' Turkey')\n"
     ]
    }
   ],
   "source": [
    "# Collecting Favorite Travel Destinations:\n",
    "user_input = input(\"Enter list Favorite Travel destination: \").strip()\n",
    "\n",
    "list_values = list(user_input.split(','))\n",
    "tuple_value = tuple(list_values)\n",
    "\n",
    "print(f\"Tuple of favorite travel destination:{tuple_value}\")"
   ]
  },
  {
   "cell_type": "markdown",
   "id": "57c4d122",
   "metadata": {},
   "source": [
    "##### ➡️***Differences Between Tuples and Lists in Python:***\n",
    "1. **Mutability**  \n",
    "   - **Tuples:** Immutable → cannot be modified, added to, or removed. Best for fixed data.  \n",
    "   - **Lists:** Mutable → elements can be changed, added, or removed. Suitable for dynamic data.  \n",
    "2. **Syntax**  \n",
    "   - **Tuples:** Defined using parentheses `()` or simply with commas.  \n",
    "   - **Lists:** Defined using square brackets `[]`.  \n",
    "3. **Performance**  \n",
    "   - **Tuples:** Faster because of immutability, allowing Python to optimize storage.  \n",
    "   - **Lists:** Slightly slower due to dynamic nature and frequent modifications.  \n",
    "4. **Use Cases**  \n",
    "   - **Tuples:** Ideal for **heterogeneous data** that should remain unchanged (e.g., database records).  \n",
    "   - **Lists:** Ideal for **homogeneous data** that requires frequent updates (e.g., task lists).  \n",
    "5. **Methods**  \n",
    "   - **Tuples:** Provide only limited methods (`count()`, `index()`) since they are immutable.  \n",
    "   - **Lists:** Offer extensive methods (`append()`, `remove()`, `sort()`, etc.) for manipulation.  "
   ]
  },
  {
   "cell_type": "code",
   "execution_count": 3,
   "id": "e94e99aa",
   "metadata": {},
   "outputs": [],
   "source": [
    "# Tuple example: Good for fixed data\n",
    "dimensions = (1920, 1080)\n",
    "\n",
    "# List example: Good for data that may change over time\n",
    "scores = [95, 88, 92, 85]\n",
    "scores.append(100)  # easily adding a new score"
   ]
  },
  {
   "cell_type": "markdown",
   "id": "b24ff2e6",
   "metadata": {},
   "source": [
    "##### ***Nested Tuples in Python:***\n",
    "1. **Nested tuples** are tuples that contain other tuples as their elements.  \n",
    "2. They allow data to be organized **hierarchically** while keeping the **immutability** of tuples intact.  \n",
    "3. This makes them ideal for scenarios where **fixed data relationships** and **data integrity** are required.  \n",
    "4. They are particularly useful in applications that need structured and immutable data storage.  \n",
    "---\n",
    "##### ***Creating and Using Nested Tuples***:"
   ]
  },
  {
   "cell_type": "code",
   "execution_count": 4,
   "id": "4a7cd900",
   "metadata": {},
   "outputs": [
    {
     "name": "stdout",
     "output_type": "stream",
     "text": [
      "Employee: John Doe, Department: Sales, Start Year: 2015, Position: Manager\n"
     ]
    }
   ],
   "source": [
    "# Example: Defining and accessing a nested tuple\n",
    "employee_records = (\n",
    "    (\"John Doe\", \"Sales\", (2015, \"Manager\")),  # Each inner tuple includes name, department, and a tuple of start year and position\n",
    "    (\"Jane Smith\", \"IT\", (2018, \"Developer\"))\n",
    ")\n",
    "# Accessing data from the first employee's record & Unpack the first tuple within employee_records to extract employee details\n",
    "employee_name, department, (start_year, position) = employee_records[0]\n",
    "\n",
    "print(f\"Employee: {employee_name}, Department: {department}, Start Year: {start_year}, Position: {position}\")"
   ]
  },
  {
   "cell_type": "code",
   "execution_count": 5,
   "id": "77ffb6ef",
   "metadata": {},
   "outputs": [
    {
     "name": "stdout",
     "output_type": "stream",
     "text": [
      "Student Exam Records:\n",
      "\n",
      "Student Name: Alice\n",
      "Roll Number: 101\n",
      "Math: 85\n",
      "Science: 90\n",
      "English: 78\n",
      "\n",
      "Student Name: Bob\n",
      "Roll Number: 102\n",
      "Math: 75\n",
      "Science: 88\n",
      "English: 82\n",
      "\n",
      "Student Name: Charlie\n",
      "Roll Number: 103\n",
      "Math: 92\n",
      "Science: 85\n",
      "English: 80\n",
      "\n"
     ]
    }
   ],
   "source": [
    "student_records = (\n",
    "    (\"Alice\", 101, (85, 90, 78)), # Each inner tuple includes name, roll number, and a tuple of marks in three subjects\n",
    "    (\"Bob\", 102, (75, 88, 82)),\n",
    "    (\"Charlie\", 103, (92, 85, 80))\n",
    ")\n",
    "print(\"Student Exam Records:\\n\")\n",
    "\n",
    "for student in student_records: # Unpack each student record\n",
    "    name, roll_number, marks = student\n",
    "    math, science, english = marks\n",
    "\n",
    "    print(f\"Student Name: {name}\\nRoll Number: {roll_number}\\nMath: {math}\\nScience: {science}\\nEnglish: {english}\\n\")"
   ]
  },
  {
   "cell_type": "code",
   "execution_count": 9,
   "id": "c5f542da",
   "metadata": {},
   "outputs": [
    {
     "name": "stdout",
     "output_type": "stream",
     "text": [
      "Nested Tuple: (('Alice', '15', '10th Grade'), ('Bob', '16', '11th Grade'))\n"
     ]
    }
   ],
   "source": [
    "# Creating a Nested Tuple by Concatenating Two Tuple:\n",
    "user1 = input(\"Enter Student details [Name, Age, Class]: \").strip().split(\",\")\n",
    "user2 = input(\"Enter Student details [Name, Age, Class]: \").strip().split(\",\")\n",
    "\n",
    "## Creating a tuple from users input after stripping whitespace\n",
    "first_tuple = tuple(value.strip() for value in user1)\n",
    "second_tuple = tuple(value.strip() for value in user2)\n",
    "\n",
    "nested_tuple = (first_tuple, second_tuple) # Creating a nested tuple by combining two tuples\n",
    "print(\"Nested Tuple:\", nested_tuple)"
   ]
  },
  {
   "cell_type": "markdown",
   "id": "4282b46f",
   "metadata": {},
   "source": [
    "##### ***Understanding Tuple Indexing in Python:***\n",
    "1. **Tuple indexing** allows accessing elements in a tuple by their position.  \n",
    "2. Tuples are **ordered sequences**, so each element has a unique index starting from **0**.  \n",
    "3. Unlike lists, tuples are **immutable**, meaning their values cannot be modified after creation.  \n",
    "4. Indexing makes it possible to retrieve specific elements quickly from a tuple.  \n",
    "---\n",
    "##### ***Syntax***:\n",
    "```python\n",
    "    ➡️ tuple_name[index]\n",
    "        # tuple_name → The name of the tuple.\n",
    "        # index      → The position of the element (starting from 0).\n",
    "```"
   ]
  },
  {
   "cell_type": "code",
   "execution_count": 10,
   "id": "5f6f3048",
   "metadata": {},
   "outputs": [
    {
     "name": "stdout",
     "output_type": "stream",
     "text": [
      "10\n",
      "20\n"
     ]
    }
   ],
   "source": [
    "# Example: Accessing Elements in a Tuple\n",
    "my_tuple = (10, 20, 30, 40)\n",
    "\n",
    "first_item = my_tuple[0] # Accessing the first element using index 0\n",
    "second_item = my_tuple[1] # Accessing the second element using index 1\n",
    "\n",
    "print(first_item)  # Output: 10\n",
    "print(second_item)  # Output: 20"
   ]
  },
  {
   "cell_type": "markdown",
   "id": "6970f654",
   "metadata": {},
   "source": [
    "##### ***Negative Indexing in Tuples:***\n",
    "\n",
    "1. **Negative indexing** allows accessing elements of a tuple from the **end towards the beginning**.  \n",
    "2. Index `-1` refers to the **last element**, `-2` to the **second last element**, and so on.  \n",
    "3. This approach is especially useful when working with elements at the **end of a tuple** without knowing its exact length.  \n",
    "---\n",
    "##### ***Syntax***:\n",
    "```python\n",
    "    ➡️ tuple_name[-index]\n",
    "        # -1 → Refers to the last element\n",
    "        # -2 → Refers to the second last element\n",
    "        # and so on...\n",
    "```"
   ]
  },
  {
   "cell_type": "code",
   "execution_count": 11,
   "id": "b0c3401e",
   "metadata": {},
   "outputs": [
    {
     "name": "stdout",
     "output_type": "stream",
     "text": [
      "purple\n",
      "yellow\n"
     ]
    }
   ],
   "source": [
    "# Example of Accessing Elements\n",
    "colors = ('red', 'blue', 'green', 'yellow', 'purple')\n",
    "\n",
    "last_color = colors[-1]  # Returns 'purple' --> Accessing the last element using negative indexing\n",
    "second_last_color = colors[-2]  # Returns 'yellow' --> # Accessing the second to last element\n",
    "\n",
    "print(f\"{last_color}\\n{second_last_color}\")"
   ]
  },
  {
   "cell_type": "code",
   "execution_count": 12,
   "id": "2672643f",
   "metadata": {},
   "outputs": [
    {
     "name": "stdout",
     "output_type": "stream",
     "text": [
      "Last word in the sentence: programming\n"
     ]
    }
   ],
   "source": [
    "# Check the Last Word Using Negative Indexing\n",
    "user_input = input(\"Enter a sentence: \")\n",
    "words = tuple(user_input.split())\n",
    "\n",
    "print(\"Last word in the sentence:\", words[-1])  # Accessing the last word using negative indexing"
   ]
  },
  {
   "cell_type": "markdown",
   "id": "b7f5d34c",
   "metadata": {},
   "source": [
    "##### ***Tuple Slicing in Python:***\n",
    "\n",
    "1. **Tuple slicing** allows extracting specific parts of a tuple by defining a **range of indices**.  \n",
    "2. It enables working with **subsections of data** without modifying the original tuple (since tuples are immutable).  \n",
    "3. Slicing is efficient for accessing data in **ordered sequences**.  \n",
    "---\n",
    "##### ***Syntax***:\n",
    "```python\n",
    "    ➡️ tuple_name[start:stop:step]\n",
    "        # start → The index where the slice begins (inclusive).\n",
    "        # stop  → The index where the slice ends (exclusive).\n",
    "        # step  → The interval between elements (optional, defaults to 1).\n",
    "```"
   ]
  },
  {
   "cell_type": "code",
   "execution_count": null,
   "id": "8f031d65",
   "metadata": {},
   "outputs": [
    {
     "name": "stdout",
     "output_type": "stream",
     "text": [
      "Extracting a Range of Elements:  (3, 4, 5)\n",
      "Using Step in Slicing:  (1, 3, 5, 7)\n",
      "Omitting Start Indices:  (1, 2, 3, 4)\n",
      "Omitting the stop index:  (4, 5, 6, 7)\n",
      "Slicing with Negative Indices:  (3, 4, 5)\n",
      "Slicing with Negative Indices and Step:  (7, 6, 5, 4, 3, 2, 1)\n"
     ]
    }
   ],
   "source": [
    "#1. Extracting a Range of Elements:\n",
    "my_tuple = (1, 2, 3, 4, 5, 6, 7)\n",
    "\n",
    "sliced_tuple = my_tuple[2:5] # Extract a slice from index 2 to 4 (stop index is exclusive)\n",
    "print(\"Extracting a Range of Elements: \", sliced_tuple)  # Output: (3, 4, 5)\n",
    "\n",
    "# --------------------------------------------------------------------------------------------------------------------------------------------\n",
    "#2. Using Step in Slicing:\n",
    "sliced_tuple = my_tuple[0:7:2] # Using step in slicing: Extract every second element from index 0 to 6\n",
    "print(\"Using Step in Slicing: \", sliced_tuple)  # Output: (1, 3, 5, 7)\n",
    "\n",
    "# --------------------------------------------------------------------------------------------------------------------------------------------\n",
    "#3. Omitting Start Indices:\n",
    "sliced_tuple = my_tuple[:4] # Omitting start index: Slicing from the beginning up to index 4 (exclusive)\n",
    "print(\"Omitting Start Indices: \", sliced_tuple)  # Output: (1, 2, 3, 4)\n",
    "\n",
    "# --------------------------------------------------------------------------------------------------------------------------------------------\n",
    "#4. Omitting the stop index, slicing continues to the end:\n",
    "sliced_tuple = my_tuple[3:] # Omitting stop index: Slicing from index 3 to the end of the tuple\n",
    "print(\"Omitting the stop index: \", sliced_tuple)  # Output: (4, 5, 6, 7)\n",
    "\n",
    "# --------------------------------------------------------------------------------------------------------------------------------------------\n",
    "#5. Slicing with Negative Indices:\n",
    "sliced_tuple = my_tuple[-5:-2] # Slicing with negative indices: Extract elements from the 5th last to the 3rd last (exclusive)\n",
    "print(\"Slicing with Negative Indices: \", sliced_tuple)  # Output: (3, 4, 5)\n",
    "\n",
    "# --------------------------------------------------------------------------------------------------------------------------------------------\n",
    "#6. Slicing with Negative Indices and Step:\n",
    "sliced_tuple = my_tuple[::-1] # Slicing with negative indices and step: Reverse the tuple\n",
    "print(\"Slicing with Negative Indices and Step: \", sliced_tuple)  # Output: (7, 6, 5, 4, 3, 2, 1)"
   ]
  },
  {
   "cell_type": "markdown",
   "id": "a1dbcc9b",
   "metadata": {},
   "source": [
    "##### ➡️ ***Immutability of Tuples in Python:***\n",
    "1. Tuples in Python are **immutable**, meaning their contents **cannot be changed** after creation.  \n",
    "2. Once a tuple is created, you cannot **modify, add, or remove** its elements.  \n",
    "3. Any attempt to alter a tuple will result in a **TypeError**.  \n",
    "4. If changes are needed, a **new tuple must be created** instead of modifying the existing one.  "
   ]
  },
  {
   "cell_type": "code",
   "execution_count": 16,
   "id": "9238ba83",
   "metadata": {},
   "outputs": [
    {
     "name": "stdout",
     "output_type": "stream",
     "text": [
      "('Funday', 'Tuesday', 'Wednesday', 'Thursday', 'Friday', 'Saturday', 'Sunday')\n"
     ]
    }
   ],
   "source": [
    "# Attempting to Modify a Tuple (Raises an Error)\n",
    "days = ('Monday', 'Tuesday', 'Wednesday', 'Thursday', 'Friday', 'Saturday', 'Sunday')\n",
    "\n",
    "# Modifying the first element of the tuple\n",
    "# days[0] = 'Funday'  # This will raise an error\n",
    "\n",
    "\"\"\"Creating a New Tuple Instead --> If changes are needed, a new tuple must be created:\n",
    "        -- Create a new tuple by modifying the first element + ()'Funday',) is a single-element tuple (note the comma) + days[1:] slices the original\n",
    "                tuple from index 1 to the end\"\"\"\n",
    "\n",
    "new_days = ('Funday',) + days[1:]\n",
    "print(new_days)"
   ]
  },
  {
   "cell_type": "code",
   "execution_count": 17,
   "id": "df476ff5",
   "metadata": {},
   "outputs": [
    {
     "name": "stdout",
     "output_type": "stream",
     "text": [
      "('Gaming Laptop', 799.99, 'Electronics')\n"
     ]
    }
   ],
   "source": [
    "# Fixing an Error in Product Details:\n",
    "product_details = (\"Laptop\", 799.99, \"Electronics\")\n",
    "\n",
    "# Create a new tuple with the updated product name while keeping the other details unchanged\n",
    "updated_product_details = (\"Gaming Laptop\",) + product_details[1:]\n",
    "print(updated_product_details)"
   ]
  },
  {
   "cell_type": "code",
   "execution_count": 18,
   "id": "53aa3a7b",
   "metadata": {},
   "outputs": [
    {
     "name": "stdout",
     "output_type": "stream",
     "text": [
      "Updated Tuple: ('Python', 'Java', 'C++', 'Rust')\n"
     ]
    }
   ],
   "source": [
    "# Testing Immutability of tuple:\n",
    "user = input(\"Enter programming languages you know (comma-separated): \").strip()\n",
    "languages = tuple(user.split(\",\")) # Convert the input string into a tuple of languages\n",
    "\n",
    "new_language = input(\"Enter additional programming languages: \").strip() # Ask the user for a new language to add\n",
    "updated_languages = languages + (new_language,) # Create a new tuple with the additional language\n",
    "\n",
    "print(\"Updated Tuple:\", updated_languages)"
   ]
  },
  {
   "cell_type": "markdown",
   "id": "1466f28c",
   "metadata": {},
   "source": [
    "##### ***Iterating Through Tuples in Python:***\n",
    "1. Tuples are **ordered collections** like lists but are **immutable**, meaning their contents cannot be changed after creation.  \n",
    "2. Even though tuples cannot be modified, their elements can still be **accessed sequentially** using loops.  \n",
    "3. Iterating through tuples is useful for **reading and processing data** while ensuring immutability for data consistency.  \n",
    "---\n",
    "##### ***Syntax***:\n",
    "```python\n",
    "    ➡️ for item in tuple_name:\n",
    "        print(item)\n",
    "        # Accesses each element of the tuple one by one\n",
    "```"
   ]
  },
  {
   "cell_type": "code",
   "execution_count": 19,
   "id": "4e105b49",
   "metadata": {},
   "outputs": [
    {
     "name": "stdout",
     "output_type": "stream",
     "text": [
      "1\n",
      "2\n",
      "3\n",
      "4\n",
      "5\n",
      "red\n",
      "blue\n",
      "green\n",
      "yellow\n"
     ]
    }
   ],
   "source": [
    "# Example 1: Iterating Using a for Loop\n",
    "my_tuple = (1, 2, 3, 4, 5)\n",
    "\n",
    "# Iterate through the tuple using a for loop where the loop retrieves each number in the tuple and prints it\n",
    "for number in my_tuple:\n",
    "    print(number)  # Outputs: 1 2 3 4 5\n",
    "\n",
    "# --------------------------------------------------------------------------------------------------------------------------------------------\n",
    "# Example 2: Iterating Using Indexing: Iterate through a tuple using a for loop with range() and indexing.\n",
    "colors = (\"red\", \"blue\", \"green\", \"yellow\")\n",
    "\n",
    "# Looping using index values with range(len(tuple)) & accessing to both the index and the element if needed\n",
    "for i in range(len(colors)):\n",
    "    print(colors[i])  # Outputs: red blue green yellow"
   ]
  },
  {
   "cell_type": "code",
   "execution_count": 24,
   "id": "fbe10e5b",
   "metadata": {},
   "outputs": [
    {
     "name": "stdout",
     "output_type": "stream",
     "text": [
      "Days with high temperatures: [1, 3, 5]\n",
      "Days with low temperatures: [0, 2, 4, 6]\n"
     ]
    }
   ],
   "source": [
    "# Identifying High and Low Temperatures:\n",
    "week_temperatures = (24, 27, 22, 28, 25, 26, 23) # Tuple of daily temperatures for a week (Monday to Sunday)\n",
    "threshold_temp = 25 # threshold temperature\n",
    "\n",
    "# Initialize empty lists to store the indices of high and low temperature days\n",
    "high_temp_days = []\n",
    "low_temp_days = []\n",
    "\n",
    "# Iterate through the tuple using the index to compare each temperature with the threshold\n",
    "for i in range(len(week_temperatures)):\n",
    "    if week_temperatures[i] > threshold_temp:\n",
    "        high_temp_days.append(i)\n",
    "\n",
    "    else:\n",
    "        low_temp_days.append(i)\n",
    "\n",
    "print(f\"Days with high temperatures: {high_temp_days}\")\n",
    "print(f\"Days with low temperatures: {low_temp_days}\")"
   ]
  }
 ],
 "metadata": {
  "kernelspec": {
   "display_name": "base",
   "language": "python",
   "name": "python3"
  },
  "language_info": {
   "codemirror_mode": {
    "name": "ipython",
    "version": 3
   },
   "file_extension": ".py",
   "mimetype": "text/x-python",
   "name": "python",
   "nbconvert_exporter": "python",
   "pygments_lexer": "ipython3",
   "version": "3.13.5"
  }
 },
 "nbformat": 4,
 "nbformat_minor": 5
}
