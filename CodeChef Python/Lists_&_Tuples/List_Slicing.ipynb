{
 "cells": [
  {
   "cell_type": "code",
   "execution_count": null,
   "id": "f336559b",
   "metadata": {},
   "outputs": [],
   "source": [
    "# ------------------------------------------------ Lists Slicing -----------------------------------------------\n",
    "## Contents:--\n",
    "    #-- Basic Slice (start : end : step)\n",
    "    #-- Slicing from Start\n",
    "    #-- Slicing to End\n",
    "    #-- Negative Index Slicing\n",
    "    #-- Step Slicing\n",
    "    #-- Negative Step Slicing\n",
    "    #-- Slice Assignment\n",
    "    #-- Slice Deletion"
   ]
  },
  {
   "cell_type": "code",
   "execution_count": 2,
   "id": "8f91387b",
   "metadata": {},
   "outputs": [
    {
     "name": "stdout",
     "output_type": "stream",
     "text": [
      "['banana', 'cherry', 'mango']\n",
      "['mango', 'grape', 'pineapple']\n"
     ]
    }
   ],
   "source": [
    "# ------------------------------------------------ Basic Slice (start : end : step) -----------------------------------------------\n",
    "\"\"\"Slicing is a powerful technique that allows you to extract a specific range of elements from sequences like lists, strings, and tuples.\n",
    "\n",
    "        ## Syntax:\n",
    "            --> new_list = my_list[start : end]\n",
    "                # start: Index where slicing begins.\n",
    "                # end: Index where slicing stops (not included in the result).\"\"\"\n",
    "\n",
    "# Example:\n",
    "fruits = [\"apple\", \"banana\", \"cherry\", \"mango\", \"grape\", \"pineapple\", \"kiwi\", \"orange\"]\n",
    "\n",
    "# Apply slicing to extract fruits from index 1 to 4\n",
    "selected_fruits = fruits[1:4]\n",
    "print(selected_fruits)\n",
    "\n",
    "# Slicing to extract fruits from index 3 to 6\n",
    "more_fruits = fruits[3:6]\n",
    "print(more_fruits)"
   ]
  },
  {
   "cell_type": "code",
   "execution_count": 3,
   "id": "9c9bfd4b",
   "metadata": {},
   "outputs": [
    {
     "name": "stdout",
     "output_type": "stream",
     "text": [
      "[10, 20, 30]\n",
      "['apple', 'banana', 'cherry']\n"
     ]
    }
   ],
   "source": [
    "# ------------------------------------------------ Slicing from Start -----------------------------------------------\n",
    "\"\"\"In Slicing from start we will ommit the start parameter.\n",
    "\n",
    "    ## Syntax\n",
    "        --> sequence[start:end]\n",
    "            # start(Optional): The index where slicing begins (defaults to 0 if omitted).\n",
    "            # end(Required): The index where slicing stops (exclusive).\"\"\"\n",
    "\n",
    "# Example: Slicing from the Start in a List\n",
    "my_list = [10, 20, 30, 40, 50]\n",
    "\n",
    "sliced_list = my_list[0 : 3] # Slice from the start to index 3 (excluding index 3)\n",
    "print(sliced_list) # Output: [10, 20, 30]\n",
    "\n",
    "# Omitting the start index\n",
    "fruits = [\"apple\", \"banana\", \"cherry\", \"date\", \"fig\"]\n",
    "print(fruits[: 3])   # Output: ['apple', 'banana', 'cherry']"
   ]
  },
  {
   "cell_type": "code",
   "execution_count": 5,
   "id": "3d12ed3b",
   "metadata": {},
   "outputs": [
    {
     "name": "stdout",
     "output_type": "stream",
     "text": [
      "['A', 'r', 'y', 'a', 'n']\n"
     ]
    }
   ],
   "source": [
    "user_input = input().strip()\n",
    "final = list(user_input)\n",
    "print(final)"
   ]
  },
  {
   "cell_type": "code",
   "execution_count": 6,
   "id": "a2687ae1",
   "metadata": {},
   "outputs": [
    {
     "name": "stdout",
     "output_type": "stream",
     "text": [
      "['banana', 'cherry', 'date', 'elderberry']\n"
     ]
    }
   ],
   "source": [
    "# ------------------------------------------------ Slicing to End -----------------------------------------------\n",
    "\"\"\"'Slicing to End', a simple Python technique that lets you take a portion of a string or list from a specific point to the end.\n",
    "\n",
    "    ## Syntax: variable[start:]\n",
    "        -- start (Required): The index where slicing begins. Slicing continues to the end of the sequence.\"\"\"\n",
    "\n",
    "# Example:\n",
    "fruits = ['apple', 'banana', 'cherry', 'date', 'elderberry']\n",
    "\n",
    "# Slicing the list from index 1 to the end\n",
    "print(fruits[1:])  # Outputs: ['banana', 'cherry', 'date', 'elderberry']"
   ]
  },
  {
   "cell_type": "code",
   "execution_count": 10,
   "id": "1a44bb1b",
   "metadata": {},
   "outputs": [
    {
     "name": "stdout",
     "output_type": "stream",
     "text": [
      "Selected Dates: ['2021-05-20', '2021-07-04', '2021-09-10']\n"
     ]
    }
   ],
   "source": [
    "# Extract Valid Date Range from a Series\n",
    "dates = [\"2021-01-01\", \"2021-03-15\", \"2021-05-20\", \"2021-07-04\", \"2021-09-10\"]\n",
    "\n",
    "start = int(input(\"Enter the Index Number to start Slicing: \").strip())\n",
    "\n",
    "# Check if the entered index is within the valid range\n",
    "if 0 <= start < len(dates):\n",
    "    specific_dates = dates[start : ]\n",
    "    print(f\"Selected Dates: {specific_dates}\")\n",
    "else:\n",
    "    print(\"Error: Input is out of Range.\")"
   ]
  },
  {
   "cell_type": "code",
   "execution_count": 11,
   "id": "cc73c365",
   "metadata": {},
   "outputs": [
    {
     "name": "stdout",
     "output_type": "stream",
     "text": [
      "[20, 25, 30]\n",
      "Programming\n",
      "['blue', 'green', 'yellow']\n"
     ]
    }
   ],
   "source": [
    "# ------------------------------------------------ Negative Index Slicing -----------------------------------------------\n",
    "\"\"\"Negative index slicing in Python, a powerful technique for extracting specific portions of sequences like lists and strings. While\n",
    "        traditional slicing uses positive indices, negative index slicing allows access to elements from the end without needing the exact\n",
    "                sequence length, making code more flexible, readable, and particularly useful when handling dynamic datasets.\n",
    "\n",
    "        ## Syntax: variable[-start:-end]\n",
    "            # start - The index (counting from the end) where slicing begins.\n",
    "            # end - The index (counting from the end) where slicing stops (not included).\"\"\"\n",
    "\n",
    "# Example: Slicing a List with Negative Indices\n",
    "numbers = [5, 10, 15, 20, 25, 30]\n",
    "\n",
    "subset = numbers[-3:] # Extract the last three elements using negative indexing\n",
    "print(subset)  # Output: [20, 25, 30]\n",
    "\n",
    "# ----------------------------------------------------------------------------------------------------------------------\n",
    "# Example: Slicing a String with Negative Indices\n",
    "text = \"Python Programming\"\n",
    "\n",
    "result = text[-11:] # Extract the last 11 characters of the string\n",
    "print(result)  # Output: 'Programming'\n",
    "\n",
    "# ----------------------------------------------------------------------------------------------------------------------\n",
    "# Example: Using Negative Indices for Partial Extraction\n",
    "colors = ['red', 'blue', 'green', 'yellow', 'purple']\n",
    "\n",
    "sliced_colors = colors[-4:-1] # Extracting elements from the 4th last to the 2nd last element using negative indices\n",
    "print(sliced_colors)  # Output: ['blue', 'green', 'yellow']"
   ]
  },
  {
   "cell_type": "code",
   "execution_count": 12,
   "id": "4dd6a6d6",
   "metadata": {},
   "outputs": [
    {
     "name": "stdout",
     "output_type": "stream",
     "text": [
      "Extracted fruits: ['Orange', 'Grapes']\n"
     ]
    }
   ],
   "source": [
    "# Extract Favorite Fruits:\n",
    "fruits = ['Apple', 'Banana', 'Mango', 'Pineapple', 'Orange', 'Grapes']\n",
    "\n",
    "start = int(input(\"Enter the Negative Slicing Value: \").strip())\n",
    "\n",
    "if -len(fruits) <= start <= -1: # Validating index and perform slicing\n",
    "    slicing = fruits[start: ]\n",
    "    print(f\"Extracted fruits: {slicing}\")\n",
    "else:\n",
    "    print(\"Error: Invalid index. Please enter a valid negative index.\")"
   ]
  },
  {
   "cell_type": "code",
   "execution_count": null,
   "id": "0521aba0",
   "metadata": {},
   "outputs": [
    {
     "name": "stdout",
     "output_type": "stream",
     "text": [
      "[10, 30, 50]\n",
      "['b', 'd', 'f']\n",
      "[5, 20, 35]\n"
     ]
    }
   ],
   "source": [
    "# ------------------------------------------------ Step Slicing -----------------------------------------------\n",
    "\"\"\"Step slicing in Python extracts elements from a list at regular intervals while moving forward. It is useful for skipping elements\n",
    "        or selecting specific patterns within a list, filtering sequences, and creating structured patterns without loops.\n",
    "\n",
    "            ## Syntax: list_name[start : end : step]\n",
    "                    # start(optional): Index where slicing begins (`default is 0`).\n",
    "                    # end(optional): Index where slicing stops (exclusive).\n",
    "                    # step: A positive integer specifying the interval between elements.\"\"\"\n",
    "\n",
    "## Examples of Positive Step Slicing: -\n",
    "\n",
    "#1. Extract Every Second Element\n",
    "numbers = [10, 20, 30, 40, 50, 60]\n",
    "print(numbers[ : : 2])  #Slice the list with a step of 2 (every second element) --> Output: [10, 30, 50]\n",
    "\n",
    "# ----------------------------------------------------------------------------------------------------------------------\n",
    "#2. Extract a Specific Range with Steps\n",
    "letters = ['a', 'b', 'c', 'd', 'e', 'f', 'g']\n",
    "print(letters[1 : 6 : 2])  # Slice the list from index 1 to index 6 with a step of 2 --> Output: ['b', 'd', 'f']\n",
    "\n",
    "# ----------------------------------------------------------------------------------------------------------------------\n",
    "#3. Extract Every Third Element\n",
    "values = [5, 10, 15, 20, 25, 30, 35]\n",
    "print(values[0 : 7 : 3]) # Slice the list from index 0 to index 7 with a step of 3 --> Output: [5, 20, 35]"
   ]
  },
  {
   "cell_type": "code",
   "execution_count": 15,
   "id": "4d14bb2d",
   "metadata": {},
   "outputs": [
    {
     "name": "stdout",
     "output_type": "stream",
     "text": [
      "Sliced List of Cities: ['London', 'Tokyo', 'Berlin']\n"
     ]
    }
   ],
   "source": [
    "# Extracting City Names Using Step Slicing\n",
    "cities = [\"New York\", \"London\", \"Paris\", \"Tokyo\", \"Sydney\", \"Berlin\", \"Dubai\", \"Rome\", \"Toronto\", \"Singapore\"]\n",
    "\n",
    "# Slicing parameters and ensure input is properly stripped and converted to integer\n",
    "start = int(input().strip())\n",
    "end = int(input().strip())\n",
    "step = int(input().strip())\n",
    "\n",
    "if -len(cities) <= start < len(cities) and -len(cities) <= end < len(cities):\n",
    "    sliced_cities = cities[start : end : step]\n",
    "    print(\"Sliced List of Cities:\", sliced_cities)\n",
    "else:\n",
    "    print(\"Error: Invalid Input.\")"
   ]
  },
  {
   "cell_type": "code",
   "execution_count": null,
   "id": "06219e04",
   "metadata": {},
   "outputs": [
    {
     "name": "stdout",
     "output_type": "stream",
     "text": [
      "[50, 40, 30, 20, 10]\n",
      "Last three elements in reverse: [50, 40, 30]\n",
      "Partial reverse slicing: [60, 40]\n"
     ]
    }
   ],
   "source": [
    "# ------------------------------------------------ Negative Step Slicing -----------------------------------------------\n",
    "\"\"\"Negative step slicing is a powerful feature in Python that allows you to extract elements from a sequence (like a list or string) in\n",
    "        reverse order. Instead of iterating from left to right, you can slice the sequence backward by specifying a negative step value.\n",
    "                This technique is useful when you need to reverse a sequence or access elements from the end efficiently.\n",
    "\n",
    "        ## Syntax: sequence[start:end:step]\n",
    "            # start - The index where slicing begins.\n",
    "            # end - The index where slicing stops (not inclusive).\n",
    "            # step - The stride, determining how many elements to skip. A negative step moves the slicing in reverse order.\"\"\"\n",
    "\n",
    "# Example 1: Reversing a List\n",
    "numbers = [10, 20, 30, 40, 50]\n",
    "\n",
    "reversed_list = numbers[::-1] # Reverse the entire list using slicing with step -1\n",
    "print(reversed_list) # Output : Reversed List: [50, 40, 30, 20, 10]\n",
    "\n",
    "# ----------------------------------------------------------------------------------------------------------------------\n",
    "# Example 2: Extracting Elements in Reverse Order\n",
    "numbers = [10, 20, 30, 40, 50]\n",
    "\n",
    "result = numbers[-1:-4:-1]  # Starts from 50, moves back to 30\n",
    "print(\"Last three elements in reverse:\", result) # Output : Last three elements in reverse: [50, 40, 30]\n",
    "\n",
    "# ----------------------------------------------------------------------------------------------------------------------\n",
    "# Example 3: Partial Reverse Slicing\n",
    "numbers = [10, 20, 30, 40, 50, 60, 70]\n",
    "\n",
    "result = numbers[-2:-6:-2]  # Starts from 60, moves back skipping one element\n",
    "print(\"Partial reverse slicing:\", result) # Output : Partial reverse slicing: [60, 40]"
   ]
  },
  {
   "cell_type": "code",
   "execution_count": 17,
   "id": "0b629bfb",
   "metadata": {},
   "outputs": [
    {
     "name": "stdout",
     "output_type": "stream",
     "text": [
      "[10, 100, 200, 300, 50]\n",
      "['a', 'b', 'c', 'd', 'e']\n",
      "['apple', 'date']\n"
     ]
    }
   ],
   "source": [
    "# ------------------------------------------------ Slice Assignment -----------------------------------------------\n",
    "\"\"\"Slice assignment in Python allows modifying multiple elements in a list at once using slicing. Unlike tuples (which are immutable),\n",
    "        lists support this feature, making it easy to replace, insert, or delete multiple elements efficiently. It is a memory-efficient and\n",
    "                elegant alternative to using loops for modifying list contents.\n",
    "\n",
    "            ## Syntax: list_name[start:end] = new_values\n",
    "                    # start(optional): The index where the assignment begins.\n",
    "                    # end(optional): The index where elements are replaced (exclusive).\n",
    "                    # new_values: The new sequence of elements that will replace the sliced portion.\"\"\"\n",
    "\n",
    "# 1. Replacing Multiple Elements\n",
    "numbers = [10, 20, 30, 40, 50]\n",
    "\n",
    "# Replace elements from index 1 to 3 with new values\n",
    "numbers[1:4] = [100, 200, 300]\n",
    "print(numbers)  # Output: [10, 100, 200, 300, 50]\n",
    "\n",
    "# ----------------------------------------------------------------------------------------------------------------------\n",
    "# 2. Inserting New Elements Without Replacing\n",
    "letters = ['a', 'b', 'e']\n",
    "\n",
    "# Insert elements 'c' and 'd' at index 2 without removing any elements\n",
    "letters[2:2] = ['c', 'd']\n",
    "print(letters)  # Output: ['a', 'b', 'c', 'd', 'e']\n",
    "\n",
    "# ----------------------------------------------------------------------------------------------------------------------\n",
    "# 3. Deleting Elements Using an Empty List\n",
    "fruits = ['apple', 'banana', 'cherry', 'date']\n",
    "\n",
    "# Remove elements from index 1 to 2 by assigning an empty list\n",
    "fruits[1:3] = []\n",
    "print(fruits)  # Output: ['apple', 'date']"
   ]
  },
  {
   "cell_type": "code",
   "execution_count": 19,
   "id": "18db3b5a",
   "metadata": {},
   "outputs": [
    {
     "name": "stdout",
     "output_type": "stream",
     "text": [
      "\n",
      "Updated Store Inventory: ['Laptop', 'Gaming Console', 'Wireless Earbuds', 'VR Headset', 'Smartwatch']\n"
     ]
    }
   ],
   "source": [
    "# Updating Store Inventory Using Slice Assignment\n",
    "inventory = [\"Laptop\", \"Smartphone\", \"Headphones\", \"Tablet\", \"Smartwatch\"]\n",
    "\n",
    "# Take user input for the start and end index of slice assignment\n",
    "start = int(input(\"Enter the Starting Index: \").strip())\n",
    "end = int(input(\"Enter the Ending Index: \").strip())\n",
    "\n",
    "# Define new products to replace the selected range\n",
    "inventory[start : end] = [\"Gaming Console\", \"Wireless Earbuds\", \"VR Headset\"]\n",
    "print(\"\\nUpdated Store Inventory:\", inventory)"
   ]
  },
  {
   "cell_type": "code",
   "execution_count": null,
   "id": "87ca1e86",
   "metadata": {},
   "outputs": [],
   "source": [
    "# ------------------------------------------------ Slice Deletion -----------------------------------------------\n",
    "\"\"\"Slice deletion in Python allows removing multiple elements from a list using slicing. Unlike removing individual elements with remove()\n",
    "        or pop(), slice deletion enables bulk deletion in a single step, making it an efficient way to modify lists and ensures better performance\n",
    "                compared to looping through a list for deletions.\n",
    "\n",
    "            ## Syntax: list_name[start:end] = []\n",
    "                    # start(optional): The index where deletion begins.\n",
    "                    # end(optional): The index where deletion stops (exclusive).\n",
    "                        # Assigning `[]` to the slice removes all elements in the specified range.\"\"\"\n",
    "\n",
    "# 1. Delete Multiple Elements\n",
    "numbers = [10, 20, 30, 40, 50, 60]\n",
    "\n",
    "numbers[1:4] = []  # Removes elements at index 1, 2, and 3\n",
    "print(numbers)  # Output: [10, 50, 60]\n",
    "\n",
    "# ----------------------------------------------------------------------------------------------------------------------\n",
    "# 2. Delete Elements from the Beginning\n",
    "letters = ['a', 'b', 'c', 'd', 'e']\n",
    "\n",
    "letters[:2] = []  # Removes first two elements\n",
    "print(letters)  # Output: ['c', 'd', 'e']\n",
    "\n",
    "# ----------------------------------------------------------------------------------------------------------------------\n",
    "# 3. Delete Elements Until the End\n",
    "values = [1, 2, 3, 4, 5, 6, 7]\n",
    "\n",
    "values[3:] = []  # Removes all elements from index 3 to the end\n",
    "print(values)  # Output: [1, 2, 3]"
   ]
  }
 ],
 "metadata": {
  "kernelspec": {
   "display_name": "base",
   "language": "python",
   "name": "python3"
  },
  "language_info": {
   "codemirror_mode": {
    "name": "ipython",
    "version": 3
   },
   "file_extension": ".py",
   "mimetype": "text/x-python",
   "name": "python",
   "nbconvert_exporter": "python",
   "pygments_lexer": "ipython3",
   "version": "3.13.5"
  }
 },
 "nbformat": 4,
 "nbformat_minor": 5
}
