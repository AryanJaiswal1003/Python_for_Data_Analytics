{
 "cells": [
  {
   "cell_type": "code",
   "execution_count": 1,
   "id": "6ed17b0d",
   "metadata": {},
   "outputs": [],
   "source": [
    "# ------------------------------------------------ Set_Operations - II  -----------------------------------------------\n",
    "## Contents:--\n",
    "    #-- Membership Testing (in and not in)\n",
    "    #-- Iterating Over a Set (for loop)\n",
    "    #-- Union\n",
    "    #-- Intersection\n",
    "    #-- Difference\n",
    "    #-- Subset & Superset Checks"
   ]
  },
  {
   "cell_type": "markdown",
   "id": "07e5ea2a",
   "metadata": {},
   "source": [
    "### **Membership Testing (`in` and `not in`)**\n",
    "In Python, **membership testing** allows you to check whether an element exists within a collection such as a **list**, **tuple**, or **set**.  \n",
    "When working with **sets**, you can use the **`in`** and **`not in`** operators to perform these checks efficiently.\n",
    "\n",
    "---\n",
    "##### ➡️ Key Points\n",
    "- `in` → Returns `True` if the element exists in the set.\n",
    "- `not in` → Returns `True` if the element does not exist in the set.\n",
    "- Membership testing in sets is fast, because sets use hashing for lookups.\n",
    "---\n",
    "##### 1. **`in` Operator**\n",
    "The `in` operator checks if a specific element **exists** in a set. If the element is found, it returns **`True`**; otherwise, **`False`**."
   ]
  },
  {
   "cell_type": "code",
   "execution_count": 2,
   "id": "d20767e3",
   "metadata": {},
   "outputs": [
    {
     "name": "stdout",
     "output_type": "stream",
     "text": [
      "True\n",
      "False\n"
     ]
    }
   ],
   "source": [
    "fruits = {\"apple\", \"banana\", \"cherry\"}\n",
    "\n",
    "# Check if 'banana' is in the set\n",
    "print(\"banana\" in fruits)  # Output: True\n",
    "\n",
    "# Check if 'grape' is in the set\n",
    "print(\"grape\" in fruits)  # Output: False"
   ]
  },
  {
   "cell_type": "markdown",
   "id": "7d8f2cf3",
   "metadata": {},
   "source": [
    "##### 2. **`not in` Operator**\n",
    "The not in operator checks if a specific element is not in the set. If the element is absent, it returns True; otherwise, False."
   ]
  },
  {
   "cell_type": "code",
   "execution_count": 3,
   "id": "41680b17",
   "metadata": {},
   "outputs": [
    {
     "name": "stdout",
     "output_type": "stream",
     "text": [
      "True\n",
      "False\n"
     ]
    }
   ],
   "source": [
    "colors = {\"red\", \"blue\", \"green\"}\n",
    "\n",
    "# Check if 'yellow' is not in the set\n",
    "print(\"yellow\" not in colors)  # Output: True\n",
    "\n",
    "# Check if 'red' is not in the set\n",
    "print(\"red\" not in colors)  # Output: False"
   ]
  },
  {
   "cell_type": "code",
   "execution_count": 7,
   "id": "fbfc4c64",
   "metadata": {},
   "outputs": [
    {
     "name": "stdout",
     "output_type": "stream",
     "text": [
      "False\n",
      "True\n",
      "False\n"
     ]
    }
   ],
   "source": [
    "# Favorite Number --> If not in the set add fav_num to the set & check\n",
    "user_input = input(\"Enter numbers separated by spaces: \")\n",
    "\n",
    "numbers = set(map(int, user_input.split())) # Convert input to a set of integers\n",
    "fav_num = int(input(\"Enter your Favorite Number: \")) # Input the favorite number\n",
    "\n",
    "print(fav_num in numbers) # Check if the favorite number is in the set and print True or False\n",
    "\n",
    "numbers.add(fav_num) if fav_num not in numbers else fav_num # Add the favorite number if not in the set\n",
    "\n",
    "print(fav_num in numbers) # Check if the favorite number is in the set\n",
    "print(fav_num not in numbers) # Check if the favorite number is not in the set"
   ]
  },
  {
   "cell_type": "markdown",
   "id": "127d58bb",
   "metadata": {},
   "source": [
    "### **Iterating Over a Set (`for` loop)**\n",
    "In Python, a **set** is an **unordered collection** of **unique elements** — it automatically removes duplicates and doesn’t preserve insertion order.  \n",
    "Because sets do not support **index-based access**, you cannot retrieve items using their position (like in lists).  \n",
    "Instead, you use a **`for` loop** to go through each item one by one.\n",
    "\n",
    "---\n",
    "##### ➡️ **Key Points**\n",
    "1. Sets do not maintain order — elements may appear in any sequence.\n",
    "2. You cannot access elements by index like `fruits[0]`.\n",
    "3. Iteration ensures you can still process all elements efficiently.\n",
    "4. Membership and iteration in sets are fast, thanks to hashing.\n",
    "---\n",
    "##### ➡️ **Example: Simple Iteration Over a Set**"
   ]
  },
  {
   "cell_type": "code",
   "execution_count": null,
   "id": "48d51919",
   "metadata": {},
   "outputs": [
    {
     "name": "stdout",
     "output_type": "stream",
     "text": [
      "[10, 22, 42, 60]\n"
     ]
    }
   ],
   "source": [
    "numbers = {10, 15, 22, 33, 42, 55, 60, 77}\n",
    "\n",
    "even_numbers = [] # Initialize an empty list\n",
    "# Iterate over the set and filter even numbers\n",
    "for num in numbers:\n",
    "    if num % 2 == 0:\n",
    "        even_numbers.append(num)\n",
    "\n",
    "print(sorted(even_numbers))"
   ]
  },
  {
   "cell_type": "code",
   "execution_count": 17,
   "id": "cd6b86a5",
   "metadata": {},
   "outputs": [
    {
     "name": "stdout",
     "output_type": "stream",
     "text": [
      "7\n"
     ]
    }
   ],
   "source": [
    "# Unique number Even count from a Set:\n",
    "user_input = input(\"Enters space-separated numbers: \")\n",
    "num_set = set(map(int, user_input.split())) # Mapping the input converting it into int and adding to the set\n",
    "\n",
    "even_count = 0 # Even number counter\n",
    "for num in num_set:\n",
    "    if num % 2 == 0:\n",
    "        even_count += 1\n",
    "\n",
    "print(even_count)"
   ]
  },
  {
   "cell_type": "markdown",
   "id": "2a7f7ee7",
   "metadata": {},
   "source": [
    "### **Union Operation in Sets**\n",
    "The **union** operation in Python combines elements from multiple sets into a **single set** while automatically removing **duplicates**.  \n",
    "It’s one of the most common and powerful operations used with sets to merge data efficiently.\n",
    "\n",
    "---\n",
    "##### ➡️ **Syntax**: You can perform a union in two ways:\n",
    "1. **Using the `|` (pipe) operator:**\n",
    "  ```python\n",
    "        set1 | set2\n",
    "  ```\n",
    "2. **Using the union() method:**\n",
    "``` python\n",
    "      set1.union(set2)\n",
    "\n",
    "# The union() method can also take multiple sets:\n",
    "set1.union(set2, set3, ...)\n",
    "```\n",
    "---\n",
    "##### ➡️ **Key Points**\n",
    "- The union operation removes duplicate values automatically.\n",
    "- You can use either `|` or `union()` — both work the same way.\n",
    "- The original sets remain unchanged after performing a union.\n",
    "- The result is a new set containing all unique elements from the combined sets."
   ]
  },
  {
   "cell_type": "markdown",
   "id": "3a66d50c",
   "metadata": {},
   "source": [
    "##### **Example 1:** Union of Two Sets:"
   ]
  },
  {
   "cell_type": "code",
   "execution_count": 18,
   "id": "90b7812f",
   "metadata": {},
   "outputs": [
    {
     "name": "stdout",
     "output_type": "stream",
     "text": [
      "{1, 2, 3, 4, 5, 6}\n",
      "{1, 2, 3, 4, 5, 6}\n"
     ]
    }
   ],
   "source": [
    "# Define two sets\n",
    "set1 = {1, 2, 3, 4}\n",
    "set2 = {3, 4, 5, 6}\n",
    "\n",
    "# Using the pipe operator\n",
    "union_set = set1 | set2\n",
    "print(union_set)  # Output: {1, 2, 3, 4, 5, 6}\n",
    "\n",
    "# Using the union() method\n",
    "union_set2 = set1.union(set2)\n",
    "print(union_set2)  # Output: {1, 2, 3, 4, 5, 6}"
   ]
  },
  {
   "cell_type": "markdown",
   "id": "6a9498b0",
   "metadata": {},
   "source": [
    "##### **Example 2:** Union of Multiple Sets"
   ]
  },
  {
   "cell_type": "code",
   "execution_count": 19,
   "id": "05ccd24f",
   "metadata": {},
   "outputs": [
    {
     "name": "stdout",
     "output_type": "stream",
     "text": [
      "{1, 2, 3, 4, 5, 6, 7}\n",
      "{1, 2, 3, 4, 5, 6, 7}\n"
     ]
    }
   ],
   "source": [
    "set1 = {1, 2, 3}\n",
    "set2 = {3, 4, 5}\n",
    "set3 = {5, 6, 7}\n",
    "\n",
    "# Using the pipe operator\n",
    "union_all = set1 | set2 | set3\n",
    "print(union_all)  # Output: {1, 2, 3, 4, 5, 6, 7}\n",
    "\n",
    "# Using the union() method\n",
    "union_all2 = set1.union(set2, set3)\n",
    "print(union_all2)  # Output: {1, 2, 3, 4, 5, 6, 7}"
   ]
  },
  {
   "cell_type": "code",
   "execution_count": 21,
   "id": "f0d3d7a9",
   "metadata": {},
   "outputs": [
    {
     "name": "stdout",
     "output_type": "stream",
     "text": [
      "{'Math', 'Science', 'Computer Science', 'History', 'English'}\n",
      "5\n"
     ]
    }
   ],
   "source": [
    "student1_subjects = {\"Math\", \"Science\", \"History\"}\n",
    "student2_subjects = {\"History\", \"English\", \"Computer Science\"}\n",
    "\n",
    "# Find the union of both sets\n",
    "merged_set = student1_subjects | student2_subjects\n",
    "\n",
    "# Count the total number of unique subjects\n",
    "unique_subject_count = len(merged_set)\n",
    "\n",
    "print(merged_set)\n",
    "print(unique_subject_count)"
   ]
  },
  {
   "cell_type": "markdown",
   "id": "49315dcf",
   "metadata": {},
   "source": [
    "### **Intersection Operation in Sets**\n",
    "The **intersection** operation in Python finds the **common elements** between two or more sets.  \n",
    "It returns a **new set** containing only those elements that appear in **all** the sets involved.\n",
    "\n",
    "---\n",
    "##### ➡️ **Syntax**: You can perform an intersection in two ways:\n",
    "1. Using the `&` operator --> **set1 & set2**\n",
    "\n",
    "2. Using the `intersection()` method --> **set1.intersection(set2)**\n",
    "- You can also find the intersection of multiple sets using --> **set1.intersection(set2, set3, ...)**\n",
    "---\n",
    "##### ➡️ **Key Points**\n",
    "- Returns only elements common to all given sets.\n",
    "- Automatically removes duplicates.\n",
    "- You can intersect more than two sets using multiple arguments in `intersection()`.\n",
    "- The original sets remain unchanged."
   ]
  },
  {
   "cell_type": "code",
   "execution_count": 22,
   "id": "cb0e8baf",
   "metadata": {},
   "outputs": [
    {
     "name": "stdout",
     "output_type": "stream",
     "text": [
      "Intersection using & operator: {3, 4}\n",
      "Intersection using intersection() method: {3, 4}\n"
     ]
    }
   ],
   "source": [
    "set1 = {1, 2, 3, 4}\n",
    "set2 = {3, 4, 5, 6}\n",
    "\n",
    "# Using the & operator\n",
    "result_operator = set1 & set2\n",
    "print(\"Intersection using & operator:\", result_operator)\n",
    "\n",
    "# Using the intersection() method\n",
    "result_method = set1.intersection(set2)\n",
    "print(\"Intersection using intersection() method:\", result_method)"
   ]
  },
  {
   "cell_type": "markdown",
   "id": "673c71a5",
   "metadata": {},
   "source": [
    "##### **Example:** Shared Books of Two Library via intersection() method:"
   ]
  },
  {
   "cell_type": "code",
   "execution_count": 23,
   "id": "cf81e017",
   "metadata": {},
   "outputs": [
    {
     "name": "stdout",
     "output_type": "stream",
     "text": [
      "{'Math'}\n"
     ]
    }
   ],
   "source": [
    "# Take user input for both libraries\n",
    "library1_books = set(input(\"Enter book names as space-separated strings: \").split())\n",
    "library2_books = set(input(\"Enter book names as space-separated strings: \").split())\n",
    "\n",
    "# Find common books using intersection() method\n",
    "common_books = library1_books.intersection(library2_books)\n",
    "print(common_books)"
   ]
  },
  {
   "cell_type": "markdown",
   "id": "bd94eeac",
   "metadata": {},
   "source": [
    "### **Difference Operation in Sets**\n",
    "The **difference** operation in Python finds elements that are **present in one set but not in another**.  \n",
    "It is useful when you want to **filter out** or **exclude** certain elements from a dataset.\n",
    "\n",
    "---\n",
    "#### ➡️ **Syntax**: You can perform a difference operation in two ways:\n",
    "1. Using the `subtraction (`-`)` operator: **set1 - set2**\n",
    "2. Using the `difference()` method: **set1.difference(set2)**\n",
    "---\n",
    "##### ➡️ **Key Points**\n",
    "1. The difference operation excludes elements found in the second set.\n",
    "2. Returns a new set; the original sets remain unchanged.\n",
    "3. The operation is not commutative — meaning `set1 - set2` is not the same as `set2 - set1`."
   ]
  },
  {
   "cell_type": "markdown",
   "id": "2992b48c",
   "metadata": {},
   "source": [
    "##### ➡️ **Example 1**: Using the `-` Operator"
   ]
  },
  {
   "cell_type": "code",
   "execution_count": 24,
   "id": "fa605f37",
   "metadata": {},
   "outputs": [
    {
     "name": "stdout",
     "output_type": "stream",
     "text": [
      "{1, 2}\n"
     ]
    }
   ],
   "source": [
    "set1 = {1, 2, 3, 4}\n",
    "set2 = {3, 4, 5, 6}\n",
    "\n",
    "result = set1 - set2\n",
    "print(result)"
   ]
  },
  {
   "cell_type": "markdown",
   "id": "3f7ae89c",
   "metadata": {},
   "source": [
    "##### ➡️ **Example 2**: Using the `difference()` Method"
   ]
  },
  {
   "cell_type": "code",
   "execution_count": 27,
   "id": "debb7322",
   "metadata": {},
   "outputs": [
    {
     "name": "stdout",
     "output_type": "stream",
     "text": [
      "{'apple', 'banana'}\n"
     ]
    }
   ],
   "source": [
    "basket1 = {'apple', 'banana', 'cherry', 'date'}\n",
    "basket2 = {'cherry', 'date', 'fig', 'grape'}\n",
    "\n",
    "# Find unique fruits in basket1 using difference() method\n",
    "unique_fruits = basket1.difference(basket2)\n",
    "print(unique_fruits)"
   ]
  },
  {
   "cell_type": "markdown",
   "id": "a9b5a2c9",
   "metadata": {},
   "source": [
    "### **Symmetric Difference in Sets**\n",
    "The **symmetric difference** between two sets returns the elements that are **unique** to each set —  \n",
    "that is, elements that appear in **either set**, but **not in both**.  \n",
    "It effectively excludes any elements that are common to both sets.\n",
    "\n",
    "---\n",
    "##### ➡️ **Syntax**: You can compute the symmetric difference in two ways:\n",
    "1. Using the `caret (^)` operator: **set1 ^ set2**\n",
    "2. Using the `symmetric_difference()` method: **set1.symmetric_difference(set2)**\n",
    "---\n",
    "##### ➡️ **Key Points**\n",
    "1. The symmetric difference returns elements unique to each set.\n",
    "2. The operation is commutative — meaning: `set1 ^ set2 == set2 ^ set1  # True`\n",
    "3. Returns a new set; original sets remain unchanged.\n",
    "4. Useful for identifying non-overlapping data between two datasets."
   ]
  },
  {
   "cell_type": "code",
   "execution_count": 28,
   "id": "3c711283",
   "metadata": {},
   "outputs": [
    {
     "name": "stdout",
     "output_type": "stream",
     "text": [
      "{1, 2, 4, 5}\n",
      "{1, 2, 4, 5}\n"
     ]
    }
   ],
   "source": [
    "set1 = {1, 2, 3}\n",
    "set2 = {3, 4, 5}\n",
    "\n",
    "# Using the ^ operator\n",
    "symmetric_diff1 = set1 ^ set2\n",
    "\n",
    "# Using the symmetric_difference() method\n",
    "symmetric_diff2 = set1.symmetric_difference(set2)\n",
    "\n",
    "print(symmetric_diff1)\n",
    "print(symmetric_diff2)"
   ]
  },
  {
   "cell_type": "code",
   "execution_count": 30,
   "id": "62481d1b",
   "metadata": {},
   "outputs": [
    {
     "name": "stdout",
     "output_type": "stream",
     "text": [
      "{'flour', 'milk', 'sugar', 'vanilla'}\n",
      "4\n"
     ]
    }
   ],
   "source": [
    "# Define two sets for the recipes\n",
    "recipe1 = {\"flour\", \"sugar\", \"eggs\", \"butter\"}\n",
    "recipe2 = {\"eggs\", \"butter\", \"milk\", \"vanilla\"}\n",
    "\n",
    "# Find unique ingredients using symmetric_difference() method\n",
    "unique_ingredients = recipe1.symmetric_difference(recipe2)\n",
    "\n",
    "# Find the count of unique ingredients\n",
    "unique_count = len(unique_ingredients)\n",
    "\n",
    "print(unique_ingredients)\n",
    "print(unique_count)"
   ]
  },
  {
   "cell_type": "markdown",
   "id": "cc369db2",
   "metadata": {},
   "source": [
    "### **Subset & Superset Checks in Sets**\n",
    "Python sets provide built-in ways to check **subset** and **superset** relationships using the comparison operators `<=` and `>=`.\n",
    "\n",
    "---\n",
    "##### ➡️ **Key Points**\n",
    "1. Subset check: `set1 <= set2` → True if every element in `set1` is in `set2`.\n",
    "2. Superset check: `set1 >= set2` → True if `set1` contains every element of `set2`.\n",
    "3. These operators return a Boolean (`True` or `False`).\n",
    "4. Can be used for nested or hierarchical data checks in sets."
   ]
  },
  {
   "cell_type": "markdown",
   "id": "46e802fd",
   "metadata": {},
   "source": [
    "##### 1. **`Subset (<=)`** --> A **subset** is a set whose **all elements are present in another set**."
   ]
  },
  {
   "cell_type": "code",
   "execution_count": 31,
   "id": "a3a59b0c",
   "metadata": {},
   "outputs": [
    {
     "name": "stdout",
     "output_type": "stream",
     "text": [
      "True\n"
     ]
    }
   ],
   "source": [
    "setA = {1, 2}\n",
    "setB = {1, 2, 3, 4}\n",
    "\n",
    "# Check if setA is a subset of setB\n",
    "print(setA <= setB)  # Output: True"
   ]
  },
  {
   "cell_type": "markdown",
   "id": "e343d033",
   "metadata": {},
   "source": [
    "##### 2. **`Superset (>=)`** --> A superset is a set that contains all elements of another set"
   ]
  },
  {
   "cell_type": "code",
   "execution_count": 32,
   "id": "2e1674a4",
   "metadata": {},
   "outputs": [
    {
     "name": "stdout",
     "output_type": "stream",
     "text": [
      "True\n"
     ]
    }
   ],
   "source": [
    "# Check if setB is a superset of setA\n",
    "print(setB >= setA)  # Output: True"
   ]
  },
  {
   "cell_type": "code",
   "execution_count": 33,
   "id": "df874142",
   "metadata": {},
   "outputs": [
    {
     "name": "stdout",
     "output_type": "stream",
     "text": [
      "True\n",
      "True\n"
     ]
    }
   ],
   "source": [
    "# Check Friends in Club Membership:\n",
    "club_members = {\"Alice\", \"Bob\", \"Charlie\", \"David\", \"Eve\"}\n",
    "friends = {\"Alice\", \"Charlie\"}\n",
    "\n",
    "# Check if friends is a subset of club_members\n",
    "is_subset = friends <= club_members  # True if all friends are in the club\n",
    "\n",
    "# Check if club_members is a superset of friends\n",
    "is_superset = club_members >= friends  # True if the club contains all friends\n",
    "\n",
    "print(is_subset)\n",
    "print(is_superset)"
   ]
  },
  {
   "cell_type": "code",
   "execution_count": 35,
   "id": "88fa9e7c",
   "metadata": {},
   "outputs": [
    {
     "name": "stdout",
     "output_type": "stream",
     "text": [
      "Is Purchased Item a Subset of Available Stock: True\n",
      "Is Available Stock a Superset of Purchased Item: True\n",
      "Remaining_stock after Purchases: {'date', 'banana', 'grape'}\n"
     ]
    }
   ],
   "source": [
    "# Check Purchased Items in Available Stock\n",
    "available_stock = {\"apple\", \"banana\", \"cherry\", \"date\", \"fig\", \"grape\"}\n",
    "purchased_items = {\"apple\", \"cherry\", \"fig\"}\n",
    "\n",
    "is_subset = purchased_items <= available_stock # Check Subset Condition\n",
    "is_superset = available_stock >= purchased_items # Check Superset Condition\n",
    "\n",
    "# Find Remaining Stock after items have been purchased\n",
    "remaining_stock = available_stock.difference(purchased_items)\n",
    "\n",
    "print(f\"Is Purchased Item a Subset of Available Stock: {is_subset}\")\n",
    "print(f\"Is Available Stock a Superset of Purchased Item: {is_superset}\")\n",
    "print(f\"Remaining_stock after Purchases: {remaining_stock}\")"
   ]
  }
 ],
 "metadata": {
  "kernelspec": {
   "display_name": "base",
   "language": "python",
   "name": "python3"
  },
  "language_info": {
   "codemirror_mode": {
    "name": "ipython",
    "version": 3
   },
   "file_extension": ".py",
   "mimetype": "text/x-python",
   "name": "python",
   "nbconvert_exporter": "python",
   "pygments_lexer": "ipython3",
   "version": "3.13.5"
  }
 },
 "nbformat": 4,
 "nbformat_minor": 5
}
