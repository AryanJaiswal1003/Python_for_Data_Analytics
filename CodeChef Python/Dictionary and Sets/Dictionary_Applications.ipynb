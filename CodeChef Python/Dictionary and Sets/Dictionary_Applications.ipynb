{
 "cells": [
  {
   "cell_type": "code",
   "execution_count": 1,
   "id": "77ce453a",
   "metadata": {},
   "outputs": [],
   "source": [
    "# ------------------------------------------------ Dictionary_Applications -----------------------------------------------\n",
    "## Contents:--\n",
    "    #-- Nested dictionaries\n",
    "    #-- Dictionary of Lists\n",
    "    #-- List of Dictionaries\n",
    "    #-- Dictionary Sorting by Keys\n",
    "    #-- Dictionary Sorting by Values\n",
    "    #-- Dictionary Merging\n",
    "    #-- Dictionary Transformation\n",
    "    #-- Default Dictionary Usage\n",
    "    #-- Counter Dictionary Usage"
   ]
  },
  {
   "cell_type": "markdown",
   "id": "866479f2",
   "metadata": {},
   "source": [
    "##### **Nested Dictionaries**\n",
    "A **nested dictionary** in Python is a dictionary where some of its **values are dictionaries themselves**, allowing the representation of complex and structured data.\n",
    "\n",
    "---\n",
    "##### ➡️ Notes:\n",
    "- `.items()` allows you to retrieve both keys and nested dictionaries.\n",
    "- Nested dictionaries are ideal for storing hierarchical or structured data efficiently."
   ]
  },
  {
   "cell_type": "markdown",
   "id": "1c4d2cc1",
   "metadata": {},
   "source": [
    "##### ➡️ Accessing Values: Use sequential keys to access nested values."
   ]
  },
  {
   "cell_type": "code",
   "execution_count": 2,
   "id": "4f3eab42",
   "metadata": {},
   "outputs": [
    {
     "name": "stdout",
     "output_type": "stream",
     "text": [
      "25\n"
     ]
    }
   ],
   "source": [
    "friends = {\n",
    "    \"Bob\": {\n",
    "        \"age\": 28,\n",
    "        \"city\": \"Los Angeles\"\n",
    "    },\n",
    "    \"Charlie\": {\n",
    "        \"age\": 25,\n",
    "        \"city\": \"Chicago\"\n",
    "    }\n",
    "}\n",
    "charlies_age = friends[\"Charlie\"][\"age\"]\n",
    "print(charlies_age)  # Output: 25"
   ]
  },
  {
   "cell_type": "markdown",
   "id": "5511ef6a",
   "metadata": {},
   "source": [
    "##### ➡️ Modifying Nested Dictionaries:"
   ]
  },
  {
   "cell_type": "code",
   "execution_count": 3,
   "id": "4f2bb7f5",
   "metadata": {},
   "outputs": [
    {
     "name": "stdout",
     "output_type": "stream",
     "text": [
      "{'Bob': {'age': 28, 'city': 'Los Angeles'}, 'Charlie': {'age': 25, 'city': 'San Francisco'}, 'David': {'age': 32, 'city': 'Boston'}}\n"
     ]
    }
   ],
   "source": [
    "# Updating a value\n",
    "friends[\"Charlie\"][\"city\"] = \"San Francisco\"\n",
    "\n",
    "# Adding a new friend\n",
    "friends[\"David\"] = {\"age\": 32, \"city\": \"Boston\"}\n",
    "print(friends)"
   ]
  },
  {
   "cell_type": "markdown",
   "id": "ed56b274",
   "metadata": {},
   "source": [
    "##### ➡️ Iterating Through a Nested Dictionary:"
   ]
  },
  {
   "cell_type": "code",
   "execution_count": 4,
   "id": "8a13623c",
   "metadata": {},
   "outputs": [
    {
     "name": "stdout",
     "output_type": "stream",
     "text": [
      "Bob: Age 28, City Los Angeles\n",
      "Charlie: Age 25, City San Francisco\n",
      "David: Age 32, City Boston\n"
     ]
    }
   ],
   "source": [
    "for name, details in friends.items():\n",
    "    print(f\"{name}: Age {details['age']}, City {details['city']}\")"
   ]
  },
  {
   "cell_type": "code",
   "execution_count": 5,
   "id": "718243d7",
   "metadata": {},
   "outputs": [
    {
     "name": "stdout",
     "output_type": "stream",
     "text": [
      "George Orwell\n",
      "1949\n"
     ]
    }
   ],
   "source": [
    "# Book Details with Nested Dictionaries:\n",
    "library = {\n",
    "    \"The Great Gatsby\": {  # Book title as the key\n",
    "        \"author\": \"F. Scott Fitzgerald\",  # Author of the book\n",
    "        \"year\": 1925  # Year the book was published\n",
    "    },\n",
    "    \"1984\": {  # Book title as the key\n",
    "        \"author\": \"George Orwell\",  # Author of the book\n",
    "        \"year\": 1949  # Year the book was published\n",
    "    },\n",
    "    \"To Kill a Mockingbird\": {  # Book title as the key\n",
    "        \"author\": \"Harper Lee\",  # Author of the book\n",
    "        \"year\": 1960  # Year the book was published\n",
    "    }\n",
    "}\n",
    "\n",
    "# Print the details of the book \"1984\"\n",
    "print(library[\"1984\"][\"author\"])  # Access the 'author' field for \"1984\"\n",
    "print(library[\"1984\"][\"year\"])  # Access the 'year' field for \"1984\""
   ]
  },
  {
   "cell_type": "code",
   "execution_count": 6,
   "id": "f70449fb",
   "metadata": {},
   "outputs": [
    {
     "name": "stdout",
     "output_type": "stream",
     "text": [
      "James Cameron\n",
      "1997\n",
      "1988\n"
     ]
    }
   ],
   "source": [
    "movie_collection = {\n",
    "    \"Inception\": {  # Movie title as the key\n",
    "        \"director\": \"Christopher Nolan\",  # Director of the movie\n",
    "        \"year\": 2010  # Year the movie was released\n",
    "    },\n",
    "    \"Titanic\": {  # Movie title as the key\n",
    "        \"director\": \"James Cameron\",  # Director of the movie\n",
    "        \"year\": 1997  # Year the movie was released\n",
    "    },\n",
    "    \"The Matrix\": {  # Movie title as the key\n",
    "        \"director\": \"Lana & Lilly Wachowski\",  # Director(s) of the movie\n",
    "        \"year\": 1999  # Year the movie was released\n",
    "    }\n",
    "}\n",
    "# Print the details of the movie \"Titanic\"\n",
    "print(movie_collection['Titanic']['director'])\n",
    "print(movie_collection['Titanic']['year'])\n",
    "\n",
    "# Update the release year of \"Titanic\" to 1998\n",
    "movie_collection[\"Titanic\"]['year'] = 1988\n",
    "\n",
    "# Print the updated details of \"Titanic\" to verify the change\n",
    "print(movie_collection[\"Titanic\"]['year'])"
   ]
  },
  {
   "cell_type": "markdown",
   "id": "14a54cdf",
   "metadata": {},
   "source": [
    "##### **Dictionary of Lists**\n",
    "A **Dictionary of Lists** in Python is a structure where **each key maps to a list of values**.  \n",
    "It is especially useful for grouping related data together efficiently.\n",
    "\n",
    "---\n",
    "##### ➡️ **Notes:**\n",
    "- Dictionaries of lists are ideal for grouped or categorized data.\n",
    "- They allow easy addition, modification, and retrieval of items from each group.\n",
    "---\n",
    "##### ➡️ **Example: Dictionary of Lists**"
   ]
  },
  {
   "cell_type": "code",
   "execution_count": 7,
   "id": "0be29865",
   "metadata": {},
   "outputs": [],
   "source": [
    "students_by_subject = {\n",
    "    'Math': ['Alice', 'Bob', 'Charlie'],\n",
    "    'Science': ['David', 'Eve'],\n",
    "    'History': ['Frank', 'Grace', 'Heidi']\n",
    "}"
   ]
  },
  {
   "cell_type": "markdown",
   "id": "dce098b3",
   "metadata": {},
   "source": [
    "##### ➡️ **Accessing Data**: To access the list of students in a specific subject, we can use the subject as the key."
   ]
  },
  {
   "cell_type": "code",
   "execution_count": 8,
   "id": "7bf65b68",
   "metadata": {},
   "outputs": [
    {
     "name": "stdout",
     "output_type": "stream",
     "text": [
      "['Alice', 'Bob', 'Charlie']\n"
     ]
    }
   ],
   "source": [
    "math_students = students_by_subject['Math']\n",
    "print(math_students)  # Output: ['Alice', 'Bob', 'Charlie']"
   ]
  },
  {
   "cell_type": "markdown",
   "id": "9b5440e3",
   "metadata": {},
   "source": [
    "##### ➡️ **Adding to the Lists**: Use list methods (like .append()) to modify the list stored in the dictionary."
   ]
  },
  {
   "cell_type": "code",
   "execution_count": 9,
   "id": "aff2e14a",
   "metadata": {},
   "outputs": [
    {
     "name": "stdout",
     "output_type": "stream",
     "text": [
      "['Alice', 'Bob', 'Charlie', 'Zara']\n"
     ]
    }
   ],
   "source": [
    "students_by_subject['Math'].append('Zara')\n",
    "print(students_by_subject['Math'])  # Output: ['Alice', 'Bob', 'Charlie', 'Zara']"
   ]
  },
  {
   "cell_type": "code",
   "execution_count": null,
   "id": "53feb451",
   "metadata": {},
   "outputs": [
    {
     "name": "stdout",
     "output_type": "stream",
     "text": [
      "['Mad Max: Fury Road', 'John Wick']\n",
      "['Mad Max: Fury Road', 'John Wick', 'Gladiator']\n"
     ]
    }
   ],
   "source": [
    "# Group Favorite Books by Genre:\n",
    "favorite_movies = {\n",
    "    'Action': ['Mad Max: Fury Road', 'John Wick'],  # Action movies\n",
    "    'Comedy': ['Superbad', 'Step Brothers'],  # Comedy movies\n",
    "    'Drama': ['The Shawshank Redemption', 'Forrest Gump']  # Drama movies\n",
    "}\n",
    "# Access and print the list of Action movies\n",
    "action_movies = favorite_movies['Action']  # Retrieve the Action movies list\n",
    "print(action_movies)\n",
    "\n",
    "# Add a new favorite movie (\"Gladiator\") to the Action genre\n",
    "favorite_movies['Action'].append('Gladiator')\n",
    "print(favorite_movies['Action'])"
   ]
  },
  {
   "cell_type": "code",
   "execution_count": 11,
   "id": "c0e68f0d",
   "metadata": {},
   "outputs": [
    {
     "name": "stdout",
     "output_type": "stream",
     "text": [
      "['English', 'Geography']\n",
      "4\n"
     ]
    }
   ],
   "source": [
    "# Students Subject:\n",
    "student_subjects = {\n",
    "    \"Alice\": [\"Math\", \"Science\", \"History\"],  # Alice's subjects\n",
    "    \"Bob\": [\"English\", \"Geography\"],  # Bob's subjects\n",
    "    \"Charlie\": [\"Physics\", \"Chemistry\", \"Biology\"]  # Charlie's subjects\n",
    "}\n",
    "# Use the get() method to safely retrieve Bob's enrolled subjects\n",
    "bob_subjects = student_subjects.get('Bob')\n",
    "print(bob_subjects)  # Print Bob's subjects\n",
    "\n",
    "# Add a new subject \"Computer Science\" to Alice's list\n",
    "student_subjects['Alice'].append('Computer Science')\n",
    "\n",
    "# Use the len() function to print the total number of subjects Alice is now enrolled in\n",
    "alice_subject_count = len(student_subjects['Alice'])\n",
    "print(alice_subject_count)"
   ]
  },
  {
   "cell_type": "markdown",
   "id": "d92f0954",
   "metadata": {},
   "source": [
    "##### **List of Dictionaries**\n",
    "A **List of Dictionaries** is a powerful data structure in Python that allows you to store multiple records,  \n",
    "where **each record is represented as a dictionary**. This helps organize related data in a structured and readable way.\n",
    "\n",
    "---\n",
    "##### ➡️ **Notes:**\n",
    "1. A List of Dictionaries is ideal for storing tabular or record-based data (e.g., students, employees, products).\n",
    "2. It allows easy updates, additions, and searching within structured data."
   ]
  },
  {
   "cell_type": "code",
   "execution_count": 12,
   "id": "32fb2aef",
   "metadata": {},
   "outputs": [],
   "source": [
    "students = [\n",
    "    {\"name\": \"Alice\", \"age\": 20, \"grade\": \"A\"},\n",
    "    {\"name\": \"Bob\", \"age\": 22, \"grade\": \"B\"},\n",
    "    {\"name\": \"Charlie\", \"age\": 21, \"grade\": \"C\"}\n",
    "]"
   ]
  },
  {
   "cell_type": "markdown",
   "id": "8adc6640",
   "metadata": {},
   "source": [
    "##### ➡️ Accessing Data:\n",
    "- Use indexing (students[0]) to access a specific dictionary.\n",
    "- Use keys ([\"name\"], [\"grade\"]) to get values from that dictionary."
   ]
  },
  {
   "cell_type": "code",
   "execution_count": 14,
   "id": "a809e201",
   "metadata": {},
   "outputs": [
    {
     "name": "stdout",
     "output_type": "stream",
     "text": [
      "Alice\n",
      "B\n"
     ]
    }
   ],
   "source": [
    "print(students[0][\"name\"])   # Output: Alice\n",
    "print(students[1][\"grade\"])  # Output: B"
   ]
  },
  {
   "cell_type": "markdown",
   "id": "adc3b97b",
   "metadata": {},
   "source": [
    "##### ➡️ Adding New Records: Use the .append() method to add a new dictionary (record) to the list."
   ]
  },
  {
   "cell_type": "code",
   "execution_count": 16,
   "id": "f62e9bf6",
   "metadata": {},
   "outputs": [
    {
     "name": "stdout",
     "output_type": "stream",
     "text": [
      "[{'name': 'Alice', 'age': 20, 'grade': 'A'}, {'name': 'Bob', 'age': 22, 'grade': 'B'}, {'name': 'Charlie', 'age': 21, 'grade': 'C'}, {'name': 'David', 'age': 23, 'grade': 'A'}, {'name': 'David', 'age': 23, 'grade': 'A'}]\n"
     ]
    }
   ],
   "source": [
    "students.append({\"name\": \"David\", \"age\": 23, \"grade\": \"A\"})\n",
    "print(students)"
   ]
  },
  {
   "cell_type": "markdown",
   "id": "22e71d6f",
   "metadata": {},
   "source": [
    "##### ➡️ Iterating Through the List:"
   ]
  },
  {
   "cell_type": "code",
   "execution_count": 17,
   "id": "668f96de",
   "metadata": {},
   "outputs": [
    {
     "name": "stdout",
     "output_type": "stream",
     "text": [
      "Alice 20 A\n",
      "Bob 22 B\n",
      "Charlie 21 C\n",
      "David 23 A\n",
      "David 23 A\n"
     ]
    }
   ],
   "source": [
    "for student in students:\n",
    "    print(student[\"name\"], student[\"age\"], student[\"grade\"])"
   ]
  },
  {
   "cell_type": "code",
   "execution_count": 23,
   "id": "a29f4b33",
   "metadata": {},
   "outputs": [
    {
     "name": "stdout",
     "output_type": "stream",
     "text": [
      "Total Earnings: 5299\n",
      "Average Earnings: 1324.75\n"
     ]
    }
   ],
   "source": [
    "# Movie Box Office:\n",
    "movies = [\n",
    "    {\"Title\": \"Inception\", \"Year\": 2010, \"Earnings\": 829},  # Movie 1 details\n",
    "    {\"Title\": \"Avatar\", \"Year\": 2009, \"Earnings\": 2788},  # Movie 2 details\n",
    "    {\"Title\": \"The Dark Knight\", \"Year\": 2008, \"Earnings\": 1005},  # Movie 3 details\n",
    "    {\"Title\": \"Interstellar\", \"Year\": 2014, \"Earnings\": 677}  # Movie 4 details\n",
    "]\n",
    "total_earning = sum(movie['Earnings'] for movie in movies)\n",
    "print(f\"Total Earnings: {total_earning}\")\n",
    "\n",
    "average_earnings = total_earning / len(movies)\n",
    "print(f\"Average Earnings: {average_earnings:.2f}\")"
   ]
  },
  {
   "cell_type": "markdown",
   "id": "3ee94d6f",
   "metadata": {},
   "source": [
    "##### **Dictionary Sorting by Keys**\n",
    "Sorting a dictionary by keys helps organize data in a more readable order. Python provides an easy way to do this using the **`sorted()`** function.\n",
    "\n",
    "---\n",
    "##### ➡️ **Key Points**\n",
    "- `sorted()` returns a **sorted list of keys**.\n",
    "- The **original dictionary** remains **unchanged**.\n",
    "- You can use **dictionary comprehension** to build a **new sorted dictionary**.\n",
    "---\n",
    "##### ➡️ **In Summary**:\n",
    "1. Use `sorted(my_dict.keys())` → ascending order\n",
    "2. Use `sorted(my_dict.keys(), reverse=True)` → descending order\n",
    "3. Dictionary comprehension allows you to easily rebuild a sorted dictionary.\n",
    "---\n",
    "##### ➡️ **Example 1: Sort Dictionary by Keys (Ascending Order)**"
   ]
  },
  {
   "cell_type": "code",
   "execution_count": 3,
   "id": "c1f9a579",
   "metadata": {},
   "outputs": [
    {
     "name": "stdout",
     "output_type": "stream",
     "text": [
      "{'apple': 1.29, 'banana': 0.99, 'grape': 2.49, 'kiwi': 1.99, 'orange': 0.89}\n"
     ]
    }
   ],
   "source": [
    "my_dict = {\n",
    "    \"banana\": 0.99,\n",
    "    \"apple\": 1.29,\n",
    "    \"orange\": 0.89,\n",
    "    \"grape\": 2.49,\n",
    "    \"kiwi\": 1.99\n",
    "}\n",
    "sorted_dict = {key: my_dict[key] for key in sorted(my_dict.keys())}\n",
    "print(sorted_dict)"
   ]
  },
  {
   "cell_type": "markdown",
   "id": "d955a578",
   "metadata": {},
   "source": [
    "##### ➡️ Example 2: Sort Dictionary by Keys (Descending Order)"
   ]
  },
  {
   "cell_type": "code",
   "execution_count": 4,
   "id": "151b40f6",
   "metadata": {},
   "outputs": [
    {
     "name": "stdout",
     "output_type": "stream",
     "text": [
      "{'orange': 0.89, 'kiwi': 1.99, 'grape': 2.49, 'banana': 0.99, 'apple': 1.29}\n"
     ]
    }
   ],
   "source": [
    "sorted_dict_desc = {key: my_dict[key] for key in sorted(my_dict.keys(), reverse=True)} # Using Reverse = True for backward sorting\n",
    "print(sorted_dict_desc)"
   ]
  },
  {
   "cell_type": "code",
   "execution_count": 7,
   "id": "88085c88",
   "metadata": {},
   "outputs": [
    {
     "name": "stdout",
     "output_type": "stream",
     "text": [
      "{4: 'D', 3: 'C', 2: 'B', 1: 'A'}\n",
      "[4, 3, 2, 1]\n"
     ]
    }
   ],
   "source": [
    "data = {\n",
    "    3: \"C\",\n",
    "    1: \"A\",\n",
    "    4: \"D\",\n",
    "    2: \"B\"\n",
    "}\n",
    "# Sort the dictionary items by key in descending order and convert back to a dictionary\n",
    "sorted_data = dict(sorted(data.items(), reverse=True))\n",
    "print(sorted_data)\n",
    "\n",
    "# Print the keys of the sorted dictionary as a list\n",
    "print(list(sorted_data.keys()))"
   ]
  },
  {
   "cell_type": "code",
   "execution_count": 18,
   "id": "2aa12559",
   "metadata": {},
   "outputs": [
    {
     "name": "stdout",
     "output_type": "stream",
     "text": [
      "{'Titanic': 2187, 'The Dark Knight': 1005, 'Interstellar': 677, 'Inception': 829, 'Avengers: Endgame': 2798}\n",
      "Average Earnings: 1499.2\n"
     ]
    }
   ],
   "source": [
    "# Dictionary Sorting by Keys and Calculating Average Earnings\n",
    "\n",
    "movie_earnings = {\n",
    "    \"Inception\": 829,\n",
    "    \"Titanic\": 2187,\n",
    "    \"Avengers: Endgame\": 2798,\n",
    "    \"The Dark Knight\": 1005,\n",
    "    \"Interstellar\": 677\n",
    "}\n",
    "# Sort the dictionary items by key in descending order\n",
    "sorted_movies = dict(sorted(movie_earnings.items(), reverse=True))\n",
    "print(sorted_movies)\n",
    "\n",
    "value = list(sorted_movies.values()) # Extract the values (earnings) from the sorted dictionary into a list\n",
    "total = round(sum(value) / len(value), 2) # Calculate the average earnings and round to 2 decimal places\n",
    "print(f\"Average Earnings: {total}\")"
   ]
  },
  {
   "cell_type": "markdown",
   "id": "b156756d",
   "metadata": {},
   "source": [
    "##### **Dictionary Sorting by Values**\n",
    "In Python, you can sort a **dictionary by its values** using the `sorted()` function along with the `items()` method.  \n",
    "This helps you organize data based on the associated values rather than the keys.\n",
    "\n",
    "---\n",
    "##### ➡️ Key Notes:\n",
    "1. The original dictionary remains unchanged.\n",
    "2. Sorting by values is useful for ranking, prioritizing, or analyzing data.\n",
    "3. `lambda item: item[1]` is the sorting criterion that tells Python to sort by the value, not the key."
   ]
  },
  {
   "cell_type": "markdown",
   "id": "f4b396df",
   "metadata": {},
   "source": [
    "##### ➡️ Example 1: Sort by Values in Ascending Order:"
   ]
  },
  {
   "cell_type": "code",
   "execution_count": 20,
   "id": "f46b3699",
   "metadata": {},
   "outputs": [
    {
     "name": "stdout",
     "output_type": "stream",
     "text": [
      "{'orange': 0.89, 'banana': 0.99, 'apple': 1.29, 'kiwi': 1.99, 'grape': 2.49}\n"
     ]
    }
   ],
   "source": [
    "my_dict = {\n",
    "    \"banana\": 0.99,\n",
    "    \"apple\": 1.29,\n",
    "    \"orange\": 0.89,\n",
    "    \"grape\": 2.49,\n",
    "    \"kiwi\": 1.99\n",
    "}\n",
    "sorted_dict = {key: value for key, value in sorted(my_dict.items(), key=lambda item: item[1])}\n",
    "\n",
    "print(sorted_dict) # Output: {'banana': 2, 'orange': 3, 'apple': 5}"
   ]
  },
  {
   "cell_type": "markdown",
   "id": "1992fa7b",
   "metadata": {},
   "source": [
    "##### ➡️ Example 2: Sort by Values in Descending Order: `[reverse = True]`"
   ]
  },
  {
   "cell_type": "code",
   "execution_count": 21,
   "id": "ff2fc281",
   "metadata": {},
   "outputs": [
    {
     "name": "stdout",
     "output_type": "stream",
     "text": [
      "{'grape': 2.49, 'kiwi': 1.99, 'apple': 1.29, 'banana': 0.99, 'orange': 0.89}\n"
     ]
    }
   ],
   "source": [
    "sorted_dict_desc = {key: value for key, value in sorted(my_dict.items(), key=lambda item: item[1], reverse=True)}\n",
    "print(sorted_dict_desc) # Output: {'apple': 5, 'orange': 3, 'banana': 2}\n"
   ]
  },
  {
   "cell_type": "markdown",
   "id": "8788c3c9",
   "metadata": {},
   "source": [
    "##### **Dictionary Merging**\n",
    "In Python, **merging dictionaries** allows you to combine multiple sets of key-value pairs into one unified dictionary.  \n",
    "Let’s explore the main ways to do this.\n",
    "\n",
    "---\n",
    "##### Which method is best for merging dictionaries?\n",
    "1. To Modifies original dictionaries directly, use `update()`.\n",
    "2. To create a new dictionary without changing the originals, use `| operator`.\n",
    "3. To control over how dictionaries are merged (e.g., handling duplicate keys or filtering key-value pairs), use `dictionary comprehension`."
   ]
  },
  {
   "cell_type": "markdown",
   "id": "21aad964",
   "metadata": {},
   "source": [
    "##### ➡️ **Method 1: Using `update()`: (Modifies Original Dictionary)**\n",
    "The `update()` method merges another dictionary into the current one. If a key already exists, its value gets **updated**."
   ]
  },
  {
   "cell_type": "code",
   "execution_count": 22,
   "id": "85f7ddf5",
   "metadata": {},
   "outputs": [
    {
     "name": "stdout",
     "output_type": "stream",
     "text": [
      "{'a': 1, 'b': 3, 'c': 4}\n"
     ]
    }
   ],
   "source": [
    "dict1 = {'a': 1, 'b': 2}\n",
    "dict2 = {'b': 3, 'c': 4}\n",
    "\n",
    "dict1.update(dict2)\n",
    "print(dict1) # Output: {'a': 1, 'b': 3, 'c': 4}"
   ]
  },
  {
   "cell_type": "markdown",
   "id": "64c3f77a",
   "metadata": {},
   "source": [
    "##### ➡️ Method 2: Using the `| Operator`: (Creates New Dictionary & leaves the originals unchanged)"
   ]
  },
  {
   "cell_type": "code",
   "execution_count": 23,
   "id": "204033aa",
   "metadata": {},
   "outputs": [
    {
     "name": "stdout",
     "output_type": "stream",
     "text": [
      "{'a': 1, 'b': 3, 'c': 4}\n"
     ]
    }
   ],
   "source": [
    "dict1 = {'a': 1, 'b': 2}\n",
    "dict2 = {'b': 3, 'c': 4}\n",
    "\n",
    "merged_dict = dict1 | dict2  # Merging into a new dictionary\n",
    "print(merged_dict) # Output: {'a': 1, 'b': 3, 'c': 4}"
   ]
  },
  {
   "cell_type": "markdown",
   "id": "1f81c492",
   "metadata": {},
   "source": [
    "##### ➡️ Method 3: Using Dictionary Comprehension (Flexible Custom Merging)"
   ]
  },
  {
   "cell_type": "code",
   "execution_count": 24,
   "id": "a70f6831",
   "metadata": {},
   "outputs": [
    {
     "name": "stdout",
     "output_type": "stream",
     "text": [
      "{'a': 1, 'b': 3, 'c': 4}\n"
     ]
    }
   ],
   "source": [
    "dict1 = {'a': 1, 'b': 2}\n",
    "dict2 = {'b': 3, 'c': 4}\n",
    "\n",
    "merged_dict = {key: value for d in (dict1, dict2) for key, value in d.items()}\n",
    "print(merged_dict) # Output: {'a': 1, 'b': 3, 'c': 4}"
   ]
  },
  {
   "cell_type": "code",
   "execution_count": 27,
   "id": "415ffbf0",
   "metadata": {},
   "outputs": [
    {
     "name": "stdout",
     "output_type": "stream",
     "text": [
      "{'Alice': 85, 'Bob': 88, 'Charlie': 92, 'David': 76, 'Eve': 90}\n"
     ]
    }
   ],
   "source": [
    "# Merging Student Grades:\n",
    "class_a = {\n",
    "    \"Alice\": 85,\n",
    "    \"Bob\": 78,\n",
    "    \"Charlie\": 92\n",
    "}\n",
    "class_b = {\n",
    "    \"Bob\": 88,      # This will overwrite Bob's grade from Class A\n",
    "    \"David\": 76,\n",
    "    \"Eve\": 90\n",
    "}\n",
    "# Merging dictionaries\n",
    "class_a.update(class_b)\n",
    "\n",
    "print(class_a)"
   ]
  },
  {
   "cell_type": "code",
   "execution_count": 29,
   "id": "62343feb",
   "metadata": {},
   "outputs": [
    {
     "name": "stdout",
     "output_type": "stream",
     "text": [
      "{'Inception': 9, 'Titanic': 7, 'Avatar': 10, 'The Matrix': 9}\n"
     ]
    }
   ],
   "source": [
    "# Merging Favorite Movies Lists: If a movie exists in both dictionaries, the rating from friend_b should\n",
    "#       overwrite the one in friend_a.\n",
    "friend_a = {\n",
    "    \"Inception\": 9,\n",
    "    \"Titanic\": 8,\n",
    "    \"Avatar\": 9\n",
    "}\n",
    "friend_b = {\n",
    "    \"Avatar\": 10,\n",
    "    \"The Matrix\": 9,\n",
    "    \"Titanic\": 7\n",
    "}\n",
    "friend_a.update(friend_b)\n",
    "print(friend_a)"
   ]
  },
  {
   "cell_type": "code",
   "execution_count": 32,
   "id": "b5307c15",
   "metadata": {},
   "outputs": [
    {
     "name": "stdout",
     "output_type": "stream",
     "text": [
      "Combined Departments: {'Alice': 55000, 'Bob': 64000, 'Charlie': 58000, 'David': 60000, 'Eve': 65000}\n",
      "Sorted Merged Dictionary: {'Eve': 65000, 'David': 60000, 'Charlie': 58000, 'Bob': 64000, 'Alice': 55000}\n"
     ]
    }
   ],
   "source": [
    "# Merging Employee Dictionary & Sort the merged dictionary by employee names:\n",
    "department_a = {\n",
    "    \"Alice\": 55000,\n",
    "    \"Bob\": 62000,\n",
    "    \"Charlie\": 58000\n",
    "}\n",
    "department_b = {\n",
    "    \"David\": 60000,\n",
    "    \"Eve\": 65000,\n",
    "    \"Bob\": 64000   # This will overwrite Bob's salary from Department A\n",
    "}\n",
    "# Merge department_b into department_a using update()\n",
    "department_a.update(department_b)\n",
    "departments_combined = department_a\n",
    "print(f\"Combined Departments: {departments_combined}\")\n",
    "\n",
    "# Sort the merged dictionary by employee names\n",
    "sorted_salary = dict(sorted(departments_combined.items(), reverse=True))\n",
    "print(f\"Sorted Merged Dictionary: {sorted_salary}\")"
   ]
  },
  {
   "cell_type": "markdown",
   "id": "0f7daa22",
   "metadata": {},
   "source": [
    "##### **Dictionary Transformation**\n",
    "**Dictionary Transformation** allows you to modify, filter, or restructure existing dictionaries to fit specific needs.  \n",
    "This is a key concept for data processing, formatting, and analysis.\n",
    "\n",
    "---\n",
    "### ➡️ **Summary: Dictionary Transformation**\n",
    "\n",
    "| **Transformation Type** | **Description** | **Example Code Snippet** |\n",
    "|---------------------------|-----------------|---------------------------|\n",
    "| **Reverse Key-Value Pairs** | Swaps the keys and values of the dictionary. Useful when you want to look up keys by their values. | `{value: key for key, value in original_dict.items()}` |\n",
    "| **Apply Function to Values** | Applies a function or arithmetic operation to each value in the dictionary. | `{student: grade + 5 for student, grade in grades.items()}` |\n",
    "| **Filter Dictionary Items** | Creates a new dictionary with only items that meet a specific condition. | `{student: grade for student, grade in grades.items() if grade > 85}` |\n",
    "---\n",
    "✅ **Key Takeaways:**\n",
    "- Dictionary transformation helps modify data efficiently.  \n",
    "- You can **reverse**, **transform**, or **filter** data with concise, readable syntax.  \n",
    "- These techniques are vital for data manipulation, preprocessing, and analysis in Python."
   ]
  },
  {
   "cell_type": "markdown",
   "id": "39ad89db",
   "metadata": {},
   "source": [
    "##### **1. Reversing Key-Value Pairs** --> **swap keys and values** using dictionary comprehension"
   ]
  },
  {
   "cell_type": "code",
   "execution_count": 34,
   "id": "a05f90cf",
   "metadata": {},
   "outputs": [
    {
     "name": "stdout",
     "output_type": "stream",
     "text": [
      "{1: 'a', 2: 'b', 3: 'c'}\n"
     ]
    }
   ],
   "source": [
    "original_dict = {'a': 1, 'b': 2, 'c': 3}\n",
    "transformed_dict = {value: key for key, value in original_dict.items()}\n",
    "\n",
    "print(transformed_dict) # Output: {1: 'a', 2: 'b', 3: 'c'}"
   ]
  },
  {
   "cell_type": "markdown",
   "id": "8b761ed3",
   "metadata": {},
   "source": [
    "##### **2. Applying Functions to Values** --> Applying transformation or mathematical operation to all values."
   ]
  },
  {
   "cell_type": "code",
   "execution_count": 35,
   "id": "d4f617a1",
   "metadata": {},
   "outputs": [
    {
     "name": "stdout",
     "output_type": "stream",
     "text": [
      "{'Alice': 90, 'Bob': 95, 'Charlie': 93}\n"
     ]
    }
   ],
   "source": [
    "grades = {'Alice': 85, 'Bob': 90, 'Charlie': 88}\n",
    "\n",
    "updated_grades = {student: grade + 5 for student, grade in grades.items()}\n",
    "\n",
    "print(updated_grades) # Output: {'Alice': 90, 'Bob': 95, 'Charlie': 93}"
   ]
  },
  {
   "cell_type": "markdown",
   "id": "2b857962",
   "metadata": {},
   "source": [
    "##### **3. Filtering Dictionary Items** --> Selectively including only certain key-value pairs based on a condition"
   ]
  },
  {
   "cell_type": "code",
   "execution_count": 36,
   "id": "e7e8d310",
   "metadata": {},
   "outputs": [
    {
     "name": "stdout",
     "output_type": "stream",
     "text": [
      "{'Bob': 90, 'Charlie': 88}\n"
     ]
    }
   ],
   "source": [
    "filtered_grades = {student: grade for student, grade in grades.items() if grade > 85}\n",
    "\n",
    "print(filtered_grades) # Output: {'Bob': 90, 'Charlie': 88}"
   ]
  },
  {
   "cell_type": "markdown",
   "id": "d583fe5a",
   "metadata": {},
   "source": [
    "##### ➡️ Example: Transform Scores to Grades"
   ]
  },
  {
   "cell_type": "code",
   "execution_count": 38,
   "id": "07b02420",
   "metadata": {},
   "outputs": [
    {
     "name": "stdout",
     "output_type": "stream",
     "text": [
      "{'Alice': 'A', 'Bob': 'B', 'Charlie': 'C', 'David': 'F', 'Eva': 'A'}\n"
     ]
    }
   ],
   "source": [
    "scores = { 'Alice': 95, 'Bob': 85, 'Charlie': 78, 'David': 59, 'Eva': 90}\n",
    "grades = {\n",
    "    student: (\n",
    "        'A' if score >= 90 else\n",
    "        'B' if score >= 80 else\n",
    "        'C' if score >= 70 else\n",
    "        'D' if score >= 60 else\n",
    "        'F'\n",
    "    )\n",
    "    for student, score in scores.items()\n",
    "}\n",
    "print(grades)"
   ]
  },
  {
   "cell_type": "markdown",
   "id": "6ae39578",
   "metadata": {},
   "source": [
    "##### ➡️ Example: Calculate Total Price for Each Product\n",
    "- Use dictionary comprehension to iterate over product_qty.\n",
    "- Multiply each product's quantity with its price from product_price."
   ]
  },
  {
   "cell_type": "code",
   "execution_count": 39,
   "id": "842bfdda",
   "metadata": {},
   "outputs": [
    {
     "name": "stdout",
     "output_type": "stream",
     "text": [
      "{'Laptop': 2100, 'Phone': 1500, 'Tablet': 500, 'Headphones': 500}\n"
     ]
    }
   ],
   "source": [
    "product_qty = {'Laptop': 3, 'Phone': 5, 'Tablet': 2, 'Headphones': 10}\n",
    "product_price = {\n",
    "    'Laptop': 700,\n",
    "    'Phone': 300,\n",
    "    'Tablet': 250,\n",
    "    'Headphones': 50\n",
    "}\n",
    "# Compute total price for each product\n",
    "total_price = {key: value * product_price[key] for key, value in product_qty.items()}\n",
    "print(total_price)"
   ]
  },
  {
   "cell_type": "markdown",
   "id": "22574a16",
   "metadata": {},
   "source": [
    "### **Defaultdict in Python**\n",
    "The `defaultdict` from the **collections** module is a specialized dictionary that **automatically assigns a default value** to keys that don’t exist. This prevents `KeyError`, reduces redundant code, and simplifies operations on dictionaries.\n",
    "\n",
    "---\n",
    "##### ✅ **Key Points**\n",
    "1. Automatically handles missing keys.\n",
    "2. Default types can be int, list, set, or custom functions.\n",
    "3. Great for grouping, counting, and storing unique values efficiently."
   ]
  },
  {
   "cell_type": "markdown",
   "id": "0a8d69ed",
   "metadata": {},
   "source": [
    "### **1. Regular Dictionary vs. defaultdict**\n",
    "```python\n",
    "# Regular dictionary raises KeyError for missing keys\n",
    "my_dict = {}\n",
    "print(my_dict['apple'])  # KeyError\n",
    "\n",
    "# defaultdict provides a default value\n",
    "```"
   ]
  },
  {
   "cell_type": "code",
   "execution_count": 1,
   "id": "3c5f8478",
   "metadata": {},
   "outputs": [
    {
     "name": "stdout",
     "output_type": "stream",
     "text": [
      "0\n"
     ]
    }
   ],
   "source": [
    "from collections import defaultdict # imports defaultdict from collections\n",
    "\n",
    "my_dict = defaultdict(int) # defaultdict(int) initializes missing keys with 0 automatically.\n",
    "print(my_dict['apple']) # Output: 0"
   ]
  },
  {
   "cell_type": "markdown",
   "id": "fa164ef4",
   "metadata": {},
   "source": [
    "##### ➡️ **2. Using defaultdict for Different Data Types**"
   ]
  },
  {
   "cell_type": "markdown",
   "id": "d5f56c98",
   "metadata": {},
   "source": [
    "##### **a. `Grouping Items with list`**: Automatically creates a list for new keys, ideal for grouping values."
   ]
  },
  {
   "cell_type": "code",
   "execution_count": 8,
   "id": "673125da",
   "metadata": {},
   "outputs": [
    {
     "name": "stdout",
     "output_type": "stream",
     "text": [
      "{'citrus': ['orange', 'lemon'], 'berry': ['strawberry']}\n"
     ]
    }
   ],
   "source": [
    "fruits = defaultdict(list)\n",
    "\n",
    "fruits['citrus'].append('orange')\n",
    "fruits['citrus'].append('lemon')\n",
    "fruits['berry'].append('strawberry')\n",
    "\n",
    "print(dict(fruits)) # Output: {'citrus': ['orange', 'lemon'], 'berry': ['strawberry']}"
   ]
  },
  {
   "cell_type": "markdown",
   "id": "a0c4f1da",
   "metadata": {},
   "source": [
    "##### **b. `Counting with int`**: Automatically initializes counts, useful for frequency counting."
   ]
  },
  {
   "cell_type": "code",
   "execution_count": 9,
   "id": "05110e90",
   "metadata": {},
   "outputs": [
    {
     "name": "stdout",
     "output_type": "stream",
     "text": [
      "{'apple': 3, 'banana': 2, 'orange': 1}\n"
     ]
    }
   ],
   "source": [
    "sentence = \"apple banana apple orange banana apple\"\n",
    "word_count = defaultdict(int)\n",
    "\n",
    "for word in sentence.split():\n",
    "    word_count[word] += 1\n",
    "\n",
    "print(dict(word_count)) # Output: {'apple': 3, 'banana': 2, 'orange': 1}"
   ]
  },
  {
   "cell_type": "markdown",
   "id": "a9fc44f9",
   "metadata": {},
   "source": [
    "##### **c. `Storing Unique Values with set`**: Automatically creates sets for keys, ensuring uniqueness."
   ]
  },
  {
   "cell_type": "code",
   "execution_count": 4,
   "id": "67297964",
   "metadata": {},
   "outputs": [
    {
     "name": "stdout",
     "output_type": "stream",
     "text": [
      "defaultdict(<class 'set'>, {'Alice': {'Reading', 'Cycling'}, 'Bob': {'Swimming'}})\n"
     ]
    }
   ],
   "source": [
    "user_hobbies = defaultdict(set)\n",
    "\n",
    "user_hobbies['Alice'].add('Reading')\n",
    "user_hobbies['Alice'].add('Cycling')\n",
    "user_hobbies['Bob'].add('Swimming')\n",
    "\n",
    "print(user_hobbies) # Output: {'Alice': {'Reading', 'Cycling'}, 'Bob': {'Swimming'}}"
   ]
  },
  {
   "cell_type": "code",
   "execution_count": 6,
   "id": "0b7bf3ef",
   "metadata": {},
   "outputs": [
    {
     "name": "stdout",
     "output_type": "stream",
     "text": [
      "{'mammal': ['dog', 'cat', 'lion'], 'bird': ['parrot', 'pigeon'], 'fish': ['goldfish', 'salmon']}\n"
     ]
    }
   ],
   "source": [
    "\"\"\"➡️ Group Animals by Their Type:\n",
    "- Iterate over the list to group animals by type.\n",
    "- Convert defaultdict to a regular dictionary and print the result.\"\"\"\n",
    "\n",
    "from collections import defaultdict\n",
    "animals = [\n",
    "    ('dog', 'mammal'),\n",
    "    ('cat', 'mammal'),\n",
    "    ('parrot', 'bird'),\n",
    "    ('goldfish', 'fish'),\n",
    "    ('pigeon', 'bird'),\n",
    "    ('lion', 'mammal'),\n",
    "    ('salmon', 'fish')\n",
    "]\n",
    "# Create a defaultdict with list as the default type\n",
    "animal_groups = defaultdict(list)\n",
    "\n",
    "# Group animals by their type\n",
    "for animal, animal_type in animals:\n",
    "    animal_groups[animal_type].append(animal)\n",
    "\n",
    "print(dict(animal_groups))"
   ]
  },
  {
   "cell_type": "code",
   "execution_count": 7,
   "id": "aeb957b1",
   "metadata": {},
   "outputs": [
    {
     "name": "stdout",
     "output_type": "stream",
     "text": [
      "{'red': ['apple', 'cherry'], 'yellow': ['banana', 'lemon'], 'purple': ['grape', 'plum'], 'blue': ['blueberry']}\n"
     ]
    }
   ],
   "source": [
    "# Grouping Fruits by Color:\n",
    "from collections import defaultdict\n",
    "\n",
    "fruit_color_pairs = [\n",
    "    ('apple', 'red'),\n",
    "    ('banana', 'yellow'),\n",
    "    ('cherry', 'red'),\n",
    "    ('grape', 'purple'),\n",
    "    ('lemon', 'yellow'),\n",
    "    ('blueberry', 'blue'),\n",
    "    ('plum', 'purple')\n",
    "]\n",
    "fruit_groups = defaultdict(list)\n",
    "\n",
    "for fruit, color in fruit_color_pairs:\n",
    "    fruit_groups[color].append(fruit)\n",
    "\n",
    "print(dict(fruit_groups))"
   ]
  },
  {
   "cell_type": "code",
   "execution_count": 12,
   "id": "541d3732",
   "metadata": {},
   "outputs": [
    {
     "name": "stdout",
     "output_type": "stream",
     "text": [
      "{'hi': 1, 'penny,': 1, 'how': 1, 'are': 1, 'you,': 1, 'penny?': 1}\n"
     ]
    }
   ],
   "source": [
    "# Count Word Frequency in a Paragraph:\n",
    "from collections import defaultdict\n",
    "\n",
    "user = input(\"Enter any Sentence: \").lower()\n",
    "count = defaultdict(int)\n",
    "\n",
    "for word in user.split(): # list((count[word] := count[word] + 1 for word in user_input.split()))\n",
    "    count[word] += 1\n",
    "print(dict(count))"
   ]
  },
  {
   "cell_type": "markdown",
   "id": "018f8a6b",
   "metadata": {},
   "source": [
    "### **Counter Dictionary in Python**\n",
    "The `Counter` class from the **collections** module is a specialized dictionary for **counting occurrences** of elements in a collection, such as a list or a string. It simplifies frequency-based operations and provides built-in methods for analyzing data.\n",
    "\n",
    "---\n",
    "##### ✅ Key Points:\n",
    "1. Counter acts like a dictionary with elements as keys and counts as values.\n",
    "2. Supports lists, strings, and other iterable collections.\n",
    "3. Provides helpful methods like .most_common() for frequency analysis."
   ]
  },
  {
   "cell_type": "markdown",
   "id": "09510937",
   "metadata": {},
   "source": [
    "##### **1. Counting Elements in a List** --> Counts how many times each item appears."
   ]
  },
  {
   "cell_type": "code",
   "execution_count": 13,
   "id": "e762d2c8",
   "metadata": {},
   "outputs": [
    {
     "name": "stdout",
     "output_type": "stream",
     "text": [
      "Counter({'banana': 3, 'apple': 2, 'orange': 1})\n"
     ]
    }
   ],
   "source": [
    "from collections import Counter\n",
    "\n",
    "fruits = ['apple', 'banana', 'apple', 'orange', 'banana', 'banana']\n",
    "fruit_counter = Counter(fruits)\n",
    "\n",
    "print(fruit_counter) # Output: Counter({'banana': 3, 'apple': 2, 'orange': 1})"
   ]
  },
  {
   "cell_type": "markdown",
   "id": "e95fc5d9",
   "metadata": {},
   "source": [
    "##### 2. Using Counter with Strings --> Counts the occurrences of each character in a string."
   ]
  },
  {
   "cell_type": "code",
   "execution_count": 14,
   "id": "03c0047e",
   "metadata": {},
   "outputs": [
    {
     "name": "stdout",
     "output_type": "stream",
     "text": [
      "Counter({'l': 3, 'o': 2, 'h': 1, 'e': 1, ' ': 1, 'w': 1, 'r': 1, 'd': 1})\n"
     ]
    }
   ],
   "source": [
    "word = \"hello world\"\n",
    "char_counter = Counter(word)\n",
    "\n",
    "print(char_counter) # Output: Counter({'l': 3, 'o': 2, 'h': 1, 'e': 1, ' ': 1, 'w': 1, 'r': 1, 'd': 1})"
   ]
  },
  {
   "cell_type": "markdown",
   "id": "1795ebd2",
   "metadata": {},
   "source": [
    "##### 3. Finding the Most Common Elements --> The `.most_common(n)` method returns the top n most frequent elements."
   ]
  },
  {
   "cell_type": "code",
   "execution_count": 16,
   "id": "2e7f2399",
   "metadata": {},
   "outputs": [
    {
     "name": "stdout",
     "output_type": "stream",
     "text": [
      "[('banana', 3), ('apple', 2)]\n"
     ]
    }
   ],
   "source": [
    "fruits = ['apple', 'banana', 'apple', 'orange', 'banana', 'banana']\n",
    "fruit_counter = Counter(fruits)\n",
    "\n",
    "print(fruit_counter.most_common(2)) # Output: [('banana', 3), ('apple', 2)]"
   ]
  },
  {
   "cell_type": "code",
   "execution_count": 17,
   "id": "7ab5334c",
   "metadata": {},
   "outputs": [
    {
     "name": "stdout",
     "output_type": "stream",
     "text": [
      "{'red': 2, 'blue': 2, 'green': 3, 'yellow': 2}\n"
     ]
    }
   ],
   "source": [
    "# Example: Count Colors in a List:\n",
    "from collections import Counter\n",
    "\n",
    "colors = ['red', 'blue', 'red', 'green', 'blue', 'yellow', 'green', 'yellow', 'green']\n",
    "\n",
    "# Counting the occurrences of each color\n",
    "color_counts = Counter(colors)\n",
    "print(dict(color_counts))  # Converting Counter to a regular dictionary for display"
   ]
  },
  {
   "cell_type": "code",
   "execution_count": 25,
   "id": "adf1f379",
   "metadata": {},
   "outputs": [
    {
     "name": "stdout",
     "output_type": "stream",
     "text": [
      "Counter({'green': 3, 'red': 2, 'blue': 2, 'yellow': 1})\n",
      "{'green': 3, 'red': 2, 'blue': 2, 'yellow': 1}\n"
     ]
    }
   ],
   "source": [
    "from collections import Counter\n",
    "\n",
    "# Given list of colors\n",
    "colors = ['red', 'blue', 'red', 'green', 'blue', 'yellow', 'green', 'green']\n",
    "\n",
    "# Count occurrences of each color\n",
    "color_count = Counter(colors)\n",
    "print(color_count)\n",
    "\n",
    "# Sort colors by frequency in descending order\n",
    "sorted_colors = dict(sorted(color_count.items(), key= lambda item: item[1], reverse=True))\n",
    "\n",
    "\n",
    "# Display the sorted color counts\n",
    "print(sorted_colors)"
   ]
  }
 ],
 "metadata": {
  "kernelspec": {
   "display_name": "base",
   "language": "python",
   "name": "python3"
  },
  "language_info": {
   "codemirror_mode": {
    "name": "ipython",
    "version": 3
   },
   "file_extension": ".py",
   "mimetype": "text/x-python",
   "name": "python",
   "nbconvert_exporter": "python",
   "pygments_lexer": "ipython3",
   "version": "3.13.5"
  }
 },
 "nbformat": 4,
 "nbformat_minor": 5
}
