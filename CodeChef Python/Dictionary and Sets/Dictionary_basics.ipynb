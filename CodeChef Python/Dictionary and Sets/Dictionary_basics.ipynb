{
 "cells": [
  {
   "cell_type": "code",
   "execution_count": 1,
   "id": "29c4e725",
   "metadata": {},
   "outputs": [],
   "source": [
    "# ------------------------------------------------ Dictionary_Basics -----------------------------------------------\n",
    "## Contents:--\n",
    "    #-- Dictionary Creation (With Items)\n",
    "    #-- Accessing Values by Key\n",
    "    #-- Adding New Key-Value Pairs\n",
    "    #-- Modifying Values\n",
    "    #-- Removing Items (del)\n",
    "    #-- Removing Items (pop)\n",
    "    #-- Removing Items (popitem)\n",
    "    #-- Key Existence Check\n",
    "    #-- Dictionary length"
   ]
  },
  {
   "cell_type": "markdown",
   "id": "d60fd2c6",
   "metadata": {},
   "source": [
    "##### **Dictionary Creation (With Items)**\n",
    "In Python, a **dictionary** is a data structure that stores data in **key-value pairs**.  \n",
    "Each key in a dictionary is **unique** and is used to retrieve its corresponding value efficiently.  \n",
    "Unlike lists that use numeric indices, dictionaries allow access through **meaningful keys**, making data handling more intuitive.\n",
    "\n",
    "---\n",
    "##### **Syntax for Creating a Dictionary with Items**\n",
    "Dictionaries are defined using **curly braces `{}`**, with each **key** separated from its **value** by a **colon `:`**, and each **key-value pair** separated by a **comma `,`**.\n",
    "```python\n",
    "# Define a dictionary with key-value pairs\n",
    "my_dictionary = {\n",
    "    \"name\": \"Alice\",\n",
    "    \"age\": 25,\n",
    "    \"city\": \"New York\"\n",
    "}\n",
    "```\n",
    "---\n",
    "##### ➡️ Key Takeaways\n",
    "1. Dictionaries are unordered (Python 3.6+ maintains insertion order).\n",
    "2. Keys must be unique and immutable (e.g., strings, numbers, tuples)."
   ]
  },
  {
   "cell_type": "code",
   "execution_count": null,
   "id": "557167a8",
   "metadata": {},
   "outputs": [
    {
     "name": "stdout",
     "output_type": "stream",
     "text": [
      "{'Inception': 'Sci-Fi', 'The Godfather': 'Crime', 'Toy Story': 'Animation'}\n"
     ]
    }
   ],
   "source": [
    "# Favorite Movies and Genres:\n",
    "\n",
    "# The keys are movie titles, and the values represent their respective genres or release years\n",
    "favorite_movies = {\n",
    "    \"Inception\": \"Sci-Fi\",\n",
    "    \"The Godfather\": \"Crime\",\n",
    "    \"Toy Story\": \"Animation\"\n",
    "}\n",
    "print(favorite_movies)"
   ]
  },
  {
   "cell_type": "markdown",
   "id": "a29a04f7",
   "metadata": {},
   "source": [
    "##### **Accessing Values by Key**\n",
    "- A **dictionary** in Python stores data as **key-value pairs**, where each key is unique and serves as an identifier for its corresponding value.  \n",
    "- To access a specific value, you use the **key** inside **square brackets `[ ]`**, which allows direct retrieval without searching through the entire collection.\n",
    "\n",
    "---\n",
    "##### ➡️ **Syntax**\n",
    "```python\n",
    "dictionary_name[key] # Access a value using its key\n",
    "```"
   ]
  },
  {
   "cell_type": "code",
   "execution_count": 3,
   "id": "d1647d3f",
   "metadata": {},
   "outputs": [
    {
     "name": "stdout",
     "output_type": "stream",
     "text": [
      "Alice\n",
      "30\n",
      "New York\n"
     ]
    }
   ],
   "source": [
    "# Defining a dictionary\n",
    "my_dict = {\n",
    "    \"name\": \"Alice\",\n",
    "    \"age\": 30,\n",
    "    \"city\": \"New York\"\n",
    "}\n",
    "# Accessing values using keys\n",
    "print(my_dict[\"name\"])  # Output: Alice\n",
    "print(my_dict[\"age\"])   # Output: 30\n",
    "print(my_dict[\"city\"])  # Output: New York"
   ]
  },
  {
   "cell_type": "markdown",
   "id": "736a7d65",
   "metadata": {},
   "source": [
    "##### **Adding New Key-Value Pairs**\n",
    "A **dictionary** in Python is a flexible data structure that stores information in **key-value pairs**, where each key is unique.  \n",
    "You can easily **add** new entries to an existing dictionary or even create an empty one and populate it later.\n",
    "\n",
    "---\n",
    "##### **Syntax**\n",
    "```python\n",
    "# Add a new key-value pair to a dictionary\n",
    "my_dictionary[key] = value\n",
    "```\n",
    "- my_dictionary → The dictionary you want to modify\n",
    "- key → The new key to add\n",
    "- value → The value associated with that key.\n",
    "If the key already exists, this operation updates its value instead of creating a new one."
   ]
  },
  {
   "cell_type": "markdown",
   "id": "c164e95b",
   "metadata": {},
   "source": [
    "##### Example 1: Adding Entries to an Empty Dictionary:"
   ]
  },
  {
   "cell_type": "code",
   "execution_count": 4,
   "id": "ccaa1994",
   "metadata": {},
   "outputs": [
    {
     "name": "stdout",
     "output_type": "stream",
     "text": [
      "{'name': 'Alice', 'age': 25, 'city': 'New York'}\n"
     ]
    }
   ],
   "source": [
    "my_dictionary = {} # Creating an empty dictionary\n",
    "\n",
    "# Adding new key-value pairs\n",
    "my_dictionary[\"name\"] = \"Alice\"\n",
    "my_dictionary[\"age\"] = 25\n",
    "my_dictionary[\"city\"] = \"New York\"\n",
    "\n",
    "print(my_dictionary) # Output -> {'name': 'Alice', 'age': 25, 'city': 'New York'}"
   ]
  },
  {
   "cell_type": "markdown",
   "id": "c35d4d77",
   "metadata": {},
   "source": [
    "##### 2. Updating an Existing Key: If a key already exists, assigning a new value updates it."
   ]
  },
  {
   "cell_type": "code",
   "execution_count": 5,
   "id": "20457776",
   "metadata": {},
   "outputs": [
    {
     "name": "stdout",
     "output_type": "stream",
     "text": [
      "{'name': 'Bob', 'age': 25, 'city': 'New York'}\n"
     ]
    }
   ],
   "source": [
    "# Updating an existing key\n",
    "my_dictionary[\"name\"] = \"Bob\"\n",
    "\n",
    "# Printing the modified dictionary\n",
    "print(my_dictionary) # Output -> {'name': 'Bob', 'age': 25, 'city': 'New York'}"
   ]
  },
  {
   "cell_type": "code",
   "execution_count": 6,
   "id": "26519f19",
   "metadata": {},
   "outputs": [
    {
     "name": "stdout",
     "output_type": "stream",
     "text": [
      "{'Pancakes': ['Flour', 'Milk', 'Eggs', 'Sugar', 'Baking Powder'], 'Spaghetti Bolognese': ['Spaghetti', 'Ground Beef', 'Tomato Sauce', 'Onion', 'Garlic'], 'Chocolate Cake': ['Flour', 'Cocoa Powder', 'Eggs', 'Sugar', 'Butter']}\n"
     ]
    }
   ],
   "source": [
    "# Create a Simple Recipe Book: A dictionary where keys are dish names and values are lists of ingredients.\n",
    "recipes = {}\n",
    "\n",
    "# Add recipes to the dictionary\n",
    "recipes[\"Pancakes\"] = [\"Flour\", \"Milk\", \"Eggs\", \"Sugar\", \"Baking Powder\"]\n",
    "recipes[\"Spaghetti Bolognese\"] = ['Spaghetti', 'Ground Beef', 'Tomato Sauce', 'Onion', 'Garlic']\n",
    "recipes[\"Chocolate Cake\"] = ['Flour', 'Cocoa Powder', 'Eggs', 'Sugar', 'Butter']\n",
    "\n",
    "print(recipes)"
   ]
  },
  {
   "cell_type": "code",
   "execution_count": 8,
   "id": "bdf96123",
   "metadata": {},
   "outputs": [
    {
     "name": "stdout",
     "output_type": "stream",
     "text": [
      "{'Apple': 'An Apple an day keeps the doctor away', 'Banana': 'A long yellow fruit', 'Carrot': 'An orange root vegetable'}\n"
     ]
    }
   ],
   "source": [
    "# Extend a Dictionary with User Input:\n",
    "items = {\n",
    "    \"Apple\": \"A sweet red or green fruit\",\n",
    "    \"Banana\": \"A long yellow fruit\",\n",
    "    \"Carrot\": \"An orange root vegetable\"\n",
    "}\n",
    "# Ask the user to enter a new key and value\n",
    "key = input(\"Enter the item name (key): \")\n",
    "value = input(\"Enter the item description (value): \")\n",
    "\n",
    "items[key] = value # Add the new key-value pair to the dictionary\n",
    "print(items)"
   ]
  },
  {
   "cell_type": "markdown",
   "id": "a4ced5b3",
   "metadata": {},
   "source": [
    "##### **Modifying Values**\n",
    "In this lesson, we'll learn how to **modify values** stored in a dictionary.  \n",
    "A dictionary in Python stores data as **key-value pairs**, where each **key** is unique and points to a specific **value**.\n",
    "- To update or modify a value, simply **assign a new value** to the existing key.\n",
    "\n",
    "---\n",
    "##### ➡️ **Syntax**\n",
    "```python\n",
    "dictionary_name[key] = new_value\n",
    "```"
   ]
  },
  {
   "cell_type": "code",
   "execution_count": 9,
   "id": "4ef0b9e2",
   "metadata": {},
   "outputs": [
    {
     "name": "stdout",
     "output_type": "stream",
     "text": [
      "{'name': 'Alice', 'age': 30}\n"
     ]
    }
   ],
   "source": [
    "my_dict = {'name': 'Alice', 'age': 25}\n",
    "\n",
    "# Updating the value of 'age'\n",
    "my_dict['age'] = 30  # Changing age from 25 to 30\n",
    "print(my_dict)  # Output: {'name': 'Alice', 'age': 30}"
   ]
  },
  {
   "cell_type": "markdown",
   "id": "894f6e02",
   "metadata": {},
   "source": [
    "##### ➡️ ```Adding New Key-Value Pairs:``` If the specified key does not exist in the dictionary, Python will automatically create a new key-value pair"
   ]
  },
  {
   "cell_type": "code",
   "execution_count": 10,
   "id": "5d2c43cd",
   "metadata": {},
   "outputs": [
    {
     "name": "stdout",
     "output_type": "stream",
     "text": [
      "{'name': 'Alice', 'age': 30, 'city': 'New York'}\n"
     ]
    }
   ],
   "source": [
    "# Adding a new key-value pair\n",
    "my_dict['city'] = 'New York'\n",
    "\n",
    "print(my_dict)  # Output: {'name': 'Alice', 'age': 30, 'city': 'New York'}"
   ]
  },
  {
   "cell_type": "markdown",
   "id": "824b42a3",
   "metadata": {},
   "source": [
    "##### **Removing Items (del)**\n",
    "A dictionary in Python is a collection of **key-value pairs**, where each key maps to a specific value.  \n",
    "Sometimes, you may need to **remove a particular key-value pair** — this can be done easily using the **`del`** statement.\n",
    "- The **`del`** statement deletes a key-value pair from a dictionary by specifying the key.\n",
    "---\n",
    "##### **Syntax**\n",
    "```python\n",
    "del dictionary_name[key]\n",
    "```\n",
    "---\n",
    "##### `Example`: Removing a Key-Value Pair:"
   ]
  },
  {
   "cell_type": "code",
   "execution_count": 11,
   "id": "7e7ea960",
   "metadata": {},
   "outputs": [
    {
     "name": "stdout",
     "output_type": "stream",
     "text": [
      "{'name': 'Alice', 'city': 'New York'}\n"
     ]
    }
   ],
   "source": [
    "my_dict = {\n",
    "    'name': 'Alice',\n",
    "    'age': 25,\n",
    "    'city': 'New York'\n",
    "}\n",
    "del my_dict['age'] # Removing the key 'age'\n",
    "print(my_dict)"
   ]
  },
  {
   "cell_type": "markdown",
   "id": "8a5ca40e",
   "metadata": {},
   "source": [
    "##### Key Errors while Deleting a Non-Existent Key:"
   ]
  },
  {
   "cell_type": "code",
   "execution_count": 12,
   "id": "4096060b",
   "metadata": {},
   "outputs": [
    {
     "ename": "KeyError",
     "evalue": "'country'",
     "output_type": "error",
     "traceback": [
      "\u001b[1;31m---------------------------------------------------------------------------\u001b[0m",
      "\u001b[1;31mKeyError\u001b[0m                                  Traceback (most recent call last)",
      "Cell \u001b[1;32mIn[12], line 1\u001b[0m\n\u001b[1;32m----> 1\u001b[0m \u001b[38;5;28;01mdel\u001b[39;00m my_dict[\u001b[38;5;124m'\u001b[39m\u001b[38;5;124mcountry\u001b[39m\u001b[38;5;124m'\u001b[39m]\n",
      "\u001b[1;31mKeyError\u001b[0m: 'country'"
     ]
    }
   ],
   "source": [
    "del my_dict['country']  # KeyError: 'country'"
   ]
  },
  {
   "cell_type": "code",
   "execution_count": 13,
   "id": "8e82cd6a",
   "metadata": {},
   "outputs": [
    {
     "name": "stdout",
     "output_type": "stream",
     "text": [
      "{'Finish homework': 'High', 'Clean the house': 'Medium', 'Buy groceries': 'Low', 'Call the doctor': 'High'}\n",
      "{'Finish homework': 'High', 'Clean the house': 'Medium', 'Buy groceries': 'Low'}\n"
     ]
    }
   ],
   "source": [
    "# Remove Unwanted Items from a ToDo List\n",
    "todo_list = {\n",
    "    'Finish homework': 'High',\n",
    "    'Clean the house': 'Medium',\n",
    "    'Buy groceries': 'Low',\n",
    "    'Call the doctor': 'High'\n",
    "}\n",
    "print(todo_list) # Print the original to-do list\n",
    "task_to_remove = input(\"Input the keyword to Remove: \") # user input for the task to remove\n",
    "\n",
    "# Remove the task if it exists, otherwise print an error message\n",
    "if task_to_remove in todo_list:\n",
    "    del todo_list[task_to_remove]\n",
    "    print(todo_list)\n",
    "else:\n",
    "    print(\"Task missing in the list!\")"
   ]
  },
  {
   "cell_type": "markdown",
   "id": "d4761c4e",
   "metadata": {},
   "source": [
    "##### **Removing Items (pop)**\n",
    "In Python, **dictionaries** store data as **key-value pairs**, where each key is unique.  \n",
    "To remove an item efficiently, you can use the **`pop()`** method — it not only removes the specified key but also **returns its associated value**, which can be useful for later use.\n",
    "\n",
    "---\n",
    "##### ➡️ **Syntax**\n",
    "```python\n",
    "value = dictionary.pop(key)\n",
    "```\n",
    "1. `dictionary →` The dictionary from which you want to remove the item\n",
    "2. `key →` The key of the item you want to remove\n",
    "3. `value →` The variable that stores the value associated with the removed key\n",
    "\n",
    "✅ Tip: Use pop() when you want both to remove an item and access its value at the same time."
   ]
  },
  {
   "cell_type": "markdown",
   "id": "80623805",
   "metadata": {},
   "source": [
    "##### Example: Removing an Item:"
   ]
  },
  {
   "cell_type": "code",
   "execution_count": null,
   "id": "62717e56",
   "metadata": {},
   "outputs": [
    {
     "name": "stdout",
     "output_type": "stream",
     "text": [
      "5\n",
      "{'apple': 3, 'orange': 2}\n"
     ]
    }
   ],
   "source": [
    "fruit_basket = {'apple': 3, 'banana': 5, 'orange': 2}\n",
    "\n",
    "# Removing 'banana' & storing its value:\n",
    "removed_value = fruit_basket.pop('banana')\n",
    "print(removed_value) # Output: 5\n",
    "print(fruit_basket) # Output: {'apple': 3, 'orange': 2}"
   ]
  },
  {
   "cell_type": "code",
   "execution_count": 2,
   "id": "d4f70d39",
   "metadata": {},
   "outputs": [
    {
     "name": "stdout",
     "output_type": "stream",
     "text": [
      "1\n",
      "{'laptop': 1, 'headphones': 2, 'keyboard': 1}\n"
     ]
    }
   ],
   "source": [
    "# Remove an Item from a Shopping Cart\n",
    "shopping_cart = {\n",
    "    'laptop': 1,\n",
    "    'headphones': 2,\n",
    "    'smartphone': 1,\n",
    "    'keyboard': 1\n",
    "}\n",
    "user_input = input(\"Enter the item key to remove: \") # user input for the product to remove\n",
    "if user_input in shopping_cart:\n",
    "    removed_value = shopping_cart.pop(user_input)\n",
    "    print(removed_value)\n",
    "else:\n",
    "    print(f\"The Entered input {user_input} is not in the shopping_cart items.\")\n",
    "\n",
    "print(shopping_cart)"
   ]
  },
  {
   "cell_type": "markdown",
   "id": "177f8c48",
   "metadata": {},
   "source": [
    "##### **Removing Items (popitem)**\n",
    "In Python, **dictionaries** store information in **key-value pairs**, and sometimes you may want to remove the **most recently added item**.  \n",
    "The **`popitem()`** method is designed for this — it removes and returns the **last inserted key-value pair** from the dictionary.\n",
    "- This method follows a **Last In, First Out (LIFO)** order, similar to how elements are handled in a **stack**.\n",
    "---\n",
    "##### **Key Points**\n",
    "- **Removes the Last Item:**  \n",
    "  `popitem()` removes and returns the most recently added key-value pair.  \n",
    "- **Returns a Tuple:**  \n",
    "  The removed key-value pair is returned as a **tuple** → `(key, value)`.  \n",
    "- **Raises KeyError if Empty:**  \n",
    "  If the dictionary is empty and you call `popitem()`, Python raises a **KeyError**.\n",
    "---\n",
    "##### ➡️ **Example: Using popitem()**\n",
    "```python\n",
    "student_scores = {\n",
    "    'Alice': 85,\n",
    "    'Bob': 90,\n",
    "    'Charlie': 78\n",
    "}\n",
    "last_item = student_scores.popitem() # Remove and return the last inserted item\n",
    "print(last_item)        # Output: ('Charlie', 78)\n",
    "print(student_scores)   # Output: {'Alice': 85, 'Bob': 90}\n",
    "```\n",
    "1. popitem() method removes the last added key-value pair ('Charlie': 78) and `returns it as a tuple`.\n",
    "2. Using popitem() is useful when working with dynamic data structures that require a `LIFO removal approach`."
   ]
  },
  {
   "cell_type": "code",
   "execution_count": 3,
   "id": "6018ef14",
   "metadata": {},
   "outputs": [
    {
     "name": "stdout",
     "output_type": "stream",
     "text": [
      "Removed item: ('orange', 3)\n",
      "Updated dictionary: {'apple': 1, 'banana': 2}\n"
     ]
    }
   ],
   "source": [
    "my_dict = {'apple': 1, 'banana': 2, 'orange': 3}\n",
    "\n",
    "last_item = my_dict.popitem() # Removing the last inserted item\n",
    "\n",
    "print(\"Removed item:\", last_item)  # Output: ('orange', 3)\n",
    "print(\"Updated dictionary:\", my_dict)  # Output: {'apple': 1, 'banana': 2}"
   ]
  },
  {
   "cell_type": "code",
   "execution_count": 6,
   "id": "7ce81d5f",
   "metadata": {},
   "outputs": [
    {
     "name": "stdout",
     "output_type": "stream",
     "text": [
      "{'Buy groceries': 'High', 'Complete assignment': 'Medium', 'Call the doctor': 'Low'}\n",
      "{'Buy groceries': 'High', 'Complete assignment': 'Medium'}\n"
     ]
    }
   ],
   "source": [
    "todo_list = {}\n",
    "\n",
    "for i in range(1, 4):\n",
    "    task_name = input(\"Enter the Task Key: \")\n",
    "    priority_level = input(\"Enter the Priority Value: \")\n",
    "    todo_list[task_name] = priority_level\n",
    "\n",
    "print(todo_list)\n",
    "\n",
    "last_item = todo_list.popitem()\n",
    "print(todo_list)"
   ]
  },
  {
   "cell_type": "markdown",
   "id": "5d2599a9",
   "metadata": {},
   "source": [
    "##### **Key Existence Check**\n",
    "In Python, **dictionaries** store data as **key-value pairs**, where each key is **unique**.  \n",
    "Before accessing or modifying a value, it's important to **check if a key exists** to prevent errors such as `KeyError`.  \n",
    "This ensures your code runs **safely and reliably**.\n",
    "\n",
    "---\n",
    "##### **Using `in` to Check Key Existence**\n",
    "Python provides the **`in`** keyword to check if a specific key is present in a dictionary.  \n",
    "It returns **`True`** if the key exists and **`False`** otherwise.\n",
    "\n",
    "---\n",
    "✅ Tip: Use the in keyword before accessing dictionary keys to avoid runtime errors and make your code more robust and predictable.\n",
    "##### **Example: Checking if a Key Exists**"
   ]
  },
  {
   "cell_type": "code",
   "execution_count": 7,
   "id": "65f9e611",
   "metadata": {},
   "outputs": [
    {
     "name": "stdout",
     "output_type": "stream",
     "text": [
      "Bob's grade: 90\n"
     ]
    }
   ],
   "source": [
    "# Define a dictionary of student grades\n",
    "grades = {'Alice': 85, 'Bob': 90, 'Charlie': 78}\n",
    "\n",
    "# Check if 'Bob' exists in the dictionary\n",
    "if 'Bob' in grades:\n",
    "    print(\"Bob's grade:\", grades['Bob'])  # Output: Bob's grade: 90\n",
    "else:\n",
    "    print(\"Bob not found\")"
   ]
  },
  {
   "cell_type": "markdown",
   "id": "33b92d16",
   "metadata": {},
   "source": [
    "##### Example: Checking for a Non-Existent Key"
   ]
  },
  {
   "cell_type": "code",
   "execution_count": 8,
   "id": "dc7f2b69",
   "metadata": {},
   "outputs": [
    {
     "name": "stdout",
     "output_type": "stream",
     "text": [
      "David is not in the dictionary.\n"
     ]
    }
   ],
   "source": [
    "if 'David' in grades:\n",
    "    print(\"David is in the dictionary.\")\n",
    "else:\n",
    "    print(\"David is not in the dictionary.\")"
   ]
  },
  {
   "cell_type": "markdown",
   "id": "a64a3ba4",
   "metadata": {},
   "source": [
    "##### **Dictionary Length**\n",
    "In Python, a **dictionary** is a collection of **key-value pairs**, where each key maps to a specific value.  \n",
    "Sometimes, you need to know **how many items** (key-value pairs) a dictionary contains — for example, to check if it’s empty or to iterate over its elements effectively.\n",
    "\n",
    "---\n",
    "##### **Using `len()` to Find Dictionary Length**\n",
    "Python provides the built-in **`len()`** function to determine the **number of key-value pairs** in a dictionary.  \n",
    "It returns an integer representing the total count of items.\n",
    "\n",
    "---\n",
    "##### **Example: Finding the Length of a Dictionary**\n",
    "```python\n",
    "student_scores = {'Alice': 85, 'Bob': 90, 'Charlie': 78}\n",
    "length = len(student_scores) # Get the number of key-value pairs using len()\n",
    "print(\"Number of items in the dictionary:\", length)  # Output: Number of items in the dictionary: 3"
   ]
  },
  {
   "cell_type": "code",
   "execution_count": 9,
   "id": "433ecc83",
   "metadata": {},
   "outputs": [
    {
     "name": "stdout",
     "output_type": "stream",
     "text": [
      "3\n",
      "4\n"
     ]
    }
   ],
   "source": [
    "my_dict = {\n",
    "    \"name\": \"Alice\",\n",
    "    \"age\": 25,\n",
    "    \"city\": \"New York\"\n",
    "}\n",
    "# Calculating and printing the initial length of the dictionary\n",
    "length_of_dict = len(my_dict)  # Dictionary has 3 key-value pairs\n",
    "print(length_of_dict)  # Output: 3\n",
    "\n",
    "# Adding a new key-value pair to the dictionary\n",
    "my_dict[\"country\"] = \"USA\"\n",
    "\n",
    "# Recalculating and printing the updated length of the dictionary\n",
    "length_of_dict = len(my_dict)  # Dictionary now has 4 key-value pairs\n",
    "print(length_of_dict)  # Output: 4"
   ]
  },
  {
   "cell_type": "code",
   "execution_count": 12,
   "id": "adfaa914",
   "metadata": {},
   "outputs": [
    {
     "name": "stdout",
     "output_type": "stream",
     "text": [
      "aryan\n",
      "25\n"
     ]
    }
   ],
   "source": [
    "user_input = input(\"Enter name and age separated by a space: \").strip()\n",
    "parts = user_input.split()\n",
    "if len(parts) == 2:\n",
    "\tname, age = parts\n",
    "\tprint(name)\n",
    "\tprint(age)\n",
    "else:\n",
    "\tprint(\"Invalid input. Please enter both name and age separated by a space.\")"
   ]
  }
 ],
 "metadata": {
  "kernelspec": {
   "display_name": "base",
   "language": "python",
   "name": "python3"
  },
  "language_info": {
   "codemirror_mode": {
    "name": "ipython",
    "version": 3
   },
   "file_extension": ".py",
   "mimetype": "text/x-python",
   "name": "python",
   "nbconvert_exporter": "python",
   "pygments_lexer": "ipython3",
   "version": "3.13.5"
  }
 },
 "nbformat": 4,
 "nbformat_minor": 5
}
