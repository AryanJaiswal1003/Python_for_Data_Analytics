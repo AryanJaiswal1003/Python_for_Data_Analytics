{
 "cells": [
  {
   "cell_type": "code",
   "execution_count": 1,
   "id": "871b0dba",
   "metadata": {},
   "outputs": [],
   "source": [
    "# ------------------------------------------------ Dictionary_Methods -----------------------------------------------\n",
    "## Contents:--\n",
    "    #-- get() method\n",
    "    #-- setdefault()\n",
    "    #-- update()\n",
    "    #-- clear()\n",
    "    #-- copy()\n",
    "    #-- Keys view\n",
    "    #-- Values View\n",
    "    #-- Items View\n",
    "    #-- Dictionary Comprehension Basic\n",
    "    #-- Dictionary Comprehension with Condition"
   ]
  },
  {
   "cell_type": "markdown",
   "id": "b85bce40",
   "metadata": {},
   "source": [
    "##### **get() Method**\n",
    "In Python, the **`get()`** method is a safe and convenient way to **retrieve values from a dictionary**.  \n",
    "Unlike using square brackets (`[]`), it **does not raise an error** if the key is missing — instead, it returns `None` or a custom default value.\n",
    "\n",
    "---\n",
    "##### ➡️ **Syntax**\n",
    "```python\n",
    "dictionary.get(key, default_value)\n",
    "```\n",
    "1. key → The key whose value you want to retrieve.\n",
    "2. default_value (optional) → The value to return if the key is not found. If omitted, it defaults to None.\n",
    "---\n",
    "##### Why Use get()?\n",
    "- ✅ Prevents KeyError when accessing missing keys.\n",
    "- ✅ Allows default fallback values.\n",
    "- ✅ Improves readability and robustness — especially useful with user input or dynamic data.\n",
    "##### ➡️ Example: Retrieving Values Safely:"
   ]
  },
  {
   "cell_type": "code",
   "execution_count": 2,
   "id": "fdeb0492",
   "metadata": {},
   "outputs": [
    {
     "name": "stdout",
     "output_type": "stream",
     "text": [
      "25\n",
      "None\n"
     ]
    }
   ],
   "source": [
    "my_dictionary = {\"name\": \"Alice\", \"age\": 25, \"city\": \"New York\"}\n",
    "\n",
    "age = my_dictionary.get(\"age\") # Retrieve existing key\n",
    "print(age)  # Output: 25\n",
    "\n",
    "country = my_dictionary.get(\"country\") # Try to retrieve a non-existent key\n",
    "print(country)  # Output: None"
   ]
  },
  {
   "cell_type": "markdown",
   "id": "6b7aaced",
   "metadata": {},
   "source": [
    "##### Providing a Default Value: You can specify a default fallback value if the key doesn’t exist:"
   ]
  },
  {
   "cell_type": "code",
   "execution_count": null,
   "id": "6c675be6",
   "metadata": {},
   "outputs": [
    {
     "name": "stdout",
     "output_type": "stream",
     "text": [
      "Not Found\n",
      "{'name': 'Alice', 'age': 25, 'city': 'New York'}\n"
     ]
    }
   ],
   "source": [
    "my_dictionary = {\"name\": \"Alice\", \"age\": 25, \"city\": \"New York\"}\n",
    "\n",
    "country = my_dictionary.get(\"country\", \"Not Found\")\n",
    "print(country)  # Output: Not Found"
   ]
  },
  {
   "cell_type": "markdown",
   "id": "b942844a",
   "metadata": {},
   "source": [
    "##### ➡️ Accessing Nested Values To access values in nested dictionaries, you can chain get() calls. "
   ]
  },
  {
   "cell_type": "code",
   "execution_count": 5,
   "id": "7b6b59ea",
   "metadata": {},
   "outputs": [
    {
     "name": "stdout",
     "output_type": "stream",
     "text": [
      "Alice\n"
     ]
    }
   ],
   "source": [
    "my_dict = {\n",
    "    \"person\": {\n",
    "        \"name\": \"Alice\",\n",
    "        \"age\": 30,\n",
    "    },\n",
    "    \"city\": \"New York\"\n",
    "}\n",
    "name = my_dict.get(\"person\", {}).get(\"name\", \"Unknown\")\n",
    "print(name)  # Output: Alice"
   ]
  },
  {
   "cell_type": "markdown",
   "id": "020360a8",
   "metadata": {},
   "source": [
    "##### ➡️ Example with Missing Key:"
   ]
  },
  {
   "cell_type": "code",
   "execution_count": 6,
   "id": "3c38ced3",
   "metadata": {},
   "outputs": [
    {
     "name": "stdout",
     "output_type": "stream",
     "text": [
      "Unknown\n"
     ]
    }
   ],
   "source": [
    "my_dict = {\n",
    "    \"city\": \"New York\"\n",
    "}\n",
    "name = my_dict.get(\"person\", {}).get(\"name\", \"Unknown\")\n",
    "print(name)  # Output: Unknown"
   ]
  },
  {
   "cell_type": "code",
   "execution_count": 7,
   "id": "65466cc6",
   "metadata": {},
   "outputs": [
    {
     "name": "stdout",
     "output_type": "stream",
     "text": [
      "B\n",
      "Not Enrolled\n"
     ]
    }
   ],
   "source": [
    "# Student Grades Lookup:\n",
    "grades = {\n",
    "    \"Alice\": \"A\",\n",
    "    \"Bob\": \"B\",\n",
    "    \"Charlie\": \"C\",\n",
    "    \"Diana\": \"A\"\n",
    "}\n",
    "# Using get() to safely access grades\n",
    "bob_grade = grades.get(\"Bob\")\n",
    "eve_grade = grades.get(\"Eve\", \"Not Enrolled\")\n",
    "\n",
    "print(bob_grade)         # Output for Bob\n",
    "print(eve_grade)         # Output for Eve"
   ]
  },
  {
   "cell_type": "code",
   "execution_count": 9,
   "id": "2a09e5c6",
   "metadata": {},
   "outputs": [
    {
     "name": "stdout",
     "output_type": "stream",
     "text": [
      "Not in the system\n"
     ]
    }
   ],
   "source": [
    "# Calculate Student Marks:\n",
    "student_marks = {\n",
    "    \"Alice\": [85, 90, 78],\n",
    "    \"Bob\": [75, 80, 88],\n",
    "    \"Charlie\": [92, 87, 85],\n",
    "    \"Diana\": [88, 79, 91]\n",
    "}\n",
    "student_name = input(\"Enter the Student's Name: \") # Take user input for a student name\n",
    "\n",
    "marks = student_marks.get(student_name, 'Not in the system') # Retrieve marks using get() method\n",
    "# Check if the student exists and print the sum of marks\n",
    "if marks == \"Not in the system\":\n",
    "    print(marks)\n",
    "else:\n",
    "    print(sum(marks))"
   ]
  },
  {
   "cell_type": "markdown",
   "id": "63413039",
   "metadata": {},
   "source": [
    "##### **setdefault() Method**\n",
    "The **`setdefault()`** method in Python is a **built-in dictionary function** that retrieves the value of a specified key while ensuring that if the key does not exist, it is **added to the dictionary** with a default value.\n",
    "- It is useful for initializing dictionary keys dynamically and avoiding `KeyError` exceptions.\n",
    "\n",
    "---\n",
    "##### ➡️ **Syntax**\n",
    "```python\n",
    "dictionary.setdefault(key, default_value)\n",
    "```\n",
    "1. key → The key to search for in the dictionary.\n",
    "2. default_value → (Optional) The value to assign if the key doesn’t exist. Defaults to None if not provided.\n",
    "---\n",
    "##### Behavior\n",
    "- If the key exists, setdefault() returns its current value.\n",
    "- If the key does not exist, it adds the key with the given default_value and returns that value.\n",
    "---\n",
    "➡️ Why Use setdefault()?\n",
    "- ✅ Prevents KeyError when accessing missing keys.\n",
    "- ✅ Automatically inserts missing keys with a default value.\n",
    "- ✅ Ideal for building dictionaries dynamically (e.g., word counts, grouping items)."
   ]
  },
  {
   "cell_type": "code",
   "execution_count": 10,
   "id": "d752404b",
   "metadata": {},
   "outputs": [
    {
     "name": "stdout",
     "output_type": "stream",
     "text": [
      "1\n",
      "3\n",
      "{'a': 1, 'b': 2, 'c': 3}\n"
     ]
    }
   ],
   "source": [
    "my_dict = {'a': 1, 'b': 2}\n",
    "\n",
    "# Retrieving the value of 'a' (existing key)\n",
    "value_a = my_dict.setdefault('a', 0)  # Returns 1, as 'a' already exists\n",
    "print(value_a)  # Output: 1\n",
    "\n",
    "# Retrieving the value of 'c' (non-existent key)\n",
    "value_c = my_dict.setdefault('c', 3)  # Adds 'c': 3 and returns 3\n",
    "print(value_c)  # Output: 3\n",
    "\n",
    "print(my_dict)  # Output: {'a': 1, 'b': 2, 'c': 3}"
   ]
  },
  {
   "cell_type": "code",
   "execution_count": 17,
   "id": "257e256b",
   "metadata": {},
   "outputs": [
    {
     "name": "stdout",
     "output_type": "stream",
     "text": [
      "{'Apple': 1, 'Banana': 1}\n"
     ]
    }
   ],
   "source": [
    "# Fruit Quantity Tracker\n",
    "\n",
    "fruit_tracker = {} # Empty dictionary for the fruit tracker\n",
    "for _ in range(2):\n",
    "    fruit_input = input(\"Enter the Fruit Name: \").title() # user_input for 2 fruits\n",
    "\n",
    "    if fruit_input not in fruit_tracker:\n",
    "        fruit_tracker.setdefault(fruit_input, 1)\n",
    "\n",
    "print(fruit_tracker)"
   ]
  },
  {
   "cell_type": "markdown",
   "id": "1b0439c9",
   "metadata": {},
   "source": [
    "##### **update() Method**\n",
    "The **`update()`** method in Python allows you to efficiently **add new key-value pairs** or **modify existing ones** in a dictionary.  \n",
    "It is a flexible way to merge data dynamically without recreating the entire dictionary.\n",
    "\n",
    "---\n",
    "##### ➡️ **Syntax**\n",
    "```python\n",
    "dictionary.update(iterable_or_dict)\n",
    "```\n",
    "- iterable_or_dict → Can be another dictionary, or any iterable of key-value pairs (e.g., list of tuples).\n",
    "---\n",
    "##### ➡️ Key Takeaways\n",
    "- ✅ Updates existing keys and adds new ones seamlessly.\n",
    "- ✅ Works with dictionaries, iterables of key-value pairs, or keyword arguments.\n",
    "- ✅ Does not return a new dictionary — it modifies the original in place.\n",
    "---\n",
    "##### ➡️ Updating a Dictionary with Another Dictionary:"
   ]
  },
  {
   "cell_type": "code",
   "execution_count": 18,
   "id": "216a60bc",
   "metadata": {},
   "outputs": [
    {
     "name": "stdout",
     "output_type": "stream",
     "text": [
      "Original Dictionary: {'a': 1, 'b': 2}\n",
      "Updated Dictionary: {'a': 1, 'b': 3, 'c': 4}\n"
     ]
    }
   ],
   "source": [
    "my_dict = {'a': 1, 'b': 2} # Creating an initial dictionary\n",
    "print(\"Original Dictionary:\", my_dict)\n",
    "\n",
    "# Updating the dictionary with another dictionary\n",
    "my_dict.update({'b': 3, 'c': 4})\n",
    "print(\"Updated Dictionary:\", my_dict) # Output -> Updated Dictionary: {'a': 1, 'b': 3, 'c': 4}"
   ]
  },
  {
   "cell_type": "markdown",
   "id": "42c847c1",
   "metadata": {},
   "source": [
    "##### ➡️ `Using an Iterable of Key-Value Pairs:` The update() method also accepts an iterable, such as a list of tuples:"
   ]
  },
  {
   "cell_type": "code",
   "execution_count": 19,
   "id": "43cf9a19",
   "metadata": {},
   "outputs": [
    {
     "name": "stdout",
     "output_type": "stream",
     "text": [
      "Further Updated Dictionary: {'a': 10, 'b': 3, 'c': 4, 'd': 5}\n"
     ]
    }
   ],
   "source": [
    "# Updating with a list of key-value pairs\n",
    "my_dict.update([('a', 10), ('d', 5)])\n",
    "\n",
    "# Displaying the further updated dictionary\n",
    "print(\"Further Updated Dictionary:\", my_dict) # Output -> Further Updated Dictionary: {'a': 10, 'b': 3, 'c': 4, 'd': 5}"
   ]
  },
  {
   "cell_type": "code",
   "execution_count": 20,
   "id": "cffb9785",
   "metadata": {},
   "outputs": [
    {
     "name": "stdout",
     "output_type": "stream",
     "text": [
      "{'Alice': 85, 'Bob': 95, 'Charlie': 78, 'David': 88}\n"
     ]
    }
   ],
   "source": [
    "# Update Student Grades:\n",
    "student_grades = {\n",
    "    \"Alice\": 85,\n",
    "    \"Bob\": 92,\n",
    "    \"Charlie\": 78\n",
    "}\n",
    "student_grades.update({\"Bob\": 95, \"David\": 88})\n",
    "print(student_grades)"
   ]
  },
  {
   "cell_type": "code",
   "execution_count": 21,
   "id": "14cac22d",
   "metadata": {},
   "outputs": [
    {
     "name": "stdout",
     "output_type": "stream",
     "text": [
      "{'Team A': 85, 'Team B': 90, 'Team C': 78, 'Team S': 90}\n"
     ]
    }
   ],
   "source": [
    "# Update Team Scores:\n",
    "team_scores = {\n",
    "    'Team A': 85,\n",
    "    'Team B': 90,\n",
    "    'Team C': 78\n",
    "}\n",
    "team_name = input(\"Enter the Team Key: \").title()\n",
    "score = int(input(\"Enter the Score: \"))\n",
    "\n",
    "# Check the condition if score < 100\n",
    "if score < 100:\n",
    "    team_scores.update({team_name: score})\n",
    "else:\n",
    "    print(\"Update is not allowed\")\n",
    "\n",
    "print(team_scores)"
   ]
  },
  {
   "cell_type": "markdown",
   "id": "a6fbadc4",
   "metadata": {},
   "source": [
    "##### **clear() Method**\n",
    "The **`clear()`** method in Python is used to **remove all key-value pairs** from a dictionary, leaving it completely empty.  \n",
    "It does not delete the dictionary itself — only its contents — which is useful when you want to **reset or reuse** a dictionary.\n",
    "\n",
    "---\n",
    "##### ➡️ **Syntax**\n",
    "```python\n",
    "dictionary.clear()\n",
    "```\n",
    "---\n",
    "##### ➡️ Key Takeaways\n",
    "- ✅ Removes all items from the dictionary.\n",
    "- ✅ Does not delete the dictionary object itself.\n",
    "- ✅ Useful for resetting data structures during runtime."
   ]
  },
  {
   "cell_type": "code",
   "execution_count": 22,
   "id": "0f556e75",
   "metadata": {},
   "outputs": [
    {
     "name": "stdout",
     "output_type": "stream",
     "text": [
      "{}\n"
     ]
    }
   ],
   "source": [
    "my_dict = {\n",
    "    'name': 'Alice',\n",
    "    'age': 25,\n",
    "    'city': 'New York'\n",
    "}\n",
    "# Using clear() to Empty the Dictionary\n",
    "my_dict.clear()\n",
    "print(my_dict)"
   ]
  },
  {
   "cell_type": "markdown",
   "id": "8881c0b6",
   "metadata": {},
   "source": [
    "##### **copy() Method**\n",
    "The **`copy()`** method creates a **shallow copy** of a dictionary, meaning it returns a **new dictionary object** with the **same key-value pairs**, stored separately in memory.  \n",
    "Changes to the copied dictionary do not affect the original — except when dealing with **mutable objects** (like lists or other dictionaries).\n",
    "\n",
    "---\n",
    "#####  ➡️Summary\n",
    "- ✅ copy() creates a shallow copy (separate dictionary object).\n",
    "- ✅ Changes to immutable values (like integers or strings) do not affect the original.\n",
    "- ⚠️ Changes to mutable values (like lists or nested dicts) affect both.\n",
    "- 💡 Use copy.deepcopy() from the copy module for a deep copy when you want complete\n",
    "---\n",
    "##### ➡️ **Example 1: Independent Copy**"
   ]
  },
  {
   "cell_type": "code",
   "execution_count": 1,
   "id": "7ae39d22",
   "metadata": {},
   "outputs": [
    {
     "name": "stdout",
     "output_type": "stream",
     "text": [
      "{'a': 1, 'b': 2, 'c': 3}\n",
      "{'a': 10, 'b': 2, 'c': 3}\n"
     ]
    }
   ],
   "source": [
    "original_dict = {'a': 1, 'b': 2, 'c': 3}\n",
    "copied_dict = original_dict.copy()\n",
    "copied_dict['a'] = 10\n",
    "\n",
    "print(original_dict)  # Output -> {'a': 1, 'b': 2, 'c': 3}\n",
    "print(copied_dict)    # Output -> {'a': 10, 'b': 2, 'c': 3}"
   ]
  },
  {
   "cell_type": "markdown",
   "id": "ae515b8a",
   "metadata": {},
   "source": [
    "##### ➡️ Example 2: Effect on Mutable Objects: \n",
    "- Since lists are mutable, both dictionaries share the same reference to the list. Therefore, any change to the list in one dictionary reflects in the other."
   ]
  },
  {
   "cell_type": "code",
   "execution_count": 2,
   "id": "13da8d9b",
   "metadata": {},
   "outputs": [
    {
     "name": "stdout",
     "output_type": "stream",
     "text": [
      "{'name': 'Alice', 'hobbies': ['reading', 'painting', 'coding']}\n",
      "{'name': 'Alice', 'hobbies': ['reading', 'painting', 'coding']}\n"
     ]
    }
   ],
   "source": [
    "my_dict = {'name': 'Alice', 'hobbies': ['reading', 'painting']}\n",
    "copied_dict = my_dict.copy()\n",
    "my_dict['hobbies'].append('coding')\n",
    "\n",
    "print(my_dict)      # Output -> {'name': 'Alice', 'hobbies': ['reading', 'painting', 'coding']}\n",
    "print(copied_dict)  # Output -> {'name': 'Alice', 'hobbies': ['reading', 'painting', 'coding']}"
   ]
  },
  {
   "cell_type": "code",
   "execution_count": 3,
   "id": "73d03795",
   "metadata": {},
   "outputs": [
    {
     "name": "stdout",
     "output_type": "stream",
     "text": [
      "Original Movies: {'Inception': 2010, 'The Matrix': 1999, 'Interstellar': 2014}\n",
      "Copied Movies: {'Inception': 2010, 'The Matrix': 2000, 'Interstellar': 2014}\n"
     ]
    }
   ],
   "source": [
    "# Copying a favorite movies list:\n",
    "favorite_movies = {\n",
    "    'Inception': 2010,\n",
    "    'The Matrix': 1999,\n",
    "    'Interstellar': 2014\n",
    "}\n",
    "copied_movies = favorite_movies.copy() # Create a copy of the favorite_movies dictionary\n",
    "copied_movies['The Matrix'] = 2000 # Change the release year of 'The Matrix'\n",
    "\n",
    "print(\"Original Movies:\", favorite_movies)\n",
    "print(\"Copied Movies:\", copied_movies)"
   ]
  },
  {
   "cell_type": "markdown",
   "id": "1bed254f",
   "metadata": {},
   "source": [
    "##### **Keys View**\n",
    "The **`keys()`** method in Python returns a **dynamic view object** that displays all the keys in a dictionary.  \n",
    "This view updates **automatically** whenever the dictionary changes — making it very efficient for tracking key updates.\n",
    "\n",
    "---\n",
    "➡️ Summary\n",
    "- ✅ keys() returns a dynamic view of dictionary keys.\n",
    "- ✅ Automatically reflects changes made to the dictionary.\n",
    "- ✅ Can be converted into a list using list().\n",
    "- ⚡ Ideal for real-time monitoring of dictionary structure.\n",
    "---\n",
    "##### ➡️ **`Retrieving a Keys View`**: keys_view is a view object that dynamically reflects the dictionary’s keys."
   ]
  },
  {
   "cell_type": "code",
   "execution_count": 6,
   "id": "28841d9f",
   "metadata": {},
   "outputs": [
    {
     "name": "stdout",
     "output_type": "stream",
     "text": [
      "dict_keys(['name', 'age', 'city'])\n"
     ]
    }
   ],
   "source": [
    "dict = {'name': 'Alice', 'age': 25, 'city': 'New York'}\n",
    "\n",
    "keys_view = dict.keys() # Get the keys view\n",
    "print(keys_view)  # Output -> dict_keys(['name', 'age', 'city'])"
   ]
  },
  {
   "cell_type": "markdown",
   "id": "b86bddbe",
   "metadata": {},
   "source": [
    "##### ➡️ `Converting Keys View to a List:` This allows you to use list operations (like indexing, slicing, etc.) on the dictionary keys."
   ]
  },
  {
   "cell_type": "code",
   "execution_count": 5,
   "id": "bb160de4",
   "metadata": {},
   "outputs": [
    {
     "name": "stdout",
     "output_type": "stream",
     "text": [
      "['name', 'age', 'city']\n"
     ]
    }
   ],
   "source": [
    "# Convert keys view to a list\n",
    "keys_list = list(keys_view)\n",
    "\n",
    "# Print the list of keys\n",
    "print(keys_list)  # Output -> ['name', 'age', 'city']"
   ]
  },
  {
   "cell_type": "markdown",
   "id": "0ad2d031",
   "metadata": {},
   "source": [
    "##### ➡️ `Keys View Updates Dynamically:` The view returned by keys() automatically reflects any changes made to the dictionary:"
   ]
  },
  {
   "cell_type": "code",
   "execution_count": 7,
   "id": "dcf07cea",
   "metadata": {},
   "outputs": [
    {
     "name": "stdout",
     "output_type": "stream",
     "text": [
      "dict_keys(['name', 'age', 'city'])\n"
     ]
    }
   ],
   "source": [
    "my_dict['country'] = 'USA' # Add a new key-value pair\n",
    "\n",
    "print(keys_view)  # Output -> dict_keys(['name', 'age', 'city', 'country'])"
   ]
  },
  {
   "cell_type": "code",
   "execution_count": 8,
   "id": "b95be509",
   "metadata": {},
   "outputs": [
    {
     "name": "stdout",
     "output_type": "stream",
     "text": [
      "dict_keys(['Python', 'Java', 'C++', 'JavaScript'])\n",
      "['Python', 'Java', 'C++', 'JavaScript']\n"
     ]
    }
   ],
   "source": [
    "# Retrieve and Display Keys from a Dictionary\n",
    "languages = {\n",
    "    'Python': 'High',\n",
    "    'Java': 'Medium',\n",
    "    'C++': 'Low',\n",
    "    'JavaScript': 'High'\n",
    "}\n",
    "keys_view = languages.keys() # Get the keys view\n",
    "print(keys_view)\n",
    "\n",
    "keys_list = list(keys_view) # Convert keys view to a list and print it\n",
    "print(keys_list)"
   ]
  },
  {
   "cell_type": "code",
   "execution_count": 9,
   "id": "548171af",
   "metadata": {},
   "outputs": [
    {
     "name": "stdout",
     "output_type": "stream",
     "text": [
      "dict_keys(['Alice', 'Bob', 'Charlie'])\n",
      "dict_keys(['Alice', 'Bob', 'David'])\n"
     ]
    }
   ],
   "source": [
    "# Retrieve and Modify Student Records:\n",
    "student_grades = {\n",
    "    \"Alice\": 85,\n",
    "    \"Bob\": 90,\n",
    "    \"Charlie\": 78\n",
    "}\n",
    "student_names = student_grades.keys()\n",
    "print(student_names)\n",
    "\n",
    "student_grades['David'] = 88 # Adding a new student\n",
    "\n",
    "del student_grades['Charlie'] # Removing \"Charlie\" from the dictionary\n",
    "print(student_grades.keys())"
   ]
  },
  {
   "cell_type": "markdown",
   "id": "eab8be1d",
   "metadata": {},
   "source": [
    "##### **Values View**\n",
    "The **`values()`** method in Python provides a **dynamic view object** containing all the values stored in a dictionary.  \n",
    "This view **automatically updates** whenever the dictionary changes, making it useful for tracking data in real time.\n",
    "\n",
    "---\n",
    "##### ➡️ Key Details:\n",
    "- ✅ The .values() method returns a view object, not a list.\n",
    "- ✅ The returned object looks like dict_values([...]).\n",
    "- ✅ It automatically reflects any additions, updates, or deletions in the dictionary.\n",
    "- ⚡ Can be converted into a list using list() if needed.\n",
    "---\n",
    "##### ➡️ **Accessing the Values View**"
   ]
  },
  {
   "cell_type": "code",
   "execution_count": 10,
   "id": "47aa5fed",
   "metadata": {},
   "outputs": [
    {
     "name": "stdout",
     "output_type": "stream",
     "text": [
      "Values View: dict_values([1, 2, 3])\n",
      "Updated Values View: dict_values([1, 2, 3, 4])\n"
     ]
    }
   ],
   "source": [
    "my_dict = {\n",
    "    'apple': 1,\n",
    "    'banana': 2,\n",
    "    'orange': 3\n",
    "}\n",
    "# Accessing the Values View\n",
    "values_view = my_dict.values()\n",
    "print(\"Values View:\", values_view) # Displaying the Values View\n",
    "\n",
    "# Checking dynamic behavior\n",
    "my_dict['grape'] = 4  # Adding a new key-value pair\n",
    "print(\"Updated Values View:\", values_view)"
   ]
  },
  {
   "cell_type": "code",
   "execution_count": 11,
   "id": "972d3e8f",
   "metadata": {},
   "outputs": [
    {
     "name": "stdout",
     "output_type": "stream",
     "text": [
      "dict_values([50000, 45000, 55000])\n",
      "dict_values([])\n"
     ]
    }
   ],
   "source": [
    "# Car Prices:\n",
    "car_prices = {\n",
    "    \"Tesla\": 50000,\n",
    "    \"BMW\": 45000,\n",
    "    \"Audi\": 55000\n",
    "}\n",
    "print(car_prices.values()) # Accessing the original car prices values\n",
    "\n",
    "car_prices.clear() # Clears the dictionary of the key - value pairs\n",
    "print(car_prices.values()) # Accesses the updated key - value pair."
   ]
  },
  {
   "cell_type": "code",
   "execution_count": 12,
   "id": "c0d024be",
   "metadata": {},
   "outputs": [
    {
     "name": "stdout",
     "output_type": "stream",
     "text": [
      "dict_values([1000, 500, 100])\n",
      "dict_values([1000, 550])\n"
     ]
    }
   ],
   "source": [
    "# Retrieve and Modify Product Prices:\n",
    "product_prices = {\n",
    "    \"Laptop\": 1000,\n",
    "    \"Smartphone\": 500,\n",
    "    \"Headphones\": 100\n",
    "}\n",
    "print(product_prices.values()) # Retrieve and print the original values (prices)\n",
    "\n",
    "product_prices['Smartphone'] += 50 # Increase the price of \"Smartphone\" by 50\n",
    "\n",
    "del product_prices['Headphones'] # Remove \"Headphones\" from the dictionary\n",
    "print(product_prices.values())"
   ]
  },
  {
   "cell_type": "markdown",
   "id": "6f61ea53",
   "metadata": {},
   "source": [
    "##### **Items View**\n",
    "The **`items()`** method in Python provides a **dynamic view object** that displays all key-value pairs in a dictionary as tuples.  \n",
    "It allows simultaneous access to both **keys** and **values**, making it ideal for iterating or inspecting entire dictionaries.\n",
    "\n",
    "---\n",
    "##### ➡️ Summary\n",
    "- items() returns a `dynamic view of key-value pairs`.\n",
    "- Automatically reflects dictionary updates in real time.\n",
    "- Great for iteration, data inspection, and simultaneous key-value access.\n",
    "- Returns elements as `tuples → (key, value)`.\n",
    "---\n",
    "##### ➡️ **Accessing the Items View**"
   ]
  },
  {
   "cell_type": "code",
   "execution_count": 13,
   "id": "86f50434",
   "metadata": {},
   "outputs": [
    {
     "name": "stdout",
     "output_type": "stream",
     "text": [
      "dict_items([('apple', 1), ('banana', 2), ('cherry', 3)])\n"
     ]
    }
   ],
   "source": [
    "my_dict = {'apple': 1, 'banana': 2, 'cherry': 3}\n",
    "items_view = my_dict.items() # Using the items() method to get the items view\n",
    "\n",
    "print(items_view)  # Output -> dict_items([('apple', 1), ('banana', 2), ('cherry', 3)])"
   ]
  },
  {
   "cell_type": "markdown",
   "id": "d4d8bc4f",
   "metadata": {},
   "source": [
    "##### ➡️ `Dynamic Update of Items View:` The Items View updates automatically when the dictionary changes — new items, updates, or deletions are instantly reflected in the view."
   ]
  },
  {
   "cell_type": "code",
   "execution_count": 14,
   "id": "fff1a5f7",
   "metadata": {},
   "outputs": [
    {
     "name": "stdout",
     "output_type": "stream",
     "text": [
      "dict_items([('apple', 1), ('banana', 2), ('cherry', 3), ('date', 4)])\n"
     ]
    }
   ],
   "source": [
    "my_dict['date'] = 4 # Adding a new key-value pair\n",
    "\n",
    "print(items_view)  # Output -> dict_items([('apple', 1), ('banana', 2), ('cherry', 3), ('date', 4)])"
   ]
  },
  {
   "cell_type": "markdown",
   "id": "849b71a1",
   "metadata": {},
   "source": [
    "##### ➡️ `Iterating Over Items:`"
   ]
  },
  {
   "cell_type": "code",
   "execution_count": 15,
   "id": "09c3f97b",
   "metadata": {},
   "outputs": [
    {
     "name": "stdout",
     "output_type": "stream",
     "text": [
      "Key: apple, Value: 1\n",
      "Key: banana, Value: 2\n",
      "Key: cherry, Value: 3\n",
      "Key: date, Value: 4\n"
     ]
    }
   ],
   "source": [
    "# Iterating over key-value pairs in the dictionary\n",
    "for key, value in my_dict.items():\n",
    "    print(f'Key: {key}, Value: {value}')"
   ]
  },
  {
   "cell_type": "markdown",
   "id": "d55300bf",
   "metadata": {},
   "source": [
    "##### ⁉️ `When to use items() vs keys()/values()`?\n",
    "1. **`Use .items() when:`** You need to access both the keys and values of a dictionary simultaneously, especially within a loop. It's efficient for iterating over key-value pairs together.\n",
    "2. **`Use .keys() when:`** You only need to access or work with the keys of a dictionary. This can be useful when you need to check if a certain key exists or perform operations that only involve the keys.\n",
    "3. **`Use .values() when:`** You only need to access or work with the values of a dictionary, ignoring the keys. This is helpful when you need to perform calculations on the values or extract specific value-related information."
   ]
  },
  {
   "cell_type": "code",
   "execution_count": 16,
   "id": "b8da5ef6",
   "metadata": {},
   "outputs": [
    {
     "name": "stdout",
     "output_type": "stream",
     "text": [
      "dict_items([('Shirts', 50), ('Pants', 30), ('Shoes', 15)])\n",
      "dict_items([('Shirts', 70), ('Pants', 30), ('Shoes', 15)])\n"
     ]
    }
   ],
   "source": [
    "# Create a Inventory system:\n",
    "product_inventory = {\n",
    "    \"Shirts\": 50,\n",
    "    \"Pants\": 30,\n",
    "    \"Shoes\": 15\n",
    "}\n",
    "print(product_inventory.items()) # Using .items() method to get and print the product names and quantities\n",
    "\n",
    "product_inventory[\"Shirts\"] += 20 # Increasing the inventory of \"Shirts\" by 20\n",
    "print(product_inventory.items())"
   ]
  },
  {
   "cell_type": "markdown",
   "id": "693d65b1",
   "metadata": {},
   "source": [
    "##### **Dictionary Comprehension Basic**\n",
    "**Dictionary comprehension** is a concise and efficient way to create dictionaries in Python.  \n",
    "It allows you to build dictionaries from iterables (like lists, ranges, or tuples) in a single line —  \n",
    "applying transformations or filters during the creation process.\n",
    "\n",
    "---\n",
    "##### ➡️ **Syntax**\n",
    "```python\n",
    "{key_expression: value_expression for item in iterable}\n",
    "```\n",
    "- key_expression → defines how to generate keys.\n",
    "- value_expression → defines how to generate corresponding values.\n",
    "- iterable → the sequence you iterate over.\n",
    "---\n",
    "##### ➡️ Why Use Dictionary Comprehension?\n",
    "- ✅ Concise: Replace multi-line loops with a single readable expression.\n",
    "- ✅ Efficient: Faster than manual loops for building dictionaries.\n",
    "- ✅ Pythonic: Encourages clean, expressive, and readable code.\n",
    "- ✅ Flexible: Supports transformations, filtering, and data mapping easily."
   ]
  },
  {
   "cell_type": "markdown",
   "id": "efbe4622",
   "metadata": {},
   "source": [
    "##### ➡️ Creating a dictionary of numbers and their squares"
   ]
  },
  {
   "cell_type": "code",
   "execution_count": 17,
   "id": "4fbdabce",
   "metadata": {},
   "outputs": [
    {
     "name": "stdout",
     "output_type": "stream",
     "text": [
      "{1: 1, 2: 4, 3: 9, 4: 16, 5: 25}\n"
     ]
    }
   ],
   "source": [
    "squares = {x: x**2 for x in range(1, 6)}\n",
    "print(squares)  # Output -> {1: 1, 2: 4, 3: 9, 4: 16, 5: 25}"
   ]
  },
  {
   "cell_type": "code",
   "execution_count": 21,
   "id": "66a5d267",
   "metadata": {},
   "outputs": [
    {
     "name": "stdout",
     "output_type": "stream",
     "text": [
      "{1: 1, 2: 8, 3: 27, 4: 64, 5: 125, 6: 216, 7: 343, 8: 512, 9: 729, 10: 1000}\n"
     ]
    }
   ],
   "source": [
    "# Cubes of Numbers from 1 to 10:\n",
    "cubes = {x: x**3 for x in range(1, 11)}\n",
    "print(cubes)"
   ]
  },
  {
   "cell_type": "code",
   "execution_count": 22,
   "id": "50dd9d49",
   "metadata": {},
   "outputs": [
    {
     "name": "stdout",
     "output_type": "stream",
     "text": [
      "{1: 1, 2: 4, 3: 9, 4: 16, 5: 25, 6: 36, 7: 49, 8: 64, 9: 81, 10: 100}\n"
     ]
    }
   ],
   "source": [
    "# Squares of Numbers from 1 to 10:\n",
    "squares = {x: x**2 for x in range(1, 11)}\n",
    "print(squares)"
   ]
  },
  {
   "cell_type": "code",
   "execution_count": 23,
   "id": "644637ad",
   "metadata": {},
   "outputs": [
    {
     "name": "stdout",
     "output_type": "stream",
     "text": [
      "{1: 2, 2: 4, 3: 6, 4: 8, 5: 10}\n"
     ]
    }
   ],
   "source": [
    "# Map numbers to their doubles:\n",
    "user_input = int(input(\"Enter a Number Range for to proceed: \"))\n",
    "\n",
    "doubles = {x: x * 2 for x in range(1, user_input+1)}\n",
    "print(doubles)\n"
   ]
  },
  {
   "cell_type": "markdown",
   "id": "e3eb5879",
   "metadata": {},
   "source": [
    "##### **Dictionary Comprehension with Condition**\n",
    "Dictionary comprehension in Python can include **conditional filtering**, allowing you to create dictionaries that meet specific criteria.\n",
    "\n",
    "---\n",
    "##### ➡️ **Syntax**\n",
    "```python\n",
    "{key_expression: value_expression for item in iterable if condition}\n",
    "```\n",
    "- `key_expression` → generates the dictionary key.\n",
    "- `value_expression` → generates the corresponding value.\n",
    "- `condition `→ filters which items are included in the dictionary.\n",
    "---\n",
    "##### ✅ Advantages:\n",
    "- Creates filtered dictionaries in a single line.\n",
    "- Avoids the need for manual loops and if statements.\n",
    "- Enhances code readability and efficiency."
   ]
  },
  {
   "cell_type": "code",
   "execution_count": null,
   "id": "852be1d3",
   "metadata": {},
   "outputs": [
    {
     "name": "stdout",
     "output_type": "stream",
     "text": [
      "{'Alice': 85, 'Charlie': 90, 'Eva': 78}\n"
     ]
    }
   ],
   "source": [
    "# Filtering High Scores:\n",
    "students_scores = {\n",
    "    'Alice': 85,\n",
    "    'Bob': 72,\n",
    "    'Charlie': 90,\n",
    "    'David': 65,\n",
    "    'Eva': 78\n",
    "}\n",
    "# Creating a new dictionary for students who scored 75 or above\n",
    "high_scorers = {student: score for student, score in students_scores.items() if score >= 75 }\n",
    "print(high_scorers)  # Output -> {'Alice': 85, 'Charlie': 90, 'Eva': 78}"
   ]
  },
  {
   "cell_type": "code",
   "execution_count": 25,
   "id": "9658479b",
   "metadata": {},
   "outputs": [
    {
     "name": "stdout",
     "output_type": "stream",
     "text": [
      "{'Alice': 'Pass', 'Bob': 'Fail', 'Charlie': 'Pass', 'David': 'Fail', 'Eva': 'Pass'}\n"
     ]
    }
   ],
   "source": [
    "# categorizes students as \"Pass\" or \"Fail\" based on their scores\n",
    "students_scores = {\n",
    "    'Alice': 85,\n",
    "    'Bob': 72,\n",
    "    'Charlie': 90,\n",
    "    'David': 65,\n",
    "    'Eva': 78\n",
    "}\n",
    "passing_score = 75 # Define the passing score\n",
    "\n",
    "# Using dictionary comprehension with the get() method to categorize students\n",
    "student_status = {name: 'Pass' if students_scores[name] >= 75 else 'Fail' for name in students_scores}\n",
    "print(student_status)"
   ]
  }
 ],
 "metadata": {
  "kernelspec": {
   "display_name": "base",
   "language": "python",
   "name": "python3"
  },
  "language_info": {
   "codemirror_mode": {
    "name": "ipython",
    "version": 3
   },
   "file_extension": ".py",
   "mimetype": "text/x-python",
   "name": "python",
   "nbconvert_exporter": "python",
   "pygments_lexer": "ipython3",
   "version": "3.13.5"
  }
 },
 "nbformat": 4,
 "nbformat_minor": 5
}
