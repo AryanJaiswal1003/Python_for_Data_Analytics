{
 "cells": [
  {
   "cell_type": "code",
   "execution_count": null,
   "id": "df977392",
   "metadata": {},
   "outputs": [],
   "source": [
    "# ------------------------------------------------ Set_Operations - I  -----------------------------------------------\n",
    "## Contents:--\n",
    "    #-- Set Creation (Empty)\n",
    "    #-- Set Creation with Elements\n",
    "    #-- Adding Elements (add)\n",
    "    #-- Adding Elements (update)\n",
    "    #-- Removing Elements (remove)\n",
    "    #-- Removing Elements (discard)\n",
    "    #-- Pop Operation\n",
    "    #-- Clear Operation\n",
    "    #-- Set Length"
   ]
  },
  {
   "cell_type": "markdown",
   "id": "2d88a5bc",
   "metadata": {},
   "source": [
    "### **Set Creation (Empty)**\n",
    "In this lesson, we will explore how to **create empty sets** in Python.  \n",
    "A **set** is a collection that stores **unique elements** — meaning no duplicates are allowed.  \n",
    "While sets are similar to lists and dictionaries, they are **unordered** and **unindexed**, making them ideal for managing unique data.\n",
    "\n",
    "---\n",
    "##### ➡️ **Creating an Empty Set**\n",
    "An empty set contains no elements and can be useful when you plan to collect unique items dynamically.\n",
    "```python\n",
    "# Creating an empty set\n",
    "my_empty_set = set()\n",
    "```\n",
    "---\n",
    "##### **Important Note**: You cannot create an empty set using {} --> This is because {} in Python creates an empty dictionary, not a set."
   ]
  },
  {
   "cell_type": "code",
   "execution_count": 2,
   "id": "8a94c227",
   "metadata": {},
   "outputs": [
    {
     "name": "stdout",
     "output_type": "stream",
     "text": [
      "Empty pet names set: set()\n",
      "Type of unique_pet_names: <class 'set'>\n"
     ]
    }
   ],
   "source": [
    "unique_pet_name = set()\n",
    "\n",
    "print(f\"Empty pet names set: {unique_pet_name}\")\n",
    "print(f\"Type of unique_pet_names: {type(unique_pet_name)}\")"
   ]
  },
  {
   "cell_type": "markdown",
   "id": "063af622",
   "metadata": {},
   "source": [
    "### **Set Creation (With Elements)**\n",
    "A **set** is an **unordered** collection that only stores **unique items** — meaning duplicates are automatically removed.\n",
    "\n",
    "---\n",
    "##### Important Points to Remember\n",
    "- Uniqueness: A set automatically removes duplicate elements.\n",
    "```python\n",
    "fruits = {'apple', 'banana', 'apple'}\n",
    "print(fruits)  # Output: {'apple', 'banana'}\n",
    "```\n",
    "- Unordered: Sets do not maintain order. The printed output may vary each time you run the program.\n",
    "---\n",
    "##### **Method 1: Using Curly Braces `{}`**: The most common way to create a set is by enclosing elements within **curly braces**:"
   ]
  },
  {
   "cell_type": "code",
   "execution_count": 4,
   "id": "831c8267",
   "metadata": {},
   "outputs": [
    {
     "name": "stdout",
     "output_type": "stream",
     "text": [
      "<class 'set'>\n"
     ]
    }
   ],
   "source": [
    "fruits = {'apple', 'banana', 'cherry'}\n",
    "print(type(fruits))"
   ]
  },
  {
   "cell_type": "markdown",
   "id": "2cc7ce75",
   "metadata": {},
   "source": [
    "##### **Method 2**: Using the `set()` Constructor"
   ]
  },
  {
   "cell_type": "code",
   "execution_count": 8,
   "id": "9e4923c2",
   "metadata": {},
   "outputs": [
    {
     "name": "stdout",
     "output_type": "stream",
     "text": [
      "<class 'set'>\n"
     ]
    }
   ],
   "source": [
    "fruits = set(['apple', 'banana', 'cherry'])\n",
    "print(type(fruits))"
   ]
  },
  {
   "cell_type": "markdown",
   "id": "8553a096",
   "metadata": {},
   "source": [
    "### **Adding Elements to a Set (`add` Method)**\n",
    "In this lesson, we’ll learn how to **add elements** to a set in Python using the **`add()`** method.  \n",
    "Sets are **collections of unique items**, which means they automatically **ignore duplicates**.\n",
    "\n",
    "---\n",
    "##### ✅ **Key Takeaways**\n",
    "1. Use `set.add(element)` to insert a new unique item.\n",
    "2. Duplicates are automatically ignored.\n",
    "3. The order of elements in a set is not guaranteed."
   ]
  },
  {
   "cell_type": "markdown",
   "id": "b0fba7fa",
   "metadata": {},
   "source": [
    "##### ➡️ **Example: Adding an Element**"
   ]
  },
  {
   "cell_type": "code",
   "execution_count": 1,
   "id": "a28bf017",
   "metadata": {},
   "outputs": [
    {
     "name": "stdout",
     "output_type": "stream",
     "text": [
      "{1, 2, 3, 4}\n"
     ]
    }
   ],
   "source": [
    "my_set = {1, 2, 3}\n",
    "\n",
    "my_set.add(4) # The add() method inserts a new element into the set\n",
    "print(my_set) # Output: {1, 2, 3, 4}"
   ]
  },
  {
   "cell_type": "markdown",
   "id": "4a02eeab",
   "metadata": {},
   "source": [
    "##### ➡️ **Handling Duplicates**: Sets automatically handle duplicates. If you try to add an element that already exists, Python simply ignores it."
   ]
  },
  {
   "cell_type": "code",
   "execution_count": 2,
   "id": "6dbf3972",
   "metadata": {},
   "outputs": [
    {
     "name": "stdout",
     "output_type": "stream",
     "text": [
      "{1, 2, 3}\n"
     ]
    }
   ],
   "source": [
    "my_set = {1, 2, 3}\n",
    "\n",
    "my_set.add(2)\n",
    "print(my_set) # Output: {1, 2, 3, 4}"
   ]
  },
  {
   "cell_type": "code",
   "execution_count": 4,
   "id": "eeee6e2e",
   "metadata": {},
   "outputs": [
    {
     "name": "stdout",
     "output_type": "stream",
     "text": [
      "<class 'set'>\n",
      "{'India', 'London', 'New York', 'Tokyo'}\n"
     ]
    }
   ],
   "source": [
    "city_set = {\"New York\", \"London\", \"Tokyo\"}\n",
    "\n",
    "print(type(city_set)) # Displaying the Type of the Set\n",
    "\n",
    "user_input = input(\"Enter a City you want to add: \").title()\n",
    "city_set.add(user_input) # Add the Input to the Set\n",
    "\n",
    "my_list = list(city_set) # Converting set to list\n",
    "my_list.sort() # Sorting the list\n",
    "\n",
    "# Convert list back to a string representation of a set with quotes\n",
    "sorted_set_str = \"{\" + \", \".join(f\"'{item}'\" for item in my_list) + \"}\"\n",
    "\n",
    "print(sorted_set_str)"
   ]
  },
  {
   "cell_type": "markdown",
   "id": "6dce4898",
   "metadata": {},
   "source": [
    "### **Adding Elements (`update` Method)**\n",
    "The **`update()`** method in Python allows you to add **multiple elements** to a set at once.  \n",
    "Unlike the `add()` method—which adds only one element—`update()` can take an **iterable** (like a list, tuple, or another set) and insert all its elements into the target set.\n",
    "\n",
    "---\n",
    "##### ➡️ **Syntax**\n",
    "```python\n",
    "set_name.update(iterable)\n",
    "```\n",
    "- set_name → The set to which you want to add elements.\n",
    "- iterable → Any collection such as a list, tuple, or set.\n",
    "---\n",
    "##### ➡️ **Key Points**\n",
    "1. The update() method can take any iterable as input.\n",
    "2. Duplicates are automatically ignored, since sets only store unique elements.\n",
    "3. It’s an efficient way to merge multiple collections into a single set."
   ]
  },
  {
   "cell_type": "code",
   "execution_count": 5,
   "id": "81e031e6",
   "metadata": {},
   "outputs": [
    {
     "name": "stdout",
     "output_type": "stream",
     "text": [
      "{1, 2, 3}\n",
      "{1, 2, 3, 4, 5}\n",
      "{1, 2, 3, 4, 5, 6, 7}\n"
     ]
    }
   ],
   "source": [
    "my_set = set()\n",
    "\n",
    "# Add elements to the set using update\n",
    "my_set.update([1, 2, 3])\n",
    "print(my_set)  # Output: {1, 2, 3}\n",
    "\n",
    "# Add more elements using a tuple\n",
    "my_set.update((4, 5))\n",
    "print(my_set)  # Output: {1, 2, 3, 4, 5}\n",
    "\n",
    "# Add elements from another set\n",
    "another_set = {6, 7}\n",
    "my_set.update(another_set)\n",
    "print(my_set)  # Output: {1, 2, 3, 4, 5, 6, 7}"
   ]
  },
  {
   "cell_type": "code",
   "execution_count": 8,
   "id": "259533ac",
   "metadata": {},
   "outputs": [
    {
     "name": "stdout",
     "output_type": "stream",
     "text": [
      "{'banana', 'mango', 'cherry', 'apple'}\n"
     ]
    }
   ],
   "source": [
    "items = {\"apple\", \"banana\", \"cherry\"}\n",
    "\n",
    "# Asking the User for the Number of New Items\n",
    "n = int(input(\"Enter the Number of New Items: \"))\n",
    "new_items = set() # Creating an Empty Set to Collect New Items\n",
    "\n",
    "for _ in range(n): # Using Loop to Collect 'n' New Items\n",
    "    user_input = input(\"Enter the Name of the Items: \")\n",
    "    new_items.add(user_input)\n",
    "\n",
    "items.update(new_items)\n",
    "print(items)"
   ]
  },
  {
   "cell_type": "markdown",
   "id": "6f8fc0d7",
   "metadata": {},
   "source": [
    "### **Removing Elements (`remove` Method)**\n",
    "The **`remove()`** method in Python is used to delete a **specific element** from a set.  \n",
    "However, it’s important to note that if the element **does not exist**, Python will raise a **`KeyError`**.\n",
    "\n",
    "---\n",
    "#### ➡️ **Syntax**\n",
    "```python\n",
    "set_name.remove(element)\n",
    "```\n",
    "- set_name → The set from which you want to remove an element.\n",
    "- element → The value you wish to delete from the set.\n",
    "---\n",
    "##### ➡️ **Important Notes**\n",
    "1. Use `remove()` only when you are sure that the element exists.\n",
    "2. If there’s a chance the element might be missing, consider using `discard()`, which performs the same task without raising an error."
   ]
  },
  {
   "cell_type": "code",
   "execution_count": 9,
   "id": "7c600c48",
   "metadata": {},
   "outputs": [
    {
     "name": "stdout",
     "output_type": "stream",
     "text": [
      "{1, 3, 4}\n"
     ]
    }
   ],
   "source": [
    "my_set = {1, 2, 3, 4}\n",
    "\n",
    "my_set.remove(2)  # Removes the element '2'\n",
    "print(my_set)     # Output: {1, 3, 4}"
   ]
  },
  {
   "cell_type": "markdown",
   "id": "5143317b",
   "metadata": {},
   "source": [
    "##### ➡️ **KeyError Example**: If you try to remove an element that doesn’t exist in the set\n",
    "1. How to handle KeyError when removing?\n",
    "- Use a `try-except` method.\n",
    "``` python\n",
    "my_set = {1, 2, 3, 4}\n",
    "\n",
    "try:\n",
    "    my_set.remove(5)\n",
    "except KeyError:\n",
    "    print(\"Element not found in the set\")\n",
    "```"
   ]
  },
  {
   "cell_type": "code",
   "execution_count": 10,
   "id": "4dda3630",
   "metadata": {},
   "outputs": [
    {
     "ename": "KeyError",
     "evalue": "5",
     "output_type": "error",
     "traceback": [
      "\u001b[1;31m---------------------------------------------------------------------------\u001b[0m",
      "\u001b[1;31mKeyError\u001b[0m                                  Traceback (most recent call last)",
      "Cell \u001b[1;32mIn[10], line 1\u001b[0m\n\u001b[1;32m----> 1\u001b[0m my_set\u001b[38;5;241m.\u001b[39mremove(\u001b[38;5;241m5\u001b[39m)\n",
      "\u001b[1;31mKeyError\u001b[0m: 5"
     ]
    }
   ],
   "source": [
    "my_set.remove(5)  # Raises KeyError: 5 not found in the set"
   ]
  },
  {
   "cell_type": "code",
   "execution_count": 13,
   "id": "10d11224",
   "metadata": {},
   "outputs": [
    {
     "name": "stdout",
     "output_type": "stream",
     "text": [
      "{20, 30}\n"
     ]
    }
   ],
   "source": [
    "# Remove number from a set:\n",
    "numbers = set()\n",
    "\n",
    "n = int(input(\"Enter the Number of times you want to Iterate: \")) # Take n Inputs from the User and Add to the Set\n",
    "for _ in range(n):\n",
    "    num = int(input(\"Enter the Numbers: \"))\n",
    "    numbers.add(num)\n",
    "\n",
    "remove_num = int(input(\"Enter the Number you want to Remove: \"))\n",
    "numbers.remove(remove_num)\n",
    "print(numbers)"
   ]
  },
  {
   "cell_type": "markdown",
   "id": "fae22187",
   "metadata": {},
   "source": [
    "### **Removing Elements (`discard` Method)**\n",
    "The **`discard()`** method in Python is used to remove an element from a set — **without raising an error** if the element is not found.  \n",
    "It’s a **safe alternative** to the `remove()` method when you’re unsure whether the element exists in the set.\n",
    "\n",
    "---\n",
    "#### ➡️ **Syntax**\n",
    "```python\n",
    "set_name.discard(element)\n",
    "```\n",
    "| Method      | Raises Error if Element Missing | Safe for Unknown Elements |\n",
    "| ----------- | ------------------------------- | ------------------------- |\n",
    "| `remove()`  | ✅ Yes, raises `KeyError`        | ❌ No                      |\n",
    "| `discard()` | ❌ No                            | ✅ Yes                     |\n"
   ]
  },
  {
   "cell_type": "code",
   "execution_count": 1,
   "id": "e2e80f13",
   "metadata": {},
   "outputs": [
    {
     "name": "stdout",
     "output_type": "stream",
     "text": [
      "{1, 3}\n",
      "{1, 3}\n"
     ]
    }
   ],
   "source": [
    "my_set = {1, 2, 3}\n",
    "\n",
    "# Removing an existing element\n",
    "my_set.discard(2)\n",
    "print(my_set)  # Output: {1, 3}\n",
    "\n",
    "# Attempting to remove a non-existing element\n",
    "my_set.discard(4)\n",
    "print(my_set)  # Output: {1, 3} (no error raised)"
   ]
  },
  {
   "cell_type": "code",
   "execution_count": 3,
   "id": "7f5d66e0",
   "metadata": {},
   "outputs": [
    {
     "name": "stdout",
     "output_type": "stream",
     "text": [
      "['apple', 'kiwi', 'banana', 'cherry'] <class 'list'>\n",
      "{'kiwi', 'cherry', 'apple'} <class 'set'>\n"
     ]
    }
   ],
   "source": [
    "# Remove Unwanted Item from a Set\n",
    "user_input = input(\"Enter the list of items: \")\n",
    "\n",
    "user_list = user_input.split() # Convert the Input String to a List\n",
    "print(user_list, type(user_list))\n",
    "\n",
    "user_set = set(user_list) # Converts the list into a set\n",
    "remove_item = input(\"Enter item to be removed: \") # Take Input to Discard an Item\n",
    "\n",
    "user_set.discard(remove_item)\n",
    "print(user_set, type(user_set))"
   ]
  },
  {
   "cell_type": "markdown",
   "id": "b060f59d",
   "metadata": {},
   "source": [
    "### **Pop Operation in Sets**\n",
    "The **`pop()`** method in Python removes and returns an **arbitrary element** from a set.  \n",
    "Unlike `remove()` or `discard()`, you **cannot choose** which element to delete — since sets are **unordered**, the element removed is random.\n",
    "\n",
    "---\n",
    "#### **Syntax**\n",
    "```python\n",
    "set_name.pop()\n",
    "```\n",
    "---\n",
    "##### ➡️ **Key Points**\n",
    "- pop() removes and returns a random element.\n",
    "- The operation modifies the set in place.\n",
    "- Raises a KeyError if used on an empty set.\n",
    "---\n",
    "##### ➡️ **Important Considerations**\n",
    "If you call pop() on an empty set, Python raises a KeyError:\n",
    "``` python\n",
    "empty_set = set()\n",
    "empty_set.pop()  # Raises KeyError: 'pop from an empty set'\n",
    "\n",
    "# To avoid this, check if the set is not empty before calling pop():\n",
    "if my_set:\n",
    "    removed_element = my_set.pop()\n",
    "```"
   ]
  },
  {
   "cell_type": "code",
   "execution_count": 7,
   "id": "ecc00154",
   "metadata": {},
   "outputs": [
    {
     "name": "stdout",
     "output_type": "stream",
     "text": [
      "2\n",
      "{3, 4}\n"
     ]
    }
   ],
   "source": [
    "my_set = {4, 2, 3}\n",
    "removed_element = my_set.pop()\n",
    "\n",
    "print(removed_element)  # This prints a randomly removed element (1, 2, or 3)\n",
    "print(my_set)           # The remaining set after removal"
   ]
  },
  {
   "cell_type": "markdown",
   "id": "560f9c29",
   "metadata": {},
   "source": [
    "### **Clear Operation in Sets**\n",
    "The **`clear()`** method in Python removes **all elements** from a set, leaving it empty.  \n",
    "However, it **does not delete the set object itself** — the set remains in memory, just without any elements.\n",
    "\n",
    "---\n",
    "#### **Syntax**: set_name.clear()\n",
    "---\n",
    "##### ➡️ Key Points\n",
    "1. `clear()` empties the set but keeps the set object itself.\n",
    "2. After clearing, the set becomes `set()`.\n",
    "3. No error occurs when calling `clear()` on an already empty set."
   ]
  },
  {
   "cell_type": "code",
   "execution_count": 8,
   "id": "8c896aeb",
   "metadata": {},
   "outputs": [
    {
     "name": "stdout",
     "output_type": "stream",
     "text": [
      "Before clear: {1, 2, 3}\n",
      "After clear: set()\n"
     ]
    }
   ],
   "source": [
    "my_set = {1, 2, 3}\n",
    "print(\"Before clear:\", my_set)  # Output: {1, 2, 3}\n",
    "\n",
    "my_set.clear()\n",
    "print(\"After clear:\", my_set)   # Output: set() (an empty set)"
   ]
  },
  {
   "cell_type": "code",
   "execution_count": 9,
   "id": "d32cce5d",
   "metadata": {},
   "outputs": [
    {
     "name": "stdout",
     "output_type": "stream",
     "text": [
      "set()\n"
     ]
    }
   ],
   "source": [
    "# Resetting a List of Favorite Colors:\n",
    "favorite_colors = {\"blue\", \"red\", \"green\", \"yellow\", \"purple\"}\n",
    "\n",
    "favorite_colors.clear()\n",
    "print(favorite_colors)"
   ]
  },
  {
   "cell_type": "markdown",
   "id": "87fc49c1",
   "metadata": {},
   "source": [
    "### **Set Length**\n",
    "The **length of a set** represents the total number of **unique elements** it contains.  \n",
    "In Python, you can easily find this using the built-in **`len()`** function, which works on sets, lists, strings, and other collections.\n",
    "\n",
    "---\n",
    "#### ➡️ **Syntax**: len(set_name)\n",
    "---\n",
    "##### ➡️ **Key Points**:\n",
    "1. `len()` returns the count of unique elements in a set.\n",
    "2. Duplicates are ignored in sets.\n",
    "3. Works even for empty sets, returning `0`."
   ]
  },
  {
   "cell_type": "markdown",
   "id": "20ea0fdc",
   "metadata": {},
   "source": [
    "##### **Example 1:** Basic Set Length"
   ]
  },
  {
   "cell_type": "code",
   "execution_count": 10,
   "id": "19ace5af",
   "metadata": {},
   "outputs": [
    {
     "name": "stdout",
     "output_type": "stream",
     "text": [
      "4\n"
     ]
    }
   ],
   "source": [
    "my_set = {1, 2, 3, 4}\n",
    "\n",
    "length_of_set = len(my_set)\n",
    "print(length_of_set)  # Output: 4"
   ]
  },
  {
   "cell_type": "markdown",
   "id": "51766271",
   "metadata": {},
   "source": [
    "##### **Example 2:** Empty Set: If you have an empty set, the length will naturally be 0"
   ]
  },
  {
   "cell_type": "code",
   "execution_count": 11,
   "id": "1748ba3c",
   "metadata": {},
   "outputs": [
    {
     "name": "stdout",
     "output_type": "stream",
     "text": [
      "0\n"
     ]
    }
   ],
   "source": [
    "empty_set = set()\n",
    "print(len(empty_set))  # Output: 0"
   ]
  },
  {
   "cell_type": "markdown",
   "id": "a984a067",
   "metadata": {},
   "source": [
    "##### **Example 3:** Duplicates Don’t Count: Since sets only contain unique elements, adding a duplicate item won’t affect the length of the set"
   ]
  },
  {
   "cell_type": "code",
   "execution_count": 12,
   "id": "300b7630",
   "metadata": {},
   "outputs": [
    {
     "name": "stdout",
     "output_type": "stream",
     "text": [
      "4\n"
     ]
    }
   ],
   "source": [
    "my_set = {1, 2, 3, 4}\n",
    "\n",
    "my_set.add(2)  # This will not change the set\n",
    "print(len(my_set))  # Output: 4"
   ]
  },
  {
   "cell_type": "code",
   "execution_count": 14,
   "id": "a3e232c6",
   "metadata": {},
   "outputs": [
    {
     "name": "stdout",
     "output_type": "stream",
     "text": [
      "3\n"
     ]
    }
   ],
   "source": [
    "# Count Unique Colors in a Set:\n",
    "items_set = set()\n",
    "\n",
    "# Take n Number of Inputs from the User\n",
    "n = int(input(\"Enter Number of times you want to Iterate: \"))\n",
    "for i in range(n):\n",
    "    item = input(\"Enter anything to add: \")\n",
    "    items_set.add(item)\n",
    "\n",
    "print(len(items_set))"
   ]
  },
  {
   "cell_type": "code",
   "execution_count": 15,
   "id": "83fda46e",
   "metadata": {},
   "outputs": [
    {
     "name": "stdout",
     "output_type": "stream",
     "text": [
      "3\n"
     ]
    }
   ],
   "source": [
    "# Count Unique Fruits:\n",
    "item_set = set()\n",
    "\n",
    "user_input = input(\"Enter list of words to add: \").split() # Take Multiple Inputs and Add to the Set\n",
    "item_set.update(user_input) # Adds all the items at once\n",
    "\n",
    "print(len(item_set))"
   ]
  }
 ],
 "metadata": {
  "kernelspec": {
   "display_name": "base",
   "language": "python",
   "name": "python3"
  },
  "language_info": {
   "codemirror_mode": {
    "name": "ipython",
    "version": 3
   },
   "file_extension": ".py",
   "mimetype": "text/x-python",
   "name": "python",
   "nbconvert_exporter": "python",
   "pygments_lexer": "ipython3",
   "version": "3.13.5"
  }
 },
 "nbformat": 4,
 "nbformat_minor": 5
}
